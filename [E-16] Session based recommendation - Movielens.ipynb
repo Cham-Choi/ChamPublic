{
 "cells": [
  {
   "cell_type": "code",
   "execution_count": 1,
   "id": "4e57e2e6",
   "metadata": {},
   "outputs": [
    {
     "name": "stdout",
     "output_type": "stream",
     "text": [
      "1.3.4\n",
      "2.7.0\n"
     ]
    }
   ],
   "source": [
    "import pandas\n",
    "import tensorflow\n",
    "\n",
    "print(pandas.__version__)\n",
    "print(tensorflow.__version__)"
   ]
  },
  {
   "cell_type": "markdown",
   "id": "91333a81",
   "metadata": {},
   "source": [
    "# 1. 데이터의 전처리\n",
    "- 명확한 1회 세션의 session ID를 포함하고 있지 않다. 그래서 UserID가 SessionID의 역할을 해야 한다.\n",
    "- Rating 정보가 포함되어 있음. 이전 실습 내역에서는 이런 항목이 포함되어 있지 않으므로, 무시하고 제외할 수 있음. -> Rating 3점 이상 반영 후 컬럼 삭제.\n",
    "- 하지만, 직전에 봤던 영화가 마음에 들었는지가 비슷한 영화를 더 고르게 하는 것과 상관이 있을 수도 있음. 아울러, Rating이 낮은 데이터를 어떻게 처리할지도 고민해야 한다.  -> 3점 이상짜리만 반영.\n",
    "- Time 항목에는 UTC time이 포함되어, 1970년 1월 1일부터 경과된 초 단위 시간이 기재되어 있다. -> timestamp 변환.\n",
    "- 항목별 기본 분석, session length, session time, cleaning 등의 작업을 진행.\n",
    "- Session이 아닌 UserID 단위로 데이터가 생성되어 있으므로, 이를 어떻게 Session 단위로 해석할지에 주의."
   ]
  },
  {
   "cell_type": "code",
   "execution_count": 2,
   "id": "2db7380e",
   "metadata": {},
   "outputs": [],
   "source": [
    "# Library import\n",
    "import datetime as dt\n",
    "from pathlib import Path\n",
    "import os\n",
    "\n",
    "import numpy as np\n",
    "import pandas as pd\n",
    "import warnings\n",
    "warnings.filterwarnings('ignore')\n",
    "\n",
    "import matplotlib.pyplot as plt"
   ]
  },
  {
   "cell_type": "code",
   "execution_count": 3,
   "id": "c0f5a641",
   "metadata": {},
   "outputs": [
    {
     "data": {
      "text/html": [
       "<div>\n",
       "<style scoped>\n",
       "    .dataframe tbody tr th:only-of-type {\n",
       "        vertical-align: middle;\n",
       "    }\n",
       "\n",
       "    .dataframe tbody tr th {\n",
       "        vertical-align: top;\n",
       "    }\n",
       "\n",
       "    .dataframe thead th {\n",
       "        text-align: right;\n",
       "    }\n",
       "</style>\n",
       "<table border=\"1\" class=\"dataframe\">\n",
       "  <thead>\n",
       "    <tr style=\"text-align: right;\">\n",
       "      <th></th>\n",
       "      <th>UserId</th>\n",
       "      <th>ItemId</th>\n",
       "      <th>Rating</th>\n",
       "      <th>Time</th>\n",
       "    </tr>\n",
       "  </thead>\n",
       "  <tbody>\n",
       "    <tr>\n",
       "      <th>31</th>\n",
       "      <td>1</td>\n",
       "      <td>3186</td>\n",
       "      <td>4</td>\n",
       "      <td>978300019</td>\n",
       "    </tr>\n",
       "    <tr>\n",
       "      <th>22</th>\n",
       "      <td>1</td>\n",
       "      <td>1270</td>\n",
       "      <td>5</td>\n",
       "      <td>978300055</td>\n",
       "    </tr>\n",
       "    <tr>\n",
       "      <th>27</th>\n",
       "      <td>1</td>\n",
       "      <td>1721</td>\n",
       "      <td>4</td>\n",
       "      <td>978300055</td>\n",
       "    </tr>\n",
       "    <tr>\n",
       "      <th>37</th>\n",
       "      <td>1</td>\n",
       "      <td>1022</td>\n",
       "      <td>5</td>\n",
       "      <td>978300055</td>\n",
       "    </tr>\n",
       "    <tr>\n",
       "      <th>24</th>\n",
       "      <td>1</td>\n",
       "      <td>2340</td>\n",
       "      <td>3</td>\n",
       "      <td>978300103</td>\n",
       "    </tr>\n",
       "    <tr>\n",
       "      <th>...</th>\n",
       "      <td>...</td>\n",
       "      <td>...</td>\n",
       "      <td>...</td>\n",
       "      <td>...</td>\n",
       "    </tr>\n",
       "    <tr>\n",
       "      <th>1000019</th>\n",
       "      <td>6040</td>\n",
       "      <td>2917</td>\n",
       "      <td>4</td>\n",
       "      <td>997454429</td>\n",
       "    </tr>\n",
       "    <tr>\n",
       "      <th>999988</th>\n",
       "      <td>6040</td>\n",
       "      <td>1921</td>\n",
       "      <td>4</td>\n",
       "      <td>997454464</td>\n",
       "    </tr>\n",
       "    <tr>\n",
       "      <th>1000172</th>\n",
       "      <td>6040</td>\n",
       "      <td>1784</td>\n",
       "      <td>3</td>\n",
       "      <td>997454464</td>\n",
       "    </tr>\n",
       "    <tr>\n",
       "      <th>1000167</th>\n",
       "      <td>6040</td>\n",
       "      <td>161</td>\n",
       "      <td>3</td>\n",
       "      <td>997454486</td>\n",
       "    </tr>\n",
       "    <tr>\n",
       "      <th>1000042</th>\n",
       "      <td>6040</td>\n",
       "      <td>1221</td>\n",
       "      <td>4</td>\n",
       "      <td>998315055</td>\n",
       "    </tr>\n",
       "  </tbody>\n",
       "</table>\n",
       "<p>1000209 rows × 4 columns</p>\n",
       "</div>"
      ],
      "text/plain": [
       "         UserId  ItemId  Rating       Time\n",
       "31            1    3186       4  978300019\n",
       "22            1    1270       5  978300055\n",
       "27            1    1721       4  978300055\n",
       "37            1    1022       5  978300055\n",
       "24            1    2340       3  978300103\n",
       "...         ...     ...     ...        ...\n",
       "1000019    6040    2917       4  997454429\n",
       "999988     6040    1921       4  997454464\n",
       "1000172    6040    1784       3  997454464\n",
       "1000167    6040     161       3  997454486\n",
       "1000042    6040    1221       4  998315055\n",
       "\n",
       "[1000209 rows x 4 columns]"
      ]
     },
     "execution_count": 3,
     "metadata": {},
     "output_type": "execute_result"
    }
   ],
   "source": [
    "data_path = Path(r'C:/Users/user/Google 드라이브/AIFFEL/Exploration16/data/') \n",
    "train_path = data_path / 'ratings.dat'\n",
    "\n",
    "def load_data(data_path: Path, nrows = None):\n",
    "    data = pd.read_csv(data_path, sep = '::', header = None, usecols = [0, 1, 2, 3],\n",
    "                      dtype = {0: np.int32, 1: np.int32, 2: np.int32},\n",
    "                      nrows = nrows)\n",
    "    data.columns = ['UserId', 'ItemId', 'Rating', 'Time']\n",
    "    return data\n",
    "\n",
    "data = load_data(train_path, None)\n",
    "# data를 id와 시간 순서로 정렬해줍니다.\n",
    "data.sort_values(['UserId', 'Time'], inplace = True)\n",
    "data"
   ]
  },
  {
   "cell_type": "code",
   "execution_count": 4,
   "id": "0c2c1496",
   "metadata": {},
   "outputs": [
    {
     "data": {
      "text/html": [
       "<div>\n",
       "<style scoped>\n",
       "    .dataframe tbody tr th:only-of-type {\n",
       "        vertical-align: middle;\n",
       "    }\n",
       "\n",
       "    .dataframe tbody tr th {\n",
       "        vertical-align: top;\n",
       "    }\n",
       "\n",
       "    .dataframe thead th {\n",
       "        text-align: right;\n",
       "    }\n",
       "</style>\n",
       "<table border=\"1\" class=\"dataframe\">\n",
       "  <thead>\n",
       "    <tr style=\"text-align: right;\">\n",
       "      <th></th>\n",
       "      <th>UserId</th>\n",
       "      <th>ItemId</th>\n",
       "      <th>Rating</th>\n",
       "      <th>Time</th>\n",
       "    </tr>\n",
       "  </thead>\n",
       "  <tbody>\n",
       "    <tr>\n",
       "      <th>31</th>\n",
       "      <td>1</td>\n",
       "      <td>3186</td>\n",
       "      <td>4</td>\n",
       "      <td>2000-12-31 22:00:19</td>\n",
       "    </tr>\n",
       "    <tr>\n",
       "      <th>22</th>\n",
       "      <td>1</td>\n",
       "      <td>1270</td>\n",
       "      <td>5</td>\n",
       "      <td>2000-12-31 22:00:55</td>\n",
       "    </tr>\n",
       "    <tr>\n",
       "      <th>27</th>\n",
       "      <td>1</td>\n",
       "      <td>1721</td>\n",
       "      <td>4</td>\n",
       "      <td>2000-12-31 22:00:55</td>\n",
       "    </tr>\n",
       "    <tr>\n",
       "      <th>37</th>\n",
       "      <td>1</td>\n",
       "      <td>1022</td>\n",
       "      <td>5</td>\n",
       "      <td>2000-12-31 22:00:55</td>\n",
       "    </tr>\n",
       "    <tr>\n",
       "      <th>24</th>\n",
       "      <td>1</td>\n",
       "      <td>2340</td>\n",
       "      <td>3</td>\n",
       "      <td>2000-12-31 22:01:43</td>\n",
       "    </tr>\n",
       "  </tbody>\n",
       "</table>\n",
       "</div>"
      ],
      "text/plain": [
       "    UserId  ItemId  Rating                Time\n",
       "31       1    3186       4 2000-12-31 22:00:19\n",
       "22       1    1270       5 2000-12-31 22:00:55\n",
       "27       1    1721       4 2000-12-31 22:00:55\n",
       "37       1    1022       5 2000-12-31 22:00:55\n",
       "24       1    2340       3 2000-12-31 22:01:43"
      ]
     },
     "execution_count": 4,
     "metadata": {},
     "output_type": "execute_result"
    }
   ],
   "source": [
    "data['Time'] = pd.to_datetime(data['Time'], unit= 's')\n",
    "data.head()"
   ]
  },
  {
   "cell_type": "markdown",
   "id": "60b9c79e",
   "metadata": {},
   "source": [
    "## 1.2 Session Length\n",
    "- SessionId: 브라우저에서 웹서버로 접속할 때 항상 포함하게 되는 유저 구분자. 로그인하지 않았기 때문에 누군지 알 수 없어도 특정 행동 패턴을 SessionId 기준으로 모아서 분류해낼 수 있다.\n",
    "- Session length: 같은 SessionId를 공유하는 데이터 행의 개수. 해당 세션의 사용자가 그 세션동안 몇 번의 액션을 취했는지(몇 개의 상품 정보를 클릭했는지)의 의미가 된다."
   ]
  },
  {
   "cell_type": "code",
   "execution_count": 5,
   "id": "c07fcddc",
   "metadata": {},
   "outputs": [
    {
     "data": {
      "text/plain": [
       "(6040, 3706)"
      ]
     },
     "execution_count": 5,
     "metadata": {},
     "output_type": "execute_result"
    }
   ],
   "source": [
    "# 추천 시스템을 구축할 때 가장 먼저 확인해 볼 것은 유저 수(세션 수)와 아이템 수이다.\n",
    "data['UserId'].nunique(), data['ItemId'].nunique()"
   ]
  },
  {
   "cell_type": "code",
   "execution_count": 6,
   "id": "0a20b13f",
   "metadata": {},
   "outputs": [
    {
     "data": {
      "text/plain": [
       "UserId\n",
       "1        53\n",
       "2       129\n",
       "3        51\n",
       "4        21\n",
       "5       198\n",
       "       ... \n",
       "6036    888\n",
       "6037    202\n",
       "6038     20\n",
       "6039    123\n",
       "6040    341\n",
       "Length: 6040, dtype: int64"
      ]
     },
     "execution_count": 6,
     "metadata": {},
     "output_type": "execute_result"
    }
   ],
   "source": [
    "# 각 세션이 대략 몇 개의 클릭 데이터를 갖는지.\n",
    "session_length = data.groupby('UserId').size()\n",
    "session_length"
   ]
  },
  {
   "cell_type": "code",
   "execution_count": 7,
   "id": "d723256c",
   "metadata": {},
   "outputs": [
    {
     "name": "stdout",
     "output_type": "stream",
     "text": [
      "raw_data_size: 1000209, filtered_data_size: 1000209\n",
      "Ratio of Remaining Data is 100.00%\n"
     ]
    }
   ],
   "source": [
    "# 데이터에서 평점 3점 이상의 것들만 유효데이터로 삼아 필터링.\n",
    "raw_data_size = len(data)\n",
    "filtered_data = data[data['Rating'] >= 3]\n",
    "filtered_data_size = len(data)\n",
    "print(f'raw_data_size: {raw_data_size}, filtered_data_size: {filtered_data_size}')\n",
    "print(f'Ratio of Remaining Data is {filtered_data_size / raw_data_size:.2%}')"
   ]
  },
  {
   "cell_type": "code",
   "execution_count": 8,
   "id": "53a227fd",
   "metadata": {},
   "outputs": [
    {
     "data": {
      "text/html": [
       "<div>\n",
       "<style scoped>\n",
       "    .dataframe tbody tr th:only-of-type {\n",
       "        vertical-align: middle;\n",
       "    }\n",
       "\n",
       "    .dataframe tbody tr th {\n",
       "        vertical-align: top;\n",
       "    }\n",
       "\n",
       "    .dataframe thead th {\n",
       "        text-align: right;\n",
       "    }\n",
       "</style>\n",
       "<table border=\"1\" class=\"dataframe\">\n",
       "  <thead>\n",
       "    <tr style=\"text-align: right;\">\n",
       "      <th></th>\n",
       "      <th>UserId</th>\n",
       "      <th>ItemId</th>\n",
       "      <th>Time</th>\n",
       "    </tr>\n",
       "  </thead>\n",
       "  <tbody>\n",
       "    <tr>\n",
       "      <th>31</th>\n",
       "      <td>1</td>\n",
       "      <td>3186</td>\n",
       "      <td>2000-12-31 22:00:19</td>\n",
       "    </tr>\n",
       "    <tr>\n",
       "      <th>22</th>\n",
       "      <td>1</td>\n",
       "      <td>1270</td>\n",
       "      <td>2000-12-31 22:00:55</td>\n",
       "    </tr>\n",
       "    <tr>\n",
       "      <th>27</th>\n",
       "      <td>1</td>\n",
       "      <td>1721</td>\n",
       "      <td>2000-12-31 22:00:55</td>\n",
       "    </tr>\n",
       "    <tr>\n",
       "      <th>37</th>\n",
       "      <td>1</td>\n",
       "      <td>1022</td>\n",
       "      <td>2000-12-31 22:00:55</td>\n",
       "    </tr>\n",
       "    <tr>\n",
       "      <th>24</th>\n",
       "      <td>1</td>\n",
       "      <td>2340</td>\n",
       "      <td>2000-12-31 22:01:43</td>\n",
       "    </tr>\n",
       "    <tr>\n",
       "      <th>...</th>\n",
       "      <td>...</td>\n",
       "      <td>...</td>\n",
       "      <td>...</td>\n",
       "    </tr>\n",
       "    <tr>\n",
       "      <th>1000019</th>\n",
       "      <td>6040</td>\n",
       "      <td>2917</td>\n",
       "      <td>2001-08-10 14:40:29</td>\n",
       "    </tr>\n",
       "    <tr>\n",
       "      <th>999988</th>\n",
       "      <td>6040</td>\n",
       "      <td>1921</td>\n",
       "      <td>2001-08-10 14:41:04</td>\n",
       "    </tr>\n",
       "    <tr>\n",
       "      <th>1000172</th>\n",
       "      <td>6040</td>\n",
       "      <td>1784</td>\n",
       "      <td>2001-08-10 14:41:04</td>\n",
       "    </tr>\n",
       "    <tr>\n",
       "      <th>1000167</th>\n",
       "      <td>6040</td>\n",
       "      <td>161</td>\n",
       "      <td>2001-08-10 14:41:26</td>\n",
       "    </tr>\n",
       "    <tr>\n",
       "      <th>1000042</th>\n",
       "      <td>6040</td>\n",
       "      <td>1221</td>\n",
       "      <td>2001-08-20 13:44:15</td>\n",
       "    </tr>\n",
       "  </tbody>\n",
       "</table>\n",
       "<p>836478 rows × 3 columns</p>\n",
       "</div>"
      ],
      "text/plain": [
       "         UserId  ItemId                Time\n",
       "31            1    3186 2000-12-31 22:00:19\n",
       "22            1    1270 2000-12-31 22:00:55\n",
       "27            1    1721 2000-12-31 22:00:55\n",
       "37            1    1022 2000-12-31 22:00:55\n",
       "24            1    2340 2000-12-31 22:01:43\n",
       "...         ...     ...                 ...\n",
       "1000019    6040    2917 2001-08-10 14:40:29\n",
       "999988     6040    1921 2001-08-10 14:41:04\n",
       "1000172    6040    1784 2001-08-10 14:41:04\n",
       "1000167    6040     161 2001-08-10 14:41:26\n",
       "1000042    6040    1221 2001-08-20 13:44:15\n",
       "\n",
       "[836478 rows x 3 columns]"
      ]
     },
     "execution_count": 8,
     "metadata": {},
     "output_type": "execute_result"
    }
   ],
   "source": [
    "# 필터된 데이터에서 별점 제외하기. \n",
    "filtered_data = filtered_data.drop(['Rating'], axis = 1)\n",
    "filtered_data"
   ]
  },
  {
   "cell_type": "code",
   "execution_count": 28,
   "id": "7b41f2e2",
   "metadata": {},
   "outputs": [
    {
     "data": {
      "text/plain": [
       "UserId\n",
       "1        53\n",
       "2       116\n",
       "3        46\n",
       "4        19\n",
       "5       143\n",
       "       ... \n",
       "6036    708\n",
       "6037    189\n",
       "6038     18\n",
       "6039    119\n",
       "6040    276\n",
       "Length: 6039, dtype: int64"
      ]
     },
     "execution_count": 28,
     "metadata": {},
     "output_type": "execute_result"
    }
   ],
   "source": [
    "# 필터된 데이터에서 각 세션이 대략 몇 개의 시청 데이터를 갖는지.\n",
    "filtered_session_length = filtered_data.groupby('UserId').size()\n",
    "filtered_session_length"
   ]
  },
  {
   "cell_type": "code",
   "execution_count": 30,
   "id": "f874b60e",
   "metadata": {},
   "outputs": [
    {
     "data": {
      "text/plain": [
       "(96.0, 165.5975165562914)"
      ]
     },
     "execution_count": 30,
     "metadata": {},
     "output_type": "execute_result"
    }
   ],
   "source": [
    "# 전체 데이터의 중간값과 평균\n",
    "session_length.median(), session_length.mean()"
   ]
  },
  {
   "cell_type": "code",
   "execution_count": 31,
   "id": "f31f7c58",
   "metadata": {},
   "outputs": [
    {
     "data": {
      "text/plain": [
       "(81.0, 138.51266766020865)"
      ]
     },
     "execution_count": 31,
     "metadata": {},
     "output_type": "execute_result"
    }
   ],
   "source": [
    "# 필터된 데이터의 중간값과 평균\n",
    "filtered_session_length.median(), filtered_session_length.mean()"
   ]
  },
  {
   "cell_type": "code",
   "execution_count": 10,
   "id": "774be989",
   "metadata": {},
   "outputs": [
    {
     "data": {
      "text/plain": [
       "(20, 2314)"
      ]
     },
     "execution_count": 10,
     "metadata": {},
     "output_type": "execute_result"
    }
   ],
   "source": [
    "# 전체 데이터의 최소값과 최대값\n",
    "session_length.min(), session_length.max()"
   ]
  },
  {
   "cell_type": "code",
   "execution_count": 32,
   "id": "84f278e8",
   "metadata": {},
   "outputs": [
    {
     "data": {
      "text/plain": [
       "(1, 1968)"
      ]
     },
     "execution_count": 32,
     "metadata": {},
     "output_type": "execute_result"
    }
   ],
   "source": [
    "# 필터된 데이터의 최소값과 최대값\n",
    "filtered_session_length.min(), filtered_session_length.max()"
   ]
  },
  {
   "cell_type": "code",
   "execution_count": 11,
   "id": "6ae827ca",
   "metadata": {},
   "outputs": [
    {
     "data": {
      "text/plain": [
       "1343.181000000005"
      ]
     },
     "execution_count": 11,
     "metadata": {},
     "output_type": "execute_result"
    }
   ],
   "source": [
    "# 전체 데이터의 99.9% 순번째의 조회수\n",
    "session_length.quantile(0.999)"
   ]
  },
  {
   "cell_type": "code",
   "execution_count": 33,
   "id": "cf3274ed",
   "metadata": {},
   "outputs": [
    {
     "data": {
      "text/plain": [
       "1118.8860000000013"
      ]
     },
     "execution_count": 33,
     "metadata": {},
     "output_type": "execute_result"
    }
   ],
   "source": [
    "# 필터된 데이터의 99.9% 순번째의 조회수\n",
    "filtered_session_length.quantile(0.999)"
   ]
  },
  {
   "cell_type": "code",
   "execution_count": 41,
   "id": "7baab9db",
   "metadata": {},
   "outputs": [
    {
     "data": {
      "text/plain": [
       "1"
      ]
     },
     "execution_count": 41,
     "metadata": {},
     "output_type": "execute_result"
    }
   ],
   "source": [
    "filtered_session_length[filtered_session_length <= 1118].index[0] "
   ]
  },
  {
   "cell_type": "code",
   "execution_count": 38,
   "id": "d9cb5462",
   "metadata": {},
   "outputs": [
    {
     "data": {
      "text/html": [
       "<div>\n",
       "<style scoped>\n",
       "    .dataframe tbody tr th:only-of-type {\n",
       "        vertical-align: middle;\n",
       "    }\n",
       "\n",
       "    .dataframe tbody tr th {\n",
       "        vertical-align: top;\n",
       "    }\n",
       "\n",
       "    .dataframe thead th {\n",
       "        text-align: right;\n",
       "    }\n",
       "</style>\n",
       "<table border=\"1\" class=\"dataframe\">\n",
       "  <thead>\n",
       "    <tr style=\"text-align: right;\">\n",
       "      <th></th>\n",
       "      <th>UserId</th>\n",
       "      <th>ItemId</th>\n",
       "      <th>Time</th>\n",
       "    </tr>\n",
       "  </thead>\n",
       "  <tbody>\n",
       "    <tr>\n",
       "      <th>278445</th>\n",
       "      <td>1680</td>\n",
       "      <td>3940</td>\n",
       "      <td>2000-11-20 08:20:46</td>\n",
       "    </tr>\n",
       "    <tr>\n",
       "      <th>279596</th>\n",
       "      <td>1680</td>\n",
       "      <td>2395</td>\n",
       "      <td>2000-11-20 08:20:46</td>\n",
       "    </tr>\n",
       "    <tr>\n",
       "      <th>278591</th>\n",
       "      <td>1680</td>\n",
       "      <td>3051</td>\n",
       "      <td>2000-11-20 08:21:46</td>\n",
       "    </tr>\n",
       "    <tr>\n",
       "      <th>279652</th>\n",
       "      <td>1680</td>\n",
       "      <td>1762</td>\n",
       "      <td>2000-11-20 08:21:46</td>\n",
       "    </tr>\n",
       "    <tr>\n",
       "      <th>280002</th>\n",
       "      <td>1680</td>\n",
       "      <td>376</td>\n",
       "      <td>2000-11-20 08:21:46</td>\n",
       "    </tr>\n",
       "    <tr>\n",
       "      <th>...</th>\n",
       "      <td>...</td>\n",
       "      <td>...</td>\n",
       "      <td>...</td>\n",
       "    </tr>\n",
       "    <tr>\n",
       "      <th>279465</th>\n",
       "      <td>1680</td>\n",
       "      <td>880</td>\n",
       "      <td>2000-11-21 22:14:07</td>\n",
       "    </tr>\n",
       "    <tr>\n",
       "      <th>280121</th>\n",
       "      <td>1680</td>\n",
       "      <td>540</td>\n",
       "      <td>2000-11-21 22:14:07</td>\n",
       "    </tr>\n",
       "    <tr>\n",
       "      <th>278469</th>\n",
       "      <td>1680</td>\n",
       "      <td>1266</td>\n",
       "      <td>2000-11-21 22:15:53</td>\n",
       "    </tr>\n",
       "    <tr>\n",
       "      <th>279644</th>\n",
       "      <td>1680</td>\n",
       "      <td>3508</td>\n",
       "      <td>2000-11-21 22:16:08</td>\n",
       "    </tr>\n",
       "    <tr>\n",
       "      <th>278990</th>\n",
       "      <td>1680</td>\n",
       "      <td>416</td>\n",
       "      <td>2000-11-21 22:17:05</td>\n",
       "    </tr>\n",
       "  </tbody>\n",
       "</table>\n",
       "<p>1515 rows × 3 columns</p>\n",
       "</div>"
      ],
      "text/plain": [
       "        UserId  ItemId                Time\n",
       "278445    1680    3940 2000-11-20 08:20:46\n",
       "279596    1680    2395 2000-11-20 08:20:46\n",
       "278591    1680    3051 2000-11-20 08:21:46\n",
       "279652    1680    1762 2000-11-20 08:21:46\n",
       "280002    1680     376 2000-11-20 08:21:46\n",
       "...        ...     ...                 ...\n",
       "279465    1680     880 2000-11-21 22:14:07\n",
       "280121    1680     540 2000-11-21 22:14:07\n",
       "278469    1680    1266 2000-11-21 22:15:53\n",
       "279644    1680    3508 2000-11-21 22:16:08\n",
       "278990    1680     416 2000-11-21 22:17:05\n",
       "\n",
       "[1515 rows x 3 columns]"
      ]
     },
     "execution_count": 38,
     "metadata": {},
     "output_type": "execute_result"
    }
   ],
   "source": [
    "filtered_long_session = filtered_session_length[filtered_session_length >= 1118].index[1]  # 숫자 및 기준조정\n",
    "filtered_data[filtered_data['UserId']==filtered_long_session]"
   ]
  },
  {
   "cell_type": "code",
   "execution_count": 13,
   "id": "8b3b76c9",
   "metadata": {},
   "outputs": [
    {
     "data": {
      "text/plain": [
       "20      0.014238\n",
       "21      0.029305\n",
       "22      0.042053\n",
       "23      0.055464\n",
       "24      0.068874\n",
       "          ...   \n",
       "1271    0.998179\n",
       "1277    0.998344\n",
       "1286    0.998510\n",
       "1302    0.998675\n",
       "1323    0.998841\n",
       "Length: 736, dtype: float64"
      ]
     },
     "execution_count": 13,
     "metadata": {},
     "output_type": "execute_result"
    }
   ],
   "source": [
    "# 세션 길이 기준 하위 99.9% 까지의 분포 누적합을 시각화한 것.\n",
    "length_count = session_length.groupby(session_length).size()\n",
    "length_percent_cumsum = length_count.cumsum() / length_count.sum()\n",
    "length_percent_cumsum_999 = length_percent_cumsum[length_percent_cumsum < 0.999]\n",
    "\n",
    "length_percent_cumsum_999"
   ]
  },
  {
   "cell_type": "code",
   "execution_count": 14,
   "id": "be734974",
   "metadata": {},
   "outputs": [
    {
     "data": {
      "image/png": "[encoded data removed]",
      "text/plain": [
       "<Figure size 864x720 with 1 Axes>"
      ]
     },
     "metadata": {
      "needs_background": "light"
     },
     "output_type": "display_data"
    }
   ],
   "source": [
    "plt.figure(figsize = (12, 10))\n",
    "plt.bar(x = length_percent_cumsum_999.index,\n",
    "       height = length_percent_cumsum_999, color = 'red')\n",
    "plt.xticks(length_percent_cumsum_999.index)\n",
    "plt.yticks(np.arange(0, 1.01, 0.5))\n",
    "plt.title('Cumsum Percentage Until 0.999', size = 20)\n",
    "plt.show()"
   ]
  },
  {
   "cell_type": "markdown",
   "id": "3525fbab",
   "metadata": {},
   "source": [
    "## 1.3 Session time"
   ]
  },
  {
   "cell_type": "code",
   "execution_count": 15,
   "id": "1a483ac9",
   "metadata": {},
   "outputs": [
    {
     "name": "stdout",
     "output_type": "stream",
     "text": [
      "2000-04-25 23:05:32\n",
      "2003-02-28 17:49:50\n"
     ]
    }
   ],
   "source": [
    "# 데이터의 시간 관련 정보\n",
    "oldest, latest = data['Time'].min(), data['Time'].max()\n",
    "print(oldest)\n",
    "print(latest)"
   ]
  },
  {
   "cell_type": "code",
   "execution_count": 16,
   "id": "f9b6ddb9",
   "metadata": {},
   "outputs": [
    {
     "data": {
      "text/plain": [
       "pandas._libs.tslibs.timestamps.Timestamp"
      ]
     },
     "execution_count": 16,
     "metadata": {},
     "output_type": "execute_result"
    }
   ],
   "source": [
    "type(latest)"
   ]
  },
  {
   "cell_type": "code",
   "execution_count": 17,
   "id": "81b386c4",
   "metadata": {},
   "outputs": [
    {
     "data": {
      "text/html": [
       "<div>\n",
       "<style scoped>\n",
       "    .dataframe tbody tr th:only-of-type {\n",
       "        vertical-align: middle;\n",
       "    }\n",
       "\n",
       "    .dataframe tbody tr th {\n",
       "        vertical-align: top;\n",
       "    }\n",
       "\n",
       "    .dataframe thead th {\n",
       "        text-align: right;\n",
       "    }\n",
       "</style>\n",
       "<table border=\"1\" class=\"dataframe\">\n",
       "  <thead>\n",
       "    <tr style=\"text-align: right;\">\n",
       "      <th></th>\n",
       "      <th>UserId</th>\n",
       "      <th>ItemId</th>\n",
       "      <th>Rating</th>\n",
       "      <th>Time</th>\n",
       "    </tr>\n",
       "  </thead>\n",
       "  <tbody>\n",
       "    <tr>\n",
       "      <th>28225</th>\n",
       "      <td>195</td>\n",
       "      <td>2808</td>\n",
       "      <td>3</td>\n",
       "      <td>2003-02-02 21:08:38</td>\n",
       "    </tr>\n",
       "    <tr>\n",
       "      <th>27759</th>\n",
       "      <td>195</td>\n",
       "      <td>1254</td>\n",
       "      <td>4</td>\n",
       "      <td>2003-02-06 17:23:42</td>\n",
       "    </tr>\n",
       "    <tr>\n",
       "      <th>27921</th>\n",
       "      <td>195</td>\n",
       "      <td>1456</td>\n",
       "      <td>2</td>\n",
       "      <td>2003-02-08 00:07:32</td>\n",
       "    </tr>\n",
       "    <tr>\n",
       "      <th>28443</th>\n",
       "      <td>195</td>\n",
       "      <td>468</td>\n",
       "      <td>3</td>\n",
       "      <td>2003-02-11 17:42:36</td>\n",
       "    </tr>\n",
       "    <tr>\n",
       "      <th>28255</th>\n",
       "      <td>195</td>\n",
       "      <td>2748</td>\n",
       "      <td>1</td>\n",
       "      <td>2003-02-11 18:23:28</td>\n",
       "    </tr>\n",
       "    <tr>\n",
       "      <th>...</th>\n",
       "      <td>...</td>\n",
       "      <td>...</td>\n",
       "      <td>...</td>\n",
       "      <td>...</td>\n",
       "    </tr>\n",
       "    <tr>\n",
       "      <th>984731</th>\n",
       "      <td>5950</td>\n",
       "      <td>3948</td>\n",
       "      <td>4</td>\n",
       "      <td>2003-02-27 18:13:57</td>\n",
       "    </tr>\n",
       "    <tr>\n",
       "      <th>984682</th>\n",
       "      <td>5950</td>\n",
       "      <td>3578</td>\n",
       "      <td>4</td>\n",
       "      <td>2003-02-27 18:14:30</td>\n",
       "    </tr>\n",
       "    <tr>\n",
       "      <th>984475</th>\n",
       "      <td>5950</td>\n",
       "      <td>3793</td>\n",
       "      <td>3</td>\n",
       "      <td>2003-02-27 18:15:10</td>\n",
       "    </tr>\n",
       "    <tr>\n",
       "      <th>984660</th>\n",
       "      <td>5950</td>\n",
       "      <td>3555</td>\n",
       "      <td>2</td>\n",
       "      <td>2003-02-27 18:15:37</td>\n",
       "    </tr>\n",
       "    <tr>\n",
       "      <th>984733</th>\n",
       "      <td>5950</td>\n",
       "      <td>1262</td>\n",
       "      <td>4</td>\n",
       "      <td>2003-02-27 18:17:38</td>\n",
       "    </tr>\n",
       "  </tbody>\n",
       "</table>\n",
       "<p>1551 rows × 4 columns</p>\n",
       "</div>"
      ],
      "text/plain": [
       "        UserId  ItemId  Rating                Time\n",
       "28225      195    2808       3 2003-02-02 21:08:38\n",
       "27759      195    1254       4 2003-02-06 17:23:42\n",
       "27921      195    1456       2 2003-02-08 00:07:32\n",
       "28443      195     468       3 2003-02-11 17:42:36\n",
       "28255      195    2748       1 2003-02-11 18:23:28\n",
       "...        ...     ...     ...                 ...\n",
       "984731    5950    3948       4 2003-02-27 18:13:57\n",
       "984682    5950    3578       4 2003-02-27 18:14:30\n",
       "984475    5950    3793       3 2003-02-27 18:15:10\n",
       "984660    5950    3555       2 2003-02-27 18:15:37\n",
       "984733    5950    1262       4 2003-02-27 18:17:38\n",
       "\n",
       "[1551 rows x 4 columns]"
      ]
     },
     "execution_count": 17,
     "metadata": {},
     "output_type": "execute_result"
    }
   ],
   "source": [
    "month_ago = latest - dt.timedelta(30)  # 최종 날짜로부터 30일 이전 날짜를 구한다.  \n",
    "data = data[data['Time'] > month_ago]    # 방금 구한 날짜 이후의 데이터만 모은다. \n",
    "data"
   ]
  },
  {
   "cell_type": "markdown",
   "id": "1b7ede86",
   "metadata": {},
   "source": [
    "## 1.4 Data cleansing\n"
   ]
  },
  {
   "cell_type": "code",
   "execution_count": 18,
   "id": "322e073f",
   "metadata": {},
   "outputs": [],
   "source": [
    "# # short_session을 제거한 다음 unpopular item을 제거하면 다시 길이가 1인 session이 생길 수 있습니다.\n",
    "# # 이를 위해 반복문을 통해 지속적으로 제거 합니다.\n",
    "# def cleanse_recursive(data: pd.DataFrame, shortest, least_click) -> pd.DataFrame:\n",
    "#     while True:\n",
    "#         before_len = len(data)\n",
    "#         data = cleanse_short_session(data, shortest)\n",
    "#         data = cleanse_unpopular_item(data, least_click)\n",
    "#         after_len = len(data)\n",
    "#         if before_len == after_len:\n",
    "#             break\n",
    "#     return data\n",
    "\n",
    "# def cleanse_short_session(data: pd.DataFrame, shortest):\n",
    "#     session_len = data.groupby('UserId').size()\n",
    "#     session_use = session_len[session_len >= shortest].index\n",
    "#     data = data[data['UserId'].isin(session_use)]\n",
    "#     return data\n",
    "\n",
    "# def cleanse_unpopular_item(data: pd.DataFrame, least_click):\n",
    "#     item_popular = data.groupby('ItemId').size()\n",
    "#     item_use = item_popular[item_popular >= least_click].index\n",
    "#     data = data[data['ItemId'].isin(item_use)]\n",
    "#     return data"
   ]
  },
  {
   "cell_type": "code",
   "execution_count": 19,
   "id": "ff4031e7",
   "metadata": {},
   "outputs": [],
   "source": [
    "# data = cleanse_recursive(data, shortest = 2, least_click = 5)\n",
    "# data"
   ]
  },
  {
   "cell_type": "markdown",
   "id": "f632dac2",
   "metadata": {},
   "source": [
    "## 1.5 Train/Valid/Test split"
   ]
  },
  {
   "cell_type": "code",
   "execution_count": 20,
   "id": "9d59bab1",
   "metadata": {},
   "outputs": [],
   "source": [
    "# 고유한 유저, 영화를 찾아내는 코드 \n",
    "user_unique = data['UserId'].unique() \n",
    "item_unique = data['ItemId'].unique() \n",
    "\n",
    "# 유저, 영화 indexing 하는 코드\n",
    "user_to_idx = {v:k for k,v in enumerate(user_unique)} \n",
    "item_to_idx = {v:k for k,v in enumerate(item_unique)}"
   ]
  },
  {
   "cell_type": "code",
   "execution_count": 21,
   "id": "6add6454",
   "metadata": {},
   "outputs": [
    {
     "name": "stdout",
     "output_type": "stream",
     "text": [
      "UserId column indexing OK!!\n",
      "item column indexing OK!!\n"
     ]
    },
    {
     "data": {
      "text/html": [
       "<div>\n",
       "<style scoped>\n",
       "    .dataframe tbody tr th:only-of-type {\n",
       "        vertical-align: middle;\n",
       "    }\n",
       "\n",
       "    .dataframe tbody tr th {\n",
       "        vertical-align: top;\n",
       "    }\n",
       "\n",
       "    .dataframe thead th {\n",
       "        text-align: right;\n",
       "    }\n",
       "</style>\n",
       "<table border=\"1\" class=\"dataframe\">\n",
       "  <thead>\n",
       "    <tr style=\"text-align: right;\">\n",
       "      <th></th>\n",
       "      <th>UserId</th>\n",
       "      <th>ItemId</th>\n",
       "      <th>Rating</th>\n",
       "      <th>Time</th>\n",
       "    </tr>\n",
       "  </thead>\n",
       "  <tbody>\n",
       "    <tr>\n",
       "      <th>28225</th>\n",
       "      <td>0</td>\n",
       "      <td>0</td>\n",
       "      <td>3</td>\n",
       "      <td>2003-02-02 21:08:38</td>\n",
       "    </tr>\n",
       "    <tr>\n",
       "      <th>27759</th>\n",
       "      <td>0</td>\n",
       "      <td>1</td>\n",
       "      <td>4</td>\n",
       "      <td>2003-02-06 17:23:42</td>\n",
       "    </tr>\n",
       "    <tr>\n",
       "      <th>27921</th>\n",
       "      <td>0</td>\n",
       "      <td>2</td>\n",
       "      <td>2</td>\n",
       "      <td>2003-02-08 00:07:32</td>\n",
       "    </tr>\n",
       "    <tr>\n",
       "      <th>28443</th>\n",
       "      <td>0</td>\n",
       "      <td>3</td>\n",
       "      <td>3</td>\n",
       "      <td>2003-02-11 17:42:36</td>\n",
       "    </tr>\n",
       "    <tr>\n",
       "      <th>28255</th>\n",
       "      <td>0</td>\n",
       "      <td>4</td>\n",
       "      <td>1</td>\n",
       "      <td>2003-02-11 18:23:28</td>\n",
       "    </tr>\n",
       "    <tr>\n",
       "      <th>...</th>\n",
       "      <td>...</td>\n",
       "      <td>...</td>\n",
       "      <td>...</td>\n",
       "      <td>...</td>\n",
       "    </tr>\n",
       "    <tr>\n",
       "      <th>984731</th>\n",
       "      <td>102</td>\n",
       "      <td>773</td>\n",
       "      <td>4</td>\n",
       "      <td>2003-02-27 18:13:57</td>\n",
       "    </tr>\n",
       "    <tr>\n",
       "      <th>984682</th>\n",
       "      <td>102</td>\n",
       "      <td>75</td>\n",
       "      <td>4</td>\n",
       "      <td>2003-02-27 18:14:30</td>\n",
       "    </tr>\n",
       "    <tr>\n",
       "      <th>984475</th>\n",
       "      <td>102</td>\n",
       "      <td>326</td>\n",
       "      <td>3</td>\n",
       "      <td>2003-02-27 18:15:10</td>\n",
       "    </tr>\n",
       "    <tr>\n",
       "      <th>984660</th>\n",
       "      <td>102</td>\n",
       "      <td>563</td>\n",
       "      <td>2</td>\n",
       "      <td>2003-02-27 18:15:37</td>\n",
       "    </tr>\n",
       "    <tr>\n",
       "      <th>984733</th>\n",
       "      <td>102</td>\n",
       "      <td>300</td>\n",
       "      <td>4</td>\n",
       "      <td>2003-02-27 18:17:38</td>\n",
       "    </tr>\n",
       "  </tbody>\n",
       "</table>\n",
       "<p>1551 rows × 4 columns</p>\n",
       "</div>"
      ],
      "text/plain": [
       "        UserId  ItemId  Rating                Time\n",
       "28225        0       0       3 2003-02-02 21:08:38\n",
       "27759        0       1       4 2003-02-06 17:23:42\n",
       "27921        0       2       2 2003-02-08 00:07:32\n",
       "28443        0       3       3 2003-02-11 17:42:36\n",
       "28255        0       4       1 2003-02-11 18:23:28\n",
       "...        ...     ...     ...                 ...\n",
       "984731     102     773       4 2003-02-27 18:13:57\n",
       "984682     102      75       4 2003-02-27 18:14:30\n",
       "984475     102     326       3 2003-02-27 18:15:10\n",
       "984660     102     563       2 2003-02-27 18:15:37\n",
       "984733     102     300       4 2003-02-27 18:17:38\n",
       "\n",
       "[1551 rows x 4 columns]"
      ]
     },
     "execution_count": 21,
     "metadata": {},
     "output_type": "execute_result"
    }
   ],
   "source": [
    "# 인덱싱 검증\n",
    "temp_user_data = data['UserId'].map(user_to_idx.get).dropna()\n",
    "if len(temp_user_data) == len(data):   \n",
    "    print('UserId column indexing OK!!')\n",
    "    data['UserId'] = temp_user_data   \n",
    "else:\n",
    "    print('UserId column indexing Fail!!')\n",
    "\n",
    "temp_item_data = data['ItemId'].map(item_to_idx.get).dropna()\n",
    "if len(temp_item_data) == len(data):\n",
    "    print('item column indexing OK!!')\n",
    "    data['ItemId'] = temp_item_data\n",
    "else:\n",
    "    print('ItemId column indexing Fail!!')\n",
    "\n",
    "data"
   ]
  },
  {
   "cell_type": "code",
   "execution_count": 22,
   "id": "e664996e",
   "metadata": {},
   "outputs": [
    {
     "data": {
      "text/plain": [
       "28225       0\n",
       "27759       0\n",
       "27921       0\n",
       "28443       0\n",
       "28255       0\n",
       "         ... \n",
       "984731    102\n",
       "984682    102\n",
       "984475    102\n",
       "984660    102\n",
       "984733    102\n",
       "Name: UserId, Length: 1551, dtype: int64"
      ]
     },
     "execution_count": 22,
     "metadata": {},
     "output_type": "execute_result"
    }
   ],
   "source": [
    "temp_user_data"
   ]
  },
  {
   "cell_type": "code",
   "execution_count": 23,
   "id": "6cf5e9bf",
   "metadata": {},
   "outputs": [
    {
     "data": {
      "text/plain": [
       "28225     0\n",
       "27759     1\n",
       "27921     2\n",
       "28443     3\n",
       "28255     4\n",
       "28281     5\n",
       "28389     6\n",
       "28391     7\n",
       "27781     8\n",
       "27764     9\n",
       "28008    10\n",
       "28482    11\n",
       "28513    12\n",
       "27895    13\n",
       "27846    14\n",
       "27901    15\n",
       "27902    16\n",
       "28241    17\n",
       "33889    18\n",
       "33994    19\n",
       "Name: ItemId, dtype: int64"
      ]
     },
     "execution_count": 23,
     "metadata": {},
     "output_type": "execute_result"
    }
   ],
   "source": [
    "temp_item_data.head(20)"
   ]
  },
  {
   "cell_type": "code",
   "execution_count": 24,
   "id": "c73db9c1",
   "metadata": {},
   "outputs": [
    {
     "data": {
      "text/plain": [
       "numpy.int64"
      ]
     },
     "execution_count": 24,
     "metadata": {},
     "output_type": "execute_result"
    }
   ],
   "source": [
    "type(data['UserId'][58836])"
   ]
  },
  {
   "cell_type": "code",
   "execution_count": 25,
   "id": "0d191400",
   "metadata": {},
   "outputs": [],
   "source": [
    "# Train, validation, test dataset 분량 설정\n",
    "data_length = len(session_length)\n",
    "train_length = int(data_length*0.8)\n",
    "val_length = int(data_length*0.1)\n",
    "test_length = data_length - train_length - val_length"
   ]
  },
  {
   "cell_type": "code",
   "execution_count": null,
   "id": "b30e5914",
   "metadata": {},
   "outputs": [],
   "source": []
  },
  {
   "cell_type": "code",
   "execution_count": null,
   "id": "bc5b58b0",
   "metadata": {},
   "outputs": [],
   "source": []
  },
  {
   "cell_type": "code",
   "execution_count": 26,
   "id": "8fbcbc10",
   "metadata": {},
   "outputs": [],
   "source": [
    "# data에 대한 정보 살펴보기\n",
    "def stats_info(data: pd.DataFrame, status: str):\n",
    "    print(f'* {status} Set Stats Info\\n'\n",
    "         f'\\t Events: {len(data)}\\n'\n",
    "         f'\\t Sessions: {data[\"UserId\"].nunique()}\\n'\n",
    "         f'\\t Items: {data[\"ItemId\"].nunique()}\\n'\n",
    "         f'\\t First Time : {data[\"Time\"].min()}\\n'\n",
    "         f'\\t Last Time : {data[\"Time\"].max()}\\n')"
   ]
  },
  {
   "cell_type": "code",
   "execution_count": 27,
   "id": "dd4ec51c",
   "metadata": {},
   "outputs": [
    {
     "ename": "NameError",
     "evalue": "name 'tr' is not defined",
     "output_type": "error",
     "traceback": [
      "\u001b[1;31m---------------------------------------------------------------------------\u001b[0m",
      "\u001b[1;31mNameError\u001b[0m                                 Traceback (most recent call last)",
      "\u001b[1;32m~\\AppData\\Local\\Temp/ipykernel_29208/1107292107.py\u001b[0m in \u001b[0;36m<module>\u001b[1;34m\u001b[0m\n\u001b[1;32m----> 1\u001b[1;33m \u001b[0mstats_info\u001b[0m\u001b[1;33m(\u001b[0m\u001b[0mtr\u001b[0m\u001b[1;33m,\u001b[0m \u001b[1;34m'train'\u001b[0m\u001b[1;33m)\u001b[0m\u001b[1;33m\u001b[0m\u001b[1;33m\u001b[0m\u001b[0m\n\u001b[0m\u001b[0;32m      2\u001b[0m \u001b[0mstats_info\u001b[0m\u001b[1;33m(\u001b[0m\u001b[0mval\u001b[0m\u001b[1;33m,\u001b[0m \u001b[1;34m'valid'\u001b[0m\u001b[1;33m)\u001b[0m\u001b[1;33m\u001b[0m\u001b[1;33m\u001b[0m\u001b[0m\n\u001b[0;32m      3\u001b[0m \u001b[0mstats_info\u001b[0m\u001b[1;33m(\u001b[0m\u001b[0mtest\u001b[0m\u001b[1;33m,\u001b[0m \u001b[1;34m'test'\u001b[0m\u001b[1;33m)\u001b[0m\u001b[1;33m\u001b[0m\u001b[1;33m\u001b[0m\u001b[0m\n",
      "\u001b[1;31mNameError\u001b[0m: name 'tr' is not defined"
     ]
    }
   ],
   "source": [
    "stats_info(tr, 'train')\n",
    "stats_info(val, 'valid')\n",
    "stats_info(test, 'test')"
   ]
  },
  {
   "cell_type": "code",
   "execution_count": null,
   "id": "67f2996a",
   "metadata": {},
   "outputs": [],
   "source": [
    "# train set에 없는 아이템이 val, test기간에 생길 수 있으므로 train data를 기준으로 인덱싱합니다.\n",
    "id2idx = {item_id : index for index, item_id in enumerate(tr['ItemId'].unique())}\n",
    "\n",
    "def indexing(df, id2idx):\n",
    "    df['item_idx'] = df['ItemId'].map(lambda x: id2idx.get(x, -1)) # id2idx에 없는 아이템은 모르는 값(-1) 처리 해줍니다.\n",
    "    return df\n",
    "\n",
    "tr = indexing(tr, id2idx)\n",
    "val = indexing(val, id2idx)\n",
    "test=  indexing(test, id2idx)"
   ]
  },
  {
   "cell_type": "code",
   "execution_count": null,
   "id": "e1d5fc12",
   "metadata": {},
   "outputs": [],
   "source": [
    "# 데이터 저장\n",
    "save_path = data_path / 'exp_processed'\n",
    "save_path.mkdir(parents= True, exist_ok = True)\n",
    "\n",
    "tr.to_pickle(save_path / 'train.pkl')\n",
    "val.to_pickle(save_path / 'valid.pkl')\n",
    "test.to_pickle(save_path / 'test.pkl')"
   ]
  },
  {
   "cell_type": "markdown",
   "id": "36db09c4",
   "metadata": {},
   "source": [
    "# 2. 미니배치의 구성\n",
    "- Session-parallel mini-batch의 개념에 따라, 학습 속도의 저하가 최소화될 수 있도록 구성.\n",
    "- 전 단계에서 session 단위를 어떻게 정의했느냐에 따라 SPMB가 굳이 필요하지 않을수도 있음."
   ]
  },
  {
   "cell_type": "markdown",
   "id": "e9328c42",
   "metadata": {},
   "source": [
    "## 2.1 Session dataset"
   ]
  },
  {
   "cell_type": "code",
   "execution_count": null,
   "id": "5d9894b7",
   "metadata": {},
   "outputs": [],
   "source": [
    "class SessionDataset:\n",
    "    \"\"\"Credit to yhs-968/pyGRU4REC.\"\"\"\n",
    "    def __init__(self, data):\n",
    "        self.df = data\n",
    "        self.click_offsets = self.get_click_offsets()\n",
    "        self.session_idx = np.arange(self.df['UserId'].nunique())  # indexing to SessionId\n",
    "        \n",
    "    def get_click_offsets(self):\n",
    "        \"\"\"\n",
    "        Return the indexes of the first click of each session IDs,\n",
    "        \"\"\"\n",
    "        offsets = np.zeros(self.df['UserId'].nunique() +1, dtype = np.int32)\n",
    "        offsets[1:] = self.df.groupby('UserId').size().cumsum()\n",
    "        return offsets"
   ]
  },
  {
   "cell_type": "code",
   "execution_count": null,
   "id": "79cd882e",
   "metadata": {},
   "outputs": [],
   "source": [
    "# train 데이터로 Session dataset 객체를 만들고 인스턴스 변수들 살펴보기\n",
    "# click_offsets: 각 세션이 시작된 인덱스\n",
    "# session_idx = 각 세션을 인덱싱한 np.array\n",
    "tr_dataset = SessionDataset(tr)\n",
    "tr_dataset.df.head(10)"
   ]
  },
  {
   "cell_type": "code",
   "execution_count": null,
   "id": "d7c85c7b",
   "metadata": {},
   "outputs": [],
   "source": []
  },
  {
   "cell_type": "code",
   "execution_count": null,
   "id": "a19e93ae",
   "metadata": {},
   "outputs": [],
   "source": []
  },
  {
   "cell_type": "markdown",
   "id": "2d0593a8",
   "metadata": {},
   "source": [
    "# 3. 모델 구성\n",
    "- 실습 코드 내역을 참조하여 다양하게 모델 구조를 시도."
   ]
  },
  {
   "cell_type": "code",
   "execution_count": null,
   "id": "18aca536",
   "metadata": {},
   "outputs": [],
   "source": []
  },
  {
   "cell_type": "code",
   "execution_count": null,
   "id": "8c417e81",
   "metadata": {},
   "outputs": [],
   "source": []
  },
  {
   "cell_type": "code",
   "execution_count": null,
   "id": "c5320089",
   "metadata": {},
   "outputs": [],
   "source": []
  },
  {
   "cell_type": "markdown",
   "id": "07363052",
   "metadata": {},
   "source": [
    "# 4. 모델 학습\n",
    "- 하이퍼 파라미터를 변경해보며 검증. 실습코드에 언급되었던 Recall, MRR 개념도 함께 관리되도록."
   ]
  },
  {
   "cell_type": "code",
   "execution_count": null,
   "id": "aa235ade",
   "metadata": {},
   "outputs": [],
   "source": []
  },
  {
   "cell_type": "code",
   "execution_count": null,
   "id": "55337ea7",
   "metadata": {},
   "outputs": [],
   "source": []
  },
  {
   "cell_type": "code",
   "execution_count": null,
   "id": "8a61d97b",
   "metadata": {},
   "outputs": [],
   "source": []
  },
  {
   "cell_type": "code",
   "execution_count": null,
   "id": "b68b107c",
   "metadata": {},
   "outputs": [],
   "source": []
  },
  {
   "cell_type": "markdown",
   "id": "40656477",
   "metadata": {},
   "source": [
    "# 5. 모델 테스트\n",
    "- 미리 구성한 테스트셋을 바탕으로 Recall, MRR 확인."
   ]
  },
  {
   "cell_type": "code",
   "execution_count": null,
   "id": "80bec093",
   "metadata": {},
   "outputs": [],
   "source": []
  },
  {
   "cell_type": "code",
   "execution_count": null,
   "id": "035d2a19",
   "metadata": {},
   "outputs": [],
   "source": []
  },
  {
   "cell_type": "code",
   "execution_count": null,
   "id": "3bcd7650",
   "metadata": {},
   "outputs": [],
   "source": []
  },
  {
   "cell_type": "code",
   "execution_count": null,
   "id": "221a6e97",
   "metadata": {},
   "outputs": [],
   "source": []
  },
  {
   "cell_type": "markdown",
   "id": "bcd6ce94",
   "metadata": {},
   "source": [
    "# Rubric\n",
    "- 1. Movielens dataset을 session based recommendation 관점으로 전처리하는 과정이 체계적으로 진행되었다. -> 데이터셋의 면밀한 분석을 토대로 세션 단위 정의과정(길이분석, 시간분석)을 합리적으로 수행한 과정이 기술되었다.\n",
    "- 2. RNN 기반의 예측 모델이 정상적으로 구성되어 안정적으로 훈련이 진행되었다. -> 적절한 epoch 만큼의 학습이 진행되는 과정에서 train loss가 안정적으로 감소하고, validation 단계에서 Recall, MRR이 개선되는 것이 확인된다.\n",
    "- 3. 세션 정의, 모델 구조, 하이퍼 파라미터 등을 변경해서 실험하여 Recall, MRR 등의 변화추이를 관찰하였다. -> 3가지 이상의 변화를 시도하고 그 실험결과를 체계적으로 분석하였다.\n"
   ]
  },
  {
   "cell_type": "code",
   "execution_count": null,
   "id": "3d0d677b",
   "metadata": {},
   "outputs": [],
   "source": []
  },
  {
   "cell_type": "code",
   "execution_count": null,
   "id": "3f57ccea",
   "metadata": {},
   "outputs": [],
   "source": []
  },
  {
   "cell_type": "code",
   "execution_count": null,
   "id": "4bf009c3",
   "metadata": {},
   "outputs": [],
   "source": []
  },
  {
   "cell_type": "code",
   "execution_count": null,
   "id": "af0d1afb",
   "metadata": {},
   "outputs": [],
   "source": []
  },
  {
   "cell_type": "code",
   "execution_count": null,
   "id": "d128f1b4",
   "metadata": {},
   "outputs": [],
   "source": []
  },
  {
   "cell_type": "code",
   "execution_count": null,
   "id": "408c2e70",
   "metadata": {},
   "outputs": [],
   "source": []
  }
 ],
 "metadata": {
  "kernelspec": {
   "display_name": "Python 3 (ipykernel)",
   "language": "python",
   "name": "python3"
  },
  "language_info": {
   "codemirror_mode": {
    "name": "ipython",
    "version": 3
   },
   "file_extension": ".py",
   "mimetype": "text/x-python",
   "name": "python",
   "nbconvert_exporter": "python",
   "pygments_lexer": "ipython3",
   "version": "3.9.7"
  }
 },
 "nbformat": 4,
 "nbformat_minor": 5
}
