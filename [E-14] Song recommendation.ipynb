{
 "cells": [
  {
   "cell_type": "markdown",
   "id": "cc980874",
   "metadata": {},
   "source": [
    "# 1. 데이터 준비와 전처리\n",
    "- MovieLens 1M dataset 사용.\n",
    "- 별점 데이터는 대표적인 명시적 데이터나 여기서는 암묵적 데이터로 간주.\n",
    "- 별점 데이터는 시청횟수로 간주.\n",
    "- 별점 3점 미만 데이터는 미선호로 가정하고 제외함."
   ]
  },
  {
   "cell_type": "code",
   "execution_count": 1,
   "id": "e0d27ba9",
   "metadata": {},
   "outputs": [],
   "source": [
    "import time\n",
    "start_time = time.time()\n",
    "\n",
    "import pandas as pd\n",
    "import os\n",
    "\n",
    "from scipy.sparse import csr_matrix\n",
    "\n",
    "from implicit.als import AlternatingLeastSquares\n",
    "import numpy as np"
   ]
  },
  {
   "cell_type": "code",
   "execution_count": 2,
   "id": "b84c00e2",
   "metadata": {},
   "outputs": [
    {
     "data": {
      "text/html": [
       "<div>\n",
       "<style scoped>\n",
       "    .dataframe tbody tr th:only-of-type {\n",
       "        vertical-align: middle;\n",
       "    }\n",
       "\n",
       "    .dataframe tbody tr th {\n",
       "        vertical-align: top;\n",
       "    }\n",
       "\n",
       "    .dataframe thead th {\n",
       "        text-align: right;\n",
       "    }\n",
       "</style>\n",
       "<table border=\"1\" class=\"dataframe\">\n",
       "  <thead>\n",
       "    <tr style=\"text-align: right;\">\n",
       "      <th></th>\n",
       "      <th>user_id</th>\n",
       "      <th>movie_id</th>\n",
       "      <th>ratings</th>\n",
       "      <th>timestamp</th>\n",
       "    </tr>\n",
       "  </thead>\n",
       "  <tbody>\n",
       "    <tr>\n",
       "      <th>0</th>\n",
       "      <td>1</td>\n",
       "      <td>1193</td>\n",
       "      <td>5</td>\n",
       "      <td>978300760</td>\n",
       "    </tr>\n",
       "    <tr>\n",
       "      <th>1</th>\n",
       "      <td>1</td>\n",
       "      <td>661</td>\n",
       "      <td>3</td>\n",
       "      <td>978302109</td>\n",
       "    </tr>\n",
       "    <tr>\n",
       "      <th>2</th>\n",
       "      <td>1</td>\n",
       "      <td>914</td>\n",
       "      <td>3</td>\n",
       "      <td>978301968</td>\n",
       "    </tr>\n",
       "    <tr>\n",
       "      <th>3</th>\n",
       "      <td>1</td>\n",
       "      <td>3408</td>\n",
       "      <td>4</td>\n",
       "      <td>978300275</td>\n",
       "    </tr>\n",
       "    <tr>\n",
       "      <th>4</th>\n",
       "      <td>1</td>\n",
       "      <td>2355</td>\n",
       "      <td>5</td>\n",
       "      <td>978824291</td>\n",
       "    </tr>\n",
       "  </tbody>\n",
       "</table>\n",
       "</div>"
      ],
      "text/plain": [
       "   user_id  movie_id  ratings  timestamp\n",
       "0        1      1193        5  978300760\n",
       "1        1       661        3  978302109\n",
       "2        1       914        3  978301968\n",
       "3        1      3408        4  978300275\n",
       "4        1      2355        5  978824291"
      ]
     },
     "execution_count": 2,
     "metadata": {},
     "output_type": "execute_result"
    }
   ],
   "source": [
    "rating_file_path=os.getenv('HOME') + '/aiffel/recommendata_iu/data/ml-1m/ratings.dat'\n",
    "ratings_cols = ['user_id', 'movie_id', 'ratings', 'timestamp']\n",
    "ratings = pd.read_csv(rating_file_path, sep='::', names=ratings_cols, engine='python', encoding = \"ISO-8859-1\")\n",
    "raw_data_size = len(ratings)\n",
    "ratings.head()"
   ]
  },
  {
   "cell_type": "code",
   "execution_count": 3,
   "id": "de066687",
   "metadata": {},
   "outputs": [
    {
     "name": "stdout",
     "output_type": "stream",
     "text": [
      "raw_data_size: 1000209, filtered_data_size: 836478\n",
      "Ratio of Remaining Data is 83.63%\n"
     ]
    }
   ],
   "source": [
    "# 3점 이상만 남깁니다.\n",
    "ratings = ratings[ratings['ratings']>=3]\n",
    "filtered_data_size = len(ratings)\n",
    "\n",
    "print(f'raw_data_size: {raw_data_size}, filtered_data_size: {filtered_data_size}')\n",
    "print(f'Ratio of Remaining Data is {filtered_data_size / raw_data_size:.2%}')"
   ]
  },
  {
   "cell_type": "code",
   "execution_count": 4,
   "id": "2a6eef80",
   "metadata": {},
   "outputs": [],
   "source": [
    "# ratings 컬럼의 이름을 counts로 바꿉니다.\n",
    "ratings.rename(columns={'ratings':'counts'}, inplace=True)"
   ]
  },
  {
   "cell_type": "code",
   "execution_count": 5,
   "id": "0fdec48d",
   "metadata": {},
   "outputs": [
    {
     "data": {
      "text/plain": [
       "0          5\n",
       "1          3\n",
       "2          3\n",
       "3          4\n",
       "4          5\n",
       "          ..\n",
       "1000203    3\n",
       "1000205    5\n",
       "1000206    5\n",
       "1000207    4\n",
       "1000208    4\n",
       "Name: counts, Length: 836478, dtype: int64"
      ]
     },
     "execution_count": 5,
     "metadata": {},
     "output_type": "execute_result"
    }
   ],
   "source": [
    "ratings['counts']"
   ]
  },
  {
   "cell_type": "code",
   "execution_count": 6,
   "id": "8b36ec4d",
   "metadata": {},
   "outputs": [
    {
     "data": {
      "text/html": [
       "<div>\n",
       "<style scoped>\n",
       "    .dataframe tbody tr th:only-of-type {\n",
       "        vertical-align: middle;\n",
       "    }\n",
       "\n",
       "    .dataframe tbody tr th {\n",
       "        vertical-align: top;\n",
       "    }\n",
       "\n",
       "    .dataframe thead th {\n",
       "        text-align: right;\n",
       "    }\n",
       "</style>\n",
       "<table border=\"1\" class=\"dataframe\">\n",
       "  <thead>\n",
       "    <tr style=\"text-align: right;\">\n",
       "      <th></th>\n",
       "      <th>user_id</th>\n",
       "      <th>movie_id</th>\n",
       "      <th>counts</th>\n",
       "    </tr>\n",
       "  </thead>\n",
       "  <tbody>\n",
       "    <tr>\n",
       "      <th>0</th>\n",
       "      <td>1</td>\n",
       "      <td>1193</td>\n",
       "      <td>5</td>\n",
       "    </tr>\n",
       "    <tr>\n",
       "      <th>1</th>\n",
       "      <td>1</td>\n",
       "      <td>661</td>\n",
       "      <td>3</td>\n",
       "    </tr>\n",
       "    <tr>\n",
       "      <th>2</th>\n",
       "      <td>1</td>\n",
       "      <td>914</td>\n",
       "      <td>3</td>\n",
       "    </tr>\n",
       "    <tr>\n",
       "      <th>3</th>\n",
       "      <td>1</td>\n",
       "      <td>3408</td>\n",
       "      <td>4</td>\n",
       "    </tr>\n",
       "    <tr>\n",
       "      <th>4</th>\n",
       "      <td>1</td>\n",
       "      <td>2355</td>\n",
       "      <td>5</td>\n",
       "    </tr>\n",
       "  </tbody>\n",
       "</table>\n",
       "</div>"
      ],
      "text/plain": [
       "   user_id  movie_id  counts\n",
       "0        1      1193       5\n",
       "1        1       661       3\n",
       "2        1       914       3\n",
       "3        1      3408       4\n",
       "4        1      2355       5"
      ]
     },
     "execution_count": 6,
     "metadata": {},
     "output_type": "execute_result"
    }
   ],
   "source": [
    "#ratings = ratings['user_id', 'movie_id', 'counts']\n",
    "using_cols = ['user_id', 'movie_id', 'counts']\n",
    "ratings = ratings[using_cols]\n",
    "ratings.head()"
   ]
  },
  {
   "cell_type": "code",
   "execution_count": 7,
   "id": "f6528a5e",
   "metadata": {},
   "outputs": [
    {
     "data": {
      "text/html": [
       "<div>\n",
       "<style scoped>\n",
       "    .dataframe tbody tr th:only-of-type {\n",
       "        vertical-align: middle;\n",
       "    }\n",
       "\n",
       "    .dataframe tbody tr th {\n",
       "        vertical-align: top;\n",
       "    }\n",
       "\n",
       "    .dataframe thead th {\n",
       "        text-align: right;\n",
       "    }\n",
       "</style>\n",
       "<table border=\"1\" class=\"dataframe\">\n",
       "  <thead>\n",
       "    <tr style=\"text-align: right;\">\n",
       "      <th></th>\n",
       "      <th>movie_id</th>\n",
       "      <th>title</th>\n",
       "      <th>genre</th>\n",
       "    </tr>\n",
       "  </thead>\n",
       "  <tbody>\n",
       "    <tr>\n",
       "      <th>0</th>\n",
       "      <td>1</td>\n",
       "      <td>Toy Story (1995)</td>\n",
       "      <td>Animation|Children's|Comedy</td>\n",
       "    </tr>\n",
       "    <tr>\n",
       "      <th>1</th>\n",
       "      <td>2</td>\n",
       "      <td>Jumanji (1995)</td>\n",
       "      <td>Adventure|Children's|Fantasy</td>\n",
       "    </tr>\n",
       "    <tr>\n",
       "      <th>2</th>\n",
       "      <td>3</td>\n",
       "      <td>Grumpier Old Men (1995)</td>\n",
       "      <td>Comedy|Romance</td>\n",
       "    </tr>\n",
       "    <tr>\n",
       "      <th>3</th>\n",
       "      <td>4</td>\n",
       "      <td>Waiting to Exhale (1995)</td>\n",
       "      <td>Comedy|Drama</td>\n",
       "    </tr>\n",
       "    <tr>\n",
       "      <th>4</th>\n",
       "      <td>5</td>\n",
       "      <td>Father of the Bride Part II (1995)</td>\n",
       "      <td>Comedy</td>\n",
       "    </tr>\n",
       "  </tbody>\n",
       "</table>\n",
       "</div>"
      ],
      "text/plain": [
       "   movie_id                               title                         genre\n",
       "0         1                    Toy Story (1995)   Animation|Children's|Comedy\n",
       "1         2                      Jumanji (1995)  Adventure|Children's|Fantasy\n",
       "2         3             Grumpier Old Men (1995)                Comedy|Romance\n",
       "3         4            Waiting to Exhale (1995)                  Comedy|Drama\n",
       "4         5  Father of the Bride Part II (1995)                        Comedy"
      ]
     },
     "execution_count": 7,
     "metadata": {},
     "output_type": "execute_result"
    }
   ],
   "source": [
    "# 영화 제목을 보기 위해 메타 데이터를 읽어옵니다.\n",
    "movie_file_path=os.getenv('HOME') + '/aiffel/recommendata_iu/data/ml-1m/movies.dat'\n",
    "cols = ['movie_id', 'title', 'genre'] \n",
    "movies = pd.read_csv(movie_file_path, sep='::', names=cols, engine='python', encoding='ISO-8859-1')\n",
    "\n",
    "movies.head()"
   ]
  },
  {
   "cell_type": "code",
   "execution_count": 8,
   "id": "40f3eae9",
   "metadata": {},
   "outputs": [
    {
     "data": {
      "text/html": [
       "<div>\n",
       "<style scoped>\n",
       "    .dataframe tbody tr th:only-of-type {\n",
       "        vertical-align: middle;\n",
       "    }\n",
       "\n",
       "    .dataframe tbody tr th {\n",
       "        vertical-align: top;\n",
       "    }\n",
       "\n",
       "    .dataframe thead th {\n",
       "        text-align: right;\n",
       "    }\n",
       "</style>\n",
       "<table border=\"1\" class=\"dataframe\">\n",
       "  <thead>\n",
       "    <tr style=\"text-align: right;\">\n",
       "      <th></th>\n",
       "      <th>user_id</th>\n",
       "      <th>movie_id</th>\n",
       "      <th>counts</th>\n",
       "    </tr>\n",
       "  </thead>\n",
       "  <tbody>\n",
       "    <tr>\n",
       "      <th>0</th>\n",
       "      <td>1</td>\n",
       "      <td>1193</td>\n",
       "      <td>5</td>\n",
       "    </tr>\n",
       "    <tr>\n",
       "      <th>1</th>\n",
       "      <td>1</td>\n",
       "      <td>661</td>\n",
       "      <td>3</td>\n",
       "    </tr>\n",
       "    <tr>\n",
       "      <th>2</th>\n",
       "      <td>1</td>\n",
       "      <td>914</td>\n",
       "      <td>3</td>\n",
       "    </tr>\n",
       "    <tr>\n",
       "      <th>3</th>\n",
       "      <td>1</td>\n",
       "      <td>3408</td>\n",
       "      <td>4</td>\n",
       "    </tr>\n",
       "    <tr>\n",
       "      <th>4</th>\n",
       "      <td>1</td>\n",
       "      <td>2355</td>\n",
       "      <td>5</td>\n",
       "    </tr>\n",
       "    <tr>\n",
       "      <th>...</th>\n",
       "      <td>...</td>\n",
       "      <td>...</td>\n",
       "      <td>...</td>\n",
       "    </tr>\n",
       "    <tr>\n",
       "      <th>1000203</th>\n",
       "      <td>6040</td>\n",
       "      <td>1090</td>\n",
       "      <td>3</td>\n",
       "    </tr>\n",
       "    <tr>\n",
       "      <th>1000205</th>\n",
       "      <td>6040</td>\n",
       "      <td>1094</td>\n",
       "      <td>5</td>\n",
       "    </tr>\n",
       "    <tr>\n",
       "      <th>1000206</th>\n",
       "      <td>6040</td>\n",
       "      <td>562</td>\n",
       "      <td>5</td>\n",
       "    </tr>\n",
       "    <tr>\n",
       "      <th>1000207</th>\n",
       "      <td>6040</td>\n",
       "      <td>1096</td>\n",
       "      <td>4</td>\n",
       "    </tr>\n",
       "    <tr>\n",
       "      <th>1000208</th>\n",
       "      <td>6040</td>\n",
       "      <td>1097</td>\n",
       "      <td>4</td>\n",
       "    </tr>\n",
       "  </tbody>\n",
       "</table>\n",
       "<p>836478 rows × 3 columns</p>\n",
       "</div>"
      ],
      "text/plain": [
       "         user_id  movie_id  counts\n",
       "0              1      1193       5\n",
       "1              1       661       3\n",
       "2              1       914       3\n",
       "3              1      3408       4\n",
       "4              1      2355       5\n",
       "...          ...       ...     ...\n",
       "1000203     6040      1090       3\n",
       "1000205     6040      1094       5\n",
       "1000206     6040       562       5\n",
       "1000207     6040      1096       4\n",
       "1000208     6040      1097       4\n",
       "\n",
       "[836478 rows x 3 columns]"
      ]
     },
     "execution_count": 8,
     "metadata": {},
     "output_type": "execute_result"
    }
   ],
   "source": [
    "ratings"
   ]
  },
  {
   "cell_type": "code",
   "execution_count": 9,
   "id": "31f6f799",
   "metadata": {},
   "outputs": [
    {
     "data": {
      "text/html": [
       "<div>\n",
       "<style scoped>\n",
       "    .dataframe tbody tr th:only-of-type {\n",
       "        vertical-align: middle;\n",
       "    }\n",
       "\n",
       "    .dataframe tbody tr th {\n",
       "        vertical-align: top;\n",
       "    }\n",
       "\n",
       "    .dataframe thead th {\n",
       "        text-align: right;\n",
       "    }\n",
       "</style>\n",
       "<table border=\"1\" class=\"dataframe\">\n",
       "  <thead>\n",
       "    <tr style=\"text-align: right;\">\n",
       "      <th></th>\n",
       "      <th>user_id</th>\n",
       "      <th>movie_id</th>\n",
       "      <th>title</th>\n",
       "      <th>counts</th>\n",
       "    </tr>\n",
       "  </thead>\n",
       "  <tbody>\n",
       "    <tr>\n",
       "      <th>0</th>\n",
       "      <td>1</td>\n",
       "      <td>1193</td>\n",
       "      <td>One Flew Over the Cuckoo's Nest (1975)</td>\n",
       "      <td>5</td>\n",
       "    </tr>\n",
       "    <tr>\n",
       "      <th>1</th>\n",
       "      <td>1</td>\n",
       "      <td>661</td>\n",
       "      <td>James and the Giant Peach (1996)</td>\n",
       "      <td>3</td>\n",
       "    </tr>\n",
       "    <tr>\n",
       "      <th>2</th>\n",
       "      <td>1</td>\n",
       "      <td>914</td>\n",
       "      <td>My Fair Lady (1964)</td>\n",
       "      <td>3</td>\n",
       "    </tr>\n",
       "    <tr>\n",
       "      <th>3</th>\n",
       "      <td>1</td>\n",
       "      <td>3408</td>\n",
       "      <td>Erin Brockovich (2000)</td>\n",
       "      <td>4</td>\n",
       "    </tr>\n",
       "    <tr>\n",
       "      <th>4</th>\n",
       "      <td>1</td>\n",
       "      <td>2355</td>\n",
       "      <td>Bug's Life, A (1998)</td>\n",
       "      <td>5</td>\n",
       "    </tr>\n",
       "    <tr>\n",
       "      <th>...</th>\n",
       "      <td>...</td>\n",
       "      <td>...</td>\n",
       "      <td>...</td>\n",
       "      <td>...</td>\n",
       "    </tr>\n",
       "    <tr>\n",
       "      <th>1000203</th>\n",
       "      <td>6040</td>\n",
       "      <td>1090</td>\n",
       "      <td>Platoon (1986)</td>\n",
       "      <td>3</td>\n",
       "    </tr>\n",
       "    <tr>\n",
       "      <th>1000205</th>\n",
       "      <td>6040</td>\n",
       "      <td>1094</td>\n",
       "      <td>Crying Game, The (1992)</td>\n",
       "      <td>5</td>\n",
       "    </tr>\n",
       "    <tr>\n",
       "      <th>1000206</th>\n",
       "      <td>6040</td>\n",
       "      <td>562</td>\n",
       "      <td>Welcome to the Dollhouse (1995)</td>\n",
       "      <td>5</td>\n",
       "    </tr>\n",
       "    <tr>\n",
       "      <th>1000207</th>\n",
       "      <td>6040</td>\n",
       "      <td>1096</td>\n",
       "      <td>Sophie's Choice (1982)</td>\n",
       "      <td>4</td>\n",
       "    </tr>\n",
       "    <tr>\n",
       "      <th>1000208</th>\n",
       "      <td>6040</td>\n",
       "      <td>1097</td>\n",
       "      <td>E.T. the Extra-Terrestrial (1982)</td>\n",
       "      <td>4</td>\n",
       "    </tr>\n",
       "  </tbody>\n",
       "</table>\n",
       "<p>836478 rows × 4 columns</p>\n",
       "</div>"
      ],
      "text/plain": [
       "         user_id  movie_id                                   title  counts\n",
       "0              1      1193  One Flew Over the Cuckoo's Nest (1975)       5\n",
       "1              1       661        James and the Giant Peach (1996)       3\n",
       "2              1       914                     My Fair Lady (1964)       3\n",
       "3              1      3408                  Erin Brockovich (2000)       4\n",
       "4              1      2355                    Bug's Life, A (1998)       5\n",
       "...          ...       ...                                     ...     ...\n",
       "1000203     6040      1090                          Platoon (1986)       3\n",
       "1000205     6040      1094                 Crying Game, The (1992)       5\n",
       "1000206     6040       562         Welcome to the Dollhouse (1995)       5\n",
       "1000207     6040      1096                  Sophie's Choice (1982)       4\n",
       "1000208     6040      1097       E.T. the Extra-Terrestrial (1982)       4\n",
       "\n",
       "[836478 rows x 4 columns]"
      ]
     },
     "execution_count": 9,
     "metadata": {},
     "output_type": "execute_result"
    }
   ],
   "source": [
    "data = ratings.copy()\n",
    "data.insert(2, 'title', ratings['movie_id'].map(movies.set_index('movie_id')['title']))\n",
    "\n",
    "data"
   ]
  },
  {
   "cell_type": "code",
   "execution_count": 10,
   "id": "a8eac7e7",
   "metadata": {},
   "outputs": [],
   "source": [
    "# MF 모델 구성"
   ]
  },
  {
   "cell_type": "markdown",
   "id": "08f111c9",
   "metadata": {},
   "source": [
    "# 2. 분석하기\n",
    "- ratings에 있는 유니크한 영화 개수\n",
    "- ratings에 있는 유니크한 사용자 수\n",
    "- 가장 인기 있는 영화 30개(인기순)"
   ]
  },
  {
   "cell_type": "code",
   "execution_count": 11,
   "id": "a380ea11",
   "metadata": {},
   "outputs": [
    {
     "name": "stdout",
     "output_type": "stream",
     "text": [
      "총 영화 타이틀 수: 3628\n",
      "총 사용자 수: 6039\n"
     ]
    }
   ],
   "source": [
    "# 분석 코드\n",
    "print('총 영화 타이틀 수:',ratings['movie_id'].nunique())\n",
    "print('총 사용자 수:',ratings['user_id'].nunique())"
   ]
  },
  {
   "cell_type": "code",
   "execution_count": 12,
   "id": "acddd90a",
   "metadata": {},
   "outputs": [
    {
     "name": "stdout",
     "output_type": "stream",
     "text": [
      "가장 인기있는 영화 30개\n"
     ]
    },
    {
     "data": {
      "text/plain": [
       "American Beauty (1999)                                   3211\n",
       "Star Wars: Episode IV - A New Hope (1977)                2910\n",
       "Star Wars: Episode V - The Empire Strikes Back (1980)    2885\n",
       "Star Wars: Episode VI - Return of the Jedi (1983)        2716\n",
       "Saving Private Ryan (1998)                               2561\n",
       "Terminator 2: Judgment Day (1991)                        2509\n",
       "Silence of the Lambs, The (1991)                         2498\n",
       "Raiders of the Lost Ark (1981)                           2473\n",
       "Back to the Future (1985)                                2460\n",
       "Matrix, The (1999)                                       2434\n",
       "Jurassic Park (1993)                                     2413\n",
       "Sixth Sense, The (1999)                                  2385\n",
       "Fargo (1996)                                             2371\n",
       "Braveheart (1995)                                        2314\n",
       "Men in Black (1997)                                      2297\n",
       "Schindler's List (1993)                                  2257\n",
       "Princess Bride, The (1987)                               2252\n",
       "Shakespeare in Love (1998)                               2213\n",
       "L.A. Confidential (1997)                                 2210\n",
       "Shawshank Redemption, The (1994)                         2194\n",
       "Godfather, The (1972)                                    2167\n",
       "Groundhog Day (1993)                                     2121\n",
       "E.T. the Extra-Terrestrial (1982)                        2102\n",
       "Being John Malkovich (1999)                              2066\n",
       "Ghostbusters (1984)                                      2051\n",
       "Pulp Fiction (1994)                                      2030\n",
       "Forrest Gump (1994)                                      2022\n",
       "Terminator, The (1984)                                   2019\n",
       "Toy Story (1995)                                         2000\n",
       "Fugitive, The (1993)                                     1941\n",
       "Name: title, dtype: int64"
      ]
     },
     "execution_count": 12,
     "metadata": {},
     "output_type": "execute_result"
    }
   ],
   "source": [
    "movie_count = data['title'].value_counts()\n",
    "print('가장 인기있는 영화 30개')\n",
    "movie_count.head(30)"
   ]
  },
  {
   "cell_type": "code",
   "execution_count": 13,
   "id": "acf07534",
   "metadata": {},
   "outputs": [
    {
     "data": {
      "text/plain": [
       "count    6039.000000\n",
       "mean      138.512668\n",
       "std       156.241599\n",
       "min         1.000000\n",
       "25%        38.000000\n",
       "50%        81.000000\n",
       "75%       177.000000\n",
       "max      1968.000000\n",
       "Name: movie_id, dtype: float64"
      ]
     },
     "execution_count": 13,
     "metadata": {},
     "output_type": "execute_result"
    }
   ],
   "source": [
    "# 유저별 몇 편의 영화를 봤는지에 대한 통계\n",
    "user_count = data.groupby('user_id')['movie_id'].count()\n",
    "user_count.describe()"
   ]
  },
  {
   "cell_type": "code",
   "execution_count": 14,
   "id": "f8919398",
   "metadata": {},
   "outputs": [
    {
     "data": {
      "text/plain": [
       "count    6039.000000\n",
       "mean     1804.344428\n",
       "std       518.591190\n",
       "min       566.000000\n",
       "25%      1391.000000\n",
       "50%      1684.000000\n",
       "75%      2014.500000\n",
       "max      3919.500000\n",
       "Name: movie_id, dtype: float64"
      ]
     },
     "execution_count": 14,
     "metadata": {},
     "output_type": "execute_result"
    }
   ],
   "source": [
    "# 유저별 play횟수 중앙값에 대한 통계\n",
    "user_median = data.groupby('user_id')['movie_id'].median()\n",
    "user_median.describe()"
   ]
  },
  {
   "cell_type": "markdown",
   "id": "3d94dece",
   "metadata": {},
   "source": [
    "# 3. 선호 영화 5가지 골라 ratings에 추가하기\n",
    "## (1) 모델 검증을 위한 사용자 초기 정보 세팅"
   ]
  },
  {
   "cell_type": "code",
   "execution_count": 15,
   "id": "23589496",
   "metadata": {},
   "outputs": [
    {
     "data": {
      "text/html": [
       "<div>\n",
       "<style scoped>\n",
       "    .dataframe tbody tr th:only-of-type {\n",
       "        vertical-align: middle;\n",
       "    }\n",
       "\n",
       "    .dataframe tbody tr th {\n",
       "        vertical-align: top;\n",
       "    }\n",
       "\n",
       "    .dataframe thead th {\n",
       "        text-align: right;\n",
       "    }\n",
       "</style>\n",
       "<table border=\"1\" class=\"dataframe\">\n",
       "  <thead>\n",
       "    <tr style=\"text-align: right;\">\n",
       "      <th></th>\n",
       "      <th>user_id</th>\n",
       "      <th>title</th>\n",
       "      <th>counts</th>\n",
       "    </tr>\n",
       "  </thead>\n",
       "  <tbody>\n",
       "    <tr>\n",
       "      <th>1000203</th>\n",
       "      <td>6040</td>\n",
       "      <td>Platoon (1986)</td>\n",
       "      <td>3</td>\n",
       "    </tr>\n",
       "    <tr>\n",
       "      <th>1000205</th>\n",
       "      <td>6040</td>\n",
       "      <td>Crying Game, The (1992)</td>\n",
       "      <td>5</td>\n",
       "    </tr>\n",
       "    <tr>\n",
       "      <th>1000206</th>\n",
       "      <td>6040</td>\n",
       "      <td>Welcome to the Dollhouse (1995)</td>\n",
       "      <td>5</td>\n",
       "    </tr>\n",
       "    <tr>\n",
       "      <th>1000207</th>\n",
       "      <td>6040</td>\n",
       "      <td>Sophie's Choice (1982)</td>\n",
       "      <td>4</td>\n",
       "    </tr>\n",
       "    <tr>\n",
       "      <th>1000208</th>\n",
       "      <td>6040</td>\n",
       "      <td>E.T. the Extra-Terrestrial (1982)</td>\n",
       "      <td>4</td>\n",
       "    </tr>\n",
       "    <tr>\n",
       "      <th>0</th>\n",
       "      <td>cham</td>\n",
       "      <td>Tango (1998)</td>\n",
       "      <td>5</td>\n",
       "    </tr>\n",
       "    <tr>\n",
       "      <th>1</th>\n",
       "      <td>cham</td>\n",
       "      <td>Good Will Hunting (1997)</td>\n",
       "      <td>5</td>\n",
       "    </tr>\n",
       "    <tr>\n",
       "      <th>2</th>\n",
       "      <td>cham</td>\n",
       "      <td>Home Alone (1990)</td>\n",
       "      <td>5</td>\n",
       "    </tr>\n",
       "    <tr>\n",
       "      <th>3</th>\n",
       "      <td>cham</td>\n",
       "      <td>Matrix, The (1999)</td>\n",
       "      <td>5</td>\n",
       "    </tr>\n",
       "    <tr>\n",
       "      <th>4</th>\n",
       "      <td>cham</td>\n",
       "      <td>Jumanji (1995)</td>\n",
       "      <td>5</td>\n",
       "    </tr>\n",
       "  </tbody>\n",
       "</table>\n",
       "</div>"
      ],
      "text/plain": [
       "        user_id                              title  counts\n",
       "1000203    6040                     Platoon (1986)       3\n",
       "1000205    6040            Crying Game, The (1992)       5\n",
       "1000206    6040    Welcome to the Dollhouse (1995)       5\n",
       "1000207    6040             Sophie's Choice (1982)       4\n",
       "1000208    6040  E.T. the Extra-Terrestrial (1982)       4\n",
       "0          cham                       Tango (1998)       5\n",
       "1          cham           Good Will Hunting (1997)       5\n",
       "2          cham                  Home Alone (1990)       5\n",
       "3          cham                 Matrix, The (1999)       5\n",
       "4          cham                     Jumanji (1995)       5"
      ]
     },
     "execution_count": 15,
     "metadata": {},
     "output_type": "execute_result"
    }
   ],
   "source": [
    "# 선호 영화 추가 코드\n",
    "\n",
    "favorite_movie_5 = ['Tango (1998)', 'Good Will Hunting (1997)', 'Home Alone (1990)', 'Matrix, The (1999)', 'Jumanji (1995)']\n",
    "\n",
    "my_playlist = pd.DataFrame({'user_id': ['cham']*5, 'title': favorite_movie_5, 'counts':[5]*5})\n",
    "\n",
    "if not data.isin({'user_id':['cham']})['user_id'].any():  \n",
    "    data = data.append(my_playlist)\n",
    "\n",
    "data.drop(['movie_id'], axis=1, inplace=True) \n",
    "data.tail(10)"
   ]
  },
  {
   "cell_type": "markdown",
   "id": "342e48ad",
   "metadata": {},
   "source": [
    "## (2) 모델에 활용하기 위한 전처리"
   ]
  },
  {
   "cell_type": "code",
   "execution_count": 16,
   "id": "3169d3a0",
   "metadata": {},
   "outputs": [],
   "source": [
    "# 고유한 유저, 영화를 찾아내는 코드 \n",
    "user_unique = data['user_id'].unique() \n",
    "movie_unique = data['title'].unique() \n",
    "\n",
    "# 유저, 영화 indexing 하는 코드\n",
    "user_to_idx = {v:k for k,v in enumerate(user_unique)} \n",
    "title_to_idx = {v:k for k,v in enumerate(movie_unique)}"
   ]
  },
  {
   "cell_type": "code",
   "execution_count": 17,
   "id": "844a6aa4",
   "metadata": {},
   "outputs": [
    {
     "name": "stdout",
     "output_type": "stream",
     "text": [
      "user_id column indexing OK!!\n",
      "title column indexing OK!!\n"
     ]
    },
    {
     "data": {
      "text/html": [
       "<div>\n",
       "<style scoped>\n",
       "    .dataframe tbody tr th:only-of-type {\n",
       "        vertical-align: middle;\n",
       "    }\n",
       "\n",
       "    .dataframe tbody tr th {\n",
       "        vertical-align: top;\n",
       "    }\n",
       "\n",
       "    .dataframe thead th {\n",
       "        text-align: right;\n",
       "    }\n",
       "</style>\n",
       "<table border=\"1\" class=\"dataframe\">\n",
       "  <thead>\n",
       "    <tr style=\"text-align: right;\">\n",
       "      <th></th>\n",
       "      <th>user_id</th>\n",
       "      <th>title</th>\n",
       "      <th>counts</th>\n",
       "    </tr>\n",
       "  </thead>\n",
       "  <tbody>\n",
       "    <tr>\n",
       "      <th>0</th>\n",
       "      <td>0</td>\n",
       "      <td>0</td>\n",
       "      <td>5</td>\n",
       "    </tr>\n",
       "    <tr>\n",
       "      <th>1</th>\n",
       "      <td>0</td>\n",
       "      <td>1</td>\n",
       "      <td>3</td>\n",
       "    </tr>\n",
       "    <tr>\n",
       "      <th>2</th>\n",
       "      <td>0</td>\n",
       "      <td>2</td>\n",
       "      <td>3</td>\n",
       "    </tr>\n",
       "    <tr>\n",
       "      <th>3</th>\n",
       "      <td>0</td>\n",
       "      <td>3</td>\n",
       "      <td>4</td>\n",
       "    </tr>\n",
       "    <tr>\n",
       "      <th>4</th>\n",
       "      <td>0</td>\n",
       "      <td>4</td>\n",
       "      <td>5</td>\n",
       "    </tr>\n",
       "    <tr>\n",
       "      <th>...</th>\n",
       "      <td>...</td>\n",
       "      <td>...</td>\n",
       "      <td>...</td>\n",
       "    </tr>\n",
       "    <tr>\n",
       "      <th>0</th>\n",
       "      <td>6039</td>\n",
       "      <td>937</td>\n",
       "      <td>5</td>\n",
       "    </tr>\n",
       "    <tr>\n",
       "      <th>1</th>\n",
       "      <td>6039</td>\n",
       "      <td>248</td>\n",
       "      <td>5</td>\n",
       "    </tr>\n",
       "    <tr>\n",
       "      <th>2</th>\n",
       "      <td>6039</td>\n",
       "      <td>507</td>\n",
       "      <td>5</td>\n",
       "    </tr>\n",
       "    <tr>\n",
       "      <th>3</th>\n",
       "      <td>6039</td>\n",
       "      <td>124</td>\n",
       "      <td>5</td>\n",
       "    </tr>\n",
       "    <tr>\n",
       "      <th>4</th>\n",
       "      <td>6039</td>\n",
       "      <td>513</td>\n",
       "      <td>5</td>\n",
       "    </tr>\n",
       "  </tbody>\n",
       "</table>\n",
       "<p>836483 rows × 3 columns</p>\n",
       "</div>"
      ],
      "text/plain": [
       "    user_id  title  counts\n",
       "0         0      0       5\n",
       "1         0      1       3\n",
       "2         0      2       3\n",
       "3         0      3       4\n",
       "4         0      4       5\n",
       "..      ...    ...     ...\n",
       "0      6039    937       5\n",
       "1      6039    248       5\n",
       "2      6039    507       5\n",
       "3      6039    124       5\n",
       "4      6039    513       5\n",
       "\n",
       "[836483 rows x 3 columns]"
      ]
     },
     "execution_count": 17,
     "metadata": {},
     "output_type": "execute_result"
    }
   ],
   "source": [
    "# 인덱싱 검증\n",
    "temp_user_data = data['user_id'].map(user_to_idx.get).dropna()\n",
    "if len(temp_user_data) == len(data):   \n",
    "    print('user_id column indexing OK!!')\n",
    "    data['user_id'] = temp_user_data   \n",
    "else:\n",
    "    print('user_id column indexing Fail!!')\n",
    "\n",
    "temp_title_data = data['title'].map(title_to_idx.get).dropna()\n",
    "if len(temp_title_data) == len(data):\n",
    "    print('title column indexing OK!!')\n",
    "    data['title'] = temp_title_data\n",
    "else:\n",
    "    print('title column indexing Fail!!')\n",
    "\n",
    "data"
   ]
  },
  {
   "cell_type": "markdown",
   "id": "e7747e57",
   "metadata": {},
   "source": [
    "# 4. CSR matrix"
   ]
  },
  {
   "cell_type": "code",
   "execution_count": 18,
   "id": "aa7b00b9",
   "metadata": {},
   "outputs": [
    {
     "name": "stdout",
     "output_type": "stream",
     "text": [
      "6040\n",
      "3628\n"
     ]
    }
   ],
   "source": [
    "# CSR matrix code\n",
    "num_user = data['user_id'].nunique()\n",
    "num_movie = data['title'].nunique()\n",
    "print(num_user)\n",
    "print(num_movie)"
   ]
  },
  {
   "cell_type": "code",
   "execution_count": 19,
   "id": "6d68b427",
   "metadata": {},
   "outputs": [
    {
     "name": "stdout",
     "output_type": "stream",
     "text": [
      "  (0, 0)\t5\n",
      "  (0, 1)\t3\n",
      "  (0, 2)\t3\n",
      "  (0, 3)\t4\n",
      "  (0, 4)\t5\n",
      "  (0, 5)\t3\n",
      "  (0, 6)\t5\n",
      "  (0, 7)\t5\n",
      "  (0, 8)\t4\n",
      "  (0, 9)\t4\n",
      "  (0, 10)\t5\n",
      "  (0, 11)\t4\n",
      "  (0, 12)\t4\n",
      "  (0, 13)\t4\n",
      "  (0, 14)\t5\n",
      "  (0, 15)\t4\n",
      "  (0, 16)\t3\n",
      "  (0, 17)\t4\n",
      "  (0, 18)\t5\n",
      "  (0, 19)\t4\n",
      "  (0, 20)\t3\n",
      "  (0, 21)\t3\n",
      "  (0, 22)\t5\n",
      "  (0, 23)\t5\n",
      "  (0, 24)\t3\n",
      "  :\t:\n",
      "  (6038, 2311)\t4\n",
      "  (6038, 2317)\t5\n",
      "  (6038, 2386)\t4\n",
      "  (6038, 2394)\t5\n",
      "  (6038, 2424)\t4\n",
      "  (6038, 2437)\t4\n",
      "  (6038, 2446)\t5\n",
      "  (6038, 2471)\t4\n",
      "  (6038, 2511)\t5\n",
      "  (6038, 2523)\t4\n",
      "  (6038, 2559)\t3\n",
      "  (6038, 2560)\t4\n",
      "  (6038, 2631)\t5\n",
      "  (6038, 2648)\t4\n",
      "  (6038, 2654)\t5\n",
      "  (6038, 2738)\t4\n",
      "  (6038, 2740)\t5\n",
      "  (6038, 2857)\t5\n",
      "  (6038, 2860)\t3\n",
      "  (6038, 3311)\t5\n",
      "  (6039, 124)\t5\n",
      "  (6039, 248)\t5\n",
      "  (6039, 507)\t5\n",
      "  (6039, 513)\t5\n",
      "  (6039, 937)\t5\n"
     ]
    }
   ],
   "source": [
    "csr_data = csr_matrix((data.counts, (data.user_id, data.title)), shape = (num_user, num_movie))\n",
    "print(csr_data)"
   ]
  },
  {
   "cell_type": "code",
   "execution_count": null,
   "id": "e47fd659",
   "metadata": {},
   "outputs": [],
   "source": []
  },
  {
   "cell_type": "markdown",
   "id": "3b2510d2",
   "metadata": {},
   "source": [
    "# 5. als model 구성 및 훈련"
   ]
  },
  {
   "cell_type": "code",
   "execution_count": 20,
   "id": "2b0cf25f",
   "metadata": {},
   "outputs": [
    {
     "data": {
      "text/plain": [
       "<3628x6040 sparse matrix of type '<class 'numpy.int64'>'\n",
       "\twith 836483 stored elements in Compressed Sparse Column format>"
      ]
     },
     "execution_count": 20,
     "metadata": {},
     "output_type": "execute_result"
    }
   ],
   "source": [
    "# als 모델은 input으로 (item X user 꼴의 matrix를 받기 때문에 Transpose해줍니다.)\n",
    "csr_data_transpose = csr_data.T\n",
    "csr_data_transpose"
   ]
  },
  {
   "cell_type": "code",
   "execution_count": 21,
   "id": "d3dc465e",
   "metadata": {},
   "outputs": [
    {
     "data": {
      "application/vnd.jupyter.widget-view+json": {
       "model_id": "f702cdf24f444d93826fb9af3cb1cc49",
       "version_major": 2,
       "version_minor": 0
      },
      "text/plain": [
       "  0%|          | 0/15 [00:00<?, ?it/s]"
      ]
     },
     "metadata": {},
     "output_type": "display_data"
    }
   ],
   "source": [
    "als_model = AlternatingLeastSquares(factors=100, regularization=0.01, use_gpu=False, iterations=15, dtype=np.float32)\n",
    "als_model.fit(csr_data_transpose)"
   ]
  },
  {
   "cell_type": "markdown",
   "id": "062c4200",
   "metadata": {},
   "source": [
    "# 6. 내가 선호하는 5가지 영화중 하나와 그 외의 영화 하나를 골라 훈련된 모델이 예측한 나의 선호도 파악"
   ]
  },
  {
   "cell_type": "code",
   "execution_count": 22,
   "id": "9a131ee4",
   "metadata": {},
   "outputs": [
    {
     "data": {
      "text/plain": [
       "array([-0.23589721, -0.26120222,  0.30205816,  0.47581738,  0.16862015,\n",
       "        0.12883769,  0.43733954, -0.44208598, -0.461442  ,  0.06254496,\n",
       "       -0.15806663,  0.3044138 ,  0.39007238, -0.2552041 , -0.7629987 ,\n",
       "        0.4180928 ,  0.37064707, -0.28796485, -0.9756834 , -0.01924607,\n",
       "        0.7067541 ,  0.16212377,  0.5411363 , -0.40652546,  0.28420734,\n",
       "        0.17647994, -0.44752505, -0.69529396, -0.3594494 , -0.44725934,\n",
       "        0.61785674,  0.0819581 ,  0.28085047,  0.32655814, -0.49626583,\n",
       "        0.0862812 , -0.50536615, -0.25657278, -0.4153747 ,  0.17315485,\n",
       "        0.5871889 ,  0.80176806, -0.69704884, -0.05851692,  0.42328906,\n",
       "       -0.43903598,  0.56612206, -0.3631333 , -0.10033464,  0.13554648,\n",
       "       -0.45985585,  0.11298359,  0.5129095 , -0.00278495, -0.05576288,\n",
       "        0.20162548, -0.2609468 ,  0.7476975 ,  0.03308636,  0.06157076,\n",
       "        0.14489993,  0.06479272, -0.8786754 , -0.50461507,  0.5239749 ,\n",
       "        0.35347664,  0.27675936,  0.09986749, -0.49793667,  0.87762797,\n",
       "       -0.3186377 ,  0.09387399, -0.505539  ,  0.32814896,  0.4973571 ,\n",
       "       -0.04922147,  0.03117942, -0.9328402 ,  0.761339  ,  0.09523546,\n",
       "       -0.13044938,  0.6486258 ,  0.2441559 , -0.632015  , -0.03284047,\n",
       "        0.4743281 , -0.32990235, -0.11418979,  0.5272914 ,  0.08027714,\n",
       "        0.13459554,  0.00771648,  0.737735  ,  0.44514662,  0.03564324,\n",
       "       -0.41863638, -0.03199154, -0.06521032, -0.5731815 ,  0.24649069],\n",
       "      dtype=float32)"
      ]
     },
     "execution_count": 22,
     "metadata": {},
     "output_type": "execute_result"
    }
   ],
   "source": [
    "# 사용자 선호도 벡터\n",
    "cham, jumanji = user_to_idx['cham'], title_to_idx['Jumanji (1995)']\n",
    "cham_vector, jumanji_vector = als_model.user_factors[cham], als_model.item_factors[jumanji]\n",
    "cham_vector"
   ]
  },
  {
   "cell_type": "code",
   "execution_count": 23,
   "id": "045cda43",
   "metadata": {},
   "outputs": [
    {
     "data": {
      "text/plain": [
       "array([ 5.58631076e-03,  1.19877756e-02,  2.12925076e-02,  5.11372462e-03,\n",
       "        1.08546168e-02,  2.44408790e-02,  1.15469266e-02,  8.84337630e-03,\n",
       "       -4.13841149e-03,  5.98588726e-03, -1.02014723e-03, -1.34865067e-03,\n",
       "        2.61011850e-02, -4.48274240e-03, -1.19495019e-02, -3.32202041e-03,\n",
       "        9.83882695e-03,  2.95102037e-02,  3.33784823e-03,  2.20184289e-02,\n",
       "       -1.27146933e-02, -4.04734118e-03,  2.17396691e-02, -1.58646535e-02,\n",
       "        3.46999839e-02,  7.66368257e-03, -2.34062579e-02, -4.42991499e-03,\n",
       "        1.85539236e-03,  1.15045635e-02,  2.05624360e-03,  3.85687308e-04,\n",
       "        3.48347658e-03,  2.42441595e-02, -1.05419038e-02,  1.90654509e-02,\n",
       "       -2.44048536e-02, -2.62008104e-02,  4.00908152e-03,  1.71027742e-02,\n",
       "        3.22414301e-02,  1.56888347e-02, -3.15425801e-03,  7.02012284e-03,\n",
       "        3.35328579e-02,  1.77034494e-02, -1.43092813e-03,  1.80431753e-02,\n",
       "        2.31184438e-02,  1.49628380e-02, -1.84402075e-02, -5.35581447e-03,\n",
       "        1.26371905e-02, -6.10318547e-03, -1.49742425e-06,  1.97815672e-02,\n",
       "       -4.06190474e-03,  1.16864331e-02, -4.48233215e-03,  1.35033708e-02,\n",
       "       -8.90856143e-03, -4.25924966e-03,  4.67485609e-03,  2.09016772e-03,\n",
       "        2.98457388e-02,  4.70448198e-04, -9.07649565e-03,  1.49701880e-02,\n",
       "       -1.09395217e-02,  4.37056646e-03, -1.50622688e-02, -2.29904172e-03,\n",
       "       -1.06850192e-02,  2.29831003e-02,  2.33707670e-02,  1.02084363e-02,\n",
       "        1.47217931e-02,  4.83514462e-03,  3.24345380e-02,  1.93173513e-02,\n",
       "        7.14179641e-03,  1.05465464e-02,  9.36750136e-03, -1.68655545e-03,\n",
       "        2.78922170e-03,  4.76815598e-03, -2.02028360e-02,  5.21242619e-03,\n",
       "        2.10050717e-02,  1.07495300e-02,  2.30736881e-02,  1.60912182e-02,\n",
       "        3.29737999e-02, -5.41265262e-03,  1.23361461e-02, -1.17220310e-02,\n",
       "        5.32826362e-03,  7.81409163e-03,  1.53843621e-02,  5.56361536e-03],\n",
       "      dtype=float32)"
      ]
     },
     "execution_count": 23,
     "metadata": {},
     "output_type": "execute_result"
    }
   ],
   "source": [
    "# 타이틀 유사도 벡터\n",
    "jumanji_vector"
   ]
  },
  {
   "cell_type": "code",
   "execution_count": 24,
   "id": "3207974c",
   "metadata": {},
   "outputs": [
    {
     "data": {
      "text/plain": [
       "0.2692352"
      ]
     },
     "execution_count": 24,
     "metadata": {},
     "output_type": "execute_result"
    }
   ],
   "source": [
    "# 사용자와 선호 타이틀의 취향 일치도\n",
    "np.dot(cham_vector, jumanji_vector)"
   ]
  },
  {
   "cell_type": "code",
   "execution_count": 25,
   "id": "4d733d46",
   "metadata": {},
   "outputs": [
    {
     "data": {
      "text/plain": [
       "0.07596613"
      ]
     },
     "execution_count": 25,
     "metadata": {},
     "output_type": "execute_result"
    }
   ],
   "source": [
    "# 사용자와 임의 타이틀의 취향 일치도\n",
    "babe = title_to_idx['Babe (1995)']\n",
    "babe_vector = als_model.item_factors[babe]\n",
    "np.dot(cham_vector, babe_vector)"
   ]
  },
  {
   "cell_type": "markdown",
   "id": "a59c4a66",
   "metadata": {},
   "source": [
    "# 7. 내가 좋아하는 영화와 비슷한 영화 추천받기\n",
    "### 1번째 선호 타이틀의 유사도 확인"
   ]
  },
  {
   "cell_type": "code",
   "execution_count": 26,
   "id": "cdff29c0",
   "metadata": {},
   "outputs": [
    {
     "data": {
      "text/plain": [
       "[(937, 1.0),\n",
       " (2260, 0.795101),\n",
       " (2874, 0.77192736),\n",
       " (2578, 0.7642351),\n",
       " (2582, 0.7589609),\n",
       " (2576, 0.74494004),\n",
       " (2129, 0.7437893),\n",
       " (2246, 0.73765814),\n",
       " (2634, 0.7376347),\n",
       " (2593, 0.7340109)]"
      ]
     },
     "execution_count": 26,
     "metadata": {},
     "output_type": "execute_result"
    }
   ],
   "source": [
    "# 타이틀 유사도 확인\n",
    "favorite_title = 'Tango (1998)'\n",
    "title_id_1 = title_to_idx[favorite_title]\n",
    "similar_title_1 = als_model.similar_items(title_id_1, N=10)\n",
    "similar_title_1"
   ]
  },
  {
   "cell_type": "code",
   "execution_count": 27,
   "id": "61350308",
   "metadata": {},
   "outputs": [
    {
     "data": {
      "text/html": [
       "<div>\n",
       "<style scoped>\n",
       "    .dataframe tbody tr th:only-of-type {\n",
       "        vertical-align: middle;\n",
       "    }\n",
       "\n",
       "    .dataframe tbody tr th {\n",
       "        vertical-align: top;\n",
       "    }\n",
       "\n",
       "    .dataframe thead th {\n",
       "        text-align: right;\n",
       "    }\n",
       "</style>\n",
       "<table border=\"1\" class=\"dataframe\">\n",
       "  <thead>\n",
       "    <tr style=\"text-align: right;\">\n",
       "      <th></th>\n",
       "      <th>title</th>\n",
       "      <th>genre</th>\n",
       "    </tr>\n",
       "  </thead>\n",
       "  <tbody>\n",
       "    <tr>\n",
       "      <th>0</th>\n",
       "      <td>Tango (1998)</td>\n",
       "      <td>Drama</td>\n",
       "    </tr>\n",
       "    <tr>\n",
       "      <th>1</th>\n",
       "      <td>Nelly &amp; Monsieur Arnaud (1995)</td>\n",
       "      <td>Drama</td>\n",
       "    </tr>\n",
       "    <tr>\n",
       "      <th>2</th>\n",
       "      <td>Déjà Vu (1997)</td>\n",
       "      <td>Drama|Romance</td>\n",
       "    </tr>\n",
       "    <tr>\n",
       "      <th>3</th>\n",
       "      <td>Three Seasons (1999)</td>\n",
       "      <td>Drama</td>\n",
       "    </tr>\n",
       "    <tr>\n",
       "      <th>4</th>\n",
       "      <td>Harmonists, The (1997)</td>\n",
       "      <td>Drama</td>\n",
       "    </tr>\n",
       "    <tr>\n",
       "      <th>5</th>\n",
       "      <td>Winter Guest, The (1997)</td>\n",
       "      <td>Drama</td>\n",
       "    </tr>\n",
       "    <tr>\n",
       "      <th>6</th>\n",
       "      <td>Character (Karakter) (1997)</td>\n",
       "      <td>Drama</td>\n",
       "    </tr>\n",
       "    <tr>\n",
       "      <th>7</th>\n",
       "      <td>Golden Bowl, The (2000)</td>\n",
       "      <td>Drama</td>\n",
       "    </tr>\n",
       "    <tr>\n",
       "      <th>8</th>\n",
       "      <td>Live Flesh (1997)</td>\n",
       "      <td>Drama</td>\n",
       "    </tr>\n",
       "    <tr>\n",
       "      <th>9</th>\n",
       "      <td>My Favorite Season (1993)</td>\n",
       "      <td>Drama</td>\n",
       "    </tr>\n",
       "  </tbody>\n",
       "</table>\n",
       "</div>"
      ],
      "text/plain": [
       "                            title          genre\n",
       "0                    Tango (1998)          Drama\n",
       "1  Nelly & Monsieur Arnaud (1995)          Drama\n",
       "2                  Déjà Vu (1997)  Drama|Romance\n",
       "3            Three Seasons (1999)          Drama\n",
       "4          Harmonists, The (1997)          Drama\n",
       "5        Winter Guest, The (1997)          Drama\n",
       "6     Character (Karakter) (1997)          Drama\n",
       "7         Golden Bowl, The (2000)          Drama\n",
       "8               Live Flesh (1997)          Drama\n",
       "9       My Favorite Season (1993)          Drama"
      ]
     },
     "execution_count": 27,
     "metadata": {},
     "output_type": "execute_result"
    }
   ],
   "source": [
    "# 유사도 10순위에 해당되는 영화 제목 출력. \n",
    "idx_to_title = {v:k for k,v in title_to_idx.items()}\n",
    "similar_movies_1 = pd.DataFrame([idx_to_title[i[0]] for i in similar_title_1])\n",
    "similar_movies_1.rename(columns = {0 : 'title'}, inplace = True)\n",
    "similar_movies_1.insert(1, 'genre', similar_movies_1['title'].map(movies.set_index('title')['genre']))\n",
    "similar_movies_1"
   ]
  },
  {
   "cell_type": "markdown",
   "id": "99114df5",
   "metadata": {},
   "source": [
    "### 2번째 선호 타이틀의 유사도 확인"
   ]
  },
  {
   "cell_type": "code",
   "execution_count": 28,
   "id": "56cdbe3c",
   "metadata": {},
   "outputs": [
    {
     "data": {
      "text/plain": [
       "[(248, 0.99999994),\n",
       " (157, 0.64714193),\n",
       " (39, 0.6420986),\n",
       " (385, 0.63280284),\n",
       " (18, 0.53601223),\n",
       " (222, 0.51274544),\n",
       " (323, 0.5119472),\n",
       " (483, 0.49523044),\n",
       " (23, 0.49414033),\n",
       " (384, 0.49271774)]"
      ]
     },
     "execution_count": 28,
     "metadata": {},
     "output_type": "execute_result"
    }
   ],
   "source": [
    "favorite_title = 'Good Will Hunting (1997)'\n",
    "title_id_2 = title_to_idx[favorite_title]\n",
    "similar_title_2 = als_model.similar_items(title_id_2, N=10)\n",
    "similar_title_2"
   ]
  },
  {
   "cell_type": "code",
   "execution_count": 29,
   "id": "66706380",
   "metadata": {},
   "outputs": [
    {
     "data": {
      "text/html": [
       "<div>\n",
       "<style scoped>\n",
       "    .dataframe tbody tr th:only-of-type {\n",
       "        vertical-align: middle;\n",
       "    }\n",
       "\n",
       "    .dataframe tbody tr th {\n",
       "        vertical-align: top;\n",
       "    }\n",
       "\n",
       "    .dataframe thead th {\n",
       "        text-align: right;\n",
       "    }\n",
       "</style>\n",
       "<table border=\"1\" class=\"dataframe\">\n",
       "  <thead>\n",
       "    <tr style=\"text-align: right;\">\n",
       "      <th></th>\n",
       "      <th>title</th>\n",
       "      <th>genre</th>\n",
       "    </tr>\n",
       "  </thead>\n",
       "  <tbody>\n",
       "    <tr>\n",
       "      <th>0</th>\n",
       "      <td>Good Will Hunting (1997)</td>\n",
       "      <td>Drama</td>\n",
       "    </tr>\n",
       "    <tr>\n",
       "      <th>1</th>\n",
       "      <td>Shawshank Redemption, The (1994)</td>\n",
       "      <td>Drama</td>\n",
       "    </tr>\n",
       "    <tr>\n",
       "      <th>2</th>\n",
       "      <td>Apollo 13 (1995)</td>\n",
       "      <td>Drama</td>\n",
       "    </tr>\n",
       "    <tr>\n",
       "      <th>3</th>\n",
       "      <td>Truman Show, The (1998)</td>\n",
       "      <td>Drama</td>\n",
       "    </tr>\n",
       "    <tr>\n",
       "      <th>4</th>\n",
       "      <td>Awakenings (1990)</td>\n",
       "      <td>Drama</td>\n",
       "    </tr>\n",
       "    <tr>\n",
       "      <th>5</th>\n",
       "      <td>Pulp Fiction (1994)</td>\n",
       "      <td>Crime|Drama</td>\n",
       "    </tr>\n",
       "    <tr>\n",
       "      <th>6</th>\n",
       "      <td>Dead Man Walking (1995)</td>\n",
       "      <td>Drama</td>\n",
       "    </tr>\n",
       "    <tr>\n",
       "      <th>7</th>\n",
       "      <td>Trainspotting (1996)</td>\n",
       "      <td>Drama</td>\n",
       "    </tr>\n",
       "    <tr>\n",
       "      <th>8</th>\n",
       "      <td>Schindler's List (1993)</td>\n",
       "      <td>Drama|War</td>\n",
       "    </tr>\n",
       "    <tr>\n",
       "      <th>9</th>\n",
       "      <td>Jerry Maguire (1996)</td>\n",
       "      <td>Drama|Romance</td>\n",
       "    </tr>\n",
       "  </tbody>\n",
       "</table>\n",
       "</div>"
      ],
      "text/plain": [
       "                              title          genre\n",
       "0          Good Will Hunting (1997)          Drama\n",
       "1  Shawshank Redemption, The (1994)          Drama\n",
       "2                  Apollo 13 (1995)          Drama\n",
       "3           Truman Show, The (1998)          Drama\n",
       "4                 Awakenings (1990)          Drama\n",
       "5               Pulp Fiction (1994)    Crime|Drama\n",
       "6           Dead Man Walking (1995)          Drama\n",
       "7              Trainspotting (1996)          Drama\n",
       "8           Schindler's List (1993)      Drama|War\n",
       "9              Jerry Maguire (1996)  Drama|Romance"
      ]
     },
     "execution_count": 29,
     "metadata": {},
     "output_type": "execute_result"
    }
   ],
   "source": [
    "similar_movies_2 = pd.DataFrame([idx_to_title[i[0]] for i in similar_title_2])\n",
    "similar_movies_2.rename(columns = {0 : 'title'}, inplace = True)\n",
    "similar_movies_2.insert(1, 'genre', similar_movies_2['title'].map(movies.set_index('title')['genre']))\n",
    "similar_movies_2"
   ]
  },
  {
   "cell_type": "markdown",
   "id": "c42f2110",
   "metadata": {},
   "source": [
    "### 3번째 선호 타이틀의 유사도 확인"
   ]
  },
  {
   "cell_type": "code",
   "execution_count": 30,
   "id": "140aec62",
   "metadata": {},
   "outputs": [
    {
     "data": {
      "text/plain": [
       "[(507, 0.9999999),\n",
       " (821, 0.67864877),\n",
       " (668, 0.6743748),\n",
       " (341, 0.65164435),\n",
       " (2015, 0.6429204),\n",
       " (1180, 0.6349888),\n",
       " (1369, 0.6264711),\n",
       " (567, 0.60701233),\n",
       " (244, 0.60429615),\n",
       " (931, 0.5953249)]"
      ]
     },
     "execution_count": 30,
     "metadata": {},
     "output_type": "execute_result"
    }
   ],
   "source": [
    "favorite_title = 'Home Alone (1990)'\n",
    "title_id_3 = title_to_idx[favorite_title]\n",
    "similar_title_3 = als_model.similar_items(title_id_3, N=10)\n",
    "similar_title_3"
   ]
  },
  {
   "cell_type": "code",
   "execution_count": 31,
   "id": "9a5be34c",
   "metadata": {},
   "outputs": [
    {
     "data": {
      "text/html": [
       "<div>\n",
       "<style scoped>\n",
       "    .dataframe tbody tr th:only-of-type {\n",
       "        vertical-align: middle;\n",
       "    }\n",
       "\n",
       "    .dataframe tbody tr th {\n",
       "        vertical-align: top;\n",
       "    }\n",
       "\n",
       "    .dataframe thead th {\n",
       "        text-align: right;\n",
       "    }\n",
       "</style>\n",
       "<table border=\"1\" class=\"dataframe\">\n",
       "  <thead>\n",
       "    <tr style=\"text-align: right;\">\n",
       "      <th></th>\n",
       "      <th>title</th>\n",
       "      <th>genre</th>\n",
       "    </tr>\n",
       "  </thead>\n",
       "  <tbody>\n",
       "    <tr>\n",
       "      <th>0</th>\n",
       "      <td>Home Alone (1990)</td>\n",
       "      <td>Children's|Comedy</td>\n",
       "    </tr>\n",
       "    <tr>\n",
       "      <th>1</th>\n",
       "      <td>Mrs. Doubtfire (1993)</td>\n",
       "      <td>Comedy</td>\n",
       "    </tr>\n",
       "    <tr>\n",
       "      <th>2</th>\n",
       "      <td>Sister Act (1992)</td>\n",
       "      <td>Comedy|Crime</td>\n",
       "    </tr>\n",
       "    <tr>\n",
       "      <th>3</th>\n",
       "      <td>Mighty Ducks, The (1992)</td>\n",
       "      <td>Children's|Comedy</td>\n",
       "    </tr>\n",
       "    <tr>\n",
       "      <th>4</th>\n",
       "      <td>Home Alone 2: Lost in New York (1992)</td>\n",
       "      <td>Children's|Comedy</td>\n",
       "    </tr>\n",
       "    <tr>\n",
       "      <th>5</th>\n",
       "      <td>Father of the Bride Part II (1995)</td>\n",
       "      <td>Comedy</td>\n",
       "    </tr>\n",
       "    <tr>\n",
       "      <th>6</th>\n",
       "      <td>101 Dalmatians (1996)</td>\n",
       "      <td>Children's|Comedy</td>\n",
       "    </tr>\n",
       "    <tr>\n",
       "      <th>7</th>\n",
       "      <td>First Wives Club, The (1996)</td>\n",
       "      <td>Comedy</td>\n",
       "    </tr>\n",
       "    <tr>\n",
       "      <th>8</th>\n",
       "      <td>Liar Liar (1997)</td>\n",
       "      <td>Comedy</td>\n",
       "    </tr>\n",
       "    <tr>\n",
       "      <th>9</th>\n",
       "      <td>Hocus Pocus (1993)</td>\n",
       "      <td>Children's|Comedy</td>\n",
       "    </tr>\n",
       "  </tbody>\n",
       "</table>\n",
       "</div>"
      ],
      "text/plain": [
       "                                   title              genre\n",
       "0                      Home Alone (1990)  Children's|Comedy\n",
       "1                  Mrs. Doubtfire (1993)             Comedy\n",
       "2                      Sister Act (1992)       Comedy|Crime\n",
       "3               Mighty Ducks, The (1992)  Children's|Comedy\n",
       "4  Home Alone 2: Lost in New York (1992)  Children's|Comedy\n",
       "5     Father of the Bride Part II (1995)             Comedy\n",
       "6                  101 Dalmatians (1996)  Children's|Comedy\n",
       "7           First Wives Club, The (1996)             Comedy\n",
       "8                       Liar Liar (1997)             Comedy\n",
       "9                     Hocus Pocus (1993)  Children's|Comedy"
      ]
     },
     "execution_count": 31,
     "metadata": {},
     "output_type": "execute_result"
    }
   ],
   "source": [
    "similar_movies_3 = pd.DataFrame([idx_to_title[i[0]] for i in similar_title_3])\n",
    "similar_movies_3.rename(columns = {0 : 'title'}, inplace = True)\n",
    "similar_movies_3.insert(1, 'genre', similar_movies_3['title'].map(movies.set_index('title')['genre']))\n",
    "similar_movies_3"
   ]
  },
  {
   "cell_type": "markdown",
   "id": "69b215a8",
   "metadata": {},
   "source": [
    "### 4번째 선호 타이틀의 유사도 확인"
   ]
  },
  {
   "cell_type": "code",
   "execution_count": 32,
   "id": "973e8115",
   "metadata": {},
   "outputs": [
    {
     "data": {
      "text/plain": [
       "[(124, 1.0000001),\n",
       " (92, 0.77951133),\n",
       " (62, 0.6546159),\n",
       " (141, 0.57725334),\n",
       " (107, 0.5666393),\n",
       " (200, 0.56316996),\n",
       " (145, 0.5411349),\n",
       " (375, 0.5119482),\n",
       " (175, 0.47370568),\n",
       " (75, 0.4214954)]"
      ]
     },
     "execution_count": 32,
     "metadata": {},
     "output_type": "execute_result"
    }
   ],
   "source": [
    "favorite_title = 'Matrix, The (1999)'\n",
    "title_id_4 = title_to_idx[favorite_title]\n",
    "similar_title_4 = als_model.similar_items(title_id_4, N=10)\n",
    "similar_title_4"
   ]
  },
  {
   "cell_type": "code",
   "execution_count": 33,
   "id": "6a4d8f36",
   "metadata": {},
   "outputs": [
    {
     "data": {
      "text/html": [
       "<div>\n",
       "<style scoped>\n",
       "    .dataframe tbody tr th:only-of-type {\n",
       "        vertical-align: middle;\n",
       "    }\n",
       "\n",
       "    .dataframe tbody tr th {\n",
       "        vertical-align: top;\n",
       "    }\n",
       "\n",
       "    .dataframe thead th {\n",
       "        text-align: right;\n",
       "    }\n",
       "</style>\n",
       "<table border=\"1\" class=\"dataframe\">\n",
       "  <thead>\n",
       "    <tr style=\"text-align: right;\">\n",
       "      <th></th>\n",
       "      <th>title</th>\n",
       "      <th>genre</th>\n",
       "    </tr>\n",
       "  </thead>\n",
       "  <tbody>\n",
       "    <tr>\n",
       "      <th>0</th>\n",
       "      <td>Matrix, The (1999)</td>\n",
       "      <td>Action|Sci-Fi|Thriller</td>\n",
       "    </tr>\n",
       "    <tr>\n",
       "      <th>1</th>\n",
       "      <td>Terminator 2: Judgment Day (1991)</td>\n",
       "      <td>Action|Sci-Fi|Thriller</td>\n",
       "    </tr>\n",
       "    <tr>\n",
       "      <th>2</th>\n",
       "      <td>Total Recall (1990)</td>\n",
       "      <td>Action|Adventure|Sci-Fi|Thriller</td>\n",
       "    </tr>\n",
       "    <tr>\n",
       "      <th>3</th>\n",
       "      <td>Fugitive, The (1993)</td>\n",
       "      <td>Action|Thriller</td>\n",
       "    </tr>\n",
       "    <tr>\n",
       "      <th>4</th>\n",
       "      <td>Jurassic Park (1993)</td>\n",
       "      <td>Action|Adventure|Sci-Fi</td>\n",
       "    </tr>\n",
       "    <tr>\n",
       "      <th>5</th>\n",
       "      <td>Terminator, The (1984)</td>\n",
       "      <td>Action|Sci-Fi|Thriller</td>\n",
       "    </tr>\n",
       "    <tr>\n",
       "      <th>6</th>\n",
       "      <td>Fifth Element, The (1997)</td>\n",
       "      <td>Action|Sci-Fi</td>\n",
       "    </tr>\n",
       "    <tr>\n",
       "      <th>7</th>\n",
       "      <td>Face/Off (1997)</td>\n",
       "      <td>Action|Sci-Fi|Thriller</td>\n",
       "    </tr>\n",
       "    <tr>\n",
       "      <th>8</th>\n",
       "      <td>Men in Black (1997)</td>\n",
       "      <td>Action|Adventure|Comedy|Sci-Fi</td>\n",
       "    </tr>\n",
       "    <tr>\n",
       "      <th>9</th>\n",
       "      <td>Hunt for Red October, The (1990)</td>\n",
       "      <td>Action|Thriller</td>\n",
       "    </tr>\n",
       "  </tbody>\n",
       "</table>\n",
       "</div>"
      ],
      "text/plain": [
       "                               title                             genre\n",
       "0                 Matrix, The (1999)            Action|Sci-Fi|Thriller\n",
       "1  Terminator 2: Judgment Day (1991)            Action|Sci-Fi|Thriller\n",
       "2                Total Recall (1990)  Action|Adventure|Sci-Fi|Thriller\n",
       "3               Fugitive, The (1993)                   Action|Thriller\n",
       "4               Jurassic Park (1993)           Action|Adventure|Sci-Fi\n",
       "5             Terminator, The (1984)            Action|Sci-Fi|Thriller\n",
       "6          Fifth Element, The (1997)                     Action|Sci-Fi\n",
       "7                    Face/Off (1997)            Action|Sci-Fi|Thriller\n",
       "8                Men in Black (1997)    Action|Adventure|Comedy|Sci-Fi\n",
       "9   Hunt for Red October, The (1990)                   Action|Thriller"
      ]
     },
     "execution_count": 33,
     "metadata": {},
     "output_type": "execute_result"
    }
   ],
   "source": [
    "similar_movies_4 = pd.DataFrame([idx_to_title[i[0]] for i in similar_title_4])\n",
    "similar_movies_4.rename(columns = {0 : 'title'}, inplace = True)\n",
    "similar_movies_4.insert(1, 'genre', similar_movies_4['title'].map(movies.set_index('title')['genre']))\n",
    "similar_movies_4"
   ]
  },
  {
   "cell_type": "markdown",
   "id": "0c9cb6fd",
   "metadata": {},
   "source": [
    "### 5번째 선호 타이틀의 유사도 확인"
   ]
  },
  {
   "cell_type": "code",
   "execution_count": 34,
   "id": "70411427",
   "metadata": {},
   "outputs": [
    {
     "data": {
      "text/plain": [
       "[(513, 1.0000001),\n",
       " (596, 0.81434697),\n",
       " (1130, 0.7969768),\n",
       " (173, 0.73342097),\n",
       " (545, 0.6695829),\n",
       " (828, 0.65612125),\n",
       " (1985, 0.6540115),\n",
       " (1982, 0.6383163),\n",
       " (1736, 0.63013387),\n",
       " (1733, 0.62990075)]"
      ]
     },
     "execution_count": 34,
     "metadata": {},
     "output_type": "execute_result"
    }
   ],
   "source": [
    "favorite_title = 'Jumanji (1995)'\n",
    "title_id_5 = title_to_idx[favorite_title]\n",
    "similar_title_5 = als_model.similar_items(title_id_5, N=10)\n",
    "similar_title_5"
   ]
  },
  {
   "cell_type": "code",
   "execution_count": 35,
   "id": "f12cf572",
   "metadata": {},
   "outputs": [
    {
     "data": {
      "text/html": [
       "<div>\n",
       "<style scoped>\n",
       "    .dataframe tbody tr th:only-of-type {\n",
       "        vertical-align: middle;\n",
       "    }\n",
       "\n",
       "    .dataframe tbody tr th {\n",
       "        vertical-align: top;\n",
       "    }\n",
       "\n",
       "    .dataframe thead th {\n",
       "        text-align: right;\n",
       "    }\n",
       "</style>\n",
       "<table border=\"1\" class=\"dataframe\">\n",
       "  <thead>\n",
       "    <tr style=\"text-align: right;\">\n",
       "      <th></th>\n",
       "      <th>title</th>\n",
       "      <th>genre</th>\n",
       "    </tr>\n",
       "  </thead>\n",
       "  <tbody>\n",
       "    <tr>\n",
       "      <th>0</th>\n",
       "      <td>Jumanji (1995)</td>\n",
       "      <td>Adventure|Children's|Fantasy</td>\n",
       "    </tr>\n",
       "    <tr>\n",
       "      <th>1</th>\n",
       "      <td>Hook (1991)</td>\n",
       "      <td>Adventure|Fantasy</td>\n",
       "    </tr>\n",
       "    <tr>\n",
       "      <th>2</th>\n",
       "      <td>Indian in the Cupboard, The (1995)</td>\n",
       "      <td>Adventure|Children's|Fantasy</td>\n",
       "    </tr>\n",
       "    <tr>\n",
       "      <th>3</th>\n",
       "      <td>Dragonheart (1996)</td>\n",
       "      <td>Action|Adventure|Fantasy</td>\n",
       "    </tr>\n",
       "    <tr>\n",
       "      <th>4</th>\n",
       "      <td>Santa Clause, The (1994)</td>\n",
       "      <td>Children's|Comedy|Fantasy</td>\n",
       "    </tr>\n",
       "    <tr>\n",
       "      <th>5</th>\n",
       "      <td>Flubber (1997)</td>\n",
       "      <td>Children's|Comedy|Fantasy</td>\n",
       "    </tr>\n",
       "    <tr>\n",
       "      <th>6</th>\n",
       "      <td>NeverEnding Story II: The Next Chapter, The (1...</td>\n",
       "      <td>Adventure|Children's|Fantasy</td>\n",
       "    </tr>\n",
       "    <tr>\n",
       "      <th>7</th>\n",
       "      <td>Space Jam (1996)</td>\n",
       "      <td>Adventure|Animation|Children's|Comedy|Fantasy</td>\n",
       "    </tr>\n",
       "    <tr>\n",
       "      <th>8</th>\n",
       "      <td>Small Soldiers (1998)</td>\n",
       "      <td>Animation|Children's|Fantasy|War</td>\n",
       "    </tr>\n",
       "    <tr>\n",
       "      <th>9</th>\n",
       "      <td>Borrowers, The (1997)</td>\n",
       "      <td>Adventure|Children's|Comedy|Fantasy</td>\n",
       "    </tr>\n",
       "  </tbody>\n",
       "</table>\n",
       "</div>"
      ],
      "text/plain": [
       "                                               title  \\\n",
       "0                                     Jumanji (1995)   \n",
       "1                                        Hook (1991)   \n",
       "2                 Indian in the Cupboard, The (1995)   \n",
       "3                                 Dragonheart (1996)   \n",
       "4                           Santa Clause, The (1994)   \n",
       "5                                     Flubber (1997)   \n",
       "6  NeverEnding Story II: The Next Chapter, The (1...   \n",
       "7                                   Space Jam (1996)   \n",
       "8                              Small Soldiers (1998)   \n",
       "9                              Borrowers, The (1997)   \n",
       "\n",
       "                                           genre  \n",
       "0                   Adventure|Children's|Fantasy  \n",
       "1                              Adventure|Fantasy  \n",
       "2                   Adventure|Children's|Fantasy  \n",
       "3                       Action|Adventure|Fantasy  \n",
       "4                      Children's|Comedy|Fantasy  \n",
       "5                      Children's|Comedy|Fantasy  \n",
       "6                   Adventure|Children's|Fantasy  \n",
       "7  Adventure|Animation|Children's|Comedy|Fantasy  \n",
       "8               Animation|Children's|Fantasy|War  \n",
       "9            Adventure|Children's|Comedy|Fantasy  "
      ]
     },
     "execution_count": 35,
     "metadata": {},
     "output_type": "execute_result"
    }
   ],
   "source": [
    "similar_movies_5 = pd.DataFrame([idx_to_title[i[0]] for i in similar_title_5])\n",
    "similar_movies_5.rename(columns = {0 : 'title'}, inplace = True)\n",
    "similar_movies_5.insert(1, 'genre', similar_movies_5['title'].map(movies.set_index('title')['genre']))\n",
    "similar_movies_5"
   ]
  },
  {
   "cell_type": "markdown",
   "id": "50bfc1f9",
   "metadata": {},
   "source": [
    "## (2) 타이틀 변경 및 장르 확인"
   ]
  },
  {
   "cell_type": "markdown",
   "id": "4f876204",
   "metadata": {},
   "source": [
    "# 8. 내가 가장 좋아할만한 영화들 추천받기"
   ]
  },
  {
   "cell_type": "code",
   "execution_count": 36,
   "id": "1ea1be9c",
   "metadata": {},
   "outputs": [
    {
     "data": {
      "text/plain": [
       "[(92, 0.31178278),\n",
       " (107, 0.28137928),\n",
       " (317, 0.25068718),\n",
       " (141, 0.23063475),\n",
       " (62, 0.22193347),\n",
       " (458, 0.21725665),\n",
       " (48, 0.21338992),\n",
       " (157, 0.21212271),\n",
       " (596, 0.21197152),\n",
       " (145, 0.20595935),\n",
       " (40, 0.20092769),\n",
       " (175, 0.19954756),\n",
       " (23, 0.18931514),\n",
       " (330, 0.18102568),\n",
       " (450, 0.1790201),\n",
       " (121, 0.17608255),\n",
       " (545, 0.17512654),\n",
       " (375, 0.17287052),\n",
       " (244, 0.16987938),\n",
       " (233, 0.16795139)]"
      ]
     },
     "execution_count": 36,
     "metadata": {},
     "output_type": "execute_result"
    }
   ],
   "source": [
    "user = user_to_idx['cham']\n",
    "title_recommended = als_model.recommend(user, csr_data, N=20, filter_already_liked_items=True)\n",
    "title_recommended"
   ]
  },
  {
   "cell_type": "code",
   "execution_count": 37,
   "id": "2cd3509f",
   "metadata": {},
   "outputs": [
    {
     "data": {
      "text/html": [
       "<div>\n",
       "<style scoped>\n",
       "    .dataframe tbody tr th:only-of-type {\n",
       "        vertical-align: middle;\n",
       "    }\n",
       "\n",
       "    .dataframe tbody tr th {\n",
       "        vertical-align: top;\n",
       "    }\n",
       "\n",
       "    .dataframe thead th {\n",
       "        text-align: right;\n",
       "    }\n",
       "</style>\n",
       "<table border=\"1\" class=\"dataframe\">\n",
       "  <thead>\n",
       "    <tr style=\"text-align: right;\">\n",
       "      <th></th>\n",
       "      <th>title</th>\n",
       "      <th>genre</th>\n",
       "    </tr>\n",
       "  </thead>\n",
       "  <tbody>\n",
       "    <tr>\n",
       "      <th>0</th>\n",
       "      <td>Terminator 2: Judgment Day (1991)</td>\n",
       "      <td>Action|Sci-Fi|Thriller</td>\n",
       "    </tr>\n",
       "    <tr>\n",
       "      <th>1</th>\n",
       "      <td>Jurassic Park (1993)</td>\n",
       "      <td>Action|Adventure|Sci-Fi</td>\n",
       "    </tr>\n",
       "    <tr>\n",
       "      <th>2</th>\n",
       "      <td>Twelve Monkeys (1995)</td>\n",
       "      <td>Drama|Sci-Fi</td>\n",
       "    </tr>\n",
       "    <tr>\n",
       "      <th>3</th>\n",
       "      <td>Fugitive, The (1993)</td>\n",
       "      <td>Action|Thriller</td>\n",
       "    </tr>\n",
       "    <tr>\n",
       "      <th>4</th>\n",
       "      <td>Total Recall (1990)</td>\n",
       "      <td>Action|Adventure|Sci-Fi|Thriller</td>\n",
       "    </tr>\n",
       "    <tr>\n",
       "      <th>5</th>\n",
       "      <td>Mask, The (1994)</td>\n",
       "      <td>Comedy|Crime|Fantasy</td>\n",
       "    </tr>\n",
       "    <tr>\n",
       "      <th>6</th>\n",
       "      <td>Saving Private Ryan (1998)</td>\n",
       "      <td>Action|Drama|War</td>\n",
       "    </tr>\n",
       "    <tr>\n",
       "      <th>7</th>\n",
       "      <td>Shawshank Redemption, The (1994)</td>\n",
       "      <td>Drama</td>\n",
       "    </tr>\n",
       "    <tr>\n",
       "      <th>8</th>\n",
       "      <td>Hook (1991)</td>\n",
       "      <td>Adventure|Fantasy</td>\n",
       "    </tr>\n",
       "    <tr>\n",
       "      <th>9</th>\n",
       "      <td>Fifth Element, The (1997)</td>\n",
       "      <td>Action|Sci-Fi</td>\n",
       "    </tr>\n",
       "    <tr>\n",
       "      <th>10</th>\n",
       "      <td>Toy Story (1995)</td>\n",
       "      <td>Animation|Children's|Comedy</td>\n",
       "    </tr>\n",
       "    <tr>\n",
       "      <th>11</th>\n",
       "      <td>Men in Black (1997)</td>\n",
       "      <td>Action|Adventure|Comedy|Sci-Fi</td>\n",
       "    </tr>\n",
       "    <tr>\n",
       "      <th>12</th>\n",
       "      <td>Schindler's List (1993)</td>\n",
       "      <td>Drama|War</td>\n",
       "    </tr>\n",
       "    <tr>\n",
       "      <th>13</th>\n",
       "      <td>Lion King, The (1994)</td>\n",
       "      <td>Animation|Children's|Musical</td>\n",
       "    </tr>\n",
       "    <tr>\n",
       "      <th>14</th>\n",
       "      <td>Life Is Beautiful (La Vita è bella) (1997)</td>\n",
       "      <td>Comedy|Drama</td>\n",
       "    </tr>\n",
       "    <tr>\n",
       "      <th>15</th>\n",
       "      <td>Silence of the Lambs, The (1991)</td>\n",
       "      <td>Drama|Thriller</td>\n",
       "    </tr>\n",
       "    <tr>\n",
       "      <th>16</th>\n",
       "      <td>Santa Clause, The (1994)</td>\n",
       "      <td>Children's|Comedy|Fantasy</td>\n",
       "    </tr>\n",
       "    <tr>\n",
       "      <th>17</th>\n",
       "      <td>Face/Off (1997)</td>\n",
       "      <td>Action|Sci-Fi|Thriller</td>\n",
       "    </tr>\n",
       "    <tr>\n",
       "      <th>18</th>\n",
       "      <td>Liar Liar (1997)</td>\n",
       "      <td>Comedy</td>\n",
       "    </tr>\n",
       "    <tr>\n",
       "      <th>19</th>\n",
       "      <td>Usual Suspects, The (1995)</td>\n",
       "      <td>Crime|Thriller</td>\n",
       "    </tr>\n",
       "  </tbody>\n",
       "</table>\n",
       "</div>"
      ],
      "text/plain": [
       "                                         title  \\\n",
       "0            Terminator 2: Judgment Day (1991)   \n",
       "1                         Jurassic Park (1993)   \n",
       "2                        Twelve Monkeys (1995)   \n",
       "3                         Fugitive, The (1993)   \n",
       "4                          Total Recall (1990)   \n",
       "5                             Mask, The (1994)   \n",
       "6                   Saving Private Ryan (1998)   \n",
       "7             Shawshank Redemption, The (1994)   \n",
       "8                                  Hook (1991)   \n",
       "9                    Fifth Element, The (1997)   \n",
       "10                            Toy Story (1995)   \n",
       "11                         Men in Black (1997)   \n",
       "12                     Schindler's List (1993)   \n",
       "13                       Lion King, The (1994)   \n",
       "14  Life Is Beautiful (La Vita è bella) (1997)   \n",
       "15            Silence of the Lambs, The (1991)   \n",
       "16                    Santa Clause, The (1994)   \n",
       "17                             Face/Off (1997)   \n",
       "18                            Liar Liar (1997)   \n",
       "19                  Usual Suspects, The (1995)   \n",
       "\n",
       "                               genre  \n",
       "0             Action|Sci-Fi|Thriller  \n",
       "1            Action|Adventure|Sci-Fi  \n",
       "2                       Drama|Sci-Fi  \n",
       "3                    Action|Thriller  \n",
       "4   Action|Adventure|Sci-Fi|Thriller  \n",
       "5               Comedy|Crime|Fantasy  \n",
       "6                   Action|Drama|War  \n",
       "7                              Drama  \n",
       "8                  Adventure|Fantasy  \n",
       "9                      Action|Sci-Fi  \n",
       "10       Animation|Children's|Comedy  \n",
       "11    Action|Adventure|Comedy|Sci-Fi  \n",
       "12                         Drama|War  \n",
       "13      Animation|Children's|Musical  \n",
       "14                      Comedy|Drama  \n",
       "15                    Drama|Thriller  \n",
       "16         Children's|Comedy|Fantasy  \n",
       "17            Action|Sci-Fi|Thriller  \n",
       "18                            Comedy  \n",
       "19                    Crime|Thriller  "
      ]
     },
     "execution_count": 37,
     "metadata": {},
     "output_type": "execute_result"
    }
   ],
   "source": [
    "recommended_movies = pd.DataFrame([idx_to_title[i[0]] for i in title_recommended])\n",
    "recommended_movies.rename(columns = {0 : 'title'}, inplace = True)\n",
    "recommended_movies.insert(1, 'genre', recommended_movies['title'].map(movies.set_index('title')['genre']))\n",
    "recommended_movies"
   ]
  },
  {
   "cell_type": "code",
   "execution_count": 38,
   "id": "c0eab1f9",
   "metadata": {},
   "outputs": [
    {
     "data": {
      "text/plain": [
       "[('Tango (1998)', 0.03661417466102963),\n",
       " ('Good Will Hunting (1997)', 0.008808886957461274),\n",
       " ('Home Alone (1990)', 0.0068944690380541105),\n",
       " ('Matrix, The (1999)', -0.0022028706039973647),\n",
       " ('Jumanji (1995)', -0.011071281691577372)]"
      ]
     },
     "execution_count": 38,
     "metadata": {},
     "output_type": "execute_result"
    }
   ],
   "source": [
    "tango = title_to_idx['Tango (1998)']\n",
    "explain = als_model.explain(user, csr_data, itemid=tango)\n",
    "[(idx_to_title[i[0]], i[1]) for i in explain[1]]"
   ]
  },
  {
   "cell_type": "code",
   "execution_count": 39,
   "id": "913490ab",
   "metadata": {},
   "outputs": [
    {
     "name": "stdout",
     "output_type": "stream",
     "text": [
      "총 작업 소요 시간은 약 23초입니다.\n"
     ]
    }
   ],
   "source": [
    "end_time = time.time()\n",
    "work_time = round(end_time - start_time)\n",
    "print(f'총 작업 소요 시간은 약 {work_time}초입니다.')"
   ]
  },
  {
   "cell_type": "markdown",
   "id": "1d8cbc27",
   "metadata": {},
   "source": [
    "# Rubric\n",
    "- 1. CSR matrix가 정상적으로 만들어졌다. -> 사용자와 아이템 개수를 바탕으로 정확한 사이즈로 만들었다.\n",
    "- 2. MF 모델이 정상적으로 훈련되어 그럴듯한 추천이 이루어졌다. -> 사용자와 아이템 벡터 내적 수치가 의미있게 형성되었다.\n",
    "- 3. 비슷한 영화 찾기와 유저에게 추천하기의 과정이 정상적으로 진행되었다. -> MF 모델이 예측한 유저 선호도 및 아이템간 유사도, 기여도가 의미있게 측정되었다."
   ]
  },
  {
   "attachments": {
    "image.png": {
     "image/png": "[encoded data removed]"
    }
   },
   "cell_type": "markdown",
   "id": "834d16b4",
   "metadata": {},
   "source": [
    "# 회고\n",
    "- 유사도 벡터는 자기 자신의 경우 1이었다. 그래서 혹시 similar_item() 함수는 정규화된 자기 자신의 전치행렬을 기준으로 하여 비교대상 행렬들을 정규화하고 곱한 것이 아닐까 생각하였다. 그래서 소스 코드를 찾아보았는데, 이해할 수 있을 정도로 의미있는 결과는 찾지 못하였다. 아래 첨부 이미지의 self.similarity가 그나마 근접한 것인데, 그 이후 소스 코드는 이해 불가. 많은 공부가 필요하다는 것을 다시 한 번 느꼈다.\n",
    "![image.png](attachment:image.png)\n",
    "- 선호 영화에 따른 유사 영화 추천은 성공적이었던 것으로 보인다. 장르로 확인해 보았더니 각기 드라마, 드라마, 코메디, 스릴러, 판타지로 동일 혹은 유사 장르가 선순위로 추천되었다.\n",
    "- 사용자에 대한 추천은 유사도 점수는 높지 않았다. 선호 영화에 여러 장르를 넣어 놓아서 그런 것으로 생각된다. 하지만 순위를 보고 주관적으로 판단했을 때, 납득할 수 있었다. 20개 순위 중 대부분을 보았기 때문이다. 결과적으로는 성공적으로 생각한다."
   ]
  }
 ],
 "metadata": {
  "kernelspec": {
   "display_name": "Python 3 (ipykernel)",
   "language": "python",
   "name": "python3"
  },
  "language_info": {
   "codemirror_mode": {
    "name": "ipython",
    "version": 3
   },
   "file_extension": ".py",
   "mimetype": "text/x-python",
   "name": "python",
   "nbconvert_exporter": "python",
   "pygments_lexer": "ipython3",
   "version": "3.9.7"
  }
 },
 "nbformat": 4,
 "nbformat_minor": 5
}
