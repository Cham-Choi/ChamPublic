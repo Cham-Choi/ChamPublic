{
 "cells": [
  {
   "cell_type": "markdown",
   "id": "d5dd4788",
   "metadata": {},
   "source": [
    "# 가위바위보 분류기 만들기"
   ]
  },
  {
   "cell_type": "markdown",
   "id": "88330d97",
   "metadata": {},
   "source": [
    "## 연습"
   ]
  },
  {
   "cell_type": "code",
   "execution_count": 2,
   "id": "0ed0baed",
   "metadata": {},
   "outputs": [
    {
     "name": "stdout",
     "output_type": "stream",
     "text": [
      "PIL 라이브러리 import 완료!\n"
     ]
    }
   ],
   "source": [
    "from PIL import Image\n",
    "import glob\n",
    "\n",
    "print(\"PIL 라이브러리 import 완료!\")"
   ]
  },
  {
   "cell_type": "code",
   "execution_count": 38,
   "id": "6560fad9",
   "metadata": {},
   "outputs": [
    {
     "name": "stdout",
     "output_type": "stream",
     "text": [
      "100  images to be resized.\n",
      "100  images resized.\n",
      "이미지 resize 완료!\n"
     ]
    }
   ],
   "source": [
    "# 이미지가 저장된 디렉토리 아래의 모든 jpg 파일을 읽어들임.\n",
    "image_dir_path = r\"C:\\Users\\user\\Google 드라이브\\AIFFEL\\Day7\\NJM\\scissor\"\n",
    "\n",
    "def resize_images(img_path):\n",
    "    images = glob.glob(img_path + \"\\*.jpg\")\n",
    "    \n",
    "    print(len(images), \" images to be resized.\")\n",
    "    \n",
    "    # 파일마다 모두 28x28 사이즈로 바꾸어 저장합니다.\n",
    "    target_size=(28,28)\n",
    "    for img in images:\n",
    "        old_img = Image.open(img)\n",
    "        new_img = old_img.resize(target_size, Image.ANTIALIAS)\n",
    "        new_img.save(img, \"JPEG\")\n",
    "        \n",
    "    print(len(images), \" images resized.\")\n",
    "    \n",
    "\n",
    "resize_images(image_dir_path)\n",
    "\n",
    "print(\"이미지 resize 완료!\")"
   ]
  },
  {
   "cell_type": "code",
   "execution_count": 3,
   "id": "aa59033d",
   "metadata": {},
   "outputs": [
    {
     "name": "stdout",
     "output_type": "stream",
     "text": [
      "학습데이터(x_train)의 이미지 개수는 200 입니다.\n",
      "x_train shape: (300, 28, 28, 3)\n",
      "y_train shape: (300,)\n"
     ]
    }
   ],
   "source": [
    "import numpy as np\n",
    "\n",
    "def load_data(img_path, number_of_data=300): # 가위바위보 이미지 개수 총합에 주의.\n",
    "    # 가위 : 0, 바위 : 1, 보 : 2\n",
    "    img_size=28\n",
    "    color = 3\n",
    "    # 이미지 데이터와 라벨(가위0, 바위1, 보2) 데이터를 담을 행렬 영역 생성\n",
    "    imgs = np.zeros(number_of_data*img_size*img_size*color, dtype = np.int32).reshape(number_of_data, img_size, img_size, color)\n",
    "    #imgs=np.zeros(number_of_data*img_size*img_size*color,dtype=np.int32).reshape(number_of_data,img_size,img_size,color)\n",
    "    labels = np.zeros(number_of_data, dtype = np.int32)\n",
    "    \n",
    "    idx = 0\n",
    "\n",
    "    for file in glob.iglob(img_path+'\\scissor\\*.jpg'):\n",
    "        img = np.array(Image.open(file), dtype = np.int32)\n",
    "        imgs[idx,:,:,:]=img  # 데이터 영역에 이미지 행렬을 복사\n",
    "        labels[idx]=0   # 가위: 0\n",
    "        idx=idx+1\n",
    "       \n",
    "    for file in glob.iglob(img_path+'\\rock\\*.jpg'):\n",
    "        img = np.array(Image.open(file), dtype = np.int32)\n",
    "        imgs[idx,:,:,:]=img  # 데이터 영역에 이미지 행렬을 복사\n",
    "        labels[idx]=1   # 바위: 1\n",
    "        idx=idx+1\n",
    "    \n",
    "    for file in glob.iglob(img_path+'\\paper\\*.jpg'):\n",
    "        img = np.array(Image.open(file), dtype = np.int32)\n",
    "        imgs[idx,:,:,:]=img  # 데이터 영역에 이미지 행렬을 복사\n",
    "        labels[idx]=2   # 보: 2\n",
    "        idx=idx+1\n",
    "  \n",
    "    print(\"학습데이터(x_train)의 이미지 개수는\", idx,\"입니다.\")\n",
    "    return imgs, labels\n",
    "\n",
    "image_dir_path = r\"C:\\Users\\user\\Google 드라이브\\AIFFEL\\Day7\\Cham_HC\"\n",
    "#(x_train, y_train) = load_data(image_dir_path)\n",
    "(x_train, y_train)=load_data(image_dir_path)\n",
    "x_train_norm = x_train/255.0  # 입력은 0~1 사이의 값으로 정규화\n",
    "#y_train_norm = y_train/255.0   # 입력은 0~1 사이의 값으로 정규화\n",
    "\n",
    "print(\"x_train shape: {}\".format(x_train.shape))\n",
    "print(\"y_train shape: {}\".format(y_train.shape))"
   ]
  },
  {
   "cell_type": "code",
   "execution_count": 4,
   "id": "e6b37836",
   "metadata": {},
   "outputs": [
    {
     "name": "stdout",
     "output_type": "stream",
     "text": [
      "학습데이터(x_train)의 이미지 개수는 300 입니다.\n",
      "학습데이터(x_train)의 이미지 개수는 300 입니다.\n",
      "x_train shape: (300, 28, 28, 3)\n",
      "y_train shape: (300,)\n"
     ]
    }
   ],
   "source": [
    "import numpy as np\n",
    "\n",
    "def load_data(img_path, number_of_data=300): # 가위바위보 이미지 개수 총합에 주의.\n",
    "    # 가위 : 0, 바위 : 1, 보 : 2\n",
    "    img_size=28\n",
    "    color = 3\n",
    "    # 이미지 데이터와 라벨(가위0, 바위1, 보2) 데이터를 담을 행렬 영역 생성\n",
    "    imgs = np.zeros(number_of_data*img_size*img_size*color, dtype = np.int32).reshape(number_of_data, img_size, img_size, color)\n",
    "    #imgs=np.zeros(number_of_data*img_size*img_size*color,dtype=np.int32).reshape(number_of_data,img_size,img_size,color)\n",
    "    labels = np.zeros(number_of_data, dtype = np.int32)\n",
    "    \n",
    "    idx = 0\n",
    "\n",
    "    \n",
    "    for file in glob.iglob(img_path+'/scissor/*.jpg'):\n",
    "        img = np.array(Image.open(file),dtype=np.int32)\n",
    "        imgs[idx,:,:,:]=img    # 데이터 영역에 이미지 행렬을 복사\n",
    "        labels[idx]=0   # 가위 : 0\n",
    "        idx=idx+1\n",
    "\n",
    "    for file in glob.iglob(img_path+'/rock/*.jpg'):\n",
    "        img = np.array(Image.open(file),dtype=np.int32)\n",
    "        imgs[idx,:,:,:]=img    # 데이터 영역에 이미지 행렬을 복사\n",
    "        labels[idx]=1   # 바위 : 1\n",
    "        idx=idx+1  \n",
    "    \n",
    "    for file in glob.iglob(img_path+'/paper/*.jpg'):\n",
    "        img = np.array(Image.open(file),dtype=np.int32)\n",
    "        imgs[idx,:,:,:]=img    # 데이터 영역에 이미지 행렬을 복사\n",
    "        labels[idx]=2   # 보 : 2\n",
    "        idx=idx+1\n",
    "        \n",
    "    print(\"학습데이터(x_train)의 이미지 개수는\", idx,\"입니다.\")\n",
    "    return imgs, labels\n",
    "\n",
    "image_dir_path = r\"C:\\Users\\user\\Google 드라이브\\AIFFEL\\Day7\\Cham_HC\"\n",
    "#(x_train, y_train) = load_data(image_dir_path)\n",
    "(x_train, y_train)=load_data(image_dir_path)\n",
    "(x_test, y_test)=load_data(image_dir_path)\n",
    "x_train_norm = x_train/255.0  # 입력은 0~1 사이의 값으로 정규화\n",
    "#y_train_norm = y_train/255.0   # 입력은 0~1 사이의 값으로 정규화\n",
    "\n",
    "print(\"x_train shape: {}\".format(x_train.shape))\n",
    "print(\"y_train shape: {}\".format(y_train.shape))"
   ]
  },
  {
   "cell_type": "code",
   "execution_count": 5,
   "id": "57281b4c",
   "metadata": {},
   "outputs": [
    {
     "name": "stdout",
     "output_type": "stream",
     "text": [
      "2.7.0\n"
     ]
    }
   ],
   "source": [
    "import tensorflow as tf\n",
    "from tensorflow import keras\n",
    "\n",
    "import numpy as np\n",
    "import matplotlib.pyplot as plt\n",
    "import os\n",
    "\n",
    "\n",
    "print(tf.__version__)"
   ]
  },
  {
   "cell_type": "code",
   "execution_count": 6,
   "id": "0b9735e3",
   "metadata": {},
   "outputs": [
    {
     "name": "stdout",
     "output_type": "stream",
     "text": [
      "라벨:  0\n"
     ]
    },
    {
     "data": {
      "image/png": "[encoded data removed]",
      "text/plain": [
       "<Figure size 432x288 with 1 Axes>"
      ]
     },
     "metadata": {
      "needs_background": "light"
     },
     "output_type": "display_data"
    }
   ],
   "source": [
    "plt.imshow(x_train[1])\n",
    "print('라벨: ', y_train[1])"
   ]
  },
  {
   "cell_type": "code",
   "execution_count": 11,
   "id": "741c1597",
   "metadata": {},
   "outputs": [
    {
     "data": {
      "image/png": "[encoded data removed]",
      "text/plain": [
       "<Figure size 432x288 with 1 Axes>"
      ]
     },
     "metadata": {
      "needs_background": "light"
     },
     "output_type": "display_data"
    },
    {
     "name": "stdout",
     "output_type": "stream",
     "text": [
      "226 번째 이미지의 숫자는 바로 2 입니다.\n"
     ]
    }
   ],
   "source": [
    "index = 225\n",
    "plt.imshow(x_train[index], cmap=plt.cm.binary)\n",
    "plt.show()\n",
    "print((index+1), '번째 이미지의 숫자는 바로', y_train[index], '입니다.')"
   ]
  },
  {
   "cell_type": "code",
   "execution_count": 12,
   "id": "816cc4cf",
   "metadata": {},
   "outputs": [
    {
     "name": "stdout",
     "output_type": "stream",
     "text": [
      "(300, 28, 28, 3)\n",
      "(300, 28, 28, 3)\n"
     ]
    }
   ],
   "source": [
    "print(x_train.shape)\n",
    "print(x_test.shape)"
   ]
  },
  {
   "cell_type": "code",
   "execution_count": 11,
   "id": "b7280939",
   "metadata": {},
   "outputs": [
    {
     "name": "stdout",
     "output_type": "stream",
     "text": [
      "최소값: 4 최대값: 255\n",
      "최소값: 0.01568627450980392 최대값: 1.0\n"
     ]
    }
   ],
   "source": [
    "print('최소값:', np.min(x_train), '최대값:', np.max(x_train))\n",
    "print('최소값:', np.min(x_train_norm), '최대값:', np.max(x_train_norm))\n",
    "x_test_norm = x_test/255.0"
   ]
  },
  {
   "cell_type": "code",
   "execution_count": 13,
   "id": "d9a83c69",
   "metadata": {},
   "outputs": [
    {
     "name": "stdout",
     "output_type": "stream",
     "text": [
      "Model에 추가된 Layer 개수:  7\n"
     ]
    }
   ],
   "source": [
    "model = keras.models.Sequential()\n",
    "model.add(keras.layers.Conv2D(16, (3,3), activation = 'relu', input_shape = (28, 28, 3)))\n",
    "# 16: 얼마나 다양한 이미지의 특징을 살펴볼 것인가? 16개를 보겠다.\n",
    "#input_shape: 입력 이미지의 형태. \n",
    "model.add(keras.layers.MaxPool2D(2,2))\n",
    "model.add(keras.layers.Conv2D(32, (3,3), activation = 'relu'))\n",
    "# 32: 얼마나 다양한 이미지의 특징을 살펴볼 것인가? 32개를 보겠다.\n",
    "model.add(keras.layers.MaxPooling2D((2,2)))\n",
    "model.add(keras.layers.Flatten())\n",
    "model.add(keras.layers.Dense(32, activation= 'relu'))\n",
    "# Dense 첫번째 숫자: 분류기에 사용되는 뉴런의 숫자. 값이 클수록 복잡한 분류기를 만들 수 있음. \n",
    "# 알파벳의 경우 대문자 26개, 소문자 26개로 총 52개를 분류해야 하므로 32보다 큰 64, 128등을 고려.\n",
    "model.add(keras.layers.Dense(3, activation='softmax'))\n",
    "# Dense 마지막 숫자: 결과적으로 분류해내야 하는 클래스의 수. 숫자는 10, 알파벳은 52.\n",
    "print('Model에 추가된 Layer 개수: ', len(model.layers))\n"
   ]
  },
  {
   "cell_type": "code",
   "execution_count": 14,
   "id": "84e0061b",
   "metadata": {},
   "outputs": [
    {
     "name": "stdout",
     "output_type": "stream",
     "text": [
      "Model: \"sequential_1\"\n",
      "_________________________________________________________________\n",
      " Layer (type)                Output Shape              Param #   \n",
      "=================================================================\n",
      " conv2d_2 (Conv2D)           (None, 26, 26, 16)        448       \n",
      "                                                                 \n",
      " max_pooling2d_2 (MaxPooling  (None, 13, 13, 16)       0         \n",
      " 2D)                                                             \n",
      "                                                                 \n",
      " conv2d_3 (Conv2D)           (None, 11, 11, 32)        4640      \n",
      "                                                                 \n",
      " max_pooling2d_3 (MaxPooling  (None, 5, 5, 32)         0         \n",
      " 2D)                                                             \n",
      "                                                                 \n",
      " flatten_1 (Flatten)         (None, 800)               0         \n",
      "                                                                 \n",
      " dense_2 (Dense)             (None, 32)                25632     \n",
      "                                                                 \n",
      " dense_3 (Dense)             (None, 3)                 99        \n",
      "                                                                 \n",
      "=================================================================\n",
      "Total params: 30,819\n",
      "Trainable params: 30,819\n",
      "Non-trainable params: 0\n",
      "_________________________________________________________________\n"
     ]
    }
   ],
   "source": [
    "model.summary()"
   ]
  },
  {
   "cell_type": "code",
   "execution_count": 15,
   "id": "f8b23268",
   "metadata": {},
   "outputs": [
    {
     "name": "stdout",
     "output_type": "stream",
     "text": [
      "Before Reshape - x_train_norm shape: (300, 28, 28, 3)\n",
      "Before Reshape - x_test_norm shape: (300, 28, 28, 3)\n",
      "After Reshape - x_train_reshaped shape: (300, 28, 28, 3)\n",
      "After Reshape - x_test_reshaped shape: (300, 28, 28, 3)\n"
     ]
    }
   ],
   "source": [
    "print(\"Before Reshape - x_train_norm shape: {}\". format(x_train_norm.shape))\n",
    "print(\"Before Reshape - x_test_norm shape: {}\". format(x_test_norm.shape))\n",
    "\n",
    "x_train_reshaped = x_train_norm.reshape(-1, 28, 28, 3)  # 마지막 3은 픽셀의 차원(RGB)\n",
    "# 데이터갯수에 -1을 쓰면 reshape시 자동계산됩니다.\n",
    "x_test_reshaped = x_test_norm.reshape(-1, 28, 28, 3)\n",
    "\n",
    "print(\"After Reshape - x_train_reshaped shape: {}\". format(x_train_reshaped.shape))\n",
    "print(\"After Reshape - x_test_reshaped shape: {}\".format(x_test_reshaped.shape))"
   ]
  },
  {
   "cell_type": "code",
   "execution_count": 16,
   "id": "213e9613",
   "metadata": {},
   "outputs": [
    {
     "name": "stdout",
     "output_type": "stream",
     "text": [
      "Epoch 1/10\n",
      "10/10 [==============================] - 0s 4ms/step - loss: 1.1076 - accuracy: 0.3867\n",
      "Epoch 2/10\n",
      "10/10 [==============================] - 0s 4ms/step - loss: 0.9967 - accuracy: 0.5167\n",
      "Epoch 3/10\n",
      "10/10 [==============================] - 0s 4ms/step - loss: 0.8831 - accuracy: 0.6867\n",
      "Epoch 4/10\n",
      "10/10 [==============================] - 0s 4ms/step - loss: 0.7940 - accuracy: 0.6700\n",
      "Epoch 5/10\n",
      "10/10 [==============================] - 0s 4ms/step - loss: 0.7091 - accuracy: 0.7033\n",
      "Epoch 6/10\n",
      "10/10 [==============================] - 0s 4ms/step - loss: 0.6096 - accuracy: 0.7833\n",
      "Epoch 7/10\n",
      "10/10 [==============================] - 0s 4ms/step - loss: 0.5804 - accuracy: 0.7967\n",
      "Epoch 8/10\n",
      "10/10 [==============================] - 0s 4ms/step - loss: 0.4648 - accuracy: 0.8500\n",
      "Epoch 9/10\n",
      "10/10 [==============================] - 0s 4ms/step - loss: 0.4243 - accuracy: 0.8700\n",
      "Epoch 10/10\n",
      "10/10 [==============================] - 0s 4ms/step - loss: 0.3536 - accuracy: 0.8967\n"
     ]
    },
    {
     "data": {
      "text/plain": [
       "<keras.callbacks.History at 0x20e5569c430>"
      ]
     },
     "execution_count": 16,
     "metadata": {},
     "output_type": "execute_result"
    }
   ],
   "source": [
    "model.compile(optimizer= 'adam',\n",
    "             loss = 'sparse_categorical_crossentropy',\n",
    "             metrics = ['accuracy'])\n",
    "\n",
    "model.fit(x_train_reshaped, y_train, epochs=10)"
   ]
  },
  {
   "cell_type": "code",
   "execution_count": 17,
   "id": "d04f9c94",
   "metadata": {},
   "outputs": [
    {
     "name": "stdout",
     "output_type": "stream",
     "text": [
      "10/10 - 0s - loss: 0.3133 - accuracy: 0.9233 - 107ms/epoch - 11ms/step\n",
      "test_loss: 0.3133211135864258 \n",
      "test_accuracy: 0.9233333468437195\n"
     ]
    }
   ],
   "source": [
    "test_loss, test_accuracy = model.evaluate(x_test_reshaped, y_test, verbose = 2)\n",
    "print(\"test_loss: {} \".format(test_loss))\n",
    "print(\"test_accuracy: {}\".format(test_accuracy))"
   ]
  },
  {
   "cell_type": "code",
   "execution_count": 35,
   "id": "d6775d9e",
   "metadata": {},
   "outputs": [
    {
     "name": "stdout",
     "output_type": "stream",
     "text": [
      "model.predict() 결과:  [5.8655119e-01 3.9203295e-01 2.1415604e-02 2.7701649e-08 7.7914946e-09\n",
      " 2.1106901e-07 3.2372784e-09 6.1057657e-09 1.9048263e-09 5.7342525e-08]\n",
      "model이 추론한 가장 가능성이 높은 결과 :  0\n",
      "실제 데이터의 라벨 : 0\n"
     ]
    }
   ],
   "source": [
    "# model.predict()는 model이 입력값을 보고 실제로 추론한 확률분포를 출력함.\n",
    "predicted_result = model.predict(x_test_reshaped) # model이 추론한 확률값. \n",
    "predicted_labels = np.argmax(predicted_result, axis=1)\n",
    "\n",
    "idx=0   # 1번째 x_test\n",
    "print('model.predict() 결과: ', predicted_result[idx])\n",
    "print('model이 추론한 가장 가능성이 높은 결과 : ', predicted_labels[idx])\n",
    "print('실제 데이터의 라벨 :', y_test[idx])"
   ]
  },
  {
   "cell_type": "code",
   "execution_count": 36,
   "id": "f2953e5d",
   "metadata": {},
   "outputs": [
    {
     "data": {
      "image/png": "[encoded data removed]",
      "text/plain": [
       "<Figure size 432x288 with 1 Axes>"
      ]
     },
     "metadata": {
      "needs_background": "light"
     },
     "output_type": "display_data"
    }
   ],
   "source": [
    "plt.imshow(x_test[idx], cmap=plt.cm.binary)\n",
    "plt.show()"
   ]
  },
  {
   "cell_type": "code",
   "execution_count": 37,
   "id": "d385a4e4",
   "metadata": {},
   "outputs": [
    {
     "name": "stdout",
     "output_type": "stream",
     "text": [
      "예측확률분포: [5.0627261e-01 4.7577488e-01 1.7952187e-02 1.5619237e-08 5.9436100e-09\n",
      " 1.6059545e-07 1.6136135e-09 3.6478935e-09 1.1519797e-09 4.2827391e-08]\n",
      "라벨: 1, 예측결과: 0\n"
     ]
    },
    {
     "data": {
      "image/png": "[encoded data removed]",
      "text/plain": [
       "<Figure size 432x288 with 1 Axes>"
      ]
     },
     "metadata": {
      "needs_background": "light"
     },
     "output_type": "display_data"
    },
    {
     "name": "stdout",
     "output_type": "stream",
     "text": [
      "예측확률분포: [5.0658792e-01 4.7639298e-01 1.7018877e-02 1.5275193e-08 5.9789875e-09\n",
      " 1.6563087e-07 1.6091152e-09 3.7263495e-09 1.1675266e-09 4.3454261e-08]\n",
      "라벨: 1, 예측결과: 0\n"
     ]
    },
    {
     "data": {
      "image/png": "[encoded data removed]",
      "text/plain": [
       "<Figure size 432x288 with 1 Axes>"
      ]
     },
     "metadata": {
      "needs_background": "light"
     },
     "output_type": "display_data"
    },
    {
     "name": "stdout",
     "output_type": "stream",
     "text": [
      "예측확률분포: [2.7735132e-01 4.6096897e-01 2.6167899e-01 3.3268336e-07 9.4470725e-09\n",
      " 2.3009825e-07 7.2516162e-09 1.1776237e-08 4.1861843e-09 2.2578271e-07]\n",
      "라벨: 0, 예측결과: 1\n"
     ]
    },
    {
     "data": {
      "image/png": "[encoded data removed]",
      "text/plain": [
       "<Figure size 432x288 with 1 Axes>"
      ]
     },
     "metadata": {
      "needs_background": "light"
     },
     "output_type": "display_data"
    },
    {
     "name": "stdout",
     "output_type": "stream",
     "text": [
      "예측확률분포: [2.7735132e-01 4.6096897e-01 2.6167899e-01 3.3268336e-07 9.4470725e-09\n",
      " 2.3009825e-07 7.2516162e-09 1.1776237e-08 4.1861843e-09 2.2578271e-07]\n",
      "라벨: 0, 예측결과: 1\n"
     ]
    },
    {
     "data": {
      "image/png": "[encoded data removed]",
      "text/plain": [
       "<Figure size 432x288 with 1 Axes>"
      ]
     },
     "metadata": {
      "needs_background": "light"
     },
     "output_type": "display_data"
    },
    {
     "name": "stdout",
     "output_type": "stream",
     "text": [
      "예측확률분포: [2.7645102e-01 4.8303935e-01 2.4050879e-01 3.2149745e-07 9.5742978e-09\n",
      " 2.4181844e-07 7.1102386e-09 1.1954925e-08 4.2700976e-09 2.2137726e-07]\n",
      "라벨: 0, 예측결과: 1\n"
     ]
    },
    {
     "data": {
      "image/png": "[encoded data removed]",
      "text/plain": [
       "<Figure size 432x288 with 1 Axes>"
      ]
     },
     "metadata": {
      "needs_background": "light"
     },
     "output_type": "display_data"
    }
   ],
   "source": [
    "import random\n",
    "wrong_predict_list=[]\n",
    "for i, _ in enumerate(predicted_labels):\n",
    "    # i번째 test_labels과 y_test이 다른 경우만 모음.\n",
    "    if predicted_labels[i] != y_test[i]:\n",
    "        wrong_predict_list.append(i)\n",
    "        \n",
    "# wrong_predict_list 에서 랜덤하게 5개만 뽑아봅시다.\n",
    "samples = random.choices(population = wrong_predict_list, k=5)\n",
    "\n",
    "for n in samples:\n",
    "    print(\"예측확률분포: \" + str(predicted_result[n]))\n",
    "    print(\"라벨: \" + str(y_test[n])+ \", 예측결과: \" + str(predicted_labels[n]))\n",
    "    plt.imshow(x_test[n], cmap=plt.cm.binary)\n",
    "    plt.show()"
   ]
  },
  {
   "cell_type": "code",
   "execution_count": 39,
   "id": "873cbf50",
   "metadata": {},
   "outputs": [
    {
     "name": "stdout",
     "output_type": "stream",
     "text": [
      "Model: \"sequential_3\"\n",
      "_________________________________________________________________\n",
      " Layer (type)                Output Shape              Param #   \n",
      "=================================================================\n",
      " conv2d_6 (Conv2D)           (None, 26, 26, 16)        448       \n",
      "                                                                 \n",
      " max_pooling2d_6 (MaxPooling  (None, 13, 13, 16)       0         \n",
      " 2D)                                                             \n",
      "                                                                 \n",
      " conv2d_7 (Conv2D)           (None, 11, 11, 32)        4640      \n",
      "                                                                 \n",
      " max_pooling2d_7 (MaxPooling  (None, 5, 5, 32)         0         \n",
      " 2D)                                                             \n",
      "                                                                 \n",
      " flatten_3 (Flatten)         (None, 800)               0         \n",
      "                                                                 \n",
      " dense_6 (Dense)             (None, 32)                25632     \n",
      "                                                                 \n",
      " dense_7 (Dense)             (None, 10)                330       \n",
      "                                                                 \n",
      "=================================================================\n",
      "Total params: 31,050\n",
      "Trainable params: 31,050\n",
      "Non-trainable params: 0\n",
      "_________________________________________________________________\n",
      "Epoch 1/10\n",
      "10/10 [==============================] - 0s 4ms/step - loss: 2.0053 - accuracy: 0.3367\n",
      "Epoch 2/10\n",
      "10/10 [==============================] - 0s 4ms/step - loss: 1.3154 - accuracy: 0.3800\n",
      "Epoch 3/10\n",
      "10/10 [==============================] - 0s 4ms/step - loss: 0.9940 - accuracy: 0.5833\n",
      "Epoch 4/10\n",
      "10/10 [==============================] - 0s 4ms/step - loss: 0.9095 - accuracy: 0.6200\n",
      "Epoch 5/10\n",
      "10/10 [==============================] - 0s 4ms/step - loss: 0.8223 - accuracy: 0.6267\n",
      "Epoch 6/10\n",
      "10/10 [==============================] - 0s 4ms/step - loss: 0.7912 - accuracy: 0.6567\n",
      "Epoch 7/10\n",
      "10/10 [==============================] - 0s 4ms/step - loss: 0.7367 - accuracy: 0.7333\n",
      "Epoch 8/10\n",
      "10/10 [==============================] - 0s 4ms/step - loss: 0.6895 - accuracy: 0.7300\n",
      "Epoch 9/10\n",
      "10/10 [==============================] - 0s 4ms/step - loss: 0.6466 - accuracy: 0.7800\n",
      "Epoch 10/10\n",
      "10/10 [==============================] - 0s 4ms/step - loss: 0.5893 - accuracy: 0.7800\n",
      "10/10 - 0s - loss: 0.5692 - accuracy: 0.7933 - 82ms/epoch - 8ms/step\n",
      "test_loss: 0.5692120790481567 \n",
      "test_accuracy: 0.7933333516120911\n"
     ]
    }
   ],
   "source": [
    "n_channel_1=16\n",
    "n_channel_2=32\n",
    "n_dense=32\n",
    "n_train_epoch=10\n",
    "\n",
    "model=keras.models.Sequential()\n",
    "model.add(keras.layers.Conv2D(n_channel_1, (3,3), activation ='relu', input_shape=(28,28,3)))\n",
    "model.add(keras.layers.MaxPool2D(2,2))\n",
    "model.add(keras.layers.Conv2D(n_channel_2, (3,3), activation = 'relu'))\n",
    "model.add(keras.layers.MaxPooling2D((2,2)))\n",
    "model.add(keras.layers.Flatten())\n",
    "model.add(keras.layers.Dense(n_dense, activation = 'relu'))\n",
    "model.add(keras.layers.Dense(10, activation = 'softmax'))\n",
    "\n",
    "model.summary()\n",
    "model.compile(optimizer = 'adam',\n",
    "             loss = 'sparse_categorical_crossentropy',\n",
    "             metrics = ['accuracy'])\n",
    "\n",
    "# 모델 훈련\n",
    "model.fit(x_train_reshaped, y_train, epochs = n_train_epoch)\n",
    "\n",
    "# 모델 시험\n",
    "test_loss, test_accuracy = model.evaluate(x_test_reshaped, y_test, verbose = 2)\n",
    "print(\"test_loss: {} \".format(test_loss))\n",
    "print(\"test_accuracy: {}\".format(test_accuracy))"
   ]
  },
  {
   "cell_type": "code",
   "execution_count": 40,
   "id": "2327949b",
   "metadata": {},
   "outputs": [
    {
     "name": "stdout",
     "output_type": "stream",
     "text": [
      "Model: \"sequential_4\"\n",
      "_________________________________________________________________\n",
      " Layer (type)                Output Shape              Param #   \n",
      "=================================================================\n",
      " conv2d_8 (Conv2D)           (None, 26, 26, 16)        448       \n",
      "                                                                 \n",
      " max_pooling2d_8 (MaxPooling  (None, 13, 13, 16)       0         \n",
      " 2D)                                                             \n",
      "                                                                 \n",
      " conv2d_9 (Conv2D)           (None, 11, 11, 32)        4640      \n",
      "                                                                 \n",
      " max_pooling2d_9 (MaxPooling  (None, 5, 5, 32)         0         \n",
      " 2D)                                                             \n",
      "                                                                 \n",
      " flatten_4 (Flatten)         (None, 800)               0         \n",
      "                                                                 \n",
      " dense_8 (Dense)             (None, 32)                25632     \n",
      "                                                                 \n",
      " dense_9 (Dense)             (None, 10)                330       \n",
      "                                                                 \n",
      "=================================================================\n",
      "Total params: 31,050\n",
      "Trainable params: 31,050\n",
      "Non-trainable params: 0\n",
      "_________________________________________________________________\n",
      "Epoch 1/15\n",
      "10/10 [==============================] - 0s 4ms/step - loss: 1.9367 - accuracy: 0.2633\n",
      "Epoch 2/15\n",
      "10/10 [==============================] - 0s 4ms/step - loss: 1.3603 - accuracy: 0.3667\n",
      "Epoch 3/15\n",
      "10/10 [==============================] - 0s 4ms/step - loss: 1.0473 - accuracy: 0.5267\n",
      "Epoch 4/15\n",
      "10/10 [==============================] - 0s 4ms/step - loss: 0.9392 - accuracy: 0.5567\n",
      "Epoch 5/15\n",
      "10/10 [==============================] - 0s 4ms/step - loss: 0.8807 - accuracy: 0.6367\n",
      "Epoch 6/15\n",
      "10/10 [==============================] - 0s 4ms/step - loss: 0.8041 - accuracy: 0.7267\n",
      "Epoch 7/15\n",
      "10/10 [==============================] - 0s 4ms/step - loss: 0.8039 - accuracy: 0.6800\n",
      "Epoch 8/15\n",
      "10/10 [==============================] - 0s 4ms/step - loss: 0.7957 - accuracy: 0.6233\n",
      "Epoch 9/15\n",
      "10/10 [==============================] - 0s 4ms/step - loss: 0.7332 - accuracy: 0.6633\n",
      "Epoch 10/15\n",
      "10/10 [==============================] - 0s 4ms/step - loss: 0.7255 - accuracy: 0.6967\n",
      "Epoch 11/15\n",
      "10/10 [==============================] - 0s 4ms/step - loss: 0.6694 - accuracy: 0.7100\n",
      "Epoch 12/15\n",
      "10/10 [==============================] - 0s 4ms/step - loss: 0.6432 - accuracy: 0.7800\n",
      "Epoch 13/15\n",
      "10/10 [==============================] - 0s 4ms/step - loss: 0.6037 - accuracy: 0.7733\n",
      "Epoch 14/15\n",
      "10/10 [==============================] - 0s 4ms/step - loss: 0.5620 - accuracy: 0.7933\n",
      "Epoch 15/15\n",
      "10/10 [==============================] - 0s 4ms/step - loss: 0.5710 - accuracy: 0.8000\n",
      "10/10 - 0s - loss: 0.5145 - accuracy: 0.8500 - 83ms/epoch - 8ms/step\n",
      "test_loss: 0.5144849419593811 \n",
      "test_accuracy: 0.8500000238418579\n"
     ]
    }
   ],
   "source": [
    "n_channel_1=16\n",
    "n_channel_2=32\n",
    "n_dense=32\n",
    "n_train_epoch=15\n",
    "\n",
    "model=keras.models.Sequential()\n",
    "model.add(keras.layers.Conv2D(n_channel_1, (3,3), activation ='relu', input_shape=(28,28,3)))\n",
    "model.add(keras.layers.MaxPool2D(2,2))\n",
    "model.add(keras.layers.Conv2D(n_channel_2, (3,3), activation = 'relu'))\n",
    "model.add(keras.layers.MaxPooling2D((2,2)))\n",
    "model.add(keras.layers.Flatten())\n",
    "model.add(keras.layers.Dense(n_dense, activation = 'relu'))\n",
    "model.add(keras.layers.Dense(10, activation = 'softmax'))\n",
    "\n",
    "model.summary()\n",
    "model.compile(optimizer = 'adam',\n",
    "             loss = 'sparse_categorical_crossentropy',\n",
    "             metrics = ['accuracy'])\n",
    "\n",
    "# 모델 훈련\n",
    "model.fit(x_train_reshaped, y_train, epochs = n_train_epoch)\n",
    "\n",
    "# 모델 시험\n",
    "test_loss, test_accuracy = model.evaluate(x_test_reshaped, y_test, verbose = 2)\n",
    "print(\"test_loss: {} \".format(test_loss))\n",
    "print(\"test_accuracy: {}\".format(test_accuracy))"
   ]
  },
  {
   "cell_type": "code",
   "execution_count": 41,
   "id": "5f11766e",
   "metadata": {},
   "outputs": [
    {
     "name": "stdout",
     "output_type": "stream",
     "text": [
      "Model: \"sequential_5\"\n",
      "_________________________________________________________________\n",
      " Layer (type)                Output Shape              Param #   \n",
      "=================================================================\n",
      " conv2d_10 (Conv2D)          (None, 26, 26, 16)        448       \n",
      "                                                                 \n",
      " max_pooling2d_10 (MaxPoolin  (None, 13, 13, 16)       0         \n",
      " g2D)                                                            \n",
      "                                                                 \n",
      " conv2d_11 (Conv2D)          (None, 11, 11, 32)        4640      \n",
      "                                                                 \n",
      " max_pooling2d_11 (MaxPoolin  (None, 5, 5, 32)         0         \n",
      " g2D)                                                            \n",
      "                                                                 \n",
      " flatten_5 (Flatten)         (None, 800)               0         \n",
      "                                                                 \n",
      " dense_10 (Dense)            (None, 64)                51264     \n",
      "                                                                 \n",
      " dense_11 (Dense)            (None, 10)                650       \n",
      "                                                                 \n",
      "=================================================================\n",
      "Total params: 57,002\n",
      "Trainable params: 57,002\n",
      "Non-trainable params: 0\n",
      "_________________________________________________________________\n",
      "Epoch 1/15\n",
      "10/10 [==============================] - 0s 4ms/step - loss: 1.9886 - accuracy: 0.2967\n",
      "Epoch 2/15\n",
      "10/10 [==============================] - 0s 4ms/step - loss: 1.1393 - accuracy: 0.4467\n",
      "Epoch 3/15\n",
      "10/10 [==============================] - 0s 4ms/step - loss: 0.9385 - accuracy: 0.5467\n",
      "Epoch 4/15\n",
      "10/10 [==============================] - 0s 4ms/step - loss: 0.8111 - accuracy: 0.6967\n",
      "Epoch 5/15\n",
      "10/10 [==============================] - 0s 4ms/step - loss: 0.7850 - accuracy: 0.6533\n",
      "Epoch 6/15\n",
      "10/10 [==============================] - 0s 4ms/step - loss: 0.7252 - accuracy: 0.6933\n",
      "Epoch 7/15\n",
      "10/10 [==============================] - 0s 4ms/step - loss: 0.6964 - accuracy: 0.7200\n",
      "Epoch 8/15\n",
      "10/10 [==============================] - 0s 4ms/step - loss: 0.6081 - accuracy: 0.7600\n",
      "Epoch 9/15\n",
      "10/10 [==============================] - 0s 4ms/step - loss: 0.6312 - accuracy: 0.7167\n",
      "Epoch 10/15\n",
      "10/10 [==============================] - 0s 4ms/step - loss: 0.5645 - accuracy: 0.7567\n",
      "Epoch 11/15\n",
      "10/10 [==============================] - 0s 4ms/step - loss: 0.4783 - accuracy: 0.8200\n",
      "Epoch 12/15\n",
      "10/10 [==============================] - 0s 4ms/step - loss: 0.4239 - accuracy: 0.8567\n",
      "Epoch 13/15\n",
      "10/10 [==============================] - 0s 4ms/step - loss: 0.3845 - accuracy: 0.8700\n",
      "Epoch 14/15\n",
      "10/10 [==============================] - 0s 4ms/step - loss: 0.3196 - accuracy: 0.9100\n",
      "Epoch 15/15\n",
      "10/10 [==============================] - 0s 4ms/step - loss: 0.2898 - accuracy: 0.9200\n",
      "10/10 - 0s - loss: 0.2477 - accuracy: 0.9700 - 83ms/epoch - 8ms/step\n",
      "test_loss: 0.2476525902748108 \n",
      "test_accuracy: 0.9700000286102295\n"
     ]
    }
   ],
   "source": [
    "n_channel_1=16\n",
    "n_channel_2=32\n",
    "n_dense=64\n",
    "n_train_epoch=15\n",
    "\n",
    "model=keras.models.Sequential()\n",
    "model.add(keras.layers.Conv2D(n_channel_1, (3,3), activation ='relu', input_shape=(28,28,3)))\n",
    "model.add(keras.layers.MaxPool2D(2,2))\n",
    "model.add(keras.layers.Conv2D(n_channel_2, (3,3), activation = 'relu'))\n",
    "model.add(keras.layers.MaxPooling2D((2,2)))\n",
    "model.add(keras.layers.Flatten())\n",
    "model.add(keras.layers.Dense(n_dense, activation = 'relu'))\n",
    "model.add(keras.layers.Dense(10, activation = 'softmax'))\n",
    "\n",
    "model.summary()\n",
    "model.compile(optimizer = 'adam',\n",
    "             loss = 'sparse_categorical_crossentropy',\n",
    "             metrics = ['accuracy'])\n",
    "\n",
    "# 모델 훈련\n",
    "model.fit(x_train_reshaped, y_train, epochs = n_train_epoch)\n",
    "\n",
    "# 모델 시험\n",
    "test_loss, test_accuracy = model.evaluate(x_test_reshaped, y_test, verbose = 2)\n",
    "print(\"test_loss: {} \".format(test_loss))\n",
    "print(\"test_accuracy: {}\".format(test_accuracy))"
   ]
  },
  {
   "cell_type": "code",
   "execution_count": 43,
   "id": "fa263672",
   "metadata": {},
   "outputs": [
    {
     "name": "stdout",
     "output_type": "stream",
     "text": [
      "Model: \"sequential_7\"\n",
      "_________________________________________________________________\n",
      " Layer (type)                Output Shape              Param #   \n",
      "=================================================================\n",
      " conv2d_14 (Conv2D)          (None, 26, 26, 32)        896       \n",
      "                                                                 \n",
      " max_pooling2d_14 (MaxPoolin  (None, 13, 13, 32)       0         \n",
      " g2D)                                                            \n",
      "                                                                 \n",
      " conv2d_15 (Conv2D)          (None, 11, 11, 64)        18496     \n",
      "                                                                 \n",
      " max_pooling2d_15 (MaxPoolin  (None, 5, 5, 64)         0         \n",
      " g2D)                                                            \n",
      "                                                                 \n",
      " flatten_7 (Flatten)         (None, 1600)              0         \n",
      "                                                                 \n",
      " dense_14 (Dense)            (None, 32)                51232     \n",
      "                                                                 \n",
      " dense_15 (Dense)            (None, 10)                330       \n",
      "                                                                 \n",
      "=================================================================\n",
      "Total params: 70,954\n",
      "Trainable params: 70,954\n",
      "Non-trainable params: 0\n",
      "_________________________________________________________________\n",
      "Epoch 1/15\n",
      "10/10 [==============================] - 0s 6ms/step - loss: 1.5037 - accuracy: 0.3900\n",
      "Epoch 2/15\n",
      "10/10 [==============================] - 0s 6ms/step - loss: 1.0416 - accuracy: 0.4300\n",
      "Epoch 3/15\n",
      "10/10 [==============================] - 0s 6ms/step - loss: 0.9536 - accuracy: 0.5167\n",
      "Epoch 4/15\n",
      "10/10 [==============================] - 0s 6ms/step - loss: 0.8289 - accuracy: 0.7233\n",
      "Epoch 5/15\n",
      "10/10 [==============================] - 0s 6ms/step - loss: 0.7583 - accuracy: 0.6800\n",
      "Epoch 6/15\n",
      "10/10 [==============================] - 0s 6ms/step - loss: 0.7133 - accuracy: 0.7167\n",
      "Epoch 7/15\n",
      "10/10 [==============================] - 0s 6ms/step - loss: 0.6832 - accuracy: 0.7100\n",
      "Epoch 8/15\n",
      "10/10 [==============================] - 0s 6ms/step - loss: 0.6827 - accuracy: 0.7367\n",
      "Epoch 9/15\n",
      "10/10 [==============================] - 0s 6ms/step - loss: 0.5963 - accuracy: 0.7767\n",
      "Epoch 10/15\n",
      "10/10 [==============================] - 0s 6ms/step - loss: 0.5463 - accuracy: 0.8133\n",
      "Epoch 11/15\n",
      "10/10 [==============================] - 0s 6ms/step - loss: 0.4539 - accuracy: 0.8200\n",
      "Epoch 12/15\n",
      "10/10 [==============================] - 0s 6ms/step - loss: 0.4070 - accuracy: 0.8433\n",
      "Epoch 13/15\n",
      "10/10 [==============================] - 0s 6ms/step - loss: 0.4174 - accuracy: 0.8433\n",
      "Epoch 14/15\n",
      "10/10 [==============================] - 0s 6ms/step - loss: 0.3922 - accuracy: 0.8567\n",
      "Epoch 15/15\n",
      "10/10 [==============================] - 0s 6ms/step - loss: 0.2615 - accuracy: 0.9267\n",
      "10/10 - 0s - loss: 0.2326 - accuracy: 0.9600 - 91ms/epoch - 9ms/step\n",
      "test_loss: 0.23262321949005127 \n",
      "test_accuracy: 0.9599999785423279\n"
     ]
    }
   ],
   "source": [
    "n_channel_1=32\n",
    "n_channel_2=64\n",
    "n_dense=32\n",
    "n_train_epoch=15\n",
    "\n",
    "model=keras.models.Sequential()\n",
    "model.add(keras.layers.Conv2D(n_channel_1, (3,3), activation ='relu', input_shape=(28,28,3)))\n",
    "model.add(keras.layers.MaxPool2D(2,2))\n",
    "model.add(keras.layers.Conv2D(n_channel_2, (3,3), activation = 'relu'))\n",
    "model.add(keras.layers.MaxPooling2D((2,2)))\n",
    "model.add(keras.layers.Flatten())\n",
    "model.add(keras.layers.Dense(n_dense, activation = 'relu'))\n",
    "model.add(keras.layers.Dense(10, activation = 'softmax'))\n",
    "\n",
    "model.summary()\n",
    "model.compile(optimizer = 'adam',\n",
    "             loss = 'sparse_categorical_crossentropy',\n",
    "             metrics = ['accuracy'])\n",
    "\n",
    "# 모델 훈련\n",
    "model.fit(x_train_reshaped, y_train, epochs = n_train_epoch)\n",
    "\n",
    "# 모델 시험\n",
    "test_loss, test_accuracy = model.evaluate(x_test_reshaped, y_test, verbose = 2)\n",
    "print(\"test_loss: {} \".format(test_loss))\n",
    "print(\"test_accuracy: {}\".format(test_accuracy))"
   ]
  },
  {
   "cell_type": "code",
   "execution_count": 44,
   "id": "b735453e",
   "metadata": {},
   "outputs": [
    {
     "name": "stdout",
     "output_type": "stream",
     "text": [
      "Model: \"sequential_8\"\n",
      "_________________________________________________________________\n",
      " Layer (type)                Output Shape              Param #   \n",
      "=================================================================\n",
      " conv2d_16 (Conv2D)          (None, 26, 26, 16)        448       \n",
      "                                                                 \n",
      " max_pooling2d_16 (MaxPoolin  (None, 13, 13, 16)       0         \n",
      " g2D)                                                            \n",
      "                                                                 \n",
      " conv2d_17 (Conv2D)          (None, 11, 11, 32)        4640      \n",
      "                                                                 \n",
      " max_pooling2d_17 (MaxPoolin  (None, 5, 5, 32)         0         \n",
      " g2D)                                                            \n",
      "                                                                 \n",
      " flatten_8 (Flatten)         (None, 800)               0         \n",
      "                                                                 \n",
      " dense_16 (Dense)            (None, 128)               102528    \n",
      "                                                                 \n",
      " dense_17 (Dense)            (None, 10)                1290      \n",
      "                                                                 \n",
      "=================================================================\n",
      "Total params: 108,906\n",
      "Trainable params: 108,906\n",
      "Non-trainable params: 0\n",
      "_________________________________________________________________\n",
      "Epoch 1/15\n",
      "10/10 [==============================] - 0s 4ms/step - loss: 1.7384 - accuracy: 0.3667\n",
      "Epoch 2/15\n",
      "10/10 [==============================] - 0s 4ms/step - loss: 0.9704 - accuracy: 0.5900\n",
      "Epoch 3/15\n",
      "10/10 [==============================] - 0s 4ms/step - loss: 0.7656 - accuracy: 0.7300\n",
      "Epoch 4/15\n",
      "10/10 [==============================] - 0s 4ms/step - loss: 0.6891 - accuracy: 0.7367\n",
      "Epoch 5/15\n",
      "10/10 [==============================] - 0s 4ms/step - loss: 0.6399 - accuracy: 0.7333\n",
      "Epoch 6/15\n",
      "10/10 [==============================] - 0s 4ms/step - loss: 0.5389 - accuracy: 0.7967\n",
      "Epoch 7/15\n",
      "10/10 [==============================] - 0s 4ms/step - loss: 0.4507 - accuracy: 0.8200\n",
      "Epoch 8/15\n",
      "10/10 [==============================] - 0s 4ms/step - loss: 0.4623 - accuracy: 0.7800\n",
      "Epoch 9/15\n",
      "10/10 [==============================] - 0s 4ms/step - loss: 0.3708 - accuracy: 0.8700\n",
      "Epoch 10/15\n",
      "10/10 [==============================] - 0s 4ms/step - loss: 0.2797 - accuracy: 0.9333\n",
      "Epoch 11/15\n",
      "10/10 [==============================] - 0s 4ms/step - loss: 0.2322 - accuracy: 0.9367\n",
      "Epoch 12/15\n",
      "10/10 [==============================] - 0s 4ms/step - loss: 0.2067 - accuracy: 0.9467\n",
      "Epoch 13/15\n",
      "10/10 [==============================] - 0s 4ms/step - loss: 0.1877 - accuracy: 0.9400\n",
      "Epoch 14/15\n",
      "10/10 [==============================] - 0s 4ms/step - loss: 0.1495 - accuracy: 0.9767\n",
      "Epoch 15/15\n",
      "10/10 [==============================] - 0s 4ms/step - loss: 0.1481 - accuracy: 0.9433\n",
      "10/10 - 0s - loss: 0.1148 - accuracy: 1.0000 - 85ms/epoch - 8ms/step\n",
      "test_loss: 0.1148405447602272 \n",
      "test_accuracy: 1.0\n"
     ]
    }
   ],
   "source": [
    "n_channel_1=16\n",
    "n_channel_2=32\n",
    "n_dense=128\n",
    "n_train_epoch=15\n",
    "\n",
    "model=keras.models.Sequential()\n",
    "model.add(keras.layers.Conv2D(n_channel_1, (3,3), activation ='relu', input_shape=(28,28,3)))\n",
    "model.add(keras.layers.MaxPool2D(2,2))\n",
    "model.add(keras.layers.Conv2D(n_channel_2, (3,3), activation = 'relu'))\n",
    "model.add(keras.layers.MaxPooling2D((2,2)))\n",
    "model.add(keras.layers.Flatten())\n",
    "model.add(keras.layers.Dense(n_dense, activation = 'relu'))\n",
    "model.add(keras.layers.Dense(10, activation = 'softmax'))\n",
    "\n",
    "model.summary()\n",
    "model.compile(optimizer = 'adam',\n",
    "             loss = 'sparse_categorical_crossentropy',\n",
    "             metrics = ['accuracy'])\n",
    "\n",
    "# 모델 훈련\n",
    "model.fit(x_train_reshaped, y_train, epochs = n_train_epoch)\n",
    "\n"
   ]
  },
  {
   "cell_type": "markdown",
   "id": "45648268",
   "metadata": {},
   "source": [
    "## 제출물 최종"
   ]
  },
  {
   "cell_type": "markdown",
   "id": "58250bc6",
   "metadata": {},
   "source": [
    "### 모델 생성 및 학습 (1/3)"
   ]
  },
  {
   "cell_type": "code",
   "execution_count": 28,
   "id": "81edba11",
   "metadata": {},
   "outputs": [
    {
     "name": "stdout",
     "output_type": "stream",
     "text": [
      "라이브러리 import 완료!\n",
      "100  images to be resized.\n",
      "100  images resized.\n",
      "보 이미지 resize 완료!\n",
      "학습데이터(x_train)의 이미지 개수는 300 입니다.\n",
      "학습데이터(x_train)의 이미지 개수는 300 입니다.\n",
      "x_train shape: (300, 28, 28, 3)\n",
      "y_train shape: (300,)\n",
      "tensorflow version: 2.7.0\n",
      "Model에 추가된 Layer 개수:  7\n",
      "Model: \"sequential_10\"\n",
      "_________________________________________________________________\n",
      " Layer (type)                Output Shape              Param #   \n",
      "=================================================================\n",
      " conv2d_20 (Conv2D)          (None, 26, 26, 16)        448       \n",
      "                                                                 \n",
      " max_pooling2d_20 (MaxPoolin  (None, 13, 13, 16)       0         \n",
      " g2D)                                                            \n",
      "                                                                 \n",
      " conv2d_21 (Conv2D)          (None, 11, 11, 32)        4640      \n",
      "                                                                 \n",
      " max_pooling2d_21 (MaxPoolin  (None, 5, 5, 32)         0         \n",
      " g2D)                                                            \n",
      "                                                                 \n",
      " flatten_10 (Flatten)        (None, 800)               0         \n",
      "                                                                 \n",
      " dense_20 (Dense)            (None, 32)                25632     \n",
      "                                                                 \n",
      " dense_21 (Dense)            (None, 3)                 99        \n",
      "                                                                 \n",
      "=================================================================\n",
      "Total params: 30,819\n",
      "Trainable params: 30,819\n",
      "Non-trainable params: 0\n",
      "_________________________________________________________________\n",
      "Before Reshape - x_train_norm shape: (300, 28, 28, 3)\n",
      "Before Reshape - x_test_norm shape: (300, 28, 28, 3)\n",
      "After Reshape - x_train_reshaped shape: (300, 28, 28, 3)\n",
      "After Reshape - x_test_reshaped shape: (300, 28, 28, 3)\n",
      "훈련을 시작합니다. 결과는 아래와 같습니다.\n",
      "Epoch 1/10\n",
      "10/10 [==============================] - 0s 4ms/step - loss: 1.1025 - accuracy: 0.3233\n",
      "Epoch 2/10\n",
      "10/10 [==============================] - 0s 4ms/step - loss: 1.0641 - accuracy: 0.5533\n",
      "Epoch 3/10\n",
      "10/10 [==============================] - 0s 4ms/step - loss: 1.0060 - accuracy: 0.6267\n",
      "Epoch 4/10\n",
      "10/10 [==============================] - 0s 4ms/step - loss: 0.9026 - accuracy: 0.7567\n",
      "Epoch 5/10\n",
      "10/10 [==============================] - 0s 4ms/step - loss: 0.7520 - accuracy: 0.7933\n",
      "Epoch 6/10\n",
      "10/10 [==============================] - 0s 4ms/step - loss: 0.6611 - accuracy: 0.7633\n",
      "Epoch 7/10\n",
      "10/10 [==============================] - 0s 4ms/step - loss: 0.5731 - accuracy: 0.8300\n",
      "Epoch 8/10\n",
      "10/10 [==============================] - 0s 4ms/step - loss: 0.4768 - accuracy: 0.8300\n",
      "Epoch 9/10\n",
      "10/10 [==============================] - 0s 4ms/step - loss: 0.3962 - accuracy: 0.8733\n",
      "Epoch 10/10\n",
      "10/10 [==============================] - 0s 4ms/step - loss: 0.3569 - accuracy: 0.8567\n",
      "평가를 시작합니다. 결과는 아래와 같습니다.\n",
      "10/10 - 0s - loss: 0.3445 - accuracy: 0.8600 - 95ms/epoch - 9ms/step\n",
      "test_loss: 0.34445151686668396 \n",
      "test_accuracy: 0.8600000143051147\n"
     ]
    }
   ],
   "source": [
    "### 패키지 가져오기.\n",
    "from PIL import Image\n",
    "import glob\n",
    "import numpy as np\n",
    "print(\"라이브러리 import 완료!\")\n",
    "\n",
    "### 이미지 리사이즈. 아래 경로를 수동으로 바꿔가며 수행. \n",
    "image_dir_path = r\"C:\\Users\\user\\Google 드라이브\\AIFFEL\\Day7\\Cham_HC\\paper\"\n",
    "\n",
    "def resize_images(img_path):\n",
    "    images = glob.glob(img_path + \"\\*.jpg\")\n",
    "    \n",
    "    print(len(images), \" images to be resized.\")\n",
    "    \n",
    "    # 파일마다 모두 28x28 사이즈로 바꾸어 저장합니다.\n",
    "    target_size=(28,28)\n",
    "    for img in images:\n",
    "        old_img = Image.open(img)\n",
    "        new_img = old_img.resize(target_size, Image.ANTIALIAS)\n",
    "        new_img.save(img, \"JPEG\")\n",
    "        \n",
    "    print(len(images), \" images resized.\")\n",
    "    \n",
    "\n",
    "resize_images(image_dir_path)\n",
    "\n",
    "print(\"보 이미지 resize 완료!\")\n",
    "\n",
    "\n",
    "### 데이터에 이미지 로딩\n",
    "def load_data(img_path, number_of_data=300): # 가위바위보 이미지 개수 총합에 주의.\n",
    "    # 가위 : 0, 바위 : 1, 보 : 2\n",
    "    img_size=28\n",
    "    color = 3\n",
    "    # 이미지 데이터와 라벨(가위0, 바위1, 보2) 데이터를 담을 행렬 영역 생성\n",
    "    imgs = np.zeros(number_of_data*img_size*img_size*color, dtype = np.int32).reshape(number_of_data, img_size, img_size, color)\n",
    "    #imgs=np.zeros(number_of_data*img_size*img_size*color,dtype=np.int32).reshape(number_of_data,img_size,img_size,color)\n",
    "    labels = np.zeros(number_of_data, dtype = np.int32)\n",
    "    \n",
    "    idx = 0\n",
    "\n",
    "    \n",
    "    for file in glob.iglob(img_path+'/scissor/*.jpg'):\n",
    "        img = np.array(Image.open(file),dtype=np.int32)\n",
    "        imgs[idx,:,:,:]=img    # 데이터 영역에 이미지 행렬을 복사\n",
    "        labels[idx]=0   # 가위 : 0\n",
    "        idx=idx+1\n",
    "\n",
    "    for file in glob.iglob(img_path+'/rock/*.jpg'):\n",
    "        img = np.array(Image.open(file),dtype=np.int32)\n",
    "        imgs[idx,:,:,:]=img    # 데이터 영역에 이미지 행렬을 복사\n",
    "        labels[idx]=1   # 바위 : 1\n",
    "        idx=idx+1  \n",
    "    \n",
    "    for file in glob.iglob(img_path+'/paper/*.jpg'):\n",
    "        img = np.array(Image.open(file),dtype=np.int32)\n",
    "        imgs[idx,:,:,:]=img    # 데이터 영역에 이미지 행렬을 복사\n",
    "        labels[idx]=2   # 보 : 2\n",
    "        idx=idx+1\n",
    "        \n",
    "    print(\"학습데이터(x_train)의 이미지 개수는\", idx,\"입니다.\")\n",
    "    return imgs, labels\n",
    "\n",
    "image_dir_path = r\"C:\\Users\\user\\Google 드라이브\\AIFFEL\\Day7\\Cham_HC\"\n",
    "(x_train, y_train)=load_data(image_dir_path)\n",
    "#(x_test, y_test)=load_data(image_dir_path)\n",
    "x_train_norm = x_train/255.0  # 입력은 0~1 사이의 값으로 정규화\n",
    "#x_test_norm = x_test/255.0\n",
    "\n",
    "print(\"x_train shape: {}\".format(x_train.shape))\n",
    "print(\"y_train shape: {}\".format(y_train.shape))\n",
    "\n",
    "\n",
    "### 추가 패키지 로드\n",
    "import tensorflow as tf\n",
    "from tensorflow import keras\n",
    "\n",
    "import numpy as np\n",
    "import matplotlib.pyplot as plt\n",
    "import os\n",
    "\n",
    "\n",
    "print(\"tensorflow version:\", tf.__version__)\n",
    "\n",
    "### 모델 생성 및 설정\n",
    "model = keras.models.Sequential()\n",
    "model.add(keras.layers.Conv2D(16, (3,3), activation = 'relu', input_shape = (28, 28, 3)))\n",
    "# 16: 얼마나 다양한 이미지의 특징을 살펴볼 것인가? 16개를 보겠다.\n",
    "#input_shape: 입력 이미지의 형태. \n",
    "model.add(keras.layers.MaxPool2D(2,2))\n",
    "model.add(keras.layers.Conv2D(32, (3,3), activation = 'relu'))\n",
    "# 32: 얼마나 다양한 이미지의 특징을 살펴볼 것인가? 32개를 보겠다.\n",
    "model.add(keras.layers.MaxPooling2D((2,2)))\n",
    "model.add(keras.layers.Flatten())\n",
    "model.add(keras.layers.Dense(32, activation= 'relu'))\n",
    "# Dense 첫번째 숫자: 분류기에 사용되는 뉴런의 숫자. 값이 클수록 복잡한 분류기를 만들 수 있음. \n",
    "# 알파벳의 경우 대문자 26개, 소문자 26개로 총 52개를 분류해야 하므로 32보다 큰 64, 128등을 고려.\n",
    "model.add(keras.layers.Dense(3, activation='softmax'))\n",
    "# Dense 마지막 숫자: 결과적으로 분류해내야 하는 클래스의 수. 숫자는 10, 알파벳은 52.\n",
    "print('Model에 추가된 Layer 개수: ', len(model.layers))\n",
    "\n",
    "### 모델 개요\n",
    "model.summary()\n",
    "\n",
    "### 이미지 reshape. \n",
    "print(\"Before Reshape - x_train_norm shape: {}\". format(x_train_norm.shape))\n",
    "#print(\"Before Reshape - x_test_norm shape: {}\". format(x_test_norm.shape))\n",
    "\n",
    "x_train_reshaped = x_train_norm.reshape(-1, 28, 28, 3)  # 마지막 3은 픽셀의 차원(RGB)\n",
    "# 데이터갯수에 -1을 쓰면 reshape시 자동계산됩니다.\n",
    "#x_test_reshaped = x_test_norm.reshape(-1, 28, 28, 3)\n",
    "\n",
    "print(\"After Reshape - x_train_reshaped shape: {}\". format(x_train_reshaped.shape))\n",
    "#print(\"After Reshape - x_test_reshaped shape: {}\".format(x_test_reshaped.shape))\n",
    "\n",
    "### 모델 훈련 및 결과\n",
    "model.compile(optimizer= 'adam',\n",
    "             loss = 'sparse_categorical_crossentropy',\n",
    "             metrics = ['accuracy'])\n",
    "print(\"훈련을 시작합니다. 결과는 아래와 같습니다.\")\n",
    "model.fit(x_train_reshaped, y_train, epochs=10)\n",
    "\n"
   ]
  },
  {
   "cell_type": "markdown",
   "id": "1bc087fe",
   "metadata": {},
   "source": [
    "### 시험 평가 (2/3)"
   ]
  },
  {
   "cell_type": "code",
   "execution_count": 39,
   "id": "5b080ec9",
   "metadata": {},
   "outputs": [
    {
     "name": "stdout",
     "output_type": "stream",
     "text": [
      "학습데이터(x_train)의 이미지 개수는 300 입니다.\n",
      "Before Reshape - x_test_norm shape: (300, 28, 28, 3)\n",
      "After Reshape - x_test_reshaped shape: (300, 28, 28, 3)\n",
      "10/10 - 0s - loss: 1.7633 - accuracy: 0.3333 - 83ms/epoch - 8ms/step\n",
      "test_loss: 1.763250470161438 \n",
      "test_accuracy: 0.3333333432674408\n",
      "model.predict() 결과:  [6.9554202e-02 7.9893756e-01 1.3146570e-01 2.2542181e-05 1.1246952e-06\n",
      " 3.9949118e-06 8.9596078e-06 1.6519406e-06 2.9429523e-07 3.8691519e-06]\n",
      "model이 추론한 가장 가능성이 높은 결과 :  1\n",
      "실제 데이터의 라벨 : 0\n",
      "예측확률분포: [5.9344567e-02 8.0046743e-01 1.4015113e-01 1.9630781e-05 9.4345353e-07\n",
      " 3.4581126e-06 7.9312804e-06 1.4332951e-06 2.5042172e-07 3.3177087e-06]\n",
      "라벨: 0, 예측결과: 1\n"
     ]
    },
    {
     "data": {
      "image/png": "[encoded data removed]",
      "text/plain": [
       "<Figure size 432x288 with 1 Axes>"
      ]
     },
     "metadata": {
      "needs_background": "light"
     },
     "output_type": "display_data"
    },
    {
     "name": "stdout",
     "output_type": "stream",
     "text": [
      "예측확률분포: [5.9392724e-02 8.5671324e-01 8.3853081e-02 2.1490461e-05 1.1072206e-06\n",
      " 4.0949017e-06 8.4784679e-06 1.5475906e-06 2.7116326e-07 3.9653132e-06]\n",
      "라벨: 2, 예측결과: 1\n"
     ]
    },
    {
     "data": {
      "image/png": "[encoded data removed]",
      "text/plain": [
       "<Figure size 432x288 with 1 Axes>"
      ]
     },
     "metadata": {
      "needs_background": "light"
     },
     "output_type": "display_data"
    },
    {
     "name": "stdout",
     "output_type": "stream",
     "text": [
      "예측확률분포: [6.8834357e-02 8.1587881e-01 1.1523871e-01 2.5592997e-05 1.3488960e-06\n",
      " 4.4711387e-06 1.0031877e-05 1.8805850e-06 3.4130485e-07 4.4951844e-06]\n",
      "라벨: 2, 예측결과: 1\n"
     ]
    },
    {
     "data": {
      "image/png": "[encoded data removed]",
      "text/plain": [
       "<Figure size 432x288 with 1 Axes>"
      ]
     },
     "metadata": {
      "needs_background": "light"
     },
     "output_type": "display_data"
    },
    {
     "name": "stdout",
     "output_type": "stream",
     "text": [
      "예측확률분포: [5.5394720e-02 8.0757302e-01 1.3699418e-01 2.0395153e-05 9.8636031e-07\n",
      " 3.4660002e-06 8.2189208e-06 1.4405209e-06 2.5232683e-07 3.3120466e-06]\n",
      "라벨: 0, 예측결과: 1\n"
     ]
    },
    {
     "data": {
      "image/png": "[encoded data removed]",
      "text/plain": [
       "<Figure size 432x288 with 1 Axes>"
      ]
     },
     "metadata": {
      "needs_background": "light"
     },
     "output_type": "display_data"
    },
    {
     "name": "stdout",
     "output_type": "stream",
     "text": [
      "예측확률분포: [6.7987442e-02 8.3110189e-01 1.0086829e-01 2.1948894e-05 1.1367455e-06\n",
      " 4.2835568e-06 8.9694558e-06 1.6537563e-06 2.8601809e-07 4.1745866e-06]\n",
      "라벨: 2, 예측결과: 1\n"
     ]
    },
    {
     "data": {
      "image/png": "[encoded data removed]",
      "text/plain": [
       "<Figure size 432x288 with 1 Axes>"
      ]
     },
     "metadata": {
      "needs_background": "light"
     },
     "output_type": "display_data"
    }
   ],
   "source": [
    "### 테스트 데이터 로딩. \n",
    "testimage_dir_path = r\"C:\\Users\\user\\Google 드라이브\\AIFFEL\\Day7\\NJM\"\n",
    "(x_test, y_test)=load_data(testimage_dir_path)\n",
    "x_test_norm = x_test/255.0\n",
    "#print(\"Before Reshape - x_train_norm shape: {}\". format(x_train_norm.shape))\n",
    "print(\"Before Reshape - x_test_norm shape: {}\". format(x_test_norm.shape))\n",
    "\n",
    "#x_train_reshaped = x_train_norm.reshape(-1, 28, 28, 3)  # 마지막 3은 픽셀의 차원(RGB)\n",
    "# 데이터갯수에 -1을 쓰면 reshape시 자동계산됩니다.\n",
    "x_test_reshaped = x_test_norm.reshape(-1, 28, 28, 3)\n",
    "\n",
    "#print(\"After Reshape - x_train_reshaped shape: {}\". format(x_train_reshaped.shape))\n",
    "print(\"After Reshape - x_test_reshaped shape: {}\".format(x_test_reshaped.shape))\n",
    "\n",
    "### 모델 시험평가\n",
    "test_loss, test_accuracy = model.evaluate(x_test_reshaped, y_test, verbose = 2)\n",
    "print(\"test_loss: {} \".format(test_loss))\n",
    "print(\"test_accuracy: {}\".format(test_accuracy))\n",
    "\n",
    "### 평가 결과 피드백\n",
    "# model.predict()는 model이 입력값을 보고 실제로 추론한 확률분포를 출력함.\n",
    "predicted_result = model.predict(x_test_reshaped) # model이 추론한 확률값. \n",
    "predicted_labels = np.argmax(predicted_result, axis=1)\n",
    "\n",
    "idx=0   # 1번째 x_test\n",
    "print('model.predict() 결과: ', predicted_result[idx])\n",
    "print('model이 추론한 가장 가능성이 높은 결과 : ', predicted_labels[idx])\n",
    "print('실제 데이터의 라벨 :', y_test[idx])\n",
    "\n",
    "### 오류 확인\n",
    "import random\n",
    "wrong_predict_list=[]\n",
    "for i, _ in enumerate(predicted_labels):\n",
    "    # i번째 test_labels과 y_test이 다른 경우만 모음.\n",
    "    if predicted_labels[i] != y_test[i]:\n",
    "        wrong_predict_list.append(i)\n",
    "        \n",
    "# wrong_predict_list 에서 랜덤하게 5개만 뽑아봅시다.\n",
    "samples = random.choices(population = wrong_predict_list, k=5)\n",
    "\n",
    "for n in samples:\n",
    "    print(\"예측확률분포: \" + str(predicted_result[n]))\n",
    "    print(\"라벨: \" + str(y_test[n])+ \", 예측결과: \" + str(predicted_labels[n]))\n",
    "    plt.imshow(x_test[n], cmap=plt.cm.binary)\n",
    "    plt.show()"
   ]
  },
  {
   "cell_type": "markdown",
   "id": "23341c60",
   "metadata": {},
   "source": [
    "### 하이퍼 파라미터 변경 및 최적화 (3/3)"
   ]
  },
  {
   "cell_type": "code",
   "execution_count": 40,
   "id": "2cabdc34",
   "metadata": {},
   "outputs": [
    {
     "name": "stdout",
     "output_type": "stream",
     "text": [
      "Model: \"sequential_17\"\n",
      "_________________________________________________________________\n",
      " Layer (type)                Output Shape              Param #   \n",
      "=================================================================\n",
      " conv2d_34 (Conv2D)          (None, 26, 26, 16)        448       \n",
      "                                                                 \n",
      " max_pooling2d_34 (MaxPoolin  (None, 13, 13, 16)       0         \n",
      " g2D)                                                            \n",
      "                                                                 \n",
      " conv2d_35 (Conv2D)          (None, 11, 11, 32)        4640      \n",
      "                                                                 \n",
      " max_pooling2d_35 (MaxPoolin  (None, 5, 5, 32)         0         \n",
      " g2D)                                                            \n",
      "                                                                 \n",
      " flatten_17 (Flatten)        (None, 800)               0         \n",
      "                                                                 \n",
      " dense_34 (Dense)            (None, 32)                25632     \n",
      "                                                                 \n",
      " dense_35 (Dense)            (None, 10)                330       \n",
      "                                                                 \n",
      "=================================================================\n",
      "Total params: 31,050\n",
      "Trainable params: 31,050\n",
      "Non-trainable params: 0\n",
      "_________________________________________________________________\n",
      "Epoch 1/10\n",
      "10/10 [==============================] - 0s 4ms/step - loss: 2.0647 - accuracy: 0.2433\n",
      "Epoch 2/10\n",
      "10/10 [==============================] - 0s 4ms/step - loss: 1.3529 - accuracy: 0.4333\n",
      "Epoch 3/10\n",
      "10/10 [==============================] - 0s 4ms/step - loss: 1.0039 - accuracy: 0.5300\n",
      "Epoch 4/10\n",
      "10/10 [==============================] - 0s 4ms/step - loss: 0.9314 - accuracy: 0.5667\n",
      "Epoch 5/10\n",
      "10/10 [==============================] - 0s 5ms/step - loss: 0.8558 - accuracy: 0.6267\n",
      "Epoch 6/10\n",
      "10/10 [==============================] - 0s 4ms/step - loss: 0.8180 - accuracy: 0.6633\n",
      "Epoch 7/10\n",
      "10/10 [==============================] - 0s 4ms/step - loss: 0.7641 - accuracy: 0.7233\n",
      "Epoch 8/10\n",
      "10/10 [==============================] - 0s 4ms/step - loss: 0.7236 - accuracy: 0.7267\n",
      "Epoch 9/10\n",
      "10/10 [==============================] - 0s 4ms/step - loss: 0.6727 - accuracy: 0.7733\n",
      "Epoch 10/10\n",
      "10/10 [==============================] - 0s 4ms/step - loss: 0.6542 - accuracy: 0.7700\n",
      "10/10 - 0s - loss: 1.3833 - accuracy: 0.3333 - 88ms/epoch - 9ms/step\n",
      "test_loss: 1.3832887411117554 \n",
      "test_accuracy: 0.3333333432674408\n"
     ]
    }
   ],
   "source": [
    "### Try number: 1\n",
    "n_channel_1=16\n",
    "n_channel_2=32\n",
    "n_dense=32\n",
    "n_train_epoch=10\n",
    "\n",
    "model=keras.models.Sequential()\n",
    "model.add(keras.layers.Conv2D(n_channel_1, (3,3), activation ='relu', input_shape=(28,28,3)))\n",
    "model.add(keras.layers.MaxPool2D(2,2))\n",
    "model.add(keras.layers.Conv2D(n_channel_2, (3,3), activation = 'relu'))\n",
    "model.add(keras.layers.MaxPooling2D((2,2)))\n",
    "model.add(keras.layers.Flatten())\n",
    "model.add(keras.layers.Dense(n_dense, activation = 'relu'))\n",
    "model.add(keras.layers.Dense(10, activation = 'softmax'))\n",
    "\n",
    "model.summary()\n",
    "model.compile(optimizer = 'adam',\n",
    "             loss = 'sparse_categorical_crossentropy',\n",
    "             metrics = ['accuracy'])\n",
    "\n",
    "# 모델 훈련\n",
    "model.fit(x_train_reshaped, y_train, epochs = n_train_epoch)\n",
    "\n",
    "# 모델 시험\n",
    "test_loss, test_accuracy = model.evaluate(x_test_reshaped, y_test, verbose = 2)\n",
    "print(\"test_loss: {} \".format(test_loss))\n",
    "print(\"test_accuracy: {}\".format(test_accuracy))"
   ]
  },
  {
   "cell_type": "code",
   "execution_count": 41,
   "id": "2af9c752",
   "metadata": {},
   "outputs": [
    {
     "name": "stdout",
     "output_type": "stream",
     "text": [
      "Model: \"sequential_18\"\n",
      "_________________________________________________________________\n",
      " Layer (type)                Output Shape              Param #   \n",
      "=================================================================\n",
      " conv2d_36 (Conv2D)          (None, 26, 26, 16)        448       \n",
      "                                                                 \n",
      " max_pooling2d_36 (MaxPoolin  (None, 13, 13, 16)       0         \n",
      " g2D)                                                            \n",
      "                                                                 \n",
      " conv2d_37 (Conv2D)          (None, 11, 11, 32)        4640      \n",
      "                                                                 \n",
      " max_pooling2d_37 (MaxPoolin  (None, 5, 5, 32)         0         \n",
      " g2D)                                                            \n",
      "                                                                 \n",
      " flatten_18 (Flatten)        (None, 800)               0         \n",
      "                                                                 \n",
      " dense_36 (Dense)            (None, 32)                25632     \n",
      "                                                                 \n",
      " dense_37 (Dense)            (None, 10)                330       \n",
      "                                                                 \n",
      "=================================================================\n",
      "Total params: 31,050\n",
      "Trainable params: 31,050\n",
      "Non-trainable params: 0\n",
      "_________________________________________________________________\n",
      "Epoch 1/15\n",
      "10/10 [==============================] - 0s 4ms/step - loss: 1.4933 - accuracy: 0.2767\n",
      "Epoch 2/15\n",
      "10/10 [==============================] - 0s 4ms/step - loss: 1.1194 - accuracy: 0.4000\n",
      "Epoch 3/15\n",
      "10/10 [==============================] - 0s 4ms/step - loss: 1.0083 - accuracy: 0.5300\n",
      "Epoch 4/15\n",
      "10/10 [==============================] - 0s 4ms/step - loss: 0.9454 - accuracy: 0.5700\n",
      "Epoch 5/15\n",
      "10/10 [==============================] - 0s 4ms/step - loss: 0.8892 - accuracy: 0.5833\n",
      "Epoch 6/15\n",
      "10/10 [==============================] - 0s 4ms/step - loss: 0.8092 - accuracy: 0.6967\n",
      "Epoch 7/15\n",
      "10/10 [==============================] - 0s 4ms/step - loss: 0.7974 - accuracy: 0.7033\n",
      "Epoch 8/15\n",
      "10/10 [==============================] - 0s 4ms/step - loss: 0.8335 - accuracy: 0.6267\n",
      "Epoch 9/15\n",
      "10/10 [==============================] - 0s 4ms/step - loss: 0.7150 - accuracy: 0.7233\n",
      "Epoch 10/15\n",
      "10/10 [==============================] - 0s 4ms/step - loss: 0.6436 - accuracy: 0.7733\n",
      "Epoch 11/15\n",
      "10/10 [==============================] - 0s 4ms/step - loss: 0.6093 - accuracy: 0.7733\n",
      "Epoch 12/15\n",
      "10/10 [==============================] - 0s 4ms/step - loss: 0.5764 - accuracy: 0.7833\n",
      "Epoch 13/15\n",
      "10/10 [==============================] - 0s 4ms/step - loss: 0.5351 - accuracy: 0.8167\n",
      "Epoch 14/15\n",
      "10/10 [==============================] - 0s 4ms/step - loss: 0.5107 - accuracy: 0.8300\n",
      "Epoch 15/15\n",
      "10/10 [==============================] - 0s 4ms/step - loss: 0.4719 - accuracy: 0.8333\n",
      "10/10 - 0s - loss: 1.3071 - accuracy: 0.3267 - 82ms/epoch - 8ms/step\n",
      "test_loss: 1.307126760482788 \n",
      "test_accuracy: 0.3266666531562805\n"
     ]
    }
   ],
   "source": [
    "### Try number: 2\n",
    "n_channel_1=16\n",
    "n_channel_2=32\n",
    "n_dense=32\n",
    "n_train_epoch=15\n",
    "\n",
    "model=keras.models.Sequential()\n",
    "model.add(keras.layers.Conv2D(n_channel_1, (3,3), activation ='relu', input_shape=(28,28,3)))\n",
    "model.add(keras.layers.MaxPool2D(2,2))\n",
    "model.add(keras.layers.Conv2D(n_channel_2, (3,3), activation = 'relu'))\n",
    "model.add(keras.layers.MaxPooling2D((2,2)))\n",
    "model.add(keras.layers.Flatten())\n",
    "model.add(keras.layers.Dense(n_dense, activation = 'relu'))\n",
    "model.add(keras.layers.Dense(10, activation = 'softmax'))\n",
    "\n",
    "model.summary()\n",
    "model.compile(optimizer = 'adam',\n",
    "             loss = 'sparse_categorical_crossentropy',\n",
    "             metrics = ['accuracy'])\n",
    "\n",
    "# 모델 훈련\n",
    "model.fit(x_train_reshaped, y_train, epochs = n_train_epoch)\n",
    "\n",
    "# 모델 시험\n",
    "test_loss, test_accuracy = model.evaluate(x_test_reshaped, y_test, verbose = 2)\n",
    "print(\"test_loss: {} \".format(test_loss))\n",
    "print(\"test_accuracy: {}\".format(test_accuracy))"
   ]
  },
  {
   "cell_type": "code",
   "execution_count": 42,
   "id": "eb87d1b5",
   "metadata": {},
   "outputs": [
    {
     "name": "stdout",
     "output_type": "stream",
     "text": [
      "Model: \"sequential_19\"\n",
      "_________________________________________________________________\n",
      " Layer (type)                Output Shape              Param #   \n",
      "=================================================================\n",
      " conv2d_38 (Conv2D)          (None, 26, 26, 16)        448       \n",
      "                                                                 \n",
      " max_pooling2d_38 (MaxPoolin  (None, 13, 13, 16)       0         \n",
      " g2D)                                                            \n",
      "                                                                 \n",
      " conv2d_39 (Conv2D)          (None, 11, 11, 32)        4640      \n",
      "                                                                 \n",
      " max_pooling2d_39 (MaxPoolin  (None, 5, 5, 32)         0         \n",
      " g2D)                                                            \n",
      "                                                                 \n",
      " flatten_19 (Flatten)        (None, 800)               0         \n",
      "                                                                 \n",
      " dense_38 (Dense)            (None, 64)                51264     \n",
      "                                                                 \n",
      " dense_39 (Dense)            (None, 10)                650       \n",
      "                                                                 \n",
      "=================================================================\n",
      "Total params: 57,002\n",
      "Trainable params: 57,002\n",
      "Non-trainable params: 0\n",
      "_________________________________________________________________\n",
      "Epoch 1/15\n",
      "10/10 [==============================] - 0s 4ms/step - loss: 1.5721 - accuracy: 0.3400\n",
      "Epoch 2/15\n",
      "10/10 [==============================] - 0s 4ms/step - loss: 1.0480 - accuracy: 0.4433\n",
      "Epoch 3/15\n",
      "10/10 [==============================] - 0s 4ms/step - loss: 0.9613 - accuracy: 0.5467\n",
      "Epoch 4/15\n",
      "10/10 [==============================] - 0s 4ms/step - loss: 0.8611 - accuracy: 0.6267\n",
      "Epoch 5/15\n",
      "10/10 [==============================] - 0s 4ms/step - loss: 0.8002 - accuracy: 0.6900\n",
      "Epoch 6/15\n",
      "10/10 [==============================] - 0s 4ms/step - loss: 0.7030 - accuracy: 0.7367\n",
      "Epoch 7/15\n",
      "10/10 [==============================] - 0s 4ms/step - loss: 0.6179 - accuracy: 0.7567\n",
      "Epoch 8/15\n",
      "10/10 [==============================] - 0s 4ms/step - loss: 0.5826 - accuracy: 0.7800\n",
      "Epoch 9/15\n",
      "10/10 [==============================] - 0s 4ms/step - loss: 0.5997 - accuracy: 0.7533\n",
      "Epoch 10/15\n",
      "10/10 [==============================] - 0s 4ms/step - loss: 0.5986 - accuracy: 0.7467\n",
      "Epoch 11/15\n",
      "10/10 [==============================] - 0s 4ms/step - loss: 0.4751 - accuracy: 0.8367\n",
      "Epoch 12/15\n",
      "10/10 [==============================] - 0s 4ms/step - loss: 0.4193 - accuracy: 0.8400\n",
      "Epoch 13/15\n",
      "10/10 [==============================] - 0s 4ms/step - loss: 0.3561 - accuracy: 0.8833\n",
      "Epoch 14/15\n",
      "10/10 [==============================] - 0s 4ms/step - loss: 0.3184 - accuracy: 0.9033\n",
      "Epoch 15/15\n",
      "10/10 [==============================] - 0s 4ms/step - loss: 0.2781 - accuracy: 0.9367\n",
      "10/10 - 0s - loss: 1.6796 - accuracy: 0.3333 - 82ms/epoch - 8ms/step\n",
      "test_loss: 1.679624080657959 \n",
      "test_accuracy: 0.3333333432674408\n"
     ]
    }
   ],
   "source": [
    "# Try number : 3\n",
    "n_channel_1=16\n",
    "n_channel_2=32\n",
    "n_dense=64\n",
    "n_train_epoch=15\n",
    "\n",
    "model=keras.models.Sequential()\n",
    "model.add(keras.layers.Conv2D(n_channel_1, (3,3), activation ='relu', input_shape=(28,28,3)))\n",
    "model.add(keras.layers.MaxPool2D(2,2))\n",
    "model.add(keras.layers.Conv2D(n_channel_2, (3,3), activation = 'relu'))\n",
    "model.add(keras.layers.MaxPooling2D((2,2)))\n",
    "model.add(keras.layers.Flatten())\n",
    "model.add(keras.layers.Dense(n_dense, activation = 'relu'))\n",
    "model.add(keras.layers.Dense(10, activation = 'softmax'))\n",
    "\n",
    "model.summary()\n",
    "model.compile(optimizer = 'adam',\n",
    "             loss = 'sparse_categorical_crossentropy',\n",
    "             metrics = ['accuracy'])\n",
    "\n",
    "# 모델 훈련\n",
    "model.fit(x_train_reshaped, y_train, epochs = n_train_epoch)\n",
    "\n",
    "# 모델 시험\n",
    "test_loss, test_accuracy = model.evaluate(x_test_reshaped, y_test, verbose = 2)\n",
    "print(\"test_loss: {} \".format(test_loss))\n",
    "print(\"test_accuracy: {}\".format(test_accuracy))"
   ]
  },
  {
   "cell_type": "code",
   "execution_count": 43,
   "id": "aa814278",
   "metadata": {},
   "outputs": [
    {
     "name": "stdout",
     "output_type": "stream",
     "text": [
      "Model: \"sequential_20\"\n",
      "_________________________________________________________________\n",
      " Layer (type)                Output Shape              Param #   \n",
      "=================================================================\n",
      " conv2d_40 (Conv2D)          (None, 26, 26, 32)        896       \n",
      "                                                                 \n",
      " max_pooling2d_40 (MaxPoolin  (None, 13, 13, 32)       0         \n",
      " g2D)                                                            \n",
      "                                                                 \n",
      " conv2d_41 (Conv2D)          (None, 11, 11, 64)        18496     \n",
      "                                                                 \n",
      " max_pooling2d_41 (MaxPoolin  (None, 5, 5, 64)         0         \n",
      " g2D)                                                            \n",
      "                                                                 \n",
      " flatten_20 (Flatten)        (None, 1600)              0         \n",
      "                                                                 \n",
      " dense_40 (Dense)            (None, 32)                51232     \n",
      "                                                                 \n",
      " dense_41 (Dense)            (None, 10)                330       \n",
      "                                                                 \n",
      "=================================================================\n",
      "Total params: 70,954\n",
      "Trainable params: 70,954\n",
      "Non-trainable params: 0\n",
      "_________________________________________________________________\n",
      "Epoch 1/15\n",
      "10/10 [==============================] - 0s 6ms/step - loss: 1.5855 - accuracy: 0.3800\n",
      "Epoch 2/15\n",
      "10/10 [==============================] - 0s 6ms/step - loss: 1.0049 - accuracy: 0.5067\n",
      "Epoch 3/15\n",
      "10/10 [==============================] - 0s 6ms/step - loss: 0.9266 - accuracy: 0.5467\n",
      "Epoch 4/15\n",
      "10/10 [==============================] - 0s 6ms/step - loss: 0.8989 - accuracy: 0.6133\n",
      "Epoch 5/15\n",
      "10/10 [==============================] - 0s 6ms/step - loss: 0.8182 - accuracy: 0.6667\n",
      "Epoch 6/15\n",
      "10/10 [==============================] - 0s 6ms/step - loss: 0.6885 - accuracy: 0.7533\n",
      "Epoch 7/15\n",
      "10/10 [==============================] - 0s 6ms/step - loss: 0.6080 - accuracy: 0.7933\n",
      "Epoch 8/15\n",
      "10/10 [==============================] - 0s 6ms/step - loss: 0.5282 - accuracy: 0.8133\n",
      "Epoch 9/15\n",
      "10/10 [==============================] - 0s 6ms/step - loss: 0.4313 - accuracy: 0.8367\n",
      "Epoch 10/15\n",
      "10/10 [==============================] - 0s 6ms/step - loss: 0.3983 - accuracy: 0.8733\n",
      "Epoch 11/15\n",
      "10/10 [==============================] - 0s 6ms/step - loss: 0.4146 - accuracy: 0.8567\n",
      "Epoch 12/15\n",
      "10/10 [==============================] - 0s 6ms/step - loss: 0.3469 - accuracy: 0.8900\n",
      "Epoch 13/15\n",
      "10/10 [==============================] - 0s 6ms/step - loss: 0.2577 - accuracy: 0.9133\n",
      "Epoch 14/15\n",
      "10/10 [==============================] - 0s 6ms/step - loss: 0.1915 - accuracy: 0.9833\n",
      "Epoch 15/15\n",
      "10/10 [==============================] - 0s 6ms/step - loss: 0.1746 - accuracy: 0.9633\n",
      "10/10 - 0s - loss: 2.8645 - accuracy: 0.3333 - 88ms/epoch - 9ms/step\n",
      "test_loss: 2.8645060062408447 \n",
      "test_accuracy: 0.3333333432674408\n"
     ]
    }
   ],
   "source": [
    "# Try number : 4\n",
    "n_channel_1=32\n",
    "n_channel_2=64\n",
    "n_dense=32\n",
    "n_train_epoch=15\n",
    "\n",
    "model=keras.models.Sequential()\n",
    "model.add(keras.layers.Conv2D(n_channel_1, (3,3), activation ='relu', input_shape=(28,28,3)))\n",
    "model.add(keras.layers.MaxPool2D(2,2))\n",
    "model.add(keras.layers.Conv2D(n_channel_2, (3,3), activation = 'relu'))\n",
    "model.add(keras.layers.MaxPooling2D((2,2)))\n",
    "model.add(keras.layers.Flatten())\n",
    "model.add(keras.layers.Dense(n_dense, activation = 'relu'))\n",
    "model.add(keras.layers.Dense(10, activation = 'softmax'))\n",
    "\n",
    "model.summary()\n",
    "model.compile(optimizer = 'adam',\n",
    "             loss = 'sparse_categorical_crossentropy',\n",
    "             metrics = ['accuracy'])\n",
    "\n",
    "# 모델 훈련\n",
    "model.fit(x_train_reshaped, y_train, epochs = n_train_epoch)\n",
    "\n",
    "# 모델 시험\n",
    "test_loss, test_accuracy = model.evaluate(x_test_reshaped, y_test, verbose = 2)\n",
    "print(\"test_loss: {} \".format(test_loss))\n",
    "print(\"test_accuracy: {}\".format(test_accuracy))"
   ]
  },
  {
   "cell_type": "code",
   "execution_count": 46,
   "id": "1ef1969c",
   "metadata": {},
   "outputs": [
    {
     "name": "stdout",
     "output_type": "stream",
     "text": [
      "Model: \"sequential_23\"\n",
      "_________________________________________________________________\n",
      " Layer (type)                Output Shape              Param #   \n",
      "=================================================================\n",
      " conv2d_46 (Conv2D)          (None, 26, 26, 32)        896       \n",
      "                                                                 \n",
      " max_pooling2d_46 (MaxPoolin  (None, 13, 13, 32)       0         \n",
      " g2D)                                                            \n",
      "                                                                 \n",
      " conv2d_47 (Conv2D)          (None, 11, 11, 64)        18496     \n",
      "                                                                 \n",
      " max_pooling2d_47 (MaxPoolin  (None, 5, 5, 64)         0         \n",
      " g2D)                                                            \n",
      "                                                                 \n",
      " flatten_23 (Flatten)        (None, 1600)              0         \n",
      "                                                                 \n",
      " dense_46 (Dense)            (None, 128)               204928    \n",
      "                                                                 \n",
      " dense_47 (Dense)            (None, 10)                1290      \n",
      "                                                                 \n",
      "=================================================================\n",
      "Total params: 225,610\n",
      "Trainable params: 225,610\n",
      "Non-trainable params: 0\n",
      "_________________________________________________________________\n",
      "Epoch 1/15\n",
      "10/10 [==============================] - 0s 6ms/step - loss: 1.4349 - accuracy: 0.3067\n",
      "Epoch 2/15\n",
      "10/10 [==============================] - 0s 6ms/step - loss: 1.0427 - accuracy: 0.4133\n",
      "Epoch 3/15\n",
      "10/10 [==============================] - 0s 6ms/step - loss: 0.9382 - accuracy: 0.5600\n",
      "Epoch 4/15\n",
      "10/10 [==============================] - 0s 6ms/step - loss: 0.8363 - accuracy: 0.6467\n",
      "Epoch 5/15\n",
      "10/10 [==============================] - 0s 6ms/step - loss: 0.7080 - accuracy: 0.7500\n",
      "Epoch 6/15\n",
      "10/10 [==============================] - 0s 6ms/step - loss: 0.6117 - accuracy: 0.7833\n",
      "Epoch 7/15\n",
      "10/10 [==============================] - 0s 6ms/step - loss: 0.5654 - accuracy: 0.7900\n",
      "Epoch 8/15\n",
      "10/10 [==============================] - 0s 6ms/step - loss: 0.4885 - accuracy: 0.8100\n",
      "Epoch 9/15\n",
      "10/10 [==============================] - 0s 6ms/step - loss: 0.4207 - accuracy: 0.8600\n",
      "Epoch 10/15\n",
      "10/10 [==============================] - 0s 6ms/step - loss: 0.3443 - accuracy: 0.8767\n",
      "Epoch 11/15\n",
      "10/10 [==============================] - 0s 6ms/step - loss: 0.2645 - accuracy: 0.9233\n",
      "Epoch 12/15\n",
      "10/10 [==============================] - 0s 6ms/step - loss: 0.2152 - accuracy: 0.9500\n",
      "Epoch 13/15\n",
      "10/10 [==============================] - 0s 6ms/step - loss: 0.1862 - accuracy: 0.9600\n",
      "Epoch 14/15\n",
      "10/10 [==============================] - 0s 6ms/step - loss: 0.1460 - accuracy: 0.9767\n",
      "Epoch 15/15\n",
      "10/10 [==============================] - 0s 6ms/step - loss: 0.1193 - accuracy: 0.9933\n",
      "10/10 - 0s - loss: 3.6724 - accuracy: 0.3333 - 87ms/epoch - 9ms/step\n",
      "test_loss: 3.6724307537078857 \n",
      "test_accuracy: 0.3333333432674408\n"
     ]
    }
   ],
   "source": [
    "# Try number : 5\n",
    "n_channel_1=32\n",
    "n_channel_2=64\n",
    "n_dense=128\n",
    "n_train_epoch=15\n",
    "\n",
    "model=keras.models.Sequential()\n",
    "model.add(keras.layers.Conv2D(n_channel_1, (3,3), activation ='relu', input_shape=(28,28,3)))\n",
    "model.add(keras.layers.MaxPool2D(2,2))\n",
    "model.add(keras.layers.Conv2D(n_channel_2, (3,3), activation = 'relu'))\n",
    "model.add(keras.layers.MaxPooling2D((2,2)))\n",
    "model.add(keras.layers.Flatten())\n",
    "model.add(keras.layers.Dense(n_dense, activation = 'relu'))\n",
    "model.add(keras.layers.Dense(10, activation = 'softmax'))\n",
    "\n",
    "model.summary()\n",
    "model.compile(optimizer = 'adam',\n",
    "             loss = 'sparse_categorical_crossentropy',\n",
    "             metrics = ['accuracy'])\n",
    "\n",
    "# 모델 훈련\n",
    "model.fit(x_train_reshaped, y_train, epochs = n_train_epoch)\n",
    "\n",
    "# 모델 시험\n",
    "test_loss, test_accuracy = model.evaluate(x_test_reshaped, y_test, verbose = 2)\n",
    "print(\"test_loss: {} \".format(test_loss))\n",
    "print(\"test_accuracy: {}\".format(test_accuracy))"
   ]
  },
  {
   "cell_type": "markdown",
   "id": "637fd735",
   "metadata": {},
   "source": [
    "## 결론\n",
    "#### 나의 데이터에 대해, 여기에는 넣지 않았으나 대부분 흰색인 일반 배경으로 찍은 사진은 28x28로 축소시 구분되지 않음.\n",
    "#### 이에 배경을 검은색으로 하고 재촬영함. 연습시 테스트 셋은 훈련 셋과 동일하게 설정. 정확도 100% 나옴.\n",
    "#### 제출용은 테스트 셋을 노지민님의 것으로 하고 수행. 노지민님의 데이터는 배경이 하얀톤, 갈색톤, 검은톤의 3가지. 정확도 약 33%로 매우 낮음.\n",
    "#### 노지민님과 대화한 결과, 리사이즈 스케일을 낮춰 112x112정도로 했더니 좋은 결과가 나왔다는 답변을 들었음\n",
    "#### 결론: 품질을 높이려면 원본에서 타겟이 배경과 구분이 잘되도록 해야 되며, 이 수단으로는 타겟과 구분되는 배경으로 촬영을 하거나, 구분을 할 수 있을 정도로 충분한 해상도를 확보해 주어야 함."
   ]
  },
  {
   "cell_type": "code",
   "execution_count": null,
   "id": "9e497445",
   "metadata": {},
   "outputs": [],
   "source": []
  }
 ],
 "metadata": {
  "kernelspec": {
   "display_name": "Python 3 (ipykernel)",
   "language": "python",
   "name": "python3"
  },
  "language_info": {
   "codemirror_mode": {
    "name": "ipython",
    "version": 3
   },
   "file_extension": ".py",
   "mimetype": "text/x-python",
   "name": "python",
   "nbconvert_exporter": "python",
   "pygments_lexer": "ipython3",
   "version": "3.9.7"
  }
 },
 "nbformat": 4,
 "nbformat_minor": 5
}
