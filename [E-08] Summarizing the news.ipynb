{
 "cells": [
  {
   "cell_type": "markdown",
   "id": "5c04de78",
   "metadata": {},
   "source": [
    "# 1. 데이터 수집하기"
   ]
  },
  {
   "cell_type": "code",
   "execution_count": 1,
   "id": "8bf745ea",
   "metadata": {},
   "outputs": [
    {
     "name": "stderr",
     "output_type": "stream",
     "text": [
      "[nltk_data] Downloading package stopwords to /aiffel/nltk_data...\n",
      "[nltk_data]   Package stopwords is already up-to-date!\n"
     ]
    },
    {
     "data": {
      "text/plain": [
       "True"
      ]
     },
     "execution_count": 1,
     "metadata": {},
     "output_type": "execute_result"
    }
   ],
   "source": [
    "import nltk\n",
    "nltk.download('stopwords')"
   ]
  },
  {
   "cell_type": "code",
   "execution_count": 2,
   "id": "bc9b8dbd",
   "metadata": {},
   "outputs": [],
   "source": [
    "# Library load\n",
    "import numpy as np\n",
    "import pandas as pd\n",
    "import os\n",
    "import re\n",
    "import matplotlib.pyplot as plt\n",
    "from nltk.corpus import stopwords\n",
    "from bs4 import BeautifulSoup\n",
    "from tensorflow.keras.preprocessing.text import Tokenizer\n",
    "from tensorflow.keras.preprocessing.sequence import pad_sequences\n",
    "import urllib.request\n",
    "import warnings\n",
    "warnings.filterwarnings('ignore', category = UserWarning, module = 'bs4')\n",
    "\n",
    "# 모델 설계\n",
    "from tensorflow.keras.layers import Input, LSTM, Embedding, Dense, Concatenate, TimeDistributed\n",
    "from tensorflow.keras.models import Model\n",
    "from tensorflow.keras.callbacks import EarlyStopping, ModelCheckpoint\n",
    "\n",
    "# Attention layer\n",
    "from tensorflow.keras.layers import AdditiveAttention\n",
    "\n",
    "# 추출 요약\n",
    "import requests\n",
    "from summa.summarizer import summarize"
   ]
  },
  {
   "cell_type": "code",
   "execution_count": 3,
   "id": "82006bc5",
   "metadata": {},
   "outputs": [],
   "source": [
    "# 모델 파라미터\n",
    "embedding_dim = 128\n",
    "hidden_size = 256\n",
    "common_batch_size = 256\n",
    "common_epochs = 2"
   ]
  },
  {
   "cell_type": "code",
   "execution_count": 4,
   "id": "6ba39d89",
   "metadata": {},
   "outputs": [],
   "source": [
    "#import urllib.request\n",
    "#urllib.request.urlretrieve(\"https://raw.githubusercontent.com/sunnysai12345/News_Summary/master/news_summary_more.csv\", filename=\"news_summary_more.csv\")\n",
    "#data = pd.read_csv('~/aiffel/news_summarization/news_summary_more.csv', encoding='iso-8859-1') # Lookup error\n",
    "data = pd.read_csv('~/aiffel/news_summarization/news_summary_more.csv', encoding='iso-8859-1')"
   ]
  },
  {
   "cell_type": "code",
   "execution_count": 5,
   "id": "d6f257bd",
   "metadata": {},
   "outputs": [
    {
     "data": {
      "text/html": [
       "<div>\n",
       "<style scoped>\n",
       "    .dataframe tbody tr th:only-of-type {\n",
       "        vertical-align: middle;\n",
       "    }\n",
       "\n",
       "    .dataframe tbody tr th {\n",
       "        vertical-align: top;\n",
       "    }\n",
       "\n",
       "    .dataframe thead th {\n",
       "        text-align: right;\n",
       "    }\n",
       "</style>\n",
       "<table border=\"1\" class=\"dataframe\">\n",
       "  <thead>\n",
       "    <tr style=\"text-align: right;\">\n",
       "      <th></th>\n",
       "      <th>headlines</th>\n",
       "      <th>text</th>\n",
       "    </tr>\n",
       "  </thead>\n",
       "  <tbody>\n",
       "    <tr>\n",
       "      <th>672</th>\n",
       "      <td>Would've finished those arrested for planning ...</td>\n",
       "      <td>Praising the Maharashtra Anti-Terrorism Squad ...</td>\n",
       "    </tr>\n",
       "    <tr>\n",
       "      <th>59726</th>\n",
       "      <td>Will end protests if survey reveals Patidars a...</td>\n",
       "      <td>Demanding a caste survey be conducted across G...</td>\n",
       "    </tr>\n",
       "    <tr>\n",
       "      <th>65098</th>\n",
       "      <td>Maha's Chhatrapati Shivaji Terminus to be reva...</td>\n",
       "      <td>The State Bank of India Foundation on Tuesday ...</td>\n",
       "    </tr>\n",
       "    <tr>\n",
       "      <th>39439</th>\n",
       "      <td>Pregnant tribal woman carried to hospital over...</td>\n",
       "      <td>A pregnant tribal woman in Kerala's Palakkad w...</td>\n",
       "    </tr>\n",
       "    <tr>\n",
       "      <th>93451</th>\n",
       "      <td>3 RAW agents arrested in Pakistan-occupied Kas...</td>\n",
       "      <td>As per Pakistani media, three suspected Resear...</td>\n",
       "    </tr>\n",
       "    <tr>\n",
       "      <th>54063</th>\n",
       "      <td>Shraddha to star in Shahid's 'Batti Gul Meter ...</td>\n",
       "      <td>As per reports, actress Shraddha Kapoor will s...</td>\n",
       "    </tr>\n",
       "    <tr>\n",
       "      <th>93715</th>\n",
       "      <td>Scientists confirm galaxies are connected by d...</td>\n",
       "      <td>Canada-based researchers have captured the fir...</td>\n",
       "    </tr>\n",
       "    <tr>\n",
       "      <th>70183</th>\n",
       "      <td>Give more respect to other languages: Prez on ...</td>\n",
       "      <td>Addressing a function on the occasion of Hindi...</td>\n",
       "    </tr>\n",
       "    <tr>\n",
       "      <th>80473</th>\n",
       "      <td>Turkey bars German MPs from inspecting NATO ai...</td>\n",
       "      <td>Turkey has refused German lawmakers permission...</td>\n",
       "    </tr>\n",
       "    <tr>\n",
       "      <th>47048</th>\n",
       "      <td>Release date of 'Happy Phirr Bhag Jayegi' anno...</td>\n",
       "      <td>Actress Diana Penty took to Twitter to share t...</td>\n",
       "    </tr>\n",
       "  </tbody>\n",
       "</table>\n",
       "</div>"
      ],
      "text/plain": [
       "                                               headlines  \\\n",
       "672    Would've finished those arrested for planning ...   \n",
       "59726  Will end protests if survey reveals Patidars a...   \n",
       "65098  Maha's Chhatrapati Shivaji Terminus to be reva...   \n",
       "39439  Pregnant tribal woman carried to hospital over...   \n",
       "93451  3 RAW agents arrested in Pakistan-occupied Kas...   \n",
       "54063  Shraddha to star in Shahid's 'Batti Gul Meter ...   \n",
       "93715  Scientists confirm galaxies are connected by d...   \n",
       "70183  Give more respect to other languages: Prez on ...   \n",
       "80473  Turkey bars German MPs from inspecting NATO ai...   \n",
       "47048  Release date of 'Happy Phirr Bhag Jayegi' anno...   \n",
       "\n",
       "                                                    text  \n",
       "672    Praising the Maharashtra Anti-Terrorism Squad ...  \n",
       "59726  Demanding a caste survey be conducted across G...  \n",
       "65098  The State Bank of India Foundation on Tuesday ...  \n",
       "39439  A pregnant tribal woman in Kerala's Palakkad w...  \n",
       "93451  As per Pakistani media, three suspected Resear...  \n",
       "54063  As per reports, actress Shraddha Kapoor will s...  \n",
       "93715  Canada-based researchers have captured the fir...  \n",
       "70183  Addressing a function on the occasion of Hindi...  \n",
       "80473  Turkey has refused German lawmakers permission...  \n",
       "47048  Actress Diana Penty took to Twitter to share t...  "
      ]
     },
     "execution_count": 5,
     "metadata": {},
     "output_type": "execute_result"
    }
   ],
   "source": [
    "data.sample(10)"
   ]
  },
  {
   "cell_type": "code",
   "execution_count": 6,
   "id": "35966398",
   "metadata": {},
   "outputs": [],
   "source": [
    "data.rename(columns = {'headlines' : 'Summary'}, inplace = True)\n",
    "data.rename(columns = {'text' : 'Text'}, inplace = True)\n",
    "text_for_extraction = data['Text']"
   ]
  },
  {
   "cell_type": "code",
   "execution_count": 7,
   "id": "18446dd1",
   "metadata": {},
   "outputs": [
    {
     "name": "stdout",
     "output_type": "stream",
     "text": [
      "Summary 전처리 전 깨진단어 존재 확인:  McGregor fined Ã¢ÂÂ¹35 lakh, Khabib Ã¢ÂÂ¹3.5 crore for brawl; both banned\n",
      "None\n"
     ]
    }
   ],
   "source": [
    "print(print(\"Summary 전처리 전 깨진단어 존재 확인: \", data.iloc[57].loc['Summary']))"
   ]
  },
  {
   "cell_type": "markdown",
   "id": "73d83551",
   "metadata": {},
   "source": [
    "### 중간 회고\n",
    "- 데이터를 엑셀에서 열어본 결과 깨진 단어들이 있어 별도 표기 하였다.\n",
    "- 전처리를 고민하였는데, 제외해도 큰 문제가 없어 제외하기로 하였다.\n",
    "- 깨진 단어는 인코딩 방식(iso-8859-1, utf-8, 없음)에 따라 조금씩 다르게 보였다.\n",
    "- 깨진 단어들은 preprocess_sentence 함수에 소거 처리를 추가하였다."
   ]
  },
  {
   "cell_type": "markdown",
   "id": "0e7e075f",
   "metadata": {},
   "source": [
    "# 2. 데이터 전처리하기 (추상적 요약)\n",
    "- 전처리를 추가 사용하여 텍스트를 정규화 또는 정제. \n",
    "- 요약 데이터에 대해서도 불용어를 제거하는 것이 좋을지 고민."
   ]
  },
  {
   "cell_type": "markdown",
   "id": "efbc1fe0",
   "metadata": {},
   "source": [
    "## (1) 중복문이나 결측 셀 제거"
   ]
  },
  {
   "cell_type": "code",
   "execution_count": 8,
   "id": "f5fb150e",
   "metadata": {},
   "outputs": [
    {
     "name": "stdout",
     "output_type": "stream",
     "text": [
      "text 열에서 중복을 배제한 유일한 샘플의 수: 98360\n",
      "headlines 열에서 중복을 배제한 유일한 샘플의 수: 98280\n",
      "전체 샘플수: 98360\n",
      "Summary    0\n",
      "Text       0\n",
      "dtype: int64\n",
      "전체 샘플수: 98360\n"
     ]
    }
   ],
   "source": [
    "# 중복문 확인\n",
    "print('text 열에서 중복을 배제한 유일한 샘플의 수:', data['Text'].nunique())\n",
    "print('headlines 열에서 중복을 배제한 유일한 샘플의 수:', data['Summary'].nunique())\n",
    "\n",
    "# 중복문 삭제.\n",
    "data.drop_duplicates(subset = ['Text'], inplace = True)\n",
    "print('전체 샘플수:', (len(data)))\n",
    "\n",
    "print(data.isnull().sum())\n",
    "\n",
    "# null 제거\n",
    "data.dropna(axis = 0, inplace = True)\n",
    "print('전체 샘플수:', (len(data)))"
   ]
  },
  {
   "cell_type": "markdown",
   "id": "dfc3277d",
   "metadata": {},
   "source": [
    "## (2) 텍스트 정규화와 불용어 제거"
   ]
  },
  {
   "cell_type": "code",
   "execution_count": 9,
   "id": "7aebf91e",
   "metadata": {},
   "outputs": [
    {
     "name": "stdout",
     "output_type": "stream",
     "text": [
      "정규화 사전의 수:  120\n",
      "불용어 개수: 179\n"
     ]
    }
   ],
   "source": [
    "# 축약어 의미 통일: it'll = it will\n",
    "contractions = {\"ain't\": \"is not\", \"aren't\": \"are not\",\"can't\": \"cannot\", \"'cause\": \"because\", \"could've\": \"could have\", \"couldn't\": \"could not\",\n",
    "                           \"didn't\": \"did not\",  \"doesn't\": \"does not\", \"don't\": \"do not\", \"hadn't\": \"had not\", \"hasn't\": \"has not\", \"haven't\": \"have not\",\n",
    "                           \"he'd\": \"he would\",\"he'll\": \"he will\", \"he's\": \"he is\", \"how'd\": \"how did\", \"how'd'y\": \"how do you\", \"how'll\": \"how will\", \"how's\": \"how is\",\n",
    "                           \"I'd\": \"I would\", \"I'd've\": \"I would have\", \"I'll\": \"I will\", \"I'll've\": \"I will have\",\"I'm\": \"I am\", \"I've\": \"I have\", \"i'd\": \"i would\",\n",
    "                           \"i'd've\": \"i would have\", \"i'll\": \"i will\",  \"i'll've\": \"i will have\",\"i'm\": \"i am\", \"i've\": \"i have\", \"isn't\": \"is not\", \"it'd\": \"it would\",\n",
    "                           \"it'd've\": \"it would have\", \"it'll\": \"it will\", \"it'll've\": \"it will have\",\"it's\": \"it is\", \"let's\": \"let us\", \"ma'am\": \"madam\",\n",
    "                           \"mayn't\": \"may not\", \"might've\": \"might have\",\"mightn't\": \"might not\",\"mightn't've\": \"might not have\", \"must've\": \"must have\",\n",
    "                           \"mustn't\": \"must not\", \"mustn't've\": \"must not have\", \"needn't\": \"need not\", \"needn't've\": \"need not have\",\"o'clock\": \"of the clock\",\n",
    "                           \"oughtn't\": \"ought not\", \"oughtn't've\": \"ought not have\", \"shan't\": \"shall not\", \"sha'n't\": \"shall not\", \"shan't've\": \"shall not have\",\n",
    "                           \"she'd\": \"she would\", \"she'd've\": \"she would have\", \"she'll\": \"she will\", \"she'll've\": \"she will have\", \"she's\": \"she is\",\n",
    "                           \"should've\": \"should have\", \"shouldn't\": \"should not\", \"shouldn't've\": \"should not have\", \"so've\": \"so have\",\"so's\": \"so as\",\n",
    "                           \"this's\": \"this is\",\"that'd\": \"that would\", \"that'd've\": \"that would have\", \"that's\": \"that is\", \"there'd\": \"there would\",\n",
    "                           \"there'd've\": \"there would have\", \"there's\": \"there is\", \"here's\": \"here is\",\"they'd\": \"they would\", \"they'd've\": \"they would have\",\n",
    "                           \"they'll\": \"they will\", \"they'll've\": \"they will have\", \"they're\": \"they are\", \"they've\": \"they have\", \"to've\": \"to have\",\n",
    "                           \"wasn't\": \"was not\", \"we'd\": \"we would\", \"we'd've\": \"we would have\", \"we'll\": \"we will\", \"we'll've\": \"we will have\", \"we're\": \"we are\",\n",
    "                           \"we've\": \"we have\", \"weren't\": \"were not\", \"what'll\": \"what will\", \"what'll've\": \"what will have\", \"what're\": \"what are\",\n",
    "                           \"what's\": \"what is\", \"what've\": \"what have\", \"when's\": \"when is\", \"when've\": \"when have\", \"where'd\": \"where did\", \"where's\": \"where is\",\n",
    "                           \"where've\": \"where have\", \"who'll\": \"who will\", \"who'll've\": \"who will have\", \"who's\": \"who is\", \"who've\": \"who have\",\n",
    "                           \"why's\": \"why is\", \"why've\": \"why have\", \"will've\": \"will have\", \"won't\": \"will not\", \"won't've\": \"will not have\",\n",
    "                           \"would've\": \"would have\", \"wouldn't\": \"would not\", \"wouldn't've\": \"would not have\", \"y'all\": \"you all\",\n",
    "                           \"y'all'd\": \"you all would\",\"y'all'd've\": \"you all would have\",\"y'all're\": \"you all are\",\"y'all've\": \"you all have\",\n",
    "                           \"you'd\": \"you would\", \"you'd've\": \"you would have\", \"you'll\": \"you will\", \"you'll've\": \"you will have\",\n",
    "                           \"you're\": \"you are\", \"you've\": \"you have\"}\n",
    "\n",
    "print(\"정규화 사전의 수: \", len(contractions))\n",
    "print('불용어 개수:',len(stopwords.words('english')))"
   ]
  },
  {
   "cell_type": "code",
   "execution_count": 10,
   "id": "95220f63",
   "metadata": {},
   "outputs": [
    {
     "name": "stdout",
     "output_type": "stream",
     "text": [
      "asdf\n"
     ]
    }
   ],
   "source": [
    "# 정제 함수 정의.\n",
    "def preprocess_sentence(sentence, remove_stopwords = True):\n",
    "    \n",
    "    # 텍스트 소문자화\n",
    "    sentence = sentence.lower() \n",
    "    \n",
    "    # <br />, <a href = ...> 등의 html 태그 제거\n",
    "    sentence = BeautifulSoup(sentence, 'lxml').text \n",
    "    \n",
    "    # 괄호로 닫힌 문자열 (...) 제거 Ex) my husband (and myself!) for => my husband for\n",
    "    sentence = re.sub(r'\\([^)]*\\)', '', sentence)\n",
    "    \n",
    "    # 쌍따옴표 \" 제거\n",
    "    sentence = re.sub('\"', '', sentence)\n",
    "    \n",
    "    # 깨진 단어 â 제거\n",
    "    sentence = re.sub('â', '', sentence)    \n",
    "    \n",
    "    # 깨진 단어 Ã¢ÂÂ 제거\n",
    "    sentence = re.sub('Ã¢ÂÂ', '', sentence)  \n",
    "    \n",
    "    # 깨진 단어 â\\x82¹제거\n",
    "    sentence = re.sub('â\\x82¹', '', sentence) \n",
    "    \n",
    "    # 약어 정규화\n",
    "    sentence = ' '.join([contractions[t] if t in contractions else t for t in sentence.split(\" \")])\n",
    "    \n",
    "    # 소유격 제거. Ex) roland's -> roland\n",
    "    sentence = re.sub(r\"'s\\b\", \"\", sentence)\n",
    "    \n",
    "    # 영어 외 문자(숫자, 특수문자 등) 공백으로 변환\n",
    "    sentence = re.sub(\"[^a-zA-Z]\", \" \", sentence)\n",
    "    \n",
    "    # m이 3개 이상이면 2개로 변경. Ex) ummmmmmm yeah -> umm yeah\n",
    "    sentence = re.sub('[m]{2,}', 'mm', sentence)\n",
    "    \n",
    "    # 불용어 제거(text)\n",
    "    if remove_stopwords:\n",
    "        tokens = ' '.join(word for word in sentence.split() if not word in stopwords.words('english') if len(word) > 1)\n",
    "        \n",
    "    # 불용어 미제거 (Summary)\n",
    "    else:\n",
    "        tokens = ' '.join(word for word in sentence.split() if len(word) >1)\n",
    "    return tokens\n",
    "\n",
    "print('asdf')"
   ]
  },
  {
   "cell_type": "code",
   "execution_count": 11,
   "id": "683ee4ff",
   "metadata": {},
   "outputs": [
    {
     "name": "stdout",
     "output_type": "stream",
     "text": [
      "Text 전처리 후 결과: ['saurav kant alumnus upgrad iiit pg program machine learning artificial intelligence sr systems engineer infosys almost years work experience program upgrad degree career support helped transition data scientist tech mahindra salary hike upgrad online power learning powered lakh careers', 'kunal shah credit card bill payment platform cred gave users chance win free food swiggy one year pranav kaushik delhi techie bagged reward spending cred coins users get one cred coin per rupee bill paid used avail rewards brands like ixigo bookmyshow ubereats cult fit', 'new zealand defeated india wickets fourth odi hamilton thursday win first match five match odi series india lost international match rohit sharma captaincy consecutive victories dating back march match witnessed india getting seventh lowest total odi cricket history', 'aegon life iterm insurance plan customers enjoy tax benefits premiums paid save taxes plan provides life cover age years also customers options insure critical illnesses disability accidental death benefit rider life cover age years', 'speaking sexual harassment allegations rajkumar hirani sonam kapoor said known hirani many years true metoo movement get derailed metoo movement always believe woman case need reserve judgment added hirani accused assistant worked sanju']\n"
     ]
    }
   ],
   "source": [
    "clean_text = []\n",
    "# 전체 Text 데이터에 대한 전처리\n",
    "for s in data['Text']:\n",
    "    clean_text.append(preprocess_sentence(s))\n",
    "    \n",
    "# 전처리 후 출력\n",
    "print('Text 전처리 후 결과:', clean_text[:5])"
   ]
  },
  {
   "cell_type": "code",
   "execution_count": 12,
   "id": "e6890f40",
   "metadata": {},
   "outputs": [
    {
     "name": "stdout",
     "output_type": "stream",
     "text": [
      "Summary 전처리 후 결과:  ['upgrad learner switches to career in ml al with salary hike', 'delhi techie wins free food from swiggy for one year on cred', 'new zealand end rohit sharma led india match winning streak', 'aegon life iterm insurance plan helps customers save tax', 'have known hirani for yrs what if metoo claims are not true sonam']\n",
      "Summary 전처리 후 깨진단어 소거 확인:  mcgregor fined lakh khabib crore for brawl both banned\n"
     ]
    }
   ],
   "source": [
    "clean_summary = []\n",
    "for s in data['Summary']:\n",
    "    clean_summary.append(preprocess_sentence(s, False))\n",
    "    \n",
    "print(\"Summary 전처리 후 결과: \", clean_summary[:5])\n",
    "print(\"Summary 전처리 후 깨진단어 소거 확인: \", clean_summary[57])"
   ]
  },
  {
   "cell_type": "code",
   "execution_count": 13,
   "id": "4fdeaf5c",
   "metadata": {},
   "outputs": [
    {
     "name": "stdout",
     "output_type": "stream",
     "text": [
      "Summary    0\n",
      "Text       0\n",
      "dtype: int64\n",
      "전체 샘플수: 98360\n"
     ]
    }
   ],
   "source": [
    "# 정제된 단어를 입력.\n",
    "data['Text'] = clean_text\n",
    "data['Summary'] = clean_summary\n",
    "\n",
    "# 정제 후 빈 값을 null 값으로 변환.\n",
    "data.replace('', np.nan, inplace = True)\n",
    "\n",
    "# 정제 후 결측값 재확인\n",
    "print(data.isnull().sum())\n",
    "data.dropna(axis=0, inplace = True)\n",
    "print('전체 샘플수:', (len(data)))"
   ]
  },
  {
   "cell_type": "markdown",
   "id": "bfe83c0f",
   "metadata": {},
   "source": [
    "## (3) 문장 길이 정제"
   ]
  },
  {
   "cell_type": "code",
   "execution_count": 14,
   "id": "4a8c6718",
   "metadata": {
    "scrolled": false
   },
   "outputs": [
    {
     "name": "stdout",
     "output_type": "stream",
     "text": [
      "텍스트의 최소 길이: 1\n",
      "텍스트의 최대 길이: 60\n",
      "텍스트의 평균 길이: 35.09968483123221\n",
      "요약의 최소 길이: 1\n",
      "요약의 최대 길이: 16\n",
      "요약의 평균 길이: 9.299532330215534\n"
     ]
    },
    {
     "data": {
      "image/png": "[encoded data removed]",
      "text/plain": [
       "<Figure size 432x288 with 2 Axes>"
      ]
     },
     "metadata": {
      "needs_background": "light"
     },
     "output_type": "display_data"
    },
    {
     "data": {
      "image/png": "[encoded data removed]",
      "text/plain": [
       "<Figure size 432x288 with 1 Axes>"
      ]
     },
     "metadata": {
      "needs_background": "light"
     },
     "output_type": "display_data"
    },
    {
     "data": {
      "image/png": "[encoded data removed]",
      "text/plain": [
       "<Figure size 432x288 with 1 Axes>"
      ]
     },
     "metadata": {
      "needs_background": "light"
     },
     "output_type": "display_data"
    }
   ],
   "source": [
    "import matplotlib.pyplot as plt\n",
    "\n",
    "text_len = [len(s.split()) for s in data['Text']]\n",
    "summary_len = [len(s.split()) for s in data['Summary']]\n",
    "\n",
    "print('텍스트의 최소 길이: {}'.format(np.min(text_len)))\n",
    "print('텍스트의 최대 길이: {}'.format(np.max(text_len)))\n",
    "print('텍스트의 평균 길이: {}'.format(np.mean(text_len)))\n",
    "print('요약의 최소 길이: {}'.format(np.min(summary_len)))\n",
    "print('요약의 최대 길이: {}'.format(np.max(summary_len)))\n",
    "print('요약의 평균 길이: {}'.format(np.mean(summary_len)))\n",
    "\n",
    "plt.subplot(1,2,1)\n",
    "plt.boxplot(text_len)\n",
    "plt.title('Text')\n",
    "plt.subplot(1,2,2)\n",
    "plt.boxplot(summary_len)\n",
    "plt.title('Summary')\n",
    "plt.tight_layout()\n",
    "plt.show()\n",
    "\n",
    "plt.title('Text')\n",
    "plt.hist(text_len, bins = 40)\n",
    "plt.xlabel('length of samples')\n",
    "plt.ylabel('number of samples')\n",
    "plt.show()\n",
    "\n",
    "plt.title('Summary')\n",
    "plt.hist(summary_len, bins = 40)\n",
    "plt.xlabel('length of samples')\n",
    "plt.ylabel('number of samples')\n",
    "plt.show()\n"
   ]
  },
  {
   "cell_type": "code",
   "execution_count": 16,
   "id": "7555611d",
   "metadata": {},
   "outputs": [
    {
     "name": "stdout",
     "output_type": "stream",
     "text": [
      "asdf\n",
      "전체 샘플 중 길이가 50 이하인 샘플의 비율: 0.9998576657177715\n",
      "전체 샘플 중 길이가 15 이하인 샘플의 비율: 0.9999694997966653\n",
      "전체 샘플 중 길이가 7 이상인 샘플의 비율: 0.9803375355835705\n",
      "전체 샘플 수: 96409\n"
     ]
    }
   ],
   "source": [
    "# text 최대 길이와 summary의 적절한 최대,최소 길이. 요약문이 너무 짧으면 알아보기 힘들어 하한선을 추가하였다.\n",
    "\n",
    "text_max_len = 50\n",
    "summary_max_len = 15\n",
    "summary_min_len = 7\n",
    "print('asdf')\n",
    "\n",
    "# 최대 길이 뿐 아니라 최소 길이 비율도 확인.\n",
    "def below_threshold_len(max_len, nested_list):\n",
    "    cnt = 0\n",
    "    for s in nested_list:\n",
    "        if(len(s.split()) <= max_len):\n",
    "            cnt = cnt+1\n",
    "    print('전체 샘플 중 길이가 %s 이하인 샘플의 비율: %s'%(max_len, (cnt/len(nested_list))))\n",
    "\n",
    "def above_threshold_len(min_len, nested_list):\n",
    "    cnt = 0\n",
    "    for s in nested_list:\n",
    "        if(len(s.split()) >= min_len):\n",
    "            cnt = cnt+1\n",
    "    print('전체 샘플 중 길이가 %s 이상인 샘플의 비율: %s'%(min_len, (cnt/len(nested_list))))\n",
    "   \n",
    "below_threshold_len(text_max_len, data['Text'])\n",
    "below_threshold_len(summary_max_len, data['Summary'])\n",
    "above_threshold_len(summary_min_len, data['Summary'])\n",
    "\n",
    "# 정해진 길이를 벗어나면 제외하기\n",
    "data = data[data['Text'].apply(lambda x: len(x.split()) <= text_max_len)]\n",
    "data = data[data['Summary'].apply(lambda x: len(x.split()) >= summary_min_len)]\n",
    "data = data[data['Summary'].apply(lambda x: len(x.split()) <= summary_max_len)]\n",
    "print('전체 샘플 수:', (len(data)))"
   ]
  },
  {
   "cell_type": "markdown",
   "id": "8b335906",
   "metadata": {},
   "source": [
    "## (4) 특수 토큰 추가"
   ]
  },
  {
   "cell_type": "code",
   "execution_count": 17,
   "id": "da1e7c4d",
   "metadata": {},
   "outputs": [
    {
     "data": {
      "text/html": [
       "<div>\n",
       "<style scoped>\n",
       "    .dataframe tbody tr th:only-of-type {\n",
       "        vertical-align: middle;\n",
       "    }\n",
       "\n",
       "    .dataframe tbody tr th {\n",
       "        vertical-align: top;\n",
       "    }\n",
       "\n",
       "    .dataframe thead th {\n",
       "        text-align: right;\n",
       "    }\n",
       "</style>\n",
       "<table border=\"1\" class=\"dataframe\">\n",
       "  <thead>\n",
       "    <tr style=\"text-align: right;\">\n",
       "      <th></th>\n",
       "      <th>Summary</th>\n",
       "      <th>Text</th>\n",
       "      <th>decoder_input</th>\n",
       "      <th>decoder_target</th>\n",
       "    </tr>\n",
       "  </thead>\n",
       "  <tbody>\n",
       "    <tr>\n",
       "      <th>0</th>\n",
       "      <td>upgrad learner switches to career in ml al wit...</td>\n",
       "      <td>saurav kant alumnus upgrad iiit pg program mac...</td>\n",
       "      <td>sostoken upgrad learner switches to career in ...</td>\n",
       "      <td>upgrad learner switches to career in ml al wit...</td>\n",
       "    </tr>\n",
       "    <tr>\n",
       "      <th>1</th>\n",
       "      <td>delhi techie wins free food from swiggy for on...</td>\n",
       "      <td>kunal shah credit card bill payment platform c...</td>\n",
       "      <td>sostoken delhi techie wins free food from swig...</td>\n",
       "      <td>delhi techie wins free food from swiggy for on...</td>\n",
       "    </tr>\n",
       "    <tr>\n",
       "      <th>2</th>\n",
       "      <td>new zealand end rohit sharma led india match w...</td>\n",
       "      <td>new zealand defeated india wickets fourth odi ...</td>\n",
       "      <td>sostoken new zealand end rohit sharma led indi...</td>\n",
       "      <td>new zealand end rohit sharma led india match w...</td>\n",
       "    </tr>\n",
       "    <tr>\n",
       "      <th>3</th>\n",
       "      <td>aegon life iterm insurance plan helps customer...</td>\n",
       "      <td>aegon life iterm insurance plan customers enjo...</td>\n",
       "      <td>sostoken aegon life iterm insurance plan helps...</td>\n",
       "      <td>aegon life iterm insurance plan helps customer...</td>\n",
       "    </tr>\n",
       "    <tr>\n",
       "      <th>4</th>\n",
       "      <td>have known hirani for yrs what if metoo claims...</td>\n",
       "      <td>speaking sexual harassment allegations rajkuma...</td>\n",
       "      <td>sostoken have known hirani for yrs what if met...</td>\n",
       "      <td>have known hirani for yrs what if metoo claims...</td>\n",
       "    </tr>\n",
       "  </tbody>\n",
       "</table>\n",
       "</div>"
      ],
      "text/plain": [
       "                                             Summary  \\\n",
       "0  upgrad learner switches to career in ml al wit...   \n",
       "1  delhi techie wins free food from swiggy for on...   \n",
       "2  new zealand end rohit sharma led india match w...   \n",
       "3  aegon life iterm insurance plan helps customer...   \n",
       "4  have known hirani for yrs what if metoo claims...   \n",
       "\n",
       "                                                Text  \\\n",
       "0  saurav kant alumnus upgrad iiit pg program mac...   \n",
       "1  kunal shah credit card bill payment platform c...   \n",
       "2  new zealand defeated india wickets fourth odi ...   \n",
       "3  aegon life iterm insurance plan customers enjo...   \n",
       "4  speaking sexual harassment allegations rajkuma...   \n",
       "\n",
       "                                       decoder_input  \\\n",
       "0  sostoken upgrad learner switches to career in ...   \n",
       "1  sostoken delhi techie wins free food from swig...   \n",
       "2  sostoken new zealand end rohit sharma led indi...   \n",
       "3  sostoken aegon life iterm insurance plan helps...   \n",
       "4  sostoken have known hirani for yrs what if met...   \n",
       "\n",
       "                                      decoder_target  \n",
       "0  upgrad learner switches to career in ml al wit...  \n",
       "1  delhi techie wins free food from swiggy for on...  \n",
       "2  new zealand end rohit sharma led india match w...  \n",
       "3  aegon life iterm insurance plan helps customer...  \n",
       "4  have known hirani for yrs what if metoo claims...  "
      ]
     },
     "execution_count": 17,
     "metadata": {},
     "output_type": "execute_result"
    }
   ],
   "source": [
    "# 요약 데이터에는 시작 토큰과 종료 토큰을 추가한다.\n",
    "data['decoder_input'] = data['Summary'].apply(lambda x : 'sostoken '+ x)\n",
    "data['decoder_target'] = data['Summary'].apply(lambda x: x+' eostoken')\n",
    "data.head()"
   ]
  },
  {
   "cell_type": "code",
   "execution_count": 18,
   "id": "c18c8b67",
   "metadata": {},
   "outputs": [],
   "source": [
    "encoder_input = np.array(data['Text'])\n",
    "decoder_input = np.array(data['decoder_input'])\n",
    "decoder_target = np.array(data['decoder_target'])\n",
    "\n",
    "# encoder_input과 크기와 형태가 같은 순서가 섞인 정수 시퀀스 만들기\n",
    "indices = np.arange(encoder_input.shape[0])\n",
    "np.random.shuffle(indices)\n",
    "\n",
    "# 샘플 순서 다시 정의\n",
    "encoder_input = encoder_input[indices]\n",
    "decoder_input = decoder_input[indices]\n",
    "decoder_target = decoder_target[indices]"
   ]
  },
  {
   "cell_type": "markdown",
   "id": "bbdccf80",
   "metadata": {},
   "source": [
    "## (5) 훈련, 테스트 데이터 나누기"
   ]
  },
  {
   "cell_type": "code",
   "execution_count": 19,
   "id": "eae67a92",
   "metadata": {},
   "outputs": [
    {
     "name": "stdout",
     "output_type": "stream",
     "text": [
      "테스트 데이터의 수: 19281\n",
      "훈련 데이터의 개수 : 77128\n",
      "훈련 레이블의 개수 : 77128\n",
      "테스트 데이터의 개수 : 19281\n",
      "테스트 레이블의 개수 : 19281\n"
     ]
    }
   ],
   "source": [
    "# 테스트 비율 정하기\n",
    "percent_test = 0.2\n",
    "n_of_val = int(len(encoder_input)*percent_test)  \n",
    "print('테스트 데이터의 수:', n_of_val)\n",
    "\n",
    "# 데이터 나누기\n",
    "encoder_input_train = encoder_input[:-n_of_val]\n",
    "decoder_input_train = decoder_input[:-n_of_val]\n",
    "decoder_target_train = decoder_target[:-n_of_val]\n",
    "\n",
    "encoder_input_test = encoder_input[-n_of_val:]\n",
    "decoder_input_test = decoder_input[-n_of_val:]\n",
    "decoder_target_test = decoder_target[-n_of_val:]\n",
    "\n",
    "print('훈련 데이터의 개수 :', len(encoder_input_train))\n",
    "print('훈련 레이블의 개수 :', len(decoder_input_train))\n",
    "print('테스트 데이터의 개수 :', len(encoder_input_test))\n",
    "print('테스트 레이블의 개수 :', len(decoder_input_test))"
   ]
  },
  {
   "cell_type": "markdown",
   "id": "f19f782f",
   "metadata": {},
   "source": [
    "## (6) 텍스트 -> 정수 인코딩"
   ]
  },
  {
   "cell_type": "code",
   "execution_count": 20,
   "id": "91fe6399",
   "metadata": {},
   "outputs": [
    {
     "name": "stdout",
     "output_type": "stream",
     "text": [
      "단어 집합(vocabulary)의 크기 : 68663\n",
      "등장 빈도가 9번 이하인 희귀 단어의 수: 50515\n",
      "단어 집합에서 희귀 단어를 제외시킬 경우의 단어 집합의 크기 18148\n",
      "단어 집합에서 희귀 단어의 비율: 73.56946244702387\n",
      "전체 등장 빈도에서 희귀 단어 등장 빈도 비율: 3.694397925817228e-05\n"
     ]
    }
   ],
   "source": [
    "# 등장 빈도수가 임계치 횟수 미만인 단어들이 소스 데이터에서 얼만큼의 비중을 차지하는가?\n",
    "src_tokenizer = Tokenizer()\n",
    "src_tokenizer.fit_on_texts(encoder_input_train)\n",
    "\n",
    "threshold = 10   # 작업시간을 절약하기 위해 희귀단어의 기준 완화\n",
    "total_cnt = len(src_tokenizer.word_index)   # 단어의 수\n",
    "rare_cnt = 0    # 등장 빈도수가 threshold보다 작은 단어의 개수를 카운트\n",
    "total_freq = 0   # 훈련 데이터의 전체 단어 빈도수 총 합\n",
    "rare_freq = 0   # 등장 빈도수가 threshold보다 작은 단어의 등장 빈도수의 총 합\n",
    "\n",
    "# 단어와 빈도수의 쌍(pair)을 key와 value로 받는다.\n",
    "for key, value in src_tokenizer.word_counts.items():\n",
    "    total_freq = total_freq + value\n",
    "    \n",
    "    # 단어의 등장 빈도수가 threshold 보다 작으면\n",
    "    if(value < threshold):\n",
    "        rare_cnt += 1\n",
    "        rare_freq = rare_freq = value\n",
    "        \n",
    "print('단어 집합(vocabulary)의 크기 :', total_cnt)\n",
    "print('등장 빈도가 %s번 이하인 희귀 단어의 수: %s'%(threshold -1, rare_cnt))\n",
    "print('단어 집합에서 희귀 단어를 제외시킬 경우의 단어 집합의 크기 %s'%(total_cnt-rare_cnt))\n",
    "print(\"단어 집합에서 희귀 단어의 비율:\", (rare_cnt / total_cnt)*100)\n",
    "print(\"전체 등장 빈도에서 희귀 단어 등장 빈도 비율:\", (rare_freq / total_freq)*100)"
   ]
  },
  {
   "cell_type": "code",
   "execution_count": 21,
   "id": "e25d1ec3",
   "metadata": {},
   "outputs": [
    {
     "name": "stdout",
     "output_type": "stream",
     "text": [
      "[[1802, 511, 1833, 2434, 1207, 1027, 11697, 209, 366, 420, 9347, 2268, 16498, 1639, 2550, 894, 1972, 238, 82, 197, 2512, 9174, 101, 209, 420, 3554, 10366, 2248, 4053, 2447, 460, 567, 999, 11697, 4005], [3173, 298, 2206, 338, 169, 2331, 152, 3596, 659, 3816, 56, 12374, 8153, 1254, 2, 220, 298, 282, 173, 1977, 5973, 389, 3596, 476, 282, 3596, 5207, 41, 2, 104], [3, 12, 51, 2448, 6233, 4112, 1525, 11098, 1014, 1525, 96, 902, 52, 467, 8024, 340, 982, 3, 12, 583, 221, 345, 8291, 3140, 326, 67, 286, 6162, 3978, 1193, 3979, 3140]]\n"
     ]
    }
   ],
   "source": [
    "# 단어 집합의 크기를 희귀단어 이외의 수로 제한.\n",
    "src_vocab = (total_cnt-rare_cnt)\n",
    "src_tokenizer = Tokenizer(num_words = src_vocab)\n",
    "src_tokenizer.fit_on_texts(encoder_input_train)\n",
    "\n",
    "# 텍스트 시퀀스를 정수로 변환\n",
    "encoder_input_train = src_tokenizer.texts_to_sequences(encoder_input_train)\n",
    "encoder_input_test = src_tokenizer.texts_to_sequences(encoder_input_test)\n",
    "\n",
    "# 잘 진행되었는지 샘플 출력\n",
    "print(encoder_input_train[:3])"
   ]
  },
  {
   "cell_type": "code",
   "execution_count": 25,
   "id": "7de89529",
   "metadata": {},
   "outputs": [
    {
     "name": "stdout",
     "output_type": "stream",
     "text": [
      "단어 집합(vocabulary)의 크기 : 29873\n",
      "등장 빈도가 9번 이하인 희귀 단어의 수: 22300\n",
      "단어 집합에서 희귀 단어를 제외시킬 경우의 단어 집합의 크기 7573\n",
      "단어 집합에서 희귀 단어의 비율: 74.6493489103873\n",
      "전체 등장 빈도에서 희귀 단어 등장 빈도 비율: 7.179889257364085\n"
     ]
    }
   ],
   "source": [
    "# Summary data에 대해 동일한 작업 수행. 전체 단어 집합과 각 단어에 대한 빈도수 계산.\n",
    "tar_tokenizer = Tokenizer()\n",
    "tar_tokenizer.fit_on_texts(decoder_input_train)\n",
    "\n",
    "# 등장 빈도수가 임계치 횟수 미만인 단어들이 타겟 데이터에서 얼만큼의 비중을 차지하는가?\n",
    "threshold = 10\n",
    "total_cnt = len(tar_tokenizer.word_index)  # 단어의 수\n",
    "rare_cnt = 0  # 등장 빈도수가 threshold보다 작은 단어의 개수를 카운트\n",
    "total_freq = 0 # 훈련 데이터의 전체 단어 빈도수 총합\n",
    "rare_freq = 0 # 등장 빈도수가 threshold보다 작은 단어의 등장 빈도수의 총 합\n",
    "\n",
    "# 단어와 빈도수의 쌍(pair)을 key와 value로 받는다.\n",
    "for key, value in tar_tokenizer.word_counts.items():\n",
    "    total_freq = total_freq + value\n",
    "    \n",
    "    # 단어의 등장 빈도수가 threshold 보다 작으면\n",
    "    if(value < threshold):\n",
    "        rare_cnt += 1\n",
    "        rare_freq += value\n",
    "    \n",
    "print('단어 집합(vocabulary)의 크기 :', total_cnt)\n",
    "print('등장 빈도가 %s번 이하인 희귀 단어의 수: %s'%(threshold - 1, rare_cnt))\n",
    "print('단어 집합에서 희귀 단어를 제외시킬 경우의 단어 집합의 크기 %s'%(total_cnt - rare_cnt))\n",
    "print(\"단어 집합에서 희귀 단어의 비율:\", (rare_cnt / total_cnt)*100)\n",
    "print(\"전체 등장 빈도에서 희귀 단어 등장 빈도 비율:\", (rare_freq / total_freq)*100)"
   ]
  },
  {
   "cell_type": "code",
   "execution_count": 26,
   "id": "94cc2c33",
   "metadata": {},
   "outputs": [
    {
     "name": "stdout",
     "output_type": "stream",
     "text": [
      "input\n",
      "input  [[1, 91, 1268, 1818, 3441, 16, 86, 754], [1, 847, 2819, 524, 15, 64, 8, 2688], [1, 2938, 1106, 197, 15, 250, 66], [1, 60, 26, 97, 1478, 4, 84, 3856, 360, 43, 1236], [1, 3857, 2997, 432, 1819, 84, 58, 1186, 5169]]\n",
      "target\n",
      "decoder  [[91, 1268, 1818, 3441, 16, 86, 754, 2], [847, 2819, 524, 15, 64, 8, 2688, 2], [2938, 1106, 197, 15, 250, 66, 2], [60, 26, 97, 1478, 4, 84, 3856, 360, 43, 1236, 2], [3857, 2997, 432, 1819, 84, 58, 1186, 5169, 2]]\n"
     ]
    }
   ],
   "source": [
    "\n",
    "\n",
    "# 사용 어휘 수는 희귀단어들만 제외하고 약 10000개 가량이다.\n",
    "tar_vocab = (total_cnt - rare_cnt)\n",
    "tar_tokenizer = Tokenizer(num_words = tar_vocab)\n",
    "tar_tokenizer.fit_on_texts(decoder_input_train)\n",
    "tar_tokenizer.fit_on_texts(decoder_target_train)\n",
    "\n",
    "# text to integer\n",
    "decoder_input_train = tar_tokenizer.texts_to_sequences(decoder_input_train)\n",
    "decoder_target_train = tar_tokenizer.texts_to_sequences(decoder_target_train)\n",
    "decoder_input_test = tar_tokenizer.texts_to_sequences(decoder_input_test)\n",
    "decoder_target_test = tar_tokenizer.texts_to_sequences(decoder_target_test)\n",
    "\n",
    "# 잘 변환되었는지 확인.\n",
    "print('input')\n",
    "print('input ',decoder_input_train[:5])\n",
    "print('target')\n",
    "print('decoder ',decoder_target_train[:5])"
   ]
  },
  {
   "cell_type": "code",
   "execution_count": 27,
   "id": "6f576fd3",
   "metadata": {},
   "outputs": [
    {
     "name": "stdout",
     "output_type": "stream",
     "text": [
      "삭제할 훈련 데이터의 개수 : 0\n",
      "삭제할 테스트 데이터의 개수 : 0\n",
      "훈련 데이터의 개수 : 77128\n",
      "훈련 레이블의 개수 : 77128\n",
      "테스트 데이터의 개수 : 19281\n",
      "테스트 레이블의 개수 : 19281\n"
     ]
    }
   ],
   "source": [
    "# 훈련 데이터와 테스트 데이터에 대해 요약문의 길이가 1인경우, 인덱스를 drop_train과 drop_test에 저장.\n",
    "drop_train = [index for index, sentence in enumerate(decoder_input_train) if len(sentence) ==1]\n",
    "drop_test = [index for index, sentence in enumerate(decoder_input_test) if len(sentence) == 1]\n",
    "\n",
    "print('삭제할 훈련 데이터의 개수 :', len(drop_train))\n",
    "print('삭제할 테스트 데이터의 개수 :', len(drop_test))\n",
    "\n",
    "encoder_input_train = [sentence for index, sentence in enumerate(encoder_input_train) if index not in drop_train]\n",
    "decoder_input_train = [sentence for index, sentence in enumerate(decoder_input_train) if index not in drop_train]\n",
    "decoder_target_train = [sentence for index, sentence in enumerate(decoder_target_train) if index not in drop_train]\n",
    "\n",
    "encoder_input_test = [sentence for index, sentence in enumerate(encoder_input_test) if index not in drop_test]\n",
    "decoder_input_test = [sentence for index, sentence in enumerate(decoder_input_test) if index not in drop_test]\n",
    "decoder_target_test = [sentence for index, sentence in enumerate(decoder_target_test) if index not in drop_test]\n",
    "\n",
    "print('훈련 데이터의 개수 :', len(encoder_input_train))\n",
    "print('훈련 레이블의 개수 :', len(decoder_input_train))\n",
    "print('테스트 데이터의 개수 :', len(encoder_input_test))\n",
    "print('테스트 레이블의 개수 :', len(decoder_input_test))"
   ]
  },
  {
   "cell_type": "code",
   "execution_count": 28,
   "id": "441ea3c2",
   "metadata": {},
   "outputs": [],
   "source": [
    "# 패딩\n",
    "encoder_input_train = pad_sequences(encoder_input_train, maxlen = text_max_len, padding = 'post')\n",
    "encoder_input_test = pad_sequences(encoder_input_test, maxlen = text_max_len, padding = 'post')\n",
    "decoder_input_train = pad_sequences(decoder_input_train, maxlen = text_max_len, padding = 'post')\n",
    "decoder_target_train = pad_sequences(decoder_target_train, maxlen = text_max_len, padding = 'post')\n",
    "decoder_input_test = pad_sequences(decoder_input_test, maxlen = text_max_len, padding = 'post')\n",
    "decoder_target_test = pad_sequences(decoder_target_test, maxlen = text_max_len, padding = 'post')"
   ]
  },
  {
   "cell_type": "markdown",
   "id": "21159135",
   "metadata": {},
   "source": [
    "# 3. 어텐션 메커니즘 사용하기 (추상적 요약)\n",
    "- 어텐션 메커니즘을 사용한 seq2seq 설계."
   ]
  },
  {
   "cell_type": "markdown",
   "id": "06ccbc0f",
   "metadata": {},
   "source": [
    "## (1) 모델 설계하기"
   ]
  },
  {
   "cell_type": "code",
   "execution_count": 29,
   "id": "580ef781",
   "metadata": {},
   "outputs": [
    {
     "name": "stdout",
     "output_type": "stream",
     "text": [
      "WARNING:tensorflow:Layer lstm_3 will not use cuDNN kernels since it doesn't meet the criteria. It will use a generic GPU kernel as fallback when running on GPU.\n",
      "WARNING:tensorflow:Layer lstm_4 will not use cuDNN kernels since it doesn't meet the criteria. It will use a generic GPU kernel as fallback when running on GPU.\n",
      "WARNING:tensorflow:Layer lstm_5 will not use cuDNN kernels since it doesn't meet the criteria. It will use a generic GPU kernel as fallback when running on GPU.\n"
     ]
    }
   ],
   "source": [
    "# 인코더 설계 시작\n",
    "\n",
    "# 인코더\n",
    "encoder_inputs = Input(shape = (text_max_len,))\n",
    "\n",
    "# 인코더의 임베딩 층\n",
    "enc_emb = Embedding(src_vocab, embedding_dim)(encoder_inputs)\n",
    "\n",
    "# 인코더의 LSTM 1\n",
    "encoder_lstm1 = LSTM(hidden_size, return_sequences = True, return_state = True,\n",
    "                     dropout = 0.4, recurrent_dropout = 0.4)\n",
    "encoder_output1, state_h1, state_c1 = encoder_lstm1(enc_emb)\n",
    "\n",
    "# 인코더의 LSTM 2\n",
    "encoder_lstm2 = LSTM(hidden_size, return_sequences = True, return_state = True,\n",
    "                     dropout = 0.4, recurrent_dropout = 0.4)\n",
    "encoder_output2, state_h2, state_c2 = encoder_lstm2(encoder_output1)\n",
    "\n",
    "# 인코더의 LSTM 3\n",
    "encoder_lstm3 = LSTM(hidden_size, return_sequences = True, return_state = True,\n",
    "                     dropout = 0.4, recurrent_dropout = 0.4)\n",
    "encoder_outputs, state_h, state_c = encoder_lstm3(encoder_output2)"
   ]
  },
  {
   "cell_type": "code",
   "execution_count": 30,
   "id": "0d7e1068",
   "metadata": {},
   "outputs": [
    {
     "name": "stdout",
     "output_type": "stream",
     "text": [
      "WARNING:tensorflow:Layer lstm_6 will not use cuDNN kernels since it doesn't meet the criteria. It will use a generic GPU kernel as fallback when running on GPU.\n",
      "Model: \"model\"\n",
      "__________________________________________________________________________________________________\n",
      "Layer (type)                    Output Shape         Param #     Connected to                     \n",
      "==================================================================================================\n",
      "input_3 (InputLayer)            [(None, 50)]         0                                            \n",
      "__________________________________________________________________________________________________\n",
      "embedding_1 (Embedding)         (None, 50, 128)      2322944     input_3[0][0]                    \n",
      "__________________________________________________________________________________________________\n",
      "lstm_3 (LSTM)                   [(None, 50, 256), (N 394240      embedding_1[0][0]                \n",
      "__________________________________________________________________________________________________\n",
      "input_4 (InputLayer)            [(None, None)]       0                                            \n",
      "__________________________________________________________________________________________________\n",
      "lstm_4 (LSTM)                   [(None, 50, 256), (N 525312      lstm_3[0][0]                     \n",
      "__________________________________________________________________________________________________\n",
      "embedding_2 (Embedding)         (None, None, 128)    969344      input_4[0][0]                    \n",
      "__________________________________________________________________________________________________\n",
      "lstm_5 (LSTM)                   [(None, 50, 256), (N 525312      lstm_4[0][0]                     \n",
      "__________________________________________________________________________________________________\n",
      "lstm_6 (LSTM)                   [(None, None, 256),  394240      embedding_2[0][0]                \n",
      "                                                                 lstm_5[0][1]                     \n",
      "                                                                 lstm_5[0][2]                     \n",
      "__________________________________________________________________________________________________\n",
      "dense (Dense)                   (None, None, 7573)   1946261     lstm_6[0][0]                     \n",
      "==================================================================================================\n",
      "Total params: 7,077,653\n",
      "Trainable params: 7,077,653\n",
      "Non-trainable params: 0\n",
      "__________________________________________________________________________________________________\n"
     ]
    }
   ],
   "source": [
    "# decoder design\n",
    "decoder_inputs = Input(shape = (None,))\n",
    "\n",
    "# 디코더의 임베딩 레이어\n",
    "dec_emb_layer = Embedding(tar_vocab, embedding_dim)\n",
    "dec_emb = dec_emb_layer(decoder_inputs)\n",
    "\n",
    "# decoder LSTM\n",
    "decoder_lstm = LSTM(hidden_size, return_sequences = True, return_state = True,\n",
    "                   dropout = 0.4, recurrent_dropout = 0.2)\n",
    "decoder_outputs, _, _ = decoder_lstm(dec_emb, initial_state = [state_h, state_c])\n",
    "\n",
    "# decoder output layer\n",
    "decoder_softmax_layer = Dense(tar_vocab, activation = 'softmax')\n",
    "decoder_softmax_outputs = decoder_softmax_layer(decoder_outputs)\n",
    "\n",
    "# model define\n",
    "without_attention_model = Model([encoder_inputs, decoder_inputs], decoder_softmax_outputs)\n",
    "without_attention_model.summary()"
   ]
  },
  {
   "cell_type": "code",
   "execution_count": 31,
   "id": "31950786",
   "metadata": {},
   "outputs": [
    {
     "name": "stdout",
     "output_type": "stream",
     "text": [
      "Model: \"model_1\"\n",
      "__________________________________________________________________________________________________\n",
      "Layer (type)                    Output Shape         Param #     Connected to                     \n",
      "==================================================================================================\n",
      "input_3 (InputLayer)            [(None, 50)]         0                                            \n",
      "__________________________________________________________________________________________________\n",
      "embedding_1 (Embedding)         (None, 50, 128)      2322944     input_3[0][0]                    \n",
      "__________________________________________________________________________________________________\n",
      "lstm_3 (LSTM)                   [(None, 50, 256), (N 394240      embedding_1[0][0]                \n",
      "__________________________________________________________________________________________________\n",
      "input_4 (InputLayer)            [(None, None)]       0                                            \n",
      "__________________________________________________________________________________________________\n",
      "lstm_4 (LSTM)                   [(None, 50, 256), (N 525312      lstm_3[0][0]                     \n",
      "__________________________________________________________________________________________________\n",
      "embedding_2 (Embedding)         (None, None, 128)    969344      input_4[0][0]                    \n",
      "__________________________________________________________________________________________________\n",
      "lstm_5 (LSTM)                   [(None, 50, 256), (N 525312      lstm_4[0][0]                     \n",
      "__________________________________________________________________________________________________\n",
      "lstm_6 (LSTM)                   [(None, None, 256),  394240      embedding_2[0][0]                \n",
      "                                                                 lstm_5[0][1]                     \n",
      "                                                                 lstm_5[0][2]                     \n",
      "__________________________________________________________________________________________________\n",
      "attention_layer (AdditiveAttent (None, None, 256)    256         lstm_6[0][0]                     \n",
      "                                                                 lstm_5[0][0]                     \n",
      "__________________________________________________________________________________________________\n",
      "concat_layer (Concatenate)      (None, None, 512)    0           lstm_6[0][0]                     \n",
      "                                                                 attention_layer[0][0]            \n",
      "__________________________________________________________________________________________________\n",
      "dense_1 (Dense)                 (None, None, 7573)   3884949     concat_layer[0][0]               \n",
      "==================================================================================================\n",
      "Total params: 9,016,597\n",
      "Trainable params: 9,016,597\n",
      "Non-trainable params: 0\n",
      "__________________________________________________________________________________________________\n"
     ]
    }
   ],
   "source": [
    "# 인코더의 hidden state 들과 디코더의 hidden state 들을 어텐션 함수의 입력으로 사용하고, \n",
    "# 어텐션 함수가 리턴한 값을 예측 시에 디코더의 hidden state와 함께 활용하는 형태.\n",
    "\n",
    "# attention layer\n",
    "attn_layer = AdditiveAttention(name = 'attention_layer')\n",
    "\n",
    "#  인코더와 디코더의 모든 time step의 hidden state를 어텐션 층에 전달하고 결과를 리턴\n",
    "attn_out = attn_layer([decoder_outputs, encoder_outputs])\n",
    "\n",
    "\n",
    "# Attention result와 디코더의 hidden state 연결\n",
    "decoder_concat_input = Concatenate(axis = -1, name = 'concat_layer')([decoder_outputs, attn_out])\n",
    "\n",
    "# 디코더의 출력층\n",
    "decoder_softmax_layer = Dense(tar_vocab, activation = 'softmax')\n",
    "decoder_softmax_outputs = decoder_softmax_layer(decoder_concat_input)\n",
    "\n",
    "# model definition\n",
    "attention_model = Model([encoder_inputs, decoder_inputs], decoder_softmax_outputs)\n",
    "attention_model.summary()"
   ]
  },
  {
   "cell_type": "markdown",
   "id": "0deb6a03",
   "metadata": {},
   "source": [
    "## (2) 훈련하기"
   ]
  },
  {
   "cell_type": "code",
   "execution_count": 33,
   "id": "c5f228e6",
   "metadata": {
    "scrolled": true
   },
   "outputs": [
    {
     "name": "stdout",
     "output_type": "stream",
     "text": [
      "302/302 [==============================] - 277s 892ms/step - loss: 1.3008 - val_loss: 1.2487\n"
     ]
    }
   ],
   "source": [
    "# Attention 미적용 모델\n",
    "without_attention_model.compile(optimizer = 'rmsprop', loss = 'sparse_categorical_crossentropy')\n",
    "es = EarlyStopping(monitor = 'val_loss', patience = 2, verbose = 1)\n",
    "history = without_attention_model.fit(x = [encoder_input_train, decoder_input_train], y = decoder_target_train,\n",
    "                    validation_data = ([encoder_input_test, decoder_input_test], decoder_target_test),\n",
    "                    batch_size = common_batch_size, callbacks = [es], epochs = 1)\n"
   ]
  },
  {
   "cell_type": "code",
   "execution_count": 34,
   "id": "5dfa15ac",
   "metadata": {},
   "outputs": [
    {
     "data": {
      "image/png": "[encoded data removed]",
      "text/plain": [
       "<Figure size 432x288 with 1 Axes>"
      ]
     },
     "metadata": {
      "needs_background": "light"
     },
     "output_type": "display_data"
    }
   ],
   "source": [
    "plt.plot(history.history['loss'], label = 'train')\n",
    "plt.plot(history.history['val_loss'], label = 'test')\n",
    "plt.legend()\n",
    "plt.show()"
   ]
  },
  {
   "cell_type": "code",
   "execution_count": null,
   "id": "0875235e",
   "metadata": {},
   "outputs": [
    {
     "name": "stdout",
     "output_type": "stream",
     "text": [
      " 57/302 [====>.........................] - ETA: 3:51 - loss: 1.6699"
     ]
    }
   ],
   "source": [
    "# Attention 적용 모델\n",
    "attention_model.compile(optimizer = 'rmsprop', loss = 'sparse_categorical_crossentropy')\n",
    "es = EarlyStopping(monitor = 'val_loss', patience = 2, verbose = 1)\n",
    "history = attention_model.fit(x = [encoder_input_train, decoder_input_train], y = decoder_target_train,\n",
    "                    validation_data = ([encoder_input_test, decoder_input_test], decoder_target_test),\n",
    "                    batch_size = common_batch_size, callbacks = [es], epochs = 1)\n"
   ]
  },
  {
   "cell_type": "code",
   "execution_count": null,
   "id": "7d897dd6",
   "metadata": {},
   "outputs": [],
   "source": [
    "plt.plot(history.history['loss'], label = 'train')\n",
    "plt.plot(history.history['val_loss'], label = 'test')\n",
    "plt.legend()\n",
    "plt.show()"
   ]
  },
  {
   "cell_type": "markdown",
   "id": "50e588d4",
   "metadata": {},
   "source": [
    "## (3) 인퍼런스 모델 구현"
   ]
  },
  {
   "cell_type": "code",
   "execution_count": null,
   "id": "0e8b5b0c",
   "metadata": {},
   "outputs": [],
   "source": [
    "# 데이터 복원용 사전 준비\n",
    "\n",
    "# 원문 단어 집합에서 정수 -> 단어를 얻음\n",
    "src_index_to_word = src_tokenizer.index_word \n",
    "\n",
    "# 요약 단어 집합에서 단어 -> 정수를 얻음\n",
    "tar_word_to_index = tar_tokenizer.word_index\n",
    "\n",
    "# 요약 단어 집합에서 정수 -> 단어를 얻음\n",
    "tar_index_to_word = tar_tokenizer.index_word"
   ]
  },
  {
   "cell_type": "code",
   "execution_count": null,
   "id": "aa1941f1",
   "metadata": {},
   "outputs": [],
   "source": [
    "# 인코더 설계\n",
    "encoder_model = Model(inputs = encoder_inputs, \n",
    "                      outputs = [encoder_outputs, state_h, state_c])\n",
    "\n",
    "# 이전 시점의 상태들을 저장하는 텐서\n",
    "decoder_state_input_h = Input(shape = (hidden_size,))\n",
    "decoder_state_input_c = Input(shape = (hidden_size,))\n",
    "\n",
    "dec_emb2 = dec_emb_layer(decoder_inputs)\n",
    "\n",
    "# 문장의 다음 단어를 예측하기 위해서 초기 상태(initial_state)를 이전 시점의 상태로 사용. 이는 뒤의 함수 decode_sequence()에 구현\n",
    "# 훈련 과정에서와 달리 LSTM의 리턴하는 은닉 상태와 셀 상태인 state_h와 state_c를 버리지 않음.\n",
    "\n",
    "decoder_outputs2, state_h2, state_c2 = \\\n",
    "decoder_lstm(dec_emb2, initial_state= [decoder_state_input_h, decoder_state_input_c])"
   ]
  },
  {
   "cell_type": "code",
   "execution_count": null,
   "id": "8754230d",
   "metadata": {},
   "outputs": [],
   "source": [
    "# Attentional mechanism application layer\n",
    "\n",
    "# attention function\n",
    "decoder_hidden_state_input = Input(shape = (text_max_len, hidden_size))\n",
    "attn_out_inf = attn_layer([decoder_outputs2, decoder_hidden_state_input])\n",
    "decoder_inf_concat = Concatenate(axis = -1, name= 'concat')([decoder_outputs2, attn_out_inf])\n",
    "\n",
    "# decoder output layer\n",
    "decoder_outputs2 = decoder_softmax_layer(decoder_inf_concat)\n",
    "\n",
    "# final decoder model\n",
    "decoder_model = Model([decoder_inputs] + \\\n",
    "                      [decoder_hidden_state_input, decoder_state_input_h,\n",
    "                      decoder_state_input_c], [decoder_outputs2]+\\\n",
    "                     [state_h2, state_c2])"
   ]
  },
  {
   "cell_type": "code",
   "execution_count": null,
   "id": "5ab44d3d",
   "metadata": {},
   "outputs": [],
   "source": [
    "# 인퍼런스 단계에서 단어 시퀀스를 완성하는 함수\n",
    "\n",
    "def decode_sequence(input_seq):\n",
    "    \n",
    "    # 입력으로부터 인코더의 상태를 얻음\n",
    "    e_out, e_h, e_c = encoder_model.predict(input_seq)\n",
    "    \n",
    "    # <SOS>에 해당하는 토큰 생성\n",
    "    target_seq = np.zeros((1,1))\n",
    "    target_seq[0, 0] = tar_word_to_index['sostoken']\n",
    "    \n",
    "    stop_condition = False\n",
    "    decoded_sentence = ''\n",
    "    while not stop_condition: # stop_condition이 True가 될 때까지 루프 반복\n",
    "        \n",
    "        output_tokens, h, c = \\\n",
    "        decoder_model.predict([target_seq]+[e_out, e_h, e_c])\n",
    "        sampled_token_index = np.argmax(output_tokens[0, -1, :])\n",
    "        sampled_token = tar_index_to_word[sampled_token_index]\n",
    "        \n",
    "        if (sampled_token != 'eostoken'):\n",
    "            decoded_sentence += ' '+ sampled_token\n",
    "            \n",
    "        # <eos>에 도달하거나 최대길이를 넘으면 중단.\n",
    "        if (sampled_token == 'eostoken' or len(decoded_sentence.split()) >=\\\n",
    "                                              (summary_max_len-1)):    \n",
    "            stop_condition = True\n",
    "        \n",
    "        # 길이가 1인 타겟 시퀀스를 업데이트\n",
    "        target_seq = np.zeros((1,1))\n",
    "        target_seq[0, 0] = sampled_token_index\n",
    "        \n",
    "        # 상태를 업데이트 합니다.\n",
    "        e_h, e_c = h, c\n",
    "        \n",
    "    return decoded_sentence"
   ]
  },
  {
   "cell_type": "markdown",
   "id": "ce09641b",
   "metadata": {},
   "source": [
    "# 4~5. 실제 결과와 요약문 비교하기 (추상적 요약, 추출적 요약)"
   ]
  },
  {
   "cell_type": "markdown",
   "id": "8947f85c",
   "metadata": {},
   "source": [
    "## (1) 추상적 출력함수 설계 및 추출적 요약 적용"
   ]
  },
  {
   "cell_type": "code",
   "execution_count": null,
   "id": "9cf723de",
   "metadata": {},
   "outputs": [],
   "source": [
    "# 원문의 정수 시퀀스를 텍스트 시퀀스로 변환\n",
    "def seq2text(input_seq):\n",
    "    temp = ''\n",
    "    for i in input_seq:\n",
    "        if (i !=0):\n",
    "            temp = temp + src_index_to_word[i]+ ' '\n",
    "    return temp\n",
    "\n",
    "# 요약문의 정수 시퀀스를 텍스트 시퀀스로 변환\n",
    "def seq2summary(input_seq):\n",
    "    temp = ''\n",
    "    for i in input_seq:\n",
    "        if ((i != 0 and i != tar_word_to_index['sostoken']) and \\\n",
    "            i != tar_word_to_index['eostoken']):\n",
    "            temp = temp + tar_index_to_word[i] + ' '\n",
    "    return temp\n",
    "\n"
   ]
  },
  {
   "cell_type": "code",
   "execution_count": null,
   "id": "97d6f5f3",
   "metadata": {},
   "outputs": [],
   "source": [
    "# 추출 요약. 인스턴스 형식에 맞게 작업 방식을 for 문으로 변경.\n",
    "ext_summary = []\n",
    "for i in range(len(text_for_extraction)):\n",
    "    ext_summary.append(summarize(text_for_extraction[i], words = 15, split = True)) # 비율로 하면 생략되는 행들이 많아 단어 수로 기준 변경."
   ]
  },
  {
   "cell_type": "markdown",
   "id": "32bdc801",
   "metadata": {},
   "source": [
    "## (2) 최종 결과 확인: 원문, 실제 요약(답), 추상 요약, 추출 요약."
   ]
  },
  {
   "cell_type": "code",
   "execution_count": null,
   "id": "46a3bacb",
   "metadata": {
    "scrolled": true
   },
   "outputs": [],
   "source": [
    "# 테스트 데이터 약 50개의 샘플에 대해서 실제 요약과 예측된 요약을 비교.\n",
    "for i in range(50, 100):\n",
    "    print(f'<{i+1}번째 문장 요약>')\n",
    "    print('원문:', seq2text(encoder_input_test[i]))\n",
    "    print('실제 요약:', seq2summary(decoder_input_test[i]))\n",
    "    print('추상 요약:', decode_sequence(encoder_input_test[i].\n",
    "                                    reshape(1, text_max_len)))\n",
    "    print('추출 요약:', ext_summary[i])\n",
    "    print('\\n')"
   ]
  },
  {
   "cell_type": "markdown",
   "id": "589fe771",
   "metadata": {},
   "source": [
    "# 최종 회고\n",
    "- 핵심작업은 깨진단어 제거, 문장 길이 조정, 단어장 크기 재조정이었다.\n",
    "- 실제 요약 문장의 길이가 짧으면 추상/추출 요약문의 어색함도 증가하였다. 분포도를 파악하고 어느 정도 분포가 많은 8~15자 사이로 정하니 품질이 많이 향상됨을 확인할 수 있었다.\n",
    "- 단어장의 크기가 늘어나니 작업시간이 대충 늘어났다. 제출 시간이 임박하여 epoch 수를 줄일 수 밖에 없었던 점이 아쉽다. 시도 횟수를 늘려 추가로 돌리고 자야겠다.\n",
    "- 추상 요약 알고리즘을 적용할 경우 Loss값이 미적용 모델에 비해 약 0.1정도 더 줄어드는 것을 확인하였다. 결과는 확인하였으나 알고리즘의 이해가 많이 부족하다. 논문 원문 공부가 좀 더 필요하다."
   ]
  }
 ],
 "metadata": {
  "kernelspec": {
   "display_name": "Python 3 (ipykernel)",
   "language": "python",
   "name": "python3"
  },
  "language_info": {
   "codemirror_mode": {
    "name": "ipython",
    "version": 3
   },
   "file_extension": ".py",
   "mimetype": "text/x-python",
   "name": "python",
   "nbconvert_exporter": "python",
   "pygments_lexer": "ipython3",
   "version": "3.9.7"
  }
 },
 "nbformat": 4,
 "nbformat_minor": 5
}
