{
 "cells": [
  {
   "cell_type": "markdown",
   "id": "684d3c35",
   "metadata": {},
   "source": [
    "## Breast_cancer"
   ]
  },
  {
   "cell_type": "markdown",
   "id": "346a45fe",
   "metadata": {},
   "source": [
    "## 1. 모듈 임포트"
   ]
  },
  {
   "cell_type": "code",
   "execution_count": 1,
   "id": "5f12466d",
   "metadata": {},
   "outputs": [],
   "source": [
    "from sklearn.datasets import load_breast_cancer \n",
    "from sklearn.model_selection import train_test_split\n",
    "from sklearn.metrics import classification_report\n",
    "import pandas as pd"
   ]
  },
  {
   "cell_type": "markdown",
   "id": "af22b300",
   "metadata": {},
   "source": [
    "## 2. 데이터 준비, 3. 데이터 이해하기"
   ]
  },
  {
   "cell_type": "code",
   "execution_count": 2,
   "id": "55ad2c29",
   "metadata": {
    "scrolled": false
   },
   "outputs": [
    {
     "name": "stdout",
     "output_type": "stream",
     "text": [
      "< Feature names >\n",
      "['mean radius' 'mean texture' 'mean perimeter' 'mean area'\n",
      " 'mean smoothness' 'mean compactness' 'mean concavity'\n",
      " 'mean concave points' 'mean symmetry' 'mean fractal dimension'\n",
      " 'radius error' 'texture error' 'perimeter error' 'area error'\n",
      " 'smoothness error' 'compactness error' 'concavity error'\n",
      " 'concave points error' 'symmetry error' 'fractal dimension error'\n",
      " 'worst radius' 'worst texture' 'worst perimeter' 'worst area'\n",
      " 'worst smoothness' 'worst compactness' 'worst concavity'\n",
      " 'worst concave points' 'worst symmetry' 'worst fractal dimension']\n",
      "\n",
      "< Target names >\n",
      "['malignant' 'benign']\n",
      "\n",
      "< Data shape >\n",
      "(569, 30)\n",
      "\n",
      "< Label shape >\n",
      "(569,)\n",
      ".. _breast_cancer_dataset:\n",
      "\n",
      "Breast cancer wisconsin (diagnostic) dataset\n",
      "--------------------------------------------\n",
      "\n",
      "**Data Set Characteristics:**\n",
      "\n",
      "    :Number of Instances: 569\n",
      "\n",
      "    :Number of Attributes: 30 numeric, predictive attributes and the class\n",
      "\n",
      "    :Attribute Information:\n",
      "        - radius (mean of distances from center to points on the perimeter)\n",
      "        - texture (standard deviation of gray-scale values)\n",
      "        - perimeter\n",
      "        - area\n",
      "        - smoothness (local variation in radius lengths)\n",
      "        - compactness (perimeter^2 / area - 1.0)\n",
      "        - concavity (severity of concave portions of the contour)\n",
      "        - concave points (number of concave portions of the contour)\n",
      "        - symmetry\n",
      "        - fractal dimension (\"coastline approximation\" - 1)\n",
      "\n",
      "        The mean, standard error, and \"worst\" or largest (mean of the three\n",
      "        worst/largest values) of these features were computed for each image,\n",
      "        resulting in 30 features.  For instance, field 0 is Mean Radius, field\n",
      "        10 is Radius SE, field 20 is Worst Radius.\n",
      "\n",
      "        - class:\n",
      "                - WDBC-Malignant\n",
      "                - WDBC-Benign\n",
      "\n",
      "    :Summary Statistics:\n",
      "\n",
      "    ===================================== ====== ======\n",
      "                                           Min    Max\n",
      "    ===================================== ====== ======\n",
      "    radius (mean):                        6.981  28.11\n",
      "    texture (mean):                       9.71   39.28\n",
      "    perimeter (mean):                     43.79  188.5\n",
      "    area (mean):                          143.5  2501.0\n",
      "    smoothness (mean):                    0.053  0.163\n",
      "    compactness (mean):                   0.019  0.345\n",
      "    concavity (mean):                     0.0    0.427\n",
      "    concave points (mean):                0.0    0.201\n",
      "    symmetry (mean):                      0.106  0.304\n",
      "    fractal dimension (mean):             0.05   0.097\n",
      "    radius (standard error):              0.112  2.873\n",
      "    texture (standard error):             0.36   4.885\n",
      "    perimeter (standard error):           0.757  21.98\n",
      "    area (standard error):                6.802  542.2\n",
      "    smoothness (standard error):          0.002  0.031\n",
      "    compactness (standard error):         0.002  0.135\n",
      "    concavity (standard error):           0.0    0.396\n",
      "    concave points (standard error):      0.0    0.053\n",
      "    symmetry (standard error):            0.008  0.079\n",
      "    fractal dimension (standard error):   0.001  0.03\n",
      "    radius (worst):                       7.93   36.04\n",
      "    texture (worst):                      12.02  49.54\n",
      "    perimeter (worst):                    50.41  251.2\n",
      "    area (worst):                         185.2  4254.0\n",
      "    smoothness (worst):                   0.071  0.223\n",
      "    compactness (worst):                  0.027  1.058\n",
      "    concavity (worst):                    0.0    1.252\n",
      "    concave points (worst):               0.0    0.291\n",
      "    symmetry (worst):                     0.156  0.664\n",
      "    fractal dimension (worst):            0.055  0.208\n",
      "    ===================================== ====== ======\n",
      "\n",
      "    :Missing Attribute Values: None\n",
      "\n",
      "    :Class Distribution: 212 - Malignant, 357 - Benign\n",
      "\n",
      "    :Creator:  Dr. William H. Wolberg, W. Nick Street, Olvi L. Mangasarian\n",
      "\n",
      "    :Donor: Nick Street\n",
      "\n",
      "    :Date: November, 1995\n",
      "\n",
      "This is a copy of UCI ML Breast Cancer Wisconsin (Diagnostic) datasets.\n",
      "https://goo.gl/U2Uwz2\n",
      "\n",
      "Features are computed from a digitized image of a fine needle\n",
      "aspirate (FNA) of a breast mass.  They describe\n",
      "characteristics of the cell nuclei present in the image.\n",
      "\n",
      "Separating plane described above was obtained using\n",
      "Multisurface Method-Tree (MSM-T) [K. P. Bennett, \"Decision Tree\n",
      "Construction Via Linear Programming.\" Proceedings of the 4th\n",
      "Midwest Artificial Intelligence and Cognitive Science Society,\n",
      "pp. 97-101, 1992], a classification method which uses linear\n",
      "programming to construct a decision tree.  Relevant features\n",
      "were selected using an exhaustive search in the space of 1-4\n",
      "features and 1-3 separating planes.\n",
      "\n",
      "The actual linear program used to obtain the separating plane\n",
      "in the 3-dimensional space is that described in:\n",
      "[K. P. Bennett and O. L. Mangasarian: \"Robust Linear\n",
      "Programming Discrimination of Two Linearly Inseparable Sets\",\n",
      "Optimization Methods and Software 1, 1992, 23-34].\n",
      "\n",
      "This database is also available through the UW CS ftp server:\n",
      "\n",
      "ftp ftp.cs.wisc.edu\n",
      "cd math-prog/cpo-dataset/machine-learn/WDBC/\n",
      "\n",
      ".. topic:: References\n",
      "\n",
      "   - W.N. Street, W.H. Wolberg and O.L. Mangasarian. Nuclear feature extraction \n",
      "     for breast tumor diagnosis. IS&T/SPIE 1993 International Symposium on \n",
      "     Electronic Imaging: Science and Technology, volume 1905, pages 861-870,\n",
      "     San Jose, CA, 1993.\n",
      "   - O.L. Mangasarian, W.N. Street and W.H. Wolberg. Breast cancer diagnosis and \n",
      "     prognosis via linear programming. Operations Research, 43(4), pages 570-577, \n",
      "     July-August 1995.\n",
      "   - W.H. Wolberg, W.N. Street, and O.L. Mangasarian. Machine learning techniques\n",
      "     to diagnose breast cancer from fine-needle aspirates. Cancer Letters 77 (1994) \n",
      "     163-171.\n"
     ]
    }
   ],
   "source": [
    "breast_cancer = load_breast_cancer()\n",
    "breast_cancer_data = breast_cancer.data\n",
    "breast_cancer_label = breast_cancer.target\n",
    "\n",
    "print(\"< Feature names >\")\n",
    "print(breast_cancer.feature_names)\n",
    "print(\"\\n< Target names >\")\n",
    "print(breast_cancer.target_names)\n",
    "print(\"\\n< Data shape >\")\n",
    "print(breast_cancer_data.shape)\n",
    "print(\"\\n< Label shape >\")\n",
    "print(breast_cancer_label.shape)\n",
    "\n",
    "print(breast_cancer.DESCR)"
   ]
  },
  {
   "cell_type": "markdown",
   "id": "3fa977c3",
   "metadata": {},
   "source": [
    "## 4. train, test 데이터 분리"
   ]
  },
  {
   "cell_type": "code",
   "execution_count": 3,
   "id": "d23351d1",
   "metadata": {
    "scrolled": false
   },
   "outputs": [],
   "source": [
    "X_train, X_test, y_train, y_test = train_test_split(breast_cancer_data, breast_cancer_label, \n",
    "                                                    test_size = 0.5, random_state= 5)    ## test_size를 변경하며 시험.\n"
   ]
  },
  {
   "cell_type": "markdown",
   "id": "dc4d2d81",
   "metadata": {},
   "source": [
    "## 5. 모델별 학습"
   ]
  },
  {
   "cell_type": "code",
   "execution_count": 4,
   "id": "a82e25a5",
   "metadata": {
    "scrolled": false
   },
   "outputs": [
    {
     "name": "stdout",
     "output_type": "stream",
     "text": [
      "------------------------------Train result------------------------------\n",
      "              precision    recall  f1-score   support\n",
      "\n",
      "           0       0.87      0.92      0.89        99\n",
      "           1       0.96      0.92      0.94       186\n",
      "\n",
      "    accuracy                           0.92       285\n",
      "   macro avg       0.91      0.92      0.92       285\n",
      "weighted avg       0.92      0.92      0.92       285\n",
      "\n"
     ]
    }
   ],
   "source": [
    "### Decision tree\n",
    "from sklearn.tree import DecisionTreeClassifier   ## 모델 불러오기\n",
    "\n",
    "decision_tree = DecisionTreeClassifier(random_state = 32)   ## 모델 지정\n",
    "decision_tree.fit(X_train, y_train)\n",
    "y_pred = decision_tree.predict(X_test)\n",
    "\n",
    "print(\"------------------------------Train result------------------------------\")\n",
    "print(classification_report(y_test, y_pred))"
   ]
  },
  {
   "cell_type": "code",
   "execution_count": 5,
   "id": "5d9b4522",
   "metadata": {},
   "outputs": [
    {
     "name": "stdout",
     "output_type": "stream",
     "text": [
      "------------------------------Train result------------------------------\n",
      "              precision    recall  f1-score   support\n",
      "\n",
      "           0       0.96      0.96      0.96        99\n",
      "           1       0.98      0.98      0.98       186\n",
      "\n",
      "    accuracy                           0.97       285\n",
      "   macro avg       0.97      0.97      0.97       285\n",
      "weighted avg       0.97      0.97      0.97       285\n",
      "\n"
     ]
    }
   ],
   "source": [
    "### Random Forest\n",
    "from sklearn.ensemble import RandomForestClassifier   ## 모델 불러오기\n",
    "\n",
    "decision_tree = RandomForestClassifier(random_state = 32)   ## 모델 지정\n",
    "decision_tree.fit(X_train, y_train)\n",
    "y_pred = decision_tree.predict(X_test)\n",
    "\n",
    "print(\"------------------------------Train result------------------------------\")\n",
    "print(classification_report(y_test, y_pred))"
   ]
  },
  {
   "cell_type": "code",
   "execution_count": 6,
   "id": "794a43d0",
   "metadata": {},
   "outputs": [
    {
     "name": "stdout",
     "output_type": "stream",
     "text": [
      "------------------------------Train result------------------------------\n",
      "              precision    recall  f1-score   support\n",
      "\n",
      "           0       0.98      0.90      0.94        99\n",
      "           1       0.95      0.99      0.97       186\n",
      "\n",
      "    accuracy                           0.96       285\n",
      "   macro avg       0.96      0.94      0.95       285\n",
      "weighted avg       0.96      0.96      0.96       285\n",
      "\n"
     ]
    }
   ],
   "source": [
    "### Support Vector Machine\n",
    "from sklearn import svm   ## 모델 불러오기\n",
    "\n",
    "decision_tree = svm.SVC(random_state = 32)   ## 모델 지정\n",
    "decision_tree.fit(X_train, y_train)\n",
    "y_pred = decision_tree.predict(X_test)\n",
    "\n",
    "print(\"------------------------------Train result------------------------------\")\n",
    "print(classification_report(y_test, y_pred))\n"
   ]
  },
  {
   "cell_type": "code",
   "execution_count": 7,
   "id": "53c5e1b8",
   "metadata": {},
   "outputs": [
    {
     "name": "stdout",
     "output_type": "stream",
     "text": [
      "------------------------------Train result------------------------------\n",
      "              precision    recall  f1-score   support\n",
      "\n",
      "           0       0.99      0.84      0.91        99\n",
      "           1       0.92      0.99      0.96       186\n",
      "\n",
      "    accuracy                           0.94       285\n",
      "   macro avg       0.95      0.92      0.93       285\n",
      "weighted avg       0.94      0.94      0.94       285\n",
      "\n"
     ]
    }
   ],
   "source": [
    "### Stochastic Gradient Descent\n",
    "from sklearn.linear_model import SGDClassifier   ## 모델 불러오기\n",
    "\n",
    "decision_tree = SGDClassifier(random_state = 32)   ## 모델 지정\n",
    "decision_tree.fit(X_train, y_train)\n",
    "y_pred = decision_tree.predict(X_test)\n",
    "\n",
    "print(\"------------------------------Train result------------------------------\")\n",
    "print(classification_report(y_test, y_pred))\n"
   ]
  },
  {
   "cell_type": "code",
   "execution_count": 8,
   "id": "b3155af8",
   "metadata": {},
   "outputs": [
    {
     "name": "stdout",
     "output_type": "stream",
     "text": [
      "------------------------------Train result------------------------------\n",
      "              precision    recall  f1-score   support\n",
      "\n",
      "           0       0.95      0.97      0.96        99\n",
      "           1       0.98      0.97      0.98       186\n",
      "\n",
      "    accuracy                           0.97       285\n",
      "   macro avg       0.97      0.97      0.97       285\n",
      "weighted avg       0.97      0.97      0.97       285\n",
      "\n"
     ]
    }
   ],
   "source": [
    "### Logistic Regression\n",
    "from sklearn.linear_model import LogisticRegression   ## 모델 불러오기\n",
    "\n",
    "decision_tree = LogisticRegression(random_state = 32, max_iter = 5000)   ## 모델 지정\n",
    "decision_tree.fit(X_train, y_train)\n",
    "y_pred = decision_tree.predict(X_test)\n",
    "\n",
    "print(\"------------------------------Train result------------------------------\")\n",
    "print(classification_report(y_test, y_pred))"
   ]
  },
  {
   "cell_type": "markdown",
   "id": "27988be5",
   "metadata": {},
   "source": [
    "## 6. 평가 및 회고\n",
    "\n",
    "#### DT: Decision Tree, RF: Random Forest, SVM: Support Vector Machine, SGD: Stochastic Gradient Descent, LR: Logistic Regression\n",
    "### 모델별 예측정확도 결과는 아래와 같다.\n",
    "\n",
    "#### Test size: 0.1일때\n",
    "#### DT: 95%, RF: 96%, SVM: 96%, SGD: 89%, LR: 96%\n",
    "\n",
    "#### Test size: 0.2일때\n",
    "#### DT: 94%, RF: 97%, SVM: 94%, SGD: 61%, LR: 96%\n",
    "\n",
    "#### Test size: 0.3일때\n",
    "#### DT: 93%, RF: 98%, SVM: 96%, SGD: 90%, LR: 98%\n",
    "\n",
    "#### Test size: 0.4일때\n",
    "#### DT: 94%, RF: 97%, SVM: 96%, SGD: 95%, LR: 99%\n",
    "\n",
    "#### Test size: 0.5일때\n",
    "#### DT: 92%, RF: 97%, SVM: 96%, SGD: 94%, LR: 97%\n",
    "\n",
    "### RF와 LR가 가장 높았고 Test size에 따라 1~2%씩 차이는 있었으나 무시할만한 수준으로 본다. 둘다 베스트 모델. \n",
    "### Test size 0.4에서 LR이 99%이긴 하나, 유의미한 차이로 보기에는 부족하지 않나 싶다. 인스턴스 수가 569인데, 이 수치가 유의미한지는 통계적 지식이 있어야 판별할 수 있을 것으로 생각된다.\n",
    "### 이 데이터셋은 Digits와 같이 Test size에 영향을 받는 폭이 미미했다. \n",
    "\n",
    "### 3개 데이터셋을 종합하면,Label의 개수가 많을 경우, DT는 확률이 떨어지고 있다. 예외가 나올 확률이 높은 알고리즘의 특성이 잘 드러나고 있다."
   ]
  },
  {
   "cell_type": "code",
   "execution_count": null,
   "id": "e0e4dcbe",
   "metadata": {},
   "outputs": [],
   "source": []
  }
 ],
 "metadata": {
  "kernelspec": {
   "display_name": "Python 3 (ipykernel)",
   "language": "python",
   "name": "python3"
  },
  "language_info": {
   "codemirror_mode": {
    "name": "ipython",
    "version": 3
   },
   "file_extension": ".py",
   "mimetype": "text/x-python",
   "name": "python",
   "nbconvert_exporter": "python",
   "pygments_lexer": "ipython3",
   "version": "3.9.7"
  }
 },
 "nbformat": 4,
 "nbformat_minor": 5
}
