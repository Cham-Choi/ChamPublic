{
 "cells": [
  {
   "cell_type": "markdown",
   "id": "a8a1275d",
   "metadata": {},
   "source": [
    "## 1. 데이터 준비와 확인"
   ]
  },
  {
   "cell_type": "code",
   "execution_count": 1,
   "id": "68478cb6",
   "metadata": {},
   "outputs": [],
   "source": [
    "# gensim 3.4.0 설치. 초기 1회만 가동.\n",
    "#pip install gensim==3.4.0"
   ]
  },
  {
   "cell_type": "code",
   "execution_count": 2,
   "id": "e000449a",
   "metadata": {},
   "outputs": [
    {
     "data": {
      "text/html": [
       "<div>\n",
       "<style scoped>\n",
       "    .dataframe tbody tr th:only-of-type {\n",
       "        vertical-align: middle;\n",
       "    }\n",
       "\n",
       "    .dataframe tbody tr th {\n",
       "        vertical-align: top;\n",
       "    }\n",
       "\n",
       "    .dataframe thead th {\n",
       "        text-align: right;\n",
       "    }\n",
       "</style>\n",
       "<table border=\"1\" class=\"dataframe\">\n",
       "  <thead>\n",
       "    <tr style=\"text-align: right;\">\n",
       "      <th></th>\n",
       "      <th>id</th>\n",
       "      <th>document</th>\n",
       "      <th>label</th>\n",
       "    </tr>\n",
       "  </thead>\n",
       "  <tbody>\n",
       "    <tr>\n",
       "      <th>0</th>\n",
       "      <td>9976970</td>\n",
       "      <td>아 더빙.. 진짜 짜증나네요 목소리</td>\n",
       "      <td>0</td>\n",
       "    </tr>\n",
       "    <tr>\n",
       "      <th>1</th>\n",
       "      <td>3819312</td>\n",
       "      <td>흠...포스터보고 초딩영화줄....오버연기조차 가볍지 않구나</td>\n",
       "      <td>1</td>\n",
       "    </tr>\n",
       "    <tr>\n",
       "      <th>2</th>\n",
       "      <td>10265843</td>\n",
       "      <td>너무재밓었다그래서보는것을추천한다</td>\n",
       "      <td>0</td>\n",
       "    </tr>\n",
       "    <tr>\n",
       "      <th>3</th>\n",
       "      <td>9045019</td>\n",
       "      <td>교도소 이야기구먼 ..솔직히 재미는 없다..평점 조정</td>\n",
       "      <td>0</td>\n",
       "    </tr>\n",
       "    <tr>\n",
       "      <th>4</th>\n",
       "      <td>6483659</td>\n",
       "      <td>사이몬페그의 익살스런 연기가 돋보였던 영화!스파이더맨에서 늙어보이기만 했던 커스틴 ...</td>\n",
       "      <td>1</td>\n",
       "    </tr>\n",
       "  </tbody>\n",
       "</table>\n",
       "</div>"
      ],
      "text/plain": [
       "         id                                           document  label\n",
       "0   9976970                                아 더빙.. 진짜 짜증나네요 목소리      0\n",
       "1   3819312                  흠...포스터보고 초딩영화줄....오버연기조차 가볍지 않구나      1\n",
       "2  10265843                                  너무재밓었다그래서보는것을추천한다      0\n",
       "3   9045019                      교도소 이야기구먼 ..솔직히 재미는 없다..평점 조정      0\n",
       "4   6483659  사이몬페그의 익살스런 연기가 돋보였던 영화!스파이더맨에서 늙어보이기만 했던 커스틴 ...      1"
      ]
     },
     "execution_count": 2,
     "metadata": {},
     "output_type": "execute_result"
    }
   ],
   "source": [
    "# 라이브러리 로드\n",
    "import pandas as pd         # 데이터 구분\n",
    "from konlpy.tag import Mecab   # 토크나이저\n",
    "import numpy as np            # 텐서 형식 지원\n",
    "from collections import Counter   # 단어의 개수 세기\n",
    "\n",
    "import tensorflow as tf        # 길이 맞춘 후 빈칸 패드로 채우기, 훈련 시키기, 시험하기.\n",
    "from tensorflow.keras.callbacks import EarlyStopping, ModelCheckpoint\n",
    "import matplotlib.pyplot as plt # 그래프 그리기\n",
    "import os\n",
    "from tensorflow.keras.initializers import Constant  # 워드 벡터 임베딩\n",
    "from gensim.models import Word2Vec\n",
    "\n",
    "from gensim.models import Word2Vec\n",
    "import warnings\n",
    "warnings.filterwarnings('ignore', category = UserWarning, module = 'bs4')\n",
    "\n",
    "# 데이터 로드 \n",
    "train_data = pd.read_table('~/aiffel/sentiment_classification/data/ratings_train.txt')\n",
    "test_data = pd.read_table('~/aiffel/sentiment_classification/data/ratings_test.txt')\n",
    "\n",
    "train_data.head()"
   ]
  },
  {
   "cell_type": "code",
   "execution_count": 3,
   "id": "a8c0b95a",
   "metadata": {},
   "outputs": [],
   "source": [
    "# 모델 훈련 파라미터 설정. 편의상 위로 올림.\n",
    "# 공통 파라미터 설정\n",
    "\n",
    "word_vector_dim = 200    # 워드 벡터의 차원 지정. 200이 아니면 워드 임베딩 차원 안맞아 에러 발생.\n",
    "epochs = 10 \n",
    "batch_size = 1024\n",
    "es = EarlyStopping(monitor = 'val_loss', patience = 2, verbose = 1)  # 조기 종료 감시\n",
    "\n",
    "# LSTM 파라미터\n",
    "LSTM_layer = 128  # LSTM state 벡터의 차원수 기본값은 8. (변경 가능)\n",
    "LSTM_epochs = epochs\n",
    "LSTM_batch_size = batch_size\n",
    "\n",
    "# CNN1D 파라미터\n",
    "CNN1D_MaxPoolingValue = 6\n",
    "CNN1D_epochs = epochs\n",
    "CNN1D_batch_size = batch_size\n",
    "\n",
    "# onlyGMP 파라미터\n",
    "onlyGMP_epochs = epochs\n",
    "onlyGMP_batch_size = batch_size"
   ]
  },
  {
   "cell_type": "markdown",
   "id": "7a9aa516",
   "metadata": {},
   "source": [
    "## 2. 데이터로더 구성\n",
    "- 데이터의 중복 제거\n",
    "- NaN 결측치 제거\n",
    "- 한국어 토크나이저로 토큰화\n",
    "- 불용어(Stopwords) 제거\n",
    "- 사전(word_to_index) 구성\n",
    "- 텍스트 스트링을 사전 인덱스 스트링으로 변환\n",
    "- X_train, y_train, X_test, y_test, word_to_index 리턴"
   ]
  },
  {
   "cell_type": "code",
   "execution_count": 4,
   "id": "aa2044cb",
   "metadata": {},
   "outputs": [
    {
     "name": "stdout",
     "output_type": "stream",
     "text": [
      "counter의 항목 10개 시범출력:\n",
      "[('.', 159415), ('영화', 57338), ('다', 54971), ('고', 47196), ('하', 44376), ('을', 29832), ('보', 25603), ('..', 22655), ('게', 22161), (',', 22047)]\n",
      "counter의 길이는: 9996\n",
      "vocab의 항목 10개 시범출력\n",
      "['', '', '', '', '.', '영화', '다', '고', '하', '을']\n"
     ]
    }
   ],
   "source": [
    "tokenizer = Mecab()  ### 윈도우에서 실행하려면 추가 작업 필요.\n",
    "stopwords = ['의','가','이','은','들','는','좀','잘','걍','과','도','를','으로','자','에','와','한','하다']\n",
    "num_words = 10000   # 단어 개수\n",
    "def load_data(train_data, test_data, num_words):\n",
    "    \n",
    "    # 중복, 결측치 제거\n",
    "    # drop_duplicates(): 중복값 처리(1개만 남기고 나머지는 제거. 어느쪽을 남길지는 keep = 'first', 'last', False로 선택.)\n",
    "    # documnet: 대사.\n",
    "    # inplace: rename, drop 등의 메뉴를 사용할 때, 변경값을 저장(True)한다.\n",
    "    # subset: 검색 대상 열\n",
    "    train_data.drop_duplicates(subset=['document'], inplace=True)  \n",
    "    train_data = train_data.dropna(how = 'any') # 결측값 처리. any: 행 또는 열에 NaN이 1개만 있어도 드롭.(디폴트값.)\n",
    "    test_data.drop_duplicates(subset=['document'], inplace=True)\n",
    "    test_data = test_data.dropna(how = 'any') \n",
    "    \n",
    "    # 한국어 토큰화 및 불용어 제거\n",
    "    X_train = []\n",
    "    for sentence in train_data['document']:  # 문장에는 트레인 데이터의 대사를 입력\n",
    "        temp_X = tokenizer.morphs(sentence) # 토큰화. morphs: 형태소 추출\n",
    "        # 만약 stopwords에 해당하는 word가 없다면, temp_X 안의 word 들을 temp_X에 넣는다.\n",
    "        temp_X = [word for word in temp_X if not word in stopwords] # 불용어 제거\n",
    "        X_train.append(temp_X)\n",
    "\n",
    "    X_test = []\n",
    "    for sentence in test_data['document']:  # 문자에 트레인 데이터 입력\n",
    "        temp_X = tokenizer.morphs(sentence) # 토큰화\n",
    "        temp_X = [word for word in temp_X if not word in stopwords] # 불용어 제거\n",
    "        X_test.append(temp_X)\n",
    "    \n",
    "    words = np.concatenate(X_train).tolist() #tolist: 같은 레벨에 있는 데이터끼리 묶어준다.\n",
    "    counter = Counter(words)  # 단어의 개수 세기\n",
    "    counter = counter.most_common(num_words-4)  ### 데이터의 개수가 많은 순으로 정렬된 배열을 리턴. 숫자가 입력되면 그 숫자만큼만 리턴.9996개인가??\n",
    "    print(\"counter의 항목 10개 시범출력:\")\n",
    "    print(counter[:10]) #리스트 타입.\n",
    "    print(\"counter의 길이는:\", len(counter))\n",
    "    vocab = ['', '', '', ''] + [key for key, _ in counter] \n",
    "    print(\"vocab의 항목 10개 시범출력\")\n",
    "    print(vocab[:10])  #리스트 타입\n",
    "    word_to_index = {word:index for index, word in enumerate(vocab)} \n",
    "    #print(word_to_index.items()) #딕셔너리 타입. 일부만 출력하려면 for 문을 써줘야 한다.\n",
    "    \n",
    "    # 사전(word_to_index) 구성\n",
    "    def wordlist_to_indexlist(wordlist):\n",
    "        return [word_to_index[word] if word in word_to_index else word_to_index[''] for word in wordlist]\n",
    "    \n",
    "    # 텍스트 스트링을 사전 인덱스 스트링으로 변환    \n",
    "    X_train = list(map(wordlist_to_indexlist, X_train))\n",
    "    type(X_train)\n",
    "    X_test = list(map(wordlist_to_indexlist, X_test))\n",
    "    type(X_test)\n",
    "    \n",
    "    # X_train, y_train, X_test, y_test, word_to_index 리턴\n",
    "    return X_train, np.array(list(train_data['label'])), X_test, np.array(list(test_data['label'])), word_to_index\n",
    "\n",
    "\n",
    "X_train, y_train, X_test, y_test, word_to_index = load_data(train_data, test_data, num_words)"
   ]
  },
  {
   "cell_type": "code",
   "execution_count": 5,
   "id": "dec7b0f7",
   "metadata": {},
   "outputs": [
    {
     "name": "stdout",
     "output_type": "stream",
     "text": [
      "X_train 타입 확인\n",
      "<class 'list'>\n",
      "X_train 항목 3개 시범 출력\n",
      "[[32, 74, 919, 4, 4, 39, 228, 20, 33, 748], [1028, 4, 11, 519, 549, 687, 5, 120, 4, 70, 1639, 52, 925, 1006, 15, 44, 391], [24, 205, 3]]\n",
      "X_test 타입 확인\n",
      "<class 'list'>\n",
      "X_test 항목 3개 시범 출력\n",
      "[[832, 130], [3], [85, 111, 58, 4, 70, 950, 332, 44, 38, 100, 37, 641, 3557, 73, 917]]\n"
     ]
    }
   ],
   "source": [
    "print('X_train 타입 확인')\n",
    "print(type(X_train))\n",
    "print('X_train 항목 3개 시범 출력')\n",
    "print(X_train[:3]) # 이중 리스트.\n",
    "print('X_test 타입 확인')\n",
    "print(type(X_test))\n",
    "print('X_test 항목 3개 시범 출력')\n",
    "print(X_test[:3]) # 이중 리스트"
   ]
  },
  {
   "cell_type": "code",
   "execution_count": 6,
   "id": "c5717829",
   "metadata": {},
   "outputs": [
    {
     "name": "stdout",
     "output_type": "stream",
     "text": [
      "y_train 타입 확인\n",
      "<class 'numpy.ndarray'>\n",
      "y_train 항목 10개 시범 출력\n",
      "[0 1 0 0 1 0 0 0 1 1]\n",
      "y_test 타입 확인\n",
      "<class 'numpy.ndarray'>\n",
      "t_test 항목 10개 시범 출력\n",
      "[1 0 0 0 0 1 0 0 0 1]\n"
     ]
    }
   ],
   "source": [
    "print('y_train 타입 확인')\n",
    "print(type(y_train))\n",
    "print('y_train 항목 10개 시범 출력')\n",
    "print(y_train[:10]) # 이중 리스트.\n",
    "print('y_test 타입 확인')\n",
    "print(type(y_test))\n",
    "print('t_test 항목 10개 시범 출력')\n",
    "print(y_test[:10]) # 이중 리스트"
   ]
  },
  {
   "cell_type": "code",
   "execution_count": 7,
   "id": "b8d0794e",
   "metadata": {},
   "outputs": [
    {
     "name": "stdout",
     "output_type": "stream",
     "text": [
      "word_to_index 딕셔너리의 초반 항목 확인.\n",
      "key:  , value : 3\n",
      "key: . , value : 4\n",
      "key: 영화 , value : 5\n",
      "key: 다 , value : 6\n",
      "key: 고 , value : 7\n",
      "key: 하 , value : 8\n",
      "key: 을 , value : 9\n",
      "key: 보 , value : 10\n",
      "key: .. , value : 11\n",
      "**0, 1, 2번 항이 빈 것을 확인함.**\n"
     ]
    }
   ],
   "source": [
    "print('word_to_index 딕셔너리의 초반 항목 확인.')\n",
    "for k, v in word_to_index.items():\n",
    "    print(\"key:\", k,\", value :\", v)\n",
    "    if v>10:\n",
    "        break\n",
    "print('**0, 1, 2번 항이 빈 것을 확인함.**')"
   ]
  },
  {
   "cell_type": "code",
   "execution_count": 8,
   "id": "551f754c",
   "metadata": {},
   "outputs": [
    {
     "name": "stdout",
     "output_type": "stream",
     "text": [
      "특수 항목 삽입을 위한 위치 조정.\n",
      "특수 항목 삽입 및 초반 항목 재확인.\n",
      "key:  , value : 3\n",
      "key: . , value : 4\n",
      "key: 영화 , value : 5\n",
      "key: 다 , value : 6\n",
      "key: 고 , value : 7\n",
      "key: 하 , value : 8\n",
      "key: 을 , value : 9\n",
      "key: 보 , value : 10\n",
      "key: .. , value : 11\n",
      "**초반 항목 변경사항 확인.**\n"
     ]
    }
   ],
   "source": [
    "print('특수 항목 삽입을 위한 위치 조정.')\n",
    "#word_to_index = {k:(v+1) for k,v in word_to_index.items()}\n",
    "word_to_index = {k:v for k,v in word_to_index.items()}\n",
    "print('특수 항목 삽입 및 초반 항목 재확인.')\n",
    "word_to_index[\"<PAD>\"] = 0\n",
    "word_to_index[\"<BOS>\"] = 1\n",
    "word_to_index[\"<UNK>\"] = 2  # unknown\n",
    "#word_to_index[\"<UNUSED>\"] = 3\n",
    "for k, v in word_to_index.items():\n",
    "    print(\"key:\", k,\", value :\", v)\n",
    "    if v>10:\n",
    "        break\n",
    "print('**초반 항목 변경사항 확인.**')"
   ]
  },
  {
   "cell_type": "markdown",
   "id": "7b9172ee",
   "metadata": {},
   "source": [
    "### 중간회고: 위 딕셔너리에서 0~3번은 왜 출력이 안 되는가?\n",
    "- 항목을 일일이 출력해 확인해 본 결과 잘 되었음.\n",
    "- 특수항목이 제대로 나오지 않는 이유는 잘 모르겠음.\n",
    "- 다른 인원들과 토론해 보았으나 만족스런 결과는 나오지 않음."
   ]
  },
  {
   "cell_type": "code",
   "execution_count": 9,
   "id": "62743b5e",
   "metadata": {},
   "outputs": [
    {
     "name": "stdout",
     "output_type": "stream",
     "text": [
      "0\n",
      "1\n",
      "2\n",
      "3\n",
      "4\n",
      "5\n"
     ]
    }
   ],
   "source": [
    "print(word_to_index[\"<PAD>\"])\n",
    "print(word_to_index[\"<BOS>\"])\n",
    "print(word_to_index[\"<UNK>\"])\n",
    "#print(word_to_index[\"<UNUSED>\"])\n",
    "print(word_to_index[\"\"])\n",
    "print(word_to_index[\".\"])\n",
    "print(word_to_index[\"영화\"])"
   ]
  },
  {
   "cell_type": "code",
   "execution_count": 10,
   "id": "4ae28f33",
   "metadata": {},
   "outputs": [
    {
     "name": "stdout",
     "output_type": "stream",
     "text": [
      "word to index 항목 추출\n",
      "key:  , value : 3\n",
      "key: . , value : 4\n",
      "key: 영화 , value : 5\n",
      "key: 다 , value : 6\n",
      "key: 고 , value : 7\n",
      "key: 하 , value : 8\n",
      "key: 을 , value : 9\n",
      "key: 보 , value : 10\n",
      "key: .. , value : 11\n"
     ]
    }
   ],
   "source": [
    "index_to_word = {index:word for word, index in word_to_index.items()}\n",
    "print(\"word to index 항목 추출\")\n",
    "for k, v in word_to_index.items():\n",
    "    print(\"key:\", k,\", value :\", v)\n",
    "    if v>10:\n",
    "        break"
   ]
  },
  {
   "cell_type": "code",
   "execution_count": 11,
   "id": "8c21a6d6",
   "metadata": {},
   "outputs": [
    {
     "name": "stdout",
     "output_type": "stream",
     "text": [
      "<PAD>\n",
      "<BOS>\n",
      "<UNK>\n",
      "\n",
      ".\n",
      "영화\n",
      "다\n"
     ]
    }
   ],
   "source": [
    "print(index_to_word[0])\n",
    "print(index_to_word[1])\n",
    "print(index_to_word[2])\n",
    "print(index_to_word[3])\n",
    "print(index_to_word[4])\n",
    "print(index_to_word[5])\n",
    "print(index_to_word[6])"
   ]
  },
  {
   "cell_type": "code",
   "execution_count": 12,
   "id": "75cb92d4",
   "metadata": {},
   "outputs": [],
   "source": [
    "# 문장 <-> 단어 인덱스 리스트 벡터로 변환해 주는 함수들 \n",
    "# 단, 모든 문장은 <BOS>로 시작하고 없는 것은 '<UNK>'로 처리.\n",
    "\n",
    "# 한 개의 문장을 단어 인덱스 리스트 벡터로 인코딩\n",
    "def get_encoded_sentence(sentence, word_to_index):\n",
    "    return [word_to_index['<BOS>']]\\\n",
    "+[word_to_index[word] if word in word_to_index else word_to_index['<UNK>'] for word in sentence.split()]\n",
    "    #return [word_to_index['<BOS>']]+[word_to_index[word] if word in word_to_index else word_to_index['<UNK>'] for word in sentence.split()]\n",
    "\n",
    "# 여러 개의 문장들을 한꺼번에 단어 인덱스 리스트 벡터들로 인코딩\n",
    "def get_encoded_sentences(sentences, word_to_index):\n",
    "    return [get_encoded_sentence(sentence, word_to_index) for sentence in sentences]\n",
    "\n",
    "# 한 개의 단어 인덱스 리스트 벡터를 문장으로 디코딩\n",
    "def get_decoded_sentence(encoded_sentence, index_to_word):\n",
    "    return ' '.join(index_to_word[index] if index in index_to_word else '<UNK>' for index in encoded_sentence[1:])  #[1:]를 통해 <BOS>를 제외\n",
    "\n",
    "# 여러 개의 단어 인덱스 리스트 벡터들을 한꺼번에 문장들로 디코딩\n",
    "def get_decoded_sentences(encoded_sentences, index_to_word):\n",
    "    return [get_decoded_sentence(encoded_sentence, index_to_word) for encoded_sentence in encoded_sentences]"
   ]
  },
  {
   "cell_type": "markdown",
   "id": "efe904de",
   "metadata": {},
   "source": [
    "## 3. 데이터 분석 및 가공\n",
    "- 데이터셋 내 문장 길이 분포\n",
    "- 적절한 최대 문장 길이 지정\n",
    "- keras.preprocessing.sequence.pad_sequences을 활용한 패딩 추가"
   ]
  },
  {
   "cell_type": "code",
   "execution_count": 13,
   "id": "087aba5f",
   "metadata": {},
   "outputs": [
    {
     "name": "stdout",
     "output_type": "stream",
     "text": [
      "감상평 문장의 평균 길이는 15.97자이다.\n",
      "모든 감상평에서 가장 긴 문장의 길이는 116자이다.\n",
      "감상평 문장 길이의 표준편차는 12.84이다.\n",
      "사용할 문장의 최대 길이를 (평균 + 3 x 표준편차)로 다듬으면\n",
      "다듬은 최대 문장 길이는 54자이다.\n",
      "이 때 전체 문장의 97.21%가 다듬은 최대 문장 길이를 넘지 않는다. \n"
     ]
    }
   ],
   "source": [
    "total_data_text = list(X_train) + list(X_test)\n",
    "\n",
    "# 텍스트 데이터 문장길이의 리스트를 생성한 후\n",
    "num_tokens = [len(tokens) for tokens in total_data_text]\n",
    "num_tokens = np.array(num_tokens)\n",
    "\n",
    "# 문장 길이의 평균값, 최대값, 표준편차를 계산해 본다.\n",
    "print(f'감상평 문장의 평균 길이는 {round(np.mean(num_tokens),2)}자이다.')\n",
    "print(f'모든 감상평에서 가장 긴 문장의 길이는 {np.max(num_tokens)}자이다.')\n",
    "print(f'감상평 문장 길이의 표준편차는 {round(np.std(num_tokens),2)}이다.')\n",
    "\n",
    "print('사용할 문장의 최대 길이를 (평균 + 3 x 표준편차)로 다듬으면')\n",
    "max_tokens = np.mean(num_tokens) + 3 * np.std(num_tokens)\n",
    "maxlen = int(max_tokens)\n",
    "print(f'다듬은 최대 문장 길이는 {maxlen}자이다.')\n",
    "print(f'이 때 전체 문장의 {round(np.sum(num_tokens < max_tokens) / len(num_tokens)*100, 2)}%가 다듬은 최대 문장 길이를 넘지 않는다. ')\n"
   ]
  },
  {
   "cell_type": "markdown",
   "id": "c036c730",
   "metadata": {},
   "source": [
    "#### 사용할 문장의 최대 길이를 (평균 + 2 x 표준편차)로 다듬으면\n",
    "#### 다듬은 최대 문장 길이는 41자이다.\n",
    "#### 이 때 전체 문장의 93.42%가 다듬은 최대 문장 길이를 넘지 않는다.\n",
    "\n",
    "### 두 경우를 비교하여, 신뢰성을 좀더 확보하고자 포함되는 문장의 비율이 95%를 넘게 하고 싶었다.\n",
    "### 이에 따라 최대길이를 (평균 + 3 x 표준편차)로 조정하였다.\n"
   ]
  },
  {
   "cell_type": "code",
   "execution_count": 14,
   "id": "5ea35394",
   "metadata": {},
   "outputs": [
    {
     "name": "stdout",
     "output_type": "stream",
     "text": [
      "문장 길이 통일 및 빈칸 <PAD> 채우기 완료\n"
     ]
    }
   ],
   "source": [
    "X_train = tf.keras.preprocessing.sequence.pad_sequences(X_train,\n",
    "                                                        value=word_to_index[\"<PAD>\"],\n",
    "                                                        padding='post', # 혹은 'pre'\n",
    "                                                        maxlen=maxlen)\n",
    "X_test = tf.keras.preprocessing.sequence.pad_sequences(X_test,\n",
    "                                                       value=word_to_index[\"<PAD>\"],\n",
    "                                                       padding='post', # 혹은 'pre'\n",
    "                                                       maxlen=maxlen)\n",
    "print('문장 길이 통일 및 빈칸 <PAD> 채우기 완료')"
   ]
  },
  {
   "cell_type": "code",
   "execution_count": 15,
   "id": "86d1df3b",
   "metadata": {},
   "outputs": [
    {
     "name": "stdout",
     "output_type": "stream",
     "text": [
      "훈련데이터의 형태는 (146182, 54)이다.\n",
      "시험데이터의 형태는 (49157, 54)이다.\n"
     ]
    }
   ],
   "source": [
    "print(f\"훈련데이터의 형태는 {X_train.shape}이다.\")\n",
    "print(f\"시험데이터의 형태는 {X_test.shape}이다.\")"
   ]
  },
  {
   "cell_type": "markdown",
   "id": "efcdc16a",
   "metadata": {},
   "source": [
    "# 4. 모델 구성 및 validation set 구성\n",
    "\n",
    "- 3종류 이상 다양하게 구성.\n",
    "\n",
    "# 5. 모델 훈련 개시\n",
    "# 6. Loss, Accuracy 그래프 시각화\n"
   ]
  },
  {
   "cell_type": "markdown",
   "id": "360f6016",
   "metadata": {},
   "source": [
    "## (1) 필수 파라미터 설정"
   ]
  },
  {
   "cell_type": "code",
   "execution_count": 16,
   "id": "164d3c50",
   "metadata": {},
   "outputs": [],
   "source": [
    "# 공통 파라미터 설정. 나머지는 편의상 맨 위로 올림.\n",
    "vocab_size = len(word_to_index)   "
   ]
  },
  {
   "cell_type": "markdown",
   "id": "a90d7a14",
   "metadata": {},
   "source": [
    "## (2) LSTM model\n",
    "#### RNN을 이용. RNN은 시간축의 신규 입력에 따라 변하는 현재상태를 묘사하는 state machine으로 설계됨. Memory property."
   ]
  },
  {
   "cell_type": "code",
   "execution_count": 17,
   "id": "cb5dc1f3",
   "metadata": {},
   "outputs": [
    {
     "name": "stdout",
     "output_type": "stream",
     "text": [
      "Model: \"sequential\"\n",
      "_________________________________________________________________\n",
      "Layer (type)                 Output Shape              Param #   \n",
      "=================================================================\n",
      "embedding (Embedding)        (None, None, 200)         2000000   \n",
      "_________________________________________________________________\n",
      "lstm (LSTM)                  (None, 128)               168448    \n",
      "_________________________________________________________________\n",
      "dense (Dense)                (None, 8)                 1032      \n",
      "_________________________________________________________________\n",
      "dense_1 (Dense)              (None, 1)                 9         \n",
      "=================================================================\n",
      "Total params: 2,169,489\n",
      "Trainable params: 2,169,489\n",
      "Non-trainable params: 0\n",
      "_________________________________________________________________\n"
     ]
    }
   ],
   "source": [
    "# 모델 설계\n",
    "LSTM_model = tf.keras.Sequential()\n",
    "LSTM_model.add(tf.keras.layers.Embedding(vocab_size, word_vector_dim, input_shape=(None,)))\n",
    "LSTM_model.add(tf.keras.layers.LSTM(LSTM_layer))    \n",
    "LSTM_model.add(tf.keras.layers.Dense(8, activation='relu'))\n",
    "LSTM_model.add(tf.keras.layers.Dense(1, activation='sigmoid'))  # 최종 출력은 긍정/부정을 나타내는 1dim .\n",
    "LSTM_model.summary()"
   ]
  },
  {
   "cell_type": "code",
   "execution_count": 18,
   "id": "1eebc221",
   "metadata": {},
   "outputs": [
    {
     "name": "stdout",
     "output_type": "stream",
     "text": [
      "Epoch 1/10\n",
      "143/143 [==============================] - 8s 36ms/step - loss: 0.5972 - accuracy: 0.6570 - val_loss: 0.4096 - val_accuracy: 0.8226\n",
      "Epoch 2/10\n",
      "143/143 [==============================] - 5s 33ms/step - loss: 0.3616 - accuracy: 0.8444 - val_loss: 0.3573 - val_accuracy: 0.8449\n",
      "Epoch 3/10\n",
      "143/143 [==============================] - 5s 33ms/step - loss: 0.3247 - accuracy: 0.8614 - val_loss: 0.3494 - val_accuracy: 0.8479\n",
      "Epoch 4/10\n",
      "143/143 [==============================] - 5s 34ms/step - loss: 0.3025 - accuracy: 0.8709 - val_loss: 0.3463 - val_accuracy: 0.8493\n",
      "Epoch 5/10\n",
      "143/143 [==============================] - 5s 34ms/step - loss: 0.2787 - accuracy: 0.8807 - val_loss: 0.3480 - val_accuracy: 0.8537\n",
      "Epoch 6/10\n",
      "143/143 [==============================] - 5s 34ms/step - loss: 0.2580 - accuracy: 0.8911 - val_loss: 0.3668 - val_accuracy: 0.8527\n",
      "Epoch 00006: early stopping\n",
      "1537/1537 - 3s - loss: 0.3668 - accuracy: 0.8527\n",
      "LSTM 모델의 손실값 및 정확도는:\n",
      "[0.36680319905281067, 0.8526557683944702]\n"
     ]
    }
   ],
   "source": [
    "# 모델 훈련\n",
    "LSTM_model.compile(optimizer = 'adam',\n",
    "             loss = 'binary_crossentropy',\n",
    "             metrics = ['accuracy'])\n",
    "\n",
    "LSTM_history = LSTM_model.fit(X_train, y_train,\n",
    "                    epochs = LSTM_epochs,\n",
    "                    batch_size = LSTM_batch_size,\n",
    "                    validation_data = (X_test, y_test), callbacks = [es], verbose = 1)\n",
    "\n",
    "# 모델 평가\n",
    "LSTM_results = LSTM_model.evaluate(X_test, y_test, verbose = 2)\n",
    "print('LSTM 모델의 손실값 및 정확도는:')\n",
    "print(LSTM_results)"
   ]
  },
  {
   "cell_type": "code",
   "execution_count": 19,
   "id": "925166e6",
   "metadata": {},
   "outputs": [
    {
     "data": {
      "image/png": "[encoded data removed]",
      "text/plain": [
       "<Figure size 432x288 with 1 Axes>"
      ]
     },
     "metadata": {
      "needs_background": "light"
     },
     "output_type": "display_data"
    },
    {
     "data": {
      "image/png": "[encoded data removed]",
      "text/plain": [
       "<Figure size 432x288 with 1 Axes>"
      ]
     },
     "metadata": {
      "needs_background": "light"
     },
     "output_type": "display_data"
    }
   ],
   "source": [
    "# 훈련에 따른 손실 변화 시각화\n",
    "LSTM_history_dict = LSTM_history.history\n",
    "acc = LSTM_history_dict['accuracy']\n",
    "val_acc = LSTM_history_dict['val_accuracy']\n",
    "loss = LSTM_history_dict['loss']\n",
    "val_loss = LSTM_history_dict['val_loss']\n",
    "epochs = range(1, len(acc) + 1)\n",
    "\n",
    "plt.plot(epochs, loss, 'b--', label = 'Training set')\n",
    "plt.plot(epochs, val_loss, 'r--', label = 'Validation set')\n",
    "plt.title('LSTM: Training and validation loss')\n",
    "plt.xlabel('Epoch')\n",
    "plt.ylabel('Loss')\n",
    "plt.legend()\n",
    "plt.show()\n",
    "\n",
    "# 훈련에 따른 정확도 변화 시각화\n",
    "plt.clf()\n",
    "plt.plot(epochs, acc, 'b', label = 'Training set')\n",
    "plt.plot(epochs, val_acc, 'r', label = 'Validation set')\n",
    "plt.title('LSTM: Training and validation accuracy')\n",
    "plt.xlabel('Epoch')\n",
    "plt.ylabel('Accuracy')\n",
    "plt.legend()\n",
    "plt.show()"
   ]
  },
  {
   "cell_type": "markdown",
   "id": "22ea632c",
   "metadata": {},
   "source": [
    "## (3) 1D CNN model\n",
    "- 문장 전체를 한 방향으로 길이 7짜리 필터로 스캐닝하면서 7단어 이내에서 발견되는 특징을 추출하여 그것으로 문장을 분류.\n",
    "- 병렬처리를 하기 때문에 RNN 보다 학습속도도 훨씬 빠르게 진행된다."
   ]
  },
  {
   "cell_type": "code",
   "execution_count": 20,
   "id": "e7694bf3",
   "metadata": {},
   "outputs": [
    {
     "name": "stdout",
     "output_type": "stream",
     "text": [
      "Model: \"sequential_1\"\n",
      "_________________________________________________________________\n",
      "Layer (type)                 Output Shape              Param #   \n",
      "=================================================================\n",
      "embedding_1 (Embedding)      (None, 54, 200)           2000000   \n",
      "_________________________________________________________________\n",
      "conv1d (Conv1D)              (None, 48, 16)            22416     \n",
      "_________________________________________________________________\n",
      "max_pooling1d (MaxPooling1D) (None, 8, 16)             0         \n",
      "_________________________________________________________________\n",
      "conv1d_1 (Conv1D)            (None, 2, 16)             1808      \n",
      "_________________________________________________________________\n",
      "global_max_pooling1d (Global (None, 16)                0         \n",
      "_________________________________________________________________\n",
      "dense_2 (Dense)              (None, 8)                 136       \n",
      "_________________________________________________________________\n",
      "dense_3 (Dense)              (None, 1)                 9         \n",
      "=================================================================\n",
      "Total params: 2,024,369\n",
      "Trainable params: 2,024,369\n",
      "Non-trainable params: 0\n",
      "_________________________________________________________________\n"
     ]
    }
   ],
   "source": [
    "# 모델 설계\n",
    "CNN1D_model = tf.keras.Sequential()\n",
    "CNN1D_model.add(tf.keras.layers.Embedding(vocab_size, word_vector_dim, \n",
    "                                 input_length=maxlen, trainable=True))   # trainable을 True로 주면 Fine-tuning\n",
    "CNN1D_model.add(tf.keras.layers.Conv1D(16, 7, activation='relu'))\n",
    "CNN1D_model.add(tf.keras.layers.MaxPooling1D(CNN1D_MaxPoolingValue))\n",
    "CNN1D_model.add(tf.keras.layers.Conv1D(16, 7, activation='relu'))\n",
    "CNN1D_model.add(tf.keras.layers.GlobalMaxPooling1D())\n",
    "CNN1D_model.add(tf.keras.layers.Dense(8, activation='relu'))\n",
    "CNN1D_model.add(tf.keras.layers.Dense(1, activation='sigmoid')) \n",
    "CNN1D_model.summary()"
   ]
  },
  {
   "cell_type": "code",
   "execution_count": 21,
   "id": "cffa4bb3",
   "metadata": {},
   "outputs": [
    {
     "name": "stdout",
     "output_type": "stream",
     "text": [
      "Epoch 1/10\n",
      "143/143 [==============================] - 3s 13ms/step - loss: 0.4769 - accuracy: 0.7742 - val_loss: 0.3503 - val_accuracy: 0.8502\n",
      "Epoch 2/10\n",
      "143/143 [==============================] - 2s 11ms/step - loss: 0.3136 - accuracy: 0.8667 - val_loss: 0.3361 - val_accuracy: 0.8563\n",
      "Epoch 3/10\n",
      "143/143 [==============================] - 2s 11ms/step - loss: 0.2743 - accuracy: 0.8876 - val_loss: 0.3334 - val_accuracy: 0.8584\n",
      "Epoch 4/10\n",
      "143/143 [==============================] - 2s 11ms/step - loss: 0.2366 - accuracy: 0.9067 - val_loss: 0.3423 - val_accuracy: 0.8575\n",
      "Epoch 5/10\n",
      "143/143 [==============================] - 2s 11ms/step - loss: 0.1956 - accuracy: 0.9270 - val_loss: 0.3666 - val_accuracy: 0.8534\n",
      "Epoch 00005: early stopping\n",
      "1537/1537 - 3s - loss: 0.3666 - accuracy: 0.8534\n",
      "CNN1D 모델의 손실값 및 정확도는:\n",
      "[0.3666130602359772, 0.8534491658210754]\n"
     ]
    }
   ],
   "source": [
    "# 모델 훈련\n",
    "#from tensorflow.keras.initializers import Constant\n",
    "CNN1D_model.compile(optimizer='adam',\n",
    "              loss='binary_crossentropy',\n",
    "              metrics=['accuracy'])\n",
    "              \n",
    "CNN1D_history = CNN1D_model.fit(X_train, y_train,\n",
    "                    epochs = CNN1D_epochs,\n",
    "                    batch_size = CNN1D_batch_size,\n",
    "                    validation_data = (X_test, y_test), callbacks = [es], verbose=1)\n",
    "\n",
    "# 모델 평가\n",
    "CNN1D_results = CNN1D_model.evaluate(X_test, y_test, verbose=2)\n",
    "print('CNN1D 모델의 손실값 및 정확도는:')\n",
    "print(CNN1D_results)"
   ]
  },
  {
   "cell_type": "code",
   "execution_count": 22,
   "id": "606e2798",
   "metadata": {},
   "outputs": [
    {
     "data": {
      "image/png": "[encoded data removed]",
      "text/plain": [
       "<Figure size 432x288 with 1 Axes>"
      ]
     },
     "metadata": {
      "needs_background": "light"
     },
     "output_type": "display_data"
    },
    {
     "data": {
      "image/png": "[encoded data removed]",
      "text/plain": [
       "<Figure size 432x288 with 1 Axes>"
      ]
     },
     "metadata": {
      "needs_background": "light"
     },
     "output_type": "display_data"
    }
   ],
   "source": [
    "# 훈련에 따른 손실 변화 시각화\n",
    "CNN1D_history_dict = CNN1D_history.history\n",
    "acc = CNN1D_history_dict['accuracy']\n",
    "val_acc = CNN1D_history_dict['val_accuracy']\n",
    "loss = CNN1D_history_dict['loss']\n",
    "val_loss = CNN1D_history_dict['val_loss']\n",
    "epochs = range(1, len(acc) + 1)\n",
    "\n",
    "plt.plot(epochs, loss, 'b--', label = 'Training set')\n",
    "plt.plot(epochs, val_loss, 'r--', label = 'Validation set')\n",
    "plt.title('CNN1D: Training and validation loss')\n",
    "plt.xlabel('Epoch')\n",
    "plt.ylabel('Loss')\n",
    "plt.legend()\n",
    "plt.show()\n",
    "\n",
    "# 훈련에 따른 정확도 변화 시각화\n",
    "plt.clf()\n",
    "plt.plot(epochs, acc, 'b', label = 'Training set')\n",
    "plt.plot(epochs, val_acc, 'r', label = 'Validation set')\n",
    "plt.title('CNN1D: Training and validation accuracy')\n",
    "plt.xlabel('Epoch')\n",
    "plt.ylabel('Accuracy')\n",
    "plt.legend()\n",
    "plt.show()"
   ]
  },
  {
   "cell_type": "markdown",
   "id": "72a03d76",
   "metadata": {},
   "source": [
    "## (4) only MaxPooling model\n",
    "- 전체 문장 중에서 단 하나의 가장 중요한 단어만 특징으로 추출하여 그것으로 문장의 긍/부정을 평가함."
   ]
  },
  {
   "cell_type": "code",
   "execution_count": 23,
   "id": "1468c24f",
   "metadata": {},
   "outputs": [
    {
     "name": "stdout",
     "output_type": "stream",
     "text": [
      "Model: \"sequential_2\"\n",
      "_________________________________________________________________\n",
      "Layer (type)                 Output Shape              Param #   \n",
      "=================================================================\n",
      "embedding_2 (Embedding)      (None, None, 200)         2000000   \n",
      "_________________________________________________________________\n",
      "global_max_pooling1d_1 (Glob (None, 200)               0         \n",
      "_________________________________________________________________\n",
      "dense_4 (Dense)              (None, 8)                 1608      \n",
      "_________________________________________________________________\n",
      "dense_5 (Dense)              (None, 1)                 9         \n",
      "=================================================================\n",
      "Total params: 2,001,617\n",
      "Trainable params: 2,001,617\n",
      "Non-trainable params: 0\n",
      "_________________________________________________________________\n"
     ]
    }
   ],
   "source": [
    "# 모델 설계\n",
    "onlyGMP_model = tf.keras.Sequential()\n",
    "onlyGMP_model.add(tf.keras.layers.Embedding(vocab_size, word_vector_dim, \n",
    "                                            input_shape=(None,)))\n",
    "onlyGMP_model.add(tf.keras.layers.GlobalMaxPooling1D())\n",
    "onlyGMP_model.add(tf.keras.layers.Dense(8, activation = 'relu'))\n",
    "onlyGMP_model.add(tf.keras.layers.Dense(1, activation = 'sigmoid'))  # 최종 출력은 긍/부정 ldim\n",
    "onlyGMP_model.summary()"
   ]
  },
  {
   "cell_type": "code",
   "execution_count": 24,
   "id": "3f2d9b2b",
   "metadata": {},
   "outputs": [
    {
     "name": "stdout",
     "output_type": "stream",
     "text": [
      "Epoch 1/10\n",
      "143/143 [==============================] - 2s 8ms/step - loss: 0.5222 - accuracy: 0.7978 - val_loss: 0.3707 - val_accuracy: 0.8418\n",
      "Epoch 2/10\n",
      "143/143 [==============================] - 1s 7ms/step - loss: 0.3291 - accuracy: 0.8606 - val_loss: 0.3424 - val_accuracy: 0.8515\n",
      "Epoch 3/10\n",
      "143/143 [==============================] - 1s 6ms/step - loss: 0.2854 - accuracy: 0.8815 - val_loss: 0.3406 - val_accuracy: 0.8536\n",
      "Epoch 4/10\n",
      "143/143 [==============================] - 1s 7ms/step - loss: 0.2539 - accuracy: 0.8976 - val_loss: 0.3449 - val_accuracy: 0.8536\n",
      "Epoch 5/10\n",
      "143/143 [==============================] - 1s 7ms/step - loss: 0.2246 - accuracy: 0.9124 - val_loss: 0.3550 - val_accuracy: 0.8530\n",
      "Epoch 00005: early stopping\n",
      "1537/1537 - 2s - loss: 0.3550 - accuracy: 0.8530\n",
      "onlyGMP 모델의 손실값 및 정확도는:\n",
      "[0.3549930453300476, 0.8530219793319702]\n"
     ]
    }
   ],
   "source": [
    "# 모델 훈련\n",
    "onlyGMP_model.compile(optimizer = 'adam',\n",
    "             loss = 'binary_crossentropy',\n",
    "             metrics = ['accuracy'])\n",
    "\n",
    "onlyGMP_history = onlyGMP_model.fit(X_train, y_train,\n",
    "                    epochs = onlyGMP_epochs,\n",
    "                    batch_size = onlyGMP_batch_size,\n",
    "                    validation_data = (X_test, y_test), callbacks = [es], verbose = 1)\n",
    "\n",
    "# 모델 평가\n",
    "onlyGMP_results = onlyGMP_model.evaluate(X_test, y_test, verbose = 2)\n",
    "print('onlyGMP 모델의 손실값 및 정확도는:')\n",
    "print(onlyGMP_results)"
   ]
  },
  {
   "cell_type": "code",
   "execution_count": 25,
   "id": "0a634108",
   "metadata": {},
   "outputs": [
    {
     "data": {
      "image/png": "[encoded data removed]",
      "text/plain": [
       "<Figure size 432x288 with 1 Axes>"
      ]
     },
     "metadata": {
      "needs_background": "light"
     },
     "output_type": "display_data"
    },
    {
     "data": {
      "image/png": "[encoded data removed]",
      "text/plain": [
       "<Figure size 432x288 with 1 Axes>"
      ]
     },
     "metadata": {
      "needs_background": "light"
     },
     "output_type": "display_data"
    }
   ],
   "source": [
    "# 훈련에 따른 손실 변화 시각화\n",
    "onlyGMP_history_dict = onlyGMP_history.history\n",
    "acc = onlyGMP_history_dict['accuracy']\n",
    "val_acc = onlyGMP_history_dict['val_accuracy']\n",
    "loss = onlyGMP_history_dict['loss']\n",
    "val_loss = onlyGMP_history_dict['val_loss']\n",
    "epochs = range(1, len(acc) + 1)\n",
    "\n",
    "plt.plot(epochs, loss, 'b--', label = 'Training set')\n",
    "plt.plot(epochs, val_loss, 'r--', label = 'Validation set')\n",
    "plt.title('onlyGMP: Training and validation loss')\n",
    "plt.xlabel('Epoch')\n",
    "plt.ylabel('Loss')\n",
    "plt.legend()\n",
    "plt.show()\n",
    "\n",
    "# 훈련에 따른 정확도 변화 시각화\n",
    "plt.clf()\n",
    "plt.plot(epochs, acc, 'b', label = 'Training set')\n",
    "plt.plot(epochs, val_acc, 'r', label = 'Validation set')\n",
    "plt.title('onlyGMP: Training and validation accuracy')\n",
    "plt.xlabel('Epoch')\n",
    "plt.ylabel('Accuracy')\n",
    "plt.legend()\n",
    "plt.show()"
   ]
  },
  {
   "cell_type": "markdown",
   "id": "07c33a2f",
   "metadata": {},
   "source": [
    "# 7. 학습된 Embedding layer 분석"
   ]
  },
  {
   "cell_type": "code",
   "execution_count": 26,
   "id": "b2e98104",
   "metadata": {},
   "outputs": [],
   "source": [
    "# 워드벡터 로드\n",
    "word2vec_path = os.getenv('HOME')+'/aiffel/sentiment_classification/word_vector_kr/ko.bin'\n",
    "word2vec = Word2Vec.load(word2vec_path)"
   ]
  },
  {
   "cell_type": "code",
   "execution_count": 27,
   "id": "245ce818",
   "metadata": {},
   "outputs": [
    {
     "name": "stdout",
     "output_type": "stream",
     "text": [
      "1번째 단어 \"사랑\"에 대한 유사어는 아래와 같습니다\n",
      "[('슬픔', 0.7216662764549255), ('행복', 0.6759077310562134), ('절망', 0.6468985080718994), ('기쁨', 0.6458414196968079), ('이별', 0.6334798336029053), ('추억', 0.6320937275886536), ('인생', 0.6216273307800293), ('애정', 0.6206069588661194), ('연인', 0.6186063289642334), ('유혹', 0.5965287685394287)]\n",
      "\n",
      "\n",
      "2번째 단어 \"눈물\"에 대한 유사어는 아래와 같습니다\n",
      "[('땀', 0.6310575008392334), ('슬픔', 0.5787195563316345), ('이별', 0.5772002935409546), ('추억', 0.5725258588790894), ('한숨', 0.5546674728393555), ('슬프', 0.5339798927307129), ('웃음', 0.5284000039100647), ('울부짖', 0.5240477323532104), ('울음', 0.5148942470550537), ('온몸', 0.5059491395950317)]\n",
      "\n",
      "\n",
      "3번째 단어 \"이별\"에 대한 유사어는 아래와 같습니다\n",
      "[('헤어지', 0.6900225877761841), ('슬픔', 0.6873862147331238), ('추억', 0.6457439661026001), ('슬프', 0.6412862539291382), ('재회', 0.6345380544662476), ('사랑', 0.6334798336029053), ('첫사랑', 0.6128619909286499), ('고독', 0.6117805242538452), ('절망', 0.5997450947761536), ('작별', 0.5857374668121338)]\n",
      "\n",
      "\n",
      "4번째 단어 \"노래\"에 대한 유사어는 아래와 같습니다\n",
      "[('가사', 0.7066930532455444), ('곡조', 0.6870777010917664), ('곡', 0.6749094724655151), ('발라드', 0.6573207378387451), ('멜로디', 0.6572505235671997), ('주제가', 0.6365448832511902), ('애국가', 0.6258596181869507), ('곡인', 0.6254721879959106), ('히트곡', 0.6253563165664673), ('원곡', 0.6200122833251953)]\n",
      "\n",
      "\n",
      "5번째 단어 \"추격\"에 대한 유사어는 아래와 같습니다\n",
      "[('공격', 0.7774620652198792), ('패주', 0.7704488635063171), ('기습', 0.7642484903335571), ('반격', 0.7559750080108643), ('협공', 0.7505430579185486), ('퇴각', 0.7449188232421875), ('급습', 0.7394008636474609), ('격파', 0.7318503856658936), ('습격', 0.7220084071159363), ('대패', 0.719998836517334)]\n",
      "\n",
      "\n"
     ]
    },
    {
     "name": "stderr",
     "output_type": "stream",
     "text": [
      "/tmp/ipykernel_2957/584593154.py:6: DeprecationWarning: Call to deprecated `similar_by_word` (Method will be removed in 4.0.0, use self.wv.similar_by_word() instead).\n",
      "  print(word2vec.similar_by_word(test_words[i]))\n"
     ]
    }
   ],
   "source": [
    "# 유사어 확인\n",
    "test_words = ['사랑','눈물','이별','노래','추격']  # 있을 것으로 생각되는 단어 임의 선정.\n",
    "              \n",
    "for i in range(len(test_words)):\n",
    "    print(f'{i+1}번째 단어 \"{test_words[i]}\"에 대한 유사어는 아래와 같습니다')\n",
    "    print(word2vec.similar_by_word(test_words[i]))\n",
    "    print('\\n')"
   ]
  },
  {
   "cell_type": "code",
   "execution_count": 28,
   "id": "f60ff7b1",
   "metadata": {},
   "outputs": [
    {
     "name": "stderr",
     "output_type": "stream",
     "text": [
      "/tmp/ipykernel_2957/3648516215.py:5: DeprecationWarning: Call to deprecated `__contains__` (Method will be removed in 4.0.0, use self.wv.__contains__() instead).\n",
      "  if index_to_word[i] in word2vec:\n",
      "/tmp/ipykernel_2957/3648516215.py:6: DeprecationWarning: Call to deprecated `__getitem__` (Method will be removed in 4.0.0, use self.wv.__getitem__() instead).\n",
      "  embedding_matrix[i] = word2vec[index_to_word[i]]\n"
     ]
    }
   ],
   "source": [
    "# embedding_matrix에 확인한 워드 벡터 임베딩\n",
    "embedding_matrix = np.random.rand(vocab_size, word_vector_dim)\n",
    "\n",
    "for i in range(4,vocab_size):\n",
    "    if index_to_word[i] in word2vec:\n",
    "        embedding_matrix[i] = word2vec[index_to_word[i]]"
   ]
  },
  {
   "cell_type": "markdown",
   "id": "d73494b3",
   "metadata": {},
   "source": [
    "# 8. 한국어 Word2Vec 임베딩 활용한 성능개선"
   ]
  },
  {
   "cell_type": "markdown",
   "id": "fe85b470",
   "metadata": {},
   "source": [
    "## (1) 워드벡터 임베딩된 LSTM 모델"
   ]
  },
  {
   "cell_type": "code",
   "execution_count": 29,
   "id": "4743f1c7",
   "metadata": {},
   "outputs": [
    {
     "name": "stdout",
     "output_type": "stream",
     "text": [
      "Model: \"sequential_3\"\n",
      "_________________________________________________________________\n",
      "Layer (type)                 Output Shape              Param #   \n",
      "=================================================================\n",
      "embedding_3 (Embedding)      (None, None, 200)         2000000   \n",
      "_________________________________________________________________\n",
      "lstm_1 (LSTM)                (None, 128)               168448    \n",
      "_________________________________________________________________\n",
      "dense_6 (Dense)              (None, 8)                 1032      \n",
      "_________________________________________________________________\n",
      "dense_7 (Dense)              (None, 1)                 9         \n",
      "=================================================================\n",
      "Total params: 2,169,489\n",
      "Trainable params: 2,169,489\n",
      "Non-trainable params: 0\n",
      "_________________________________________________________________\n"
     ]
    }
   ],
   "source": [
    "# 모델 설계\n",
    "WV_LSTM_model = tf.keras.Sequential()\n",
    "WV_LSTM_model.add(tf.keras.layers.Embedding(vocab_size, word_vector_dim,\n",
    "                                         embeddings_initializer=Constant(embedding_matrix),  # 카피한 임베딩을 여기서 활용. 워드벡터 반영포인트.\n",
    "                                         input_shape=(None,)))\n",
    "WV_LSTM_model.add(tf.keras.layers.LSTM(LSTM_layer))    \n",
    "WV_LSTM_model.add(tf.keras.layers.Dense(8, activation='relu'))\n",
    "WV_LSTM_model.add(tf.keras.layers.Dense(1, activation='sigmoid'))  # 최종 출력은 긍정/부정을 나타내는 1dim .\n",
    "\n",
    "WV_LSTM_model.summary()"
   ]
  },
  {
   "cell_type": "code",
   "execution_count": 30,
   "id": "f5b0b956",
   "metadata": {},
   "outputs": [
    {
     "name": "stdout",
     "output_type": "stream",
     "text": [
      "Epoch 1/10\n",
      "143/143 [==============================] - 6s 36ms/step - loss: 0.6929 - accuracy: 0.5051 - val_loss: 0.6957 - val_accuracy: 0.5155\n",
      "Epoch 2/10\n",
      "143/143 [==============================] - 5s 35ms/step - loss: 0.5109 - accuracy: 0.7318 - val_loss: 0.3940 - val_accuracy: 0.8212\n",
      "Epoch 3/10\n",
      "143/143 [==============================] - 5s 34ms/step - loss: 0.3375 - accuracy: 0.8546 - val_loss: 0.3344 - val_accuracy: 0.8549\n",
      "Epoch 4/10\n",
      "143/143 [==============================] - 5s 35ms/step - loss: 0.2926 - accuracy: 0.8768 - val_loss: 0.3259 - val_accuracy: 0.8590\n",
      "Epoch 5/10\n",
      "143/143 [==============================] - 5s 34ms/step - loss: 0.2644 - accuracy: 0.8904 - val_loss: 0.3221 - val_accuracy: 0.8608\n",
      "Epoch 6/10\n",
      "143/143 [==============================] - 5s 34ms/step - loss: 0.2420 - accuracy: 0.9013 - val_loss: 0.3167 - val_accuracy: 0.8634\n",
      "Epoch 7/10\n",
      "143/143 [==============================] - 5s 34ms/step - loss: 0.2220 - accuracy: 0.9113 - val_loss: 0.3291 - val_accuracy: 0.8634\n",
      "Epoch 8/10\n",
      "143/143 [==============================] - 5s 34ms/step - loss: 0.2033 - accuracy: 0.9203 - val_loss: 0.3419 - val_accuracy: 0.8629\n",
      "Epoch 00008: early stopping\n",
      "1537/1537 - 3s - loss: 0.3419 - accuracy: 0.8629\n",
      "WV_LSTM 모델의 손실값 및 정확도는:\n",
      "[0.3419140875339508, 0.8629289865493774]\n"
     ]
    }
   ],
   "source": [
    "# 모델 훈련\n",
    "WV_LSTM_model.compile(optimizer = 'adam',\n",
    "             loss = 'binary_crossentropy',\n",
    "             metrics = ['accuracy'])\n",
    "\n",
    "WV_LSTM_history = WV_LSTM_model.fit(X_train, y_train,\n",
    "                    epochs = LSTM_epochs,\n",
    "                    batch_size = LSTM_batch_size,\n",
    "                    validation_data = (X_test, y_test), callbacks = [es], verbose = 1)\n",
    "\n",
    "# 모델 평가\n",
    "WV_LSTM_results = WV_LSTM_model.evaluate(X_test, y_test, verbose = 2)\n",
    "print('WV_LSTM 모델의 손실값 및 정확도는:')\n",
    "print(WV_LSTM_results)"
   ]
  },
  {
   "cell_type": "code",
   "execution_count": 31,
   "id": "1fffd388",
   "metadata": {},
   "outputs": [
    {
     "data": {
      "image/png": "[encoded data removed]",
      "text/plain": [
       "<Figure size 432x288 with 1 Axes>"
      ]
     },
     "metadata": {
      "needs_background": "light"
     },
     "output_type": "display_data"
    },
    {
     "data": {
      "image/png": "[encoded data removed]",
      "text/plain": [
       "<Figure size 432x288 with 1 Axes>"
      ]
     },
     "metadata": {
      "needs_background": "light"
     },
     "output_type": "display_data"
    }
   ],
   "source": [
    "# 훈련에 따른 손실 변화 시각화\n",
    "WV_LSTM_history_dict = WV_LSTM_history.history\n",
    "acc = WV_LSTM_history_dict['accuracy']\n",
    "val_acc = WV_LSTM_history_dict['val_accuracy']\n",
    "loss = WV_LSTM_history_dict['loss']\n",
    "val_loss = WV_LSTM_history_dict['val_loss']\n",
    "epochs = range(1, len(acc) + 1)\n",
    "\n",
    "plt.plot(epochs, loss, 'b--', label = 'Training set')\n",
    "plt.plot(epochs, val_loss, 'r--', label = 'Validation set')\n",
    "plt.title('WV_LSTM: Training and validation loss')\n",
    "plt.xlabel('Epoch')\n",
    "plt.ylabel('Loss')\n",
    "plt.legend()\n",
    "plt.show()\n",
    "\n",
    "# 훈련에 따른 정확도 변화 시각화\n",
    "plt.clf()\n",
    "plt.plot(epochs, acc, 'b', label = 'Training set')\n",
    "plt.plot(epochs, val_acc, 'r', label = 'Validation set')\n",
    "plt.title('WV_LSTM: Training and validation accuracy')\n",
    "plt.xlabel('Epoch')\n",
    "plt.ylabel('Accuracy')\n",
    "plt.legend()\n",
    "\n",
    "plt.show()"
   ]
  },
  {
   "cell_type": "markdown",
   "id": "2b00a78c",
   "metadata": {},
   "source": [
    "## (2) 워드벡터 임베딩된 1D CNN 모델"
   ]
  },
  {
   "cell_type": "code",
   "execution_count": 32,
   "id": "a591137e",
   "metadata": {},
   "outputs": [
    {
     "name": "stdout",
     "output_type": "stream",
     "text": [
      "Model: \"sequential_4\"\n",
      "_________________________________________________________________\n",
      "Layer (type)                 Output Shape              Param #   \n",
      "=================================================================\n",
      "embedding_4 (Embedding)      (None, 54, 200)           2000000   \n",
      "_________________________________________________________________\n",
      "conv1d_2 (Conv1D)            (None, 48, 16)            22416     \n",
      "_________________________________________________________________\n",
      "max_pooling1d_1 (MaxPooling1 (None, 8, 16)             0         \n",
      "_________________________________________________________________\n",
      "conv1d_3 (Conv1D)            (None, 2, 16)             1808      \n",
      "_________________________________________________________________\n",
      "global_max_pooling1d_2 (Glob (None, 16)                0         \n",
      "_________________________________________________________________\n",
      "dense_8 (Dense)              (None, 8)                 136       \n",
      "_________________________________________________________________\n",
      "dense_9 (Dense)              (None, 1)                 9         \n",
      "=================================================================\n",
      "Total params: 2,024,369\n",
      "Trainable params: 2,024,369\n",
      "Non-trainable params: 0\n",
      "_________________________________________________________________\n"
     ]
    }
   ],
   "source": [
    "# 모델 설계\n",
    "WV_CNN1D_model = tf.keras.Sequential()\n",
    "WV_CNN1D_model.add(tf.keras.layers.Embedding(vocab_size, \n",
    "                                 word_vector_dim, \n",
    "                                 embeddings_initializer=Constant(embedding_matrix),  # 카피한 임베딩을 여기서 활용. 워드벡터 반영포인트.\n",
    "                                 input_length=maxlen, \n",
    "                                 trainable=True))   # trainable을 True로 주면 Fine-tuning\n",
    "WV_CNN1D_model.add(tf.keras.layers.Conv1D(16, 7, activation='relu'))\n",
    "WV_CNN1D_model.add(tf.keras.layers.MaxPooling1D(CNN1D_MaxPoolingValue))\n",
    "WV_CNN1D_model.add(tf.keras.layers.Conv1D(16, 7, activation='relu'))\n",
    "WV_CNN1D_model.add(tf.keras.layers.GlobalMaxPooling1D())\n",
    "WV_CNN1D_model.add(tf.keras.layers.Dense(8, activation='relu'))\n",
    "WV_CNN1D_model.add(tf.keras.layers.Dense(1, activation='sigmoid')) \n",
    "WV_CNN1D_model.summary()"
   ]
  },
  {
   "cell_type": "code",
   "execution_count": 33,
   "id": "4d6f7647",
   "metadata": {},
   "outputs": [
    {
     "name": "stdout",
     "output_type": "stream",
     "text": [
      "Epoch 1/10\n",
      "143/143 [==============================] - 2s 12ms/step - loss: 0.5728 - accuracy: 0.6900 - val_loss: 0.4750 - val_accuracy: 0.7786\n",
      "Epoch 2/10\n",
      "143/143 [==============================] - 2s 11ms/step - loss: 0.4173 - accuracy: 0.8121 - val_loss: 0.3959 - val_accuracy: 0.8241\n",
      "Epoch 3/10\n",
      "143/143 [==============================] - 2s 11ms/step - loss: 0.3508 - accuracy: 0.8489 - val_loss: 0.3691 - val_accuracy: 0.8376\n",
      "Epoch 4/10\n",
      "143/143 [==============================] - 2s 11ms/step - loss: 0.3137 - accuracy: 0.8674 - val_loss: 0.3554 - val_accuracy: 0.8457\n",
      "Epoch 5/10\n",
      "143/143 [==============================] - 2s 11ms/step - loss: 0.2879 - accuracy: 0.8797 - val_loss: 0.3532 - val_accuracy: 0.8480\n",
      "Epoch 6/10\n",
      "143/143 [==============================] - 2s 11ms/step - loss: 0.2681 - accuracy: 0.8910 - val_loss: 0.3569 - val_accuracy: 0.8480\n",
      "Epoch 7/10\n",
      "143/143 [==============================] - 2s 11ms/step - loss: 0.2506 - accuracy: 0.8990 - val_loss: 0.3591 - val_accuracy: 0.8486\n",
      "Epoch 00007: early stopping\n",
      "1537/1537 - 2s - loss: 0.3591 - accuracy: 0.8486\n",
      "WV_CNN1D 모델의 손실값 및 정확도는:\n",
      "[0.3591010868549347, 0.8486075401306152]\n"
     ]
    }
   ],
   "source": [
    "# 모델 훈련\n",
    "WV_CNN1D_model.compile(optimizer='adam',\n",
    "              loss='binary_crossentropy',\n",
    "              metrics=['accuracy'])\n",
    "              \n",
    "WV_CNN1D_history = WV_CNN1D_model.fit(X_train, y_train,\n",
    "                    epochs = CNN1D_epochs,\n",
    "                    batch_size = CNN1D_batch_size,\n",
    "                    validation_data = (X_test, y_test), callbacks = [es], verbose=1)\n",
    "\n",
    "# 모델 평가\n",
    "WV_CNN1D_results = WV_CNN1D_model.evaluate(X_test, y_test, verbose=2)\n",
    "print('WV_CNN1D 모델의 손실값 및 정확도는:')\n",
    "print(WV_CNN1D_results)"
   ]
  },
  {
   "cell_type": "code",
   "execution_count": 34,
   "id": "de47bea2",
   "metadata": {},
   "outputs": [
    {
     "data": {
      "image/png": "[encoded data removed]",
      "text/plain": [
       "<Figure size 432x288 with 1 Axes>"
      ]
     },
     "metadata": {
      "needs_background": "light"
     },
     "output_type": "display_data"
    },
    {
     "data": {
      "image/png": "[encoded data removed]",
      "text/plain": [
       "<Figure size 432x288 with 1 Axes>"
      ]
     },
     "metadata": {
      "needs_background": "light"
     },
     "output_type": "display_data"
    }
   ],
   "source": [
    "# 훈련에 따른 손실 변화 시각화\n",
    "WV_CNN1D_history_dict = WV_CNN1D_history.history\n",
    "acc = WV_CNN1D_history_dict['accuracy']\n",
    "val_acc = WV_CNN1D_history_dict['val_accuracy']\n",
    "loss = WV_CNN1D_history_dict['loss']\n",
    "val_loss = WV_CNN1D_history_dict['val_loss']\n",
    "epochs = range(1, len(acc) + 1)\n",
    "\n",
    "plt.plot(epochs, loss, 'b--', label = 'Training set')\n",
    "plt.plot(epochs, val_loss, 'r--', label = 'Validation set')\n",
    "plt.title('WV_CNN1D: Training and validation loss')\n",
    "plt.xlabel('Epoch')\n",
    "plt.ylabel('Loss')\n",
    "plt.legend()\n",
    "plt.show()\n",
    "\n",
    "# 훈련에 따른 정확도 변화 시각화\n",
    "plt.clf()\n",
    "plt.plot(epochs, acc, 'b', label = 'Training set')\n",
    "plt.plot(epochs, val_acc, 'r', label = 'Validation set')\n",
    "plt.title('WV_onlyGMP: Training and validation accuracy')\n",
    "plt.xlabel('Epoch')\n",
    "plt.ylabel('Accuracy')\n",
    "plt.legend()\n",
    "plt.show()"
   ]
  },
  {
   "cell_type": "markdown",
   "id": "411762b1",
   "metadata": {
    "scrolled": false
   },
   "source": [
    "## (3) 워드벡터 임베딩된 only MaxPooling 모델"
   ]
  },
  {
   "cell_type": "code",
   "execution_count": 35,
   "id": "823da7ff",
   "metadata": {},
   "outputs": [
    {
     "name": "stdout",
     "output_type": "stream",
     "text": [
      "Model: \"sequential_5\"\n",
      "_________________________________________________________________\n",
      "Layer (type)                 Output Shape              Param #   \n",
      "=================================================================\n",
      "embedding_5 (Embedding)      (None, None, 200)         2000000   \n",
      "_________________________________________________________________\n",
      "global_max_pooling1d_3 (Glob (None, 200)               0         \n",
      "_________________________________________________________________\n",
      "dense_10 (Dense)             (None, 8)                 1608      \n",
      "_________________________________________________________________\n",
      "dense_11 (Dense)             (None, 1)                 9         \n",
      "=================================================================\n",
      "Total params: 2,001,617\n",
      "Trainable params: 2,001,617\n",
      "Non-trainable params: 0\n",
      "_________________________________________________________________\n"
     ]
    }
   ],
   "source": [
    "# 모델 설계\n",
    "WV_onlyGMP_model = tf.keras.Sequential()\n",
    "WV_onlyGMP_model.add(tf.keras.layers.Embedding(vocab_size, word_vector_dim,\n",
    "                                               embeddings_initializer=Constant(embedding_matrix),  # 카피한 임베딩을 여기서 활용. 워드벡터 반영포인트.\n",
    "                                            input_shape=(None,)))\n",
    "WV_onlyGMP_model.add(tf.keras.layers.GlobalMaxPooling1D())\n",
    "WV_onlyGMP_model.add(tf.keras.layers.Dense(8, activation = 'relu'))\n",
    "WV_onlyGMP_model.add(tf.keras.layers.Dense(1, activation = 'sigmoid'))  # 최종 출력은 긍/부정 ldim\n",
    "WV_onlyGMP_model.summary()"
   ]
  },
  {
   "cell_type": "code",
   "execution_count": 36,
   "id": "c76a7e36",
   "metadata": {},
   "outputs": [
    {
     "name": "stdout",
     "output_type": "stream",
     "text": [
      "Epoch 1/10\n",
      "143/143 [==============================] - 1s 8ms/step - loss: 0.7154 - accuracy: 0.5087 - val_loss: 0.6870 - val_accuracy: 0.5612\n",
      "Epoch 2/10\n",
      "143/143 [==============================] - 1s 6ms/step - loss: 0.6757 - accuracy: 0.5905 - val_loss: 0.6593 - val_accuracy: 0.6313\n",
      "Epoch 3/10\n",
      "143/143 [==============================] - 1s 7ms/step - loss: 0.6091 - accuracy: 0.6762 - val_loss: 0.5573 - val_accuracy: 0.7211\n",
      "Epoch 4/10\n",
      "143/143 [==============================] - 1s 7ms/step - loss: 0.5210 - accuracy: 0.7471 - val_loss: 0.5050 - val_accuracy: 0.7576\n",
      "Epoch 5/10\n",
      "143/143 [==============================] - 1s 6ms/step - loss: 0.4730 - accuracy: 0.7773 - val_loss: 0.4717 - val_accuracy: 0.7765\n",
      "Epoch 6/10\n",
      "143/143 [==============================] - 1s 6ms/step - loss: 0.4393 - accuracy: 0.7971 - val_loss: 0.4524 - val_accuracy: 0.7887\n",
      "Epoch 7/10\n",
      "143/143 [==============================] - 1s 6ms/step - loss: 0.4145 - accuracy: 0.8116 - val_loss: 0.4354 - val_accuracy: 0.7975\n",
      "Epoch 8/10\n",
      "143/143 [==============================] - 1s 7ms/step - loss: 0.3944 - accuracy: 0.8239 - val_loss: 0.4249 - val_accuracy: 0.8037\n",
      "Epoch 9/10\n",
      "143/143 [==============================] - 1s 6ms/step - loss: 0.3780 - accuracy: 0.8334 - val_loss: 0.4154 - val_accuracy: 0.8103\n",
      "Epoch 10/10\n",
      "143/143 [==============================] - 1s 7ms/step - loss: 0.3628 - accuracy: 0.8412 - val_loss: 0.4087 - val_accuracy: 0.8145\n",
      "1537/1537 - 2s - loss: 0.4087 - accuracy: 0.8145\n",
      "WV_onlyGMP 모델의 손실값 및 정확도는:\n",
      "[0.4087322950363159, 0.8144923448562622]\n"
     ]
    }
   ],
   "source": [
    "# 모델 훈련\n",
    "WV_onlyGMP_model.compile(optimizer = 'adam',\n",
    "             loss = 'binary_crossentropy',\n",
    "             metrics = ['accuracy'])\n",
    "\n",
    "WV_onlyGMP_history = WV_onlyGMP_model.fit(X_train, y_train,\n",
    "                    epochs = onlyGMP_epochs,\n",
    "                    batch_size = onlyGMP_batch_size,\n",
    "                    validation_data = (X_test, y_test), callbacks = [es], verbose = 1)\n",
    "\n",
    "# 모델 평가\n",
    "WV_onlyGMP_results = WV_onlyGMP_model.evaluate(X_test, y_test, verbose = 2)\n",
    "print('WV_onlyGMP 모델의 손실값 및 정확도는:')\n",
    "print(WV_onlyGMP_results)"
   ]
  },
  {
   "cell_type": "code",
   "execution_count": 37,
   "id": "0ebf1155",
   "metadata": {},
   "outputs": [
    {
     "data": {
      "image/png": "[encoded data removed]",
      "text/plain": [
       "<Figure size 432x288 with 1 Axes>"
      ]
     },
     "metadata": {
      "needs_background": "light"
     },
     "output_type": "display_data"
    },
    {
     "data": {
      "image/png": "[encoded data removed]",
      "text/plain": [
       "<Figure size 432x288 with 1 Axes>"
      ]
     },
     "metadata": {
      "needs_background": "light"
     },
     "output_type": "display_data"
    }
   ],
   "source": [
    "# 훈련에 따른 손실 변화 시각화\n",
    "WV_onlyGMP_history_dict = WV_onlyGMP_history.history\n",
    "\n",
    "acc = WV_onlyGMP_history_dict['accuracy']\n",
    "val_acc = WV_onlyGMP_history_dict['val_accuracy']\n",
    "loss = WV_onlyGMP_history_dict['loss']\n",
    "val_loss = WV_onlyGMP_history_dict['val_loss']\n",
    "\n",
    "epochs = range(1, len(acc) + 1)\n",
    "\n",
    "plt.plot(epochs, loss, 'b--', label = 'Training set')\n",
    "plt.plot(epochs, val_loss, 'r--', label = 'Validation set')\n",
    "plt.title('WV_onlyGMP: Training and validation loss')\n",
    "plt.xlabel('Epoch')\n",
    "plt.ylabel('Loss')\n",
    "plt.legend()\n",
    "\n",
    "plt.show()\n",
    "\n",
    "# 훈련에 따른 정확도 변화 시각화\n",
    "plt.clf()\n",
    "\n",
    "plt.plot(epochs, acc, 'b', label = 'Training set')\n",
    "plt.plot(epochs, val_acc, 'r', label = 'Validation set')\n",
    "plt.title('WV_onlyGMP: Training and validation accuracy')\n",
    "plt.xlabel('Epoch')\n",
    "plt.ylabel('Accuracy')\n",
    "plt.legend()\n",
    "\n",
    "plt.show()"
   ]
  },
  {
   "cell_type": "markdown",
   "id": "5a42e0b1",
   "metadata": {},
   "source": [
    "# 9. 결과 정리 및 회고"
   ]
  },
  {
   "cell_type": "code",
   "execution_count": 38,
   "id": "1dff65c8",
   "metadata": {},
   "outputs": [
    {
     "name": "stdout",
     "output_type": "stream",
     "text": [
      "  < 주요 파라미터 설정 >\n"
     ]
    },
    {
     "data": {
      "text/html": [
       "<div>\n",
       "<style scoped>\n",
       "    .dataframe tbody tr th:only-of-type {\n",
       "        vertical-align: middle;\n",
       "    }\n",
       "\n",
       "    .dataframe tbody tr th {\n",
       "        vertical-align: top;\n",
       "    }\n",
       "\n",
       "    .dataframe thead th {\n",
       "        text-align: right;\n",
       "    }\n",
       "</style>\n",
       "<table border=\"1\" class=\"dataframe\">\n",
       "  <thead>\n",
       "    <tr style=\"text-align: right;\">\n",
       "      <th></th>\n",
       "      <th>Name</th>\n",
       "      <th>Value</th>\n",
       "    </tr>\n",
       "  </thead>\n",
       "  <tbody>\n",
       "    <tr>\n",
       "      <th>Common</th>\n",
       "      <td>Vocab size</td>\n",
       "      <td>10000</td>\n",
       "    </tr>\n",
       "    <tr>\n",
       "      <th>Common</th>\n",
       "      <td>WV dim.</td>\n",
       "      <td>200</td>\n",
       "    </tr>\n",
       "    <tr>\n",
       "      <th>Common</th>\n",
       "      <td>Epochs</td>\n",
       "      <td>10</td>\n",
       "    </tr>\n",
       "    <tr>\n",
       "      <th>Common</th>\n",
       "      <td>Batch_size</td>\n",
       "      <td>1024</td>\n",
       "    </tr>\n",
       "    <tr>\n",
       "      <th>LSTM</th>\n",
       "      <td>Layer</td>\n",
       "      <td>128</td>\n",
       "    </tr>\n",
       "    <tr>\n",
       "      <th>CNN1D</th>\n",
       "      <td>MaxPooling</td>\n",
       "      <td>6</td>\n",
       "    </tr>\n",
       "  </tbody>\n",
       "</table>\n",
       "</div>"
      ],
      "text/plain": [
       "              Name  Value\n",
       "Common  Vocab size  10000\n",
       "Common     WV dim.    200\n",
       "Common      Epochs     10\n",
       "Common  Batch_size   1024\n",
       "LSTM         Layer    128\n",
       "CNN1D   MaxPooling      6"
      ]
     },
     "execution_count": 38,
     "metadata": {},
     "output_type": "execute_result"
    }
   ],
   "source": [
    "# 주요 파라미터 정리\n",
    "HyperParameter = [['Vocab size', num_words],['WV dim.',word_vector_dim],['Epochs', epochs[-1]], ['Batch_size', batch_size], ['Layer', LSTM_layer],['MaxPooling',CNN1D_MaxPoolingValue]]\n",
    "\n",
    "df_HP = pd.DataFrame(HyperParameter, index = ['Common','Common','Common','Common', 'LSTM', 'CNN1D'], columns =['Name','Value'])\n",
    "df_HP.to_csv(\"HyperParameter.csv\", mode='a', header=False)\n",
    "print('  < 주요 파라미터 설정 >')\n",
    "df_HP\n",
    "\n"
   ]
  },
  {
   "cell_type": "code",
   "execution_count": 39,
   "id": "99e1fbb5",
   "metadata": {},
   "outputs": [
    {
     "name": "stdout",
     "output_type": "stream",
     "text": [
      "       < 최종 결과 >\n"
     ]
    },
    {
     "data": {
      "text/html": [
       "<div>\n",
       "<style scoped>\n",
       "    .dataframe tbody tr th:only-of-type {\n",
       "        vertical-align: middle;\n",
       "    }\n",
       "\n",
       "    .dataframe tbody tr th {\n",
       "        vertical-align: top;\n",
       "    }\n",
       "\n",
       "    .dataframe thead th {\n",
       "        text-align: right;\n",
       "    }\n",
       "</style>\n",
       "<table border=\"1\" class=\"dataframe\">\n",
       "  <thead>\n",
       "    <tr style=\"text-align: right;\">\n",
       "      <th></th>\n",
       "      <th>Loss</th>\n",
       "      <th>Val. Acc.</th>\n",
       "    </tr>\n",
       "  </thead>\n",
       "  <tbody>\n",
       "    <tr>\n",
       "      <th>LSTM</th>\n",
       "      <td>0.37</td>\n",
       "      <td>85.27%</td>\n",
       "    </tr>\n",
       "    <tr>\n",
       "      <th>CNN1D</th>\n",
       "      <td>0.37</td>\n",
       "      <td>85.34%</td>\n",
       "    </tr>\n",
       "    <tr>\n",
       "      <th>onlyGMP</th>\n",
       "      <td>0.35</td>\n",
       "      <td>85.30%</td>\n",
       "    </tr>\n",
       "    <tr>\n",
       "      <th>WV_LSTM</th>\n",
       "      <td>0.34</td>\n",
       "      <td>86.29%</td>\n",
       "    </tr>\n",
       "    <tr>\n",
       "      <th>WV_CNN1D</th>\n",
       "      <td>0.36</td>\n",
       "      <td>84.86%</td>\n",
       "    </tr>\n",
       "    <tr>\n",
       "      <th>WV_onlyGMP</th>\n",
       "      <td>0.41</td>\n",
       "      <td>81.45%</td>\n",
       "    </tr>\n",
       "  </tbody>\n",
       "</table>\n",
       "</div>"
      ],
      "text/plain": [
       "            Loss Val. Acc.\n",
       "LSTM        0.37    85.27%\n",
       "CNN1D       0.37    85.34%\n",
       "onlyGMP     0.35    85.30%\n",
       "WV_LSTM     0.34    86.29%\n",
       "WV_CNN1D    0.36    84.86%\n",
       "WV_onlyGMP  0.41    81.45%"
      ]
     },
     "execution_count": 39,
     "metadata": {},
     "output_type": "execute_result"
    }
   ],
   "source": [
    "# 최종 결과 정리\n",
    "TotalResult = pd.DataFrame(index=['Loss', 'Val. Acc.'])\n",
    "\n",
    "TotalResult['LSTM']= LSTM_results\n",
    "TotalResult['CNN1D']= CNN1D_results\n",
    "TotalResult['onlyGMP']= onlyGMP_results\n",
    "TotalResult['WV_LSTM']= WV_LSTM_results\n",
    "TotalResult['WV_CNN1D']= WV_CNN1D_results\n",
    "TotalResult['WV_onlyGMP']= WV_onlyGMP_results\n",
    "TotalResult.iloc[0] = TotalResult.iloc[0].round(2) \n",
    "TotalResult.iloc[1]= TotalResult.iloc[1].apply('{:.2%}'.format)\n",
    "TotalResult = TotalResult.transpose()\n",
    "TotalResult.to_csv(\"TotalResult.csv\", mode='a', header=False)\n",
    "print('       < 최종 결과 >')\n",
    "TotalResult"
   ]
  },
  {
   "cell_type": "markdown",
   "id": "42ae7ef5",
   "metadata": {},
   "source": [
    "## 결과 정리"
   ]
  },
  {
   "attachments": {
    "Total%20result.PNG": {
     "image/png": "[encoded data removed]"
    }
   },
   "cell_type": "markdown",
   "id": "e23af9e9",
   "metadata": {},
   "source": [
    "![Total%20result.PNG](attachment:Total%20result.PNG)\n",
    "- Epoch는 대부분 2~3차 시도에서 최고 값을 내고 정체 혹은 하향을 겪었다.\n",
    "- Batch size는 대부분 큰 영향을 주지 않았다. 늘렸을 때 오히려 소폭 감소하였다.\n",
    "- LSTM layer는 크면 클수록 더 좋은 결과를 보였다. Batch size가 작을 때는 워드 벡터 임베딩의 효과가 두드러졌고 Batch size가 클 때는 상승폭이 낮아졌다.\n",
    "- CNN1D의 MaxPooling은 유의미한 결과를 보이지 않았다. 10 이상 큰 수에서는 negative dimension이라는 에러가 출력되었다."
   ]
  },
  {
   "cell_type": "markdown",
   "id": "1045d770",
   "metadata": {},
   "source": [
    "## 회고"
   ]
  },
  {
   "cell_type": "markdown",
   "id": "173d7698",
   "metadata": {},
   "source": [
    "- 소요시간을 표에 삽입하여 CNN1D 모델과 다른 모델들과의 비교를 한눈에 하고 싶었는데 못했다. 다음 번엔 소요시간도 출력하는 방법을 찾아보자.\n",
    "- 활성함수, 옵티마이저도 손댈 여유가 없었다. 나중엔 이들도 Fine-tune을 해봐야겠다.\n",
    "- 그림도 subplot을 사용해서 합칠 수 있을 것 같다. 다음 번엔 합쳐서 가독성을 높이는 방법도 찾아봐야 겠다.\n",
    "- 단어장 100000개 하니 CNN1D에서 리소스 에러 발생. 다시 10000으로 낮춤.\n",
    "- 금일 조기종료 구문을 배워 삽입하였다. 검증 결과가 시도를 거듭할수록 악화되는 케이스가 있었다. 지난 번 가사 만들기 때도 양상이 유사했던 것으로 기억하는데, 왜 시도가 거듭되어도 큰 개선이 없는지에 대한 고민이 많이 필요하다.\n",
    "- 워드 임베딩으로 유사단어 출력 결과가 이상하여 보정하느라 고생을 많이 했다. 최종적으로 내린 결론은, 서버에 올린 ko.bin 파일이 정상적으로 업로드되지 않거나, 되더라도 안정적으로 유지되지 않는다는 것. \n",
    "- 파일을 정상업로드 한 줄 알고 있다가 다른 사람들의 조언으로 ko.bin 파일 상태를 다시 한 번 확인해보니 2M. 정상버전은 50M 였기에 삭제하고 재업로드 후 확인해보니 양호하게 작동되었다. "
   ]
  }
 ],
 "metadata": {
  "kernelspec": {
   "display_name": "Python 3 (ipykernel)",
   "language": "python",
   "name": "python3"
  },
  "language_info": {
   "codemirror_mode": {
    "name": "ipython",
    "version": 3
   },
   "file_extension": ".py",
   "mimetype": "text/x-python",
   "name": "python",
   "nbconvert_exporter": "python",
   "pygments_lexer": "ipython3",
   "version": "3.9.7"
  }
 },
 "nbformat": 4,
 "nbformat_minor": 5
}
